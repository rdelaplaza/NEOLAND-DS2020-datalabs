{
 "cells": [
  {
   "cell_type": "markdown",
   "metadata": {},
   "source": [
    "# Caracol y el pozo"
   ]
  },
  {
   "cell_type": "markdown",
   "metadata": {},
   "source": [
    "Un caracol cae en el fondo de un pozo de 125 cm. Cada día el caracol sube 30 cm. pero por la noche, mientras duerme, resbala 20 cm debido a que las paredes son húmedas. ¿Cuantos días tarda en escapar del pozo?"
   ]
  },
  {
   "cell_type": "code",
   "execution_count": 1,
   "metadata": {},
   "outputs": [
    {
     "name": "stdout",
     "output_type": "stream",
     "text": [
      "El caracol tarda 13 días en salir del pozo.\n"
     ]
    }
   ],
   "source": [
    "# Rodrigo de la Plaza\n",
    "# 04/10/2020\n",
    "\n",
    "subida_dia = 30\n",
    "subida_noche = -20\n",
    "subida_diaria = subida_dia + subida_noche\n",
    "num_dias = 0\n",
    "subida_total = 0\n",
    "altura_pozo = 125\n",
    "\n",
    "while subida_total <= 125:\n",
    "    num_dias += 1\n",
    "    subida_total = subida_diaria * num_dias\n",
    "print (\"El caracol tarda \" + str(num_dias) + \" días en salir del pozo.\")"
   ]
  }
 ],
 "metadata": {
  "kernelspec": {
   "display_name": "Python 3",
   "language": "python",
   "name": "python3"
  },
  "language_info": {
   "codemirror_mode": {
    "name": "ipython",
    "version": 3
   },
   "file_extension": ".py",
   "mimetype": "text/x-python",
   "name": "python",
   "nbconvert_exporter": "python",
   "pygments_lexer": "ipython3",
   "version": "3.7.6"
  }
 },
 "nbformat": 4,
 "nbformat_minor": 4
}
