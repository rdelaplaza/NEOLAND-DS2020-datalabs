{
 "cells": [
  {
   "cell_type": "markdown",
   "metadata": {},
   "source": [
    "# Piedra, papel, tijeras"
   ]
  },
  {
   "cell_type": "markdown",
   "metadata": {},
   "source": [
    "Vamos jugar contra nuestro ordenador al famoso juego."
   ]
  },
  {
   "cell_type": "code",
   "execution_count": 10,
   "metadata": {},
   "outputs": [
    {
     "name": "stdout",
     "output_type": "stream",
     "text": [
      "Tu puntuación: 0\n",
      "Puntuación de la máquina: 0\n",
      "Ronda 1\n"
     ]
    },
    {
     "name": "stdin",
     "output_type": "stream",
     "text": [
      "Piedra, papel o tijera?:  hola\n"
     ]
    },
    {
     "name": "stdout",
     "output_type": "stream",
     "text": [
      "HE DICHO PIEDRA, PAPEL O TIJERA!\n"
     ]
    },
    {
     "name": "stdin",
     "output_type": "stream",
     "text": [
      "Piedra, papel o tijera?:  adios\n"
     ]
    },
    {
     "name": "stdout",
     "output_type": "stream",
     "text": [
      "HE DICHO PIEDRA, PAPEL O TIJERA!\n"
     ]
    },
    {
     "name": "stdin",
     "output_type": "stream",
     "text": [
      "Piedra, papel o tijera?:  piedra\n"
     ]
    },
    {
     "name": "stdout",
     "output_type": "stream",
     "text": [
      "Piedra gana a tijera, crack!\n",
      "Tu puntuación: 1\n",
      "Puntuación de la máquina: 0\n",
      "Ronda 2\n"
     ]
    },
    {
     "name": "stdin",
     "output_type": "stream",
     "text": [
      "Piedra, papel o tijera?:  piedra\n"
     ]
    },
    {
     "name": "stdout",
     "output_type": "stream",
     "text": [
      "Piedra gana a tijera, crack!\n",
      "Tu puntuación: 2\n",
      "Puntuación de la máquina: 0\n",
      "Ronda 3\n"
     ]
    },
    {
     "name": "stdin",
     "output_type": "stream",
     "text": [
      "Piedra, papel o tijera?:  piedra\n"
     ]
    },
    {
     "name": "stdout",
     "output_type": "stream",
     "text": [
      "Papel gana a piedra. Has perdido!\n",
      "Tu puntuación: 2\n",
      "Puntuación de la máquina: 1\n",
      "Ronda 4\n"
     ]
    },
    {
     "name": "stdin",
     "output_type": "stream",
     "text": [
      "Piedra, papel o tijera?:  piedra\n"
     ]
    },
    {
     "name": "stdout",
     "output_type": "stream",
     "text": [
      "Piedra gana a tijera, crack!\n",
      "Tu puntuación: 3\n",
      "Puntuación de la máquina: 1\n",
      "Ronda 5\n"
     ]
    },
    {
     "name": "stdin",
     "output_type": "stream",
     "text": [
      "Piedra, papel o tijera?:  piedra\n"
     ]
    },
    {
     "name": "stdout",
     "output_type": "stream",
     "text": [
      "Piedra contra piedra, nadie gana!\n",
      "Has ganado el juego, eres un máquina!\n",
      "Tu puntuación: 3\n",
      "Puntuación de la máquina: 1\n"
     ]
    }
   ],
   "source": [
    "# Rodrigo de la Plaza\n",
    "# 09/10/2020\n",
    "\n",
    "# Comenzamos con los contadores a cero:\n",
    "\n",
    "import random\n",
    "\n",
    "gana_jugador = 0\n",
    "gana_maquina = 0\n",
    "numero_rondas = 0\n",
    "opciones_juego = (\"piedra\", \"papel\", \"tijera\")\n",
    "\n",
    "while numero_rondas < 5:\n",
    "    print(\"Tu puntuación: \" + str(gana_jugador) + \"\\n\" + \"Puntuación de la máquina: \" + str(gana_maquina))\n",
    "\n",
    "    numero_rondas = numero_rondas + 1\n",
    "    print(\"Ronda \" + str(numero_rondas))\n",
    "\n",
    "    # Primero es el jugador el que debe elegir su apuesta:\n",
    "    apuesta_jugador = input(\"Piedra, papel o tijera?: \")\n",
    "\n",
    "    # Se comprueba si la apuesta del jugador es una de las opciones válidas del juego:\n",
    "    while apuesta_jugador not in opciones_juego:\n",
    "        print (\"HE DICHO PIEDRA, PAPEL O TIJERA!\")\n",
    "        apuesta_jugador = input(\"Piedra, papel o tijera?: \")\n",
    "\n",
    "    # Después se decide la apuesta de la máquina:\n",
    "    apuesta_maquina = random.choice([\"piedra\", \"papel\", \"tijera\"])\n",
    "\n",
    "    # Comparamos la apuesta del jugador con la de la máquina:\n",
    "    if apuesta_jugador == \"piedra\" and apuesta_maquina == \"papel\":\n",
    "        gana_maquina = gana_maquina + 1\n",
    "        print(\"Papel gana a piedra. Has perdido!\")\n",
    "\n",
    "    elif apuesta_jugador == \"piedra\" and apuesta_maquina == \"tijera\":\n",
    "        gana_jugador = gana_jugador + 1\n",
    "        print(\"Piedra gana a tijera, crack!\")\n",
    "\n",
    "    elif apuesta_jugador == \"piedra\" and apuesta_maquina == \"piedra\":\n",
    "        print(\"Piedra contra piedra, nadie gana!\")\n",
    "\n",
    "    elif apuesta_jugador == \"papel\" and apuesta_maquina == \"papel\":\n",
    "        print(\"Papel contra papel, nadie gana!\")\n",
    "\n",
    "    elif apuesta_jugador == \"papel\" and apuesta_maquina == \"tijera\":\n",
    "        gana_maquina = gana_maquina + 1\n",
    "        print(\"Tijera gana a papel, has perdido!\")\n",
    "\n",
    "    elif apuesta_jugador == \"papel\" and apuesta_maquina == \"piedra\":\n",
    "        gana_jugador = gana_jugador + 1\n",
    "        print(\"Papel gana a piedra, muy bien!\")\n",
    "\n",
    "    elif apuesta_jugador == \"tijera\" and apuesta_maquina == \"papel\":\n",
    "        gana_jugador = gana_jugador + 1\n",
    "        print(\"Tijera gana a papel. Estás en racha!\")\n",
    "\n",
    "    elif apuesta_jugador == \"tijera\" and apuesta_maquina == \"tijera\":\n",
    "        print(\"Tijera contra tijera, nadie gana!\")\n",
    "\n",
    "    else:\n",
    "        print(\"Tijera contra piedra, te han machacado!\")\n",
    "        gana_maquina = gana_maquina + 1\n",
    "\n",
    "if gana_jugador > gana_maquina:\n",
    "    print(\"Has ganado el juego, eres una máquina!\")\n",
    "\n",
    "elif gana_jugador == gana_maquina:\n",
    "    print(\"Empate, todos contentos!\")\n",
    "\n",
    "else:\n",
    "    print(\"Te has dejado vencer por un ordenador, pringao!\")\n",
    "\n",
    "print(\"Tu puntuación: \" + str(gana_jugador) + \"\\n\" + \"Puntuación de la máquina: \" + str(gana_maquina))"
   ]
  },
  {
   "cell_type": "code",
   "execution_count": null,
   "metadata": {},
   "outputs": [],
   "source": []
  },
  {
   "cell_type": "code",
   "execution_count": null,
   "metadata": {},
   "outputs": [],
   "source": []
  },
  {
   "cell_type": "code",
   "execution_count": null,
   "metadata": {},
   "outputs": [],
   "source": []
  },
  {
   "cell_type": "code",
   "execution_count": null,
   "metadata": {},
   "outputs": [],
   "source": []
  },
  {
   "cell_type": "code",
   "execution_count": null,
   "metadata": {},
   "outputs": [],
   "source": []
  },
  {
   "cell_type": "code",
   "execution_count": null,
   "metadata": {},
   "outputs": [],
   "source": []
  }
 ],
 "metadata": {
  "kernelspec": {
   "display_name": "Python 3",
   "language": "python",
   "name": "python3"
  },
  "language_info": {
   "codemirror_mode": {
    "name": "ipython",
    "version": 3
   },
   "file_extension": ".py",
   "mimetype": "text/x-python",
   "name": "python",
   "nbconvert_exporter": "python",
   "pygments_lexer": "ipython3",
   "version": "3.7.6"
  }
 },
 "nbformat": 4,
 "nbformat_minor": 4
}
