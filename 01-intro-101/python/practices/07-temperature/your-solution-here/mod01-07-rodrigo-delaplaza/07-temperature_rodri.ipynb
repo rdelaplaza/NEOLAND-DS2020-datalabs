{
 "cells": [
  {
   "cell_type": "markdown",
   "metadata": {},
   "source": [
    "# Temperatura del procesador"
   ]
  },
  {
   "cell_type": "markdown",
   "metadata": {},
   "source": [
    "Tenemos un sensor de temperatura en el procesador el servidor de nuestra empresa. Queremos analizar los datos proporcionados para analizar si debemos cambiar de sistema de refrigeración por uno mejor. Es caro y como analista de datos no podemos tomar decisiones sin base."
   ]
  },
  {
   "cell_type": "markdown",
   "metadata": {},
   "source": [
    "Proporcionamos las temperaturas medidas a lo largo de las 24 horas de un día en una estructura de datos tipo lista compuesta de 24 números enteros:"
   ]
  },
  {
   "cell_type": "code",
   "execution_count": 1,
   "metadata": {},
   "outputs": [],
   "source": [
    "temperaturas_C = [33,66,65,0,59,60,62,64,70,76,80,69,80,83,68,79,61,53,50,49,53,48,45,39]"
   ]
  },
  {
   "cell_type": "markdown",
   "metadata": {},
   "source": [
    "## Gráfica de temperaturas\n",
    "Para facilitar el entendimiento se te muestra a continuación la gráfica de temperatura. No tienes que hacer nada en este apartado. La prueba empieza en **Problema**. "
   ]
  },
  {
   "cell_type": "code",
   "execution_count": 3,
   "metadata": {},
   "outputs": [
    {
     "data": {
      "text/plain": [
       "Text(0.5, 1.0, 'Temperaturas de nuestro servidor a lo largo del día')"
      ]
     },
     "execution_count": 3,
     "metadata": {},
     "output_type": "execute_result"
    },
    {
     "data": {
      "image/png": "[encoded data removed]",
      "text/plain": [
       "<Figure size 432x288 with 1 Axes>"
      ]
     },
     "metadata": {
      "needs_background": "light"
     },
     "output_type": "display_data"
    }
   ],
   "source": [
    "# imports\n",
    "import matplotlib.pyplot as plt\n",
    "%matplotlib inline\n",
    "\n",
    "# eje x, eje y\n",
    "y = [33,66,65,0,59,60,62,64,70,76,80,69,80,83,68,79,61,53,50,49,53,48,45,39]\n",
    "x = list(range(len(y)))\n",
    "\n",
    "# imprimir figura\n",
    "plt.plot(x, y)\n",
    "plt.axhline(y=70, linewidth=1, color='r')\n",
    "plt.xlabel('horas')\n",
    "plt.ylabel('Temperatura ºC')\n",
    "plt.title('Temperaturas de nuestro servidor a lo largo del día')"
   ]
  },
  {
   "cell_type": "markdown",
   "metadata": {},
   "source": [
    "## Problema\n",
    "\n",
    "Si el sensor detecta más de 4 horas con temperaturas mayores o igual que 70ºC o alguna temperatura superior a 80ºC o la media fuera superior a 65ºC a lo largo de todo el día, deberemos dar la orden de cambiar el sistema de refrigeración para evitar dañar el procesador. \n",
    "\n",
    "Te vamos a guiar paso a paso para que puedas tomar la decisión calculando algunos pasos intermedios: \n",
    "\n",
    "1. Temperatura mínima\n",
    "2. Temperatura máxima\n",
    "3. Temperaturas igual o superior a 70ºC\n",
    "4. Media de temperaturas a lo largo del día. \n",
    "5. Si hubiera un fallo en el sensor a las 03:00 y no capturáramos el dato, ¿Cómo estímarias el valor que nos falta? Corrige ese valor en la lista de temperaturas. \n",
    "6. Bonus: Nuestro personal de mantenimiento es de Estados Unidos y no entiende el sistema métrico internacional. Pása las temperaturas a Grados Fahrenheit.\n",
    "\n",
    "Fórmula: F = 1.8 * C + 32"
   ]
  },
  {
   "cell_type": "code",
   "execution_count": 24,
   "metadata": {},
   "outputs": [
    {
     "name": "stdout",
     "output_type": "stream",
     "text": [
      "La temperatura mínima es: 0\n",
      "La temperatura máxima es: 90\n",
      "Los elementos de la lista que son mayores de 70ºC son: [76, 80, 81, 80, 83, 90, 79]\n",
      "La media de temperaturas a lo largo del día es:  60.25 ºC\n",
      "El valor estimado para el fallo del sensor es:  62 ºC\n",
      "La lista actualizada de temperaturas con el nuevo valor estimado es:  [33, 66, 65, 62, 59, 60, 62, 64, 70, 76, 80, 81, 80, 83, 90, 79, 61, 53, 50, 49, 53, 48, 45, 39]\n",
      "La lista de temperaturas en grados Farhenheit es:  [91.4, 150.8, 149.0, 32.0, 138.2, 140.0, 143.6, 147.2, 158.0, 168.8, 176.0, 177.8, 176.0, 181.4, 194.0, 174.2, 141.8, 127.4, 122.0, 120.2, 127.4, 118.4, 113.0, 102.2]\n"
     ]
    }
   ],
   "source": [
    "# asigna a una variable la lista de temperaturas\n",
    "temperaturas_C = [33,66,65,0,59,60,62,64,70,76,80,81,80,83,90,79,61,53,50,49,53,48,45,39]\n",
    "\n",
    "# 1. Calcula el mínimo de la lista e imprime el valor con print()\n",
    "\n",
    "temperatura_minima = min(temperaturas_C)\n",
    "\n",
    "print ('La temperatura mínima es: ' + str(temperatura_minima))\n",
    "\n",
    "# 2. Calcula el máximo de la lista e imprime el valor con print()\n",
    "\n",
    "temperatura_maxima = max(temperaturas_C)\n",
    "\n",
    "print ('La temperatura máxima es: ' + str(temperatura_maxima))\n",
    "\n",
    "# 3. Elementos de la lista que son mayores que 70ºC e imprime el resultado\n",
    "\n",
    "mayores_70 = []\n",
    "\n",
    "for temperatura in temperaturas_C:\n",
    "    if temperatura > 70:\n",
    "        mayores_70.append(temperatura)\n",
    "\n",
    "print('Los elementos de la lista que son mayores de 70ºC son: '+ str(mayores_70))\n",
    "\n",
    "# 4. cálculo de la media de temperaturas a lo largo del día e imprime resultado\n",
    "\n",
    "def media(datos):\n",
    "    sumatorio = sum(datos)\n",
    "    longitud = int(len(datos))\n",
    "    resultado = sumatorio / longitud\n",
    "    return resultado\n",
    "\n",
    "print('La media de temperaturas a lo largo del día es: ', media(temperaturas_C),'ºC')\n",
    "\n",
    "# 5.1 Soluciona el fallo en el sensor estimando un valor\n",
    "\n",
    "# Se estima un valor interpolando entre los que tiene por delante y por detrás en la lista\n",
    "\n",
    "indice_0 = temperaturas_C.index(0)\n",
    "dato_predecesor = temperaturas_C [indice_0-1]\n",
    "dato_sucesor = temperaturas_C [indice_0+1]\n",
    "valor_estimado = int((dato_predecesor + dato_sucesor)/2)\n",
    "\n",
    "print('El valor estimado para el fallo del sensor es: ', valor_estimado, 'ºC')\n",
    "\n",
    "# 5.2 Actualización del valor estimado a las 03:00 en la lista\n",
    "\n",
    "temperaturas_C_act = []\n",
    "\n",
    "for temperatura in temperaturas_C:\n",
    "    if temperatura != 0:\n",
    "        temperaturas_C_act.append(temperatura)\n",
    "    else:\n",
    "        temperaturas_C_act.append(valor_estimado)\n",
    "\n",
    "print('La lista actualizada de temperaturas con el nuevo valor estimado es: ', temperaturas_C_act)\n",
    "\n",
    "# Bonus: pasar la lista de ºC a grados Farenheit\n",
    "\n",
    "def fahrenheit(C):\n",
    "    F = 1.8 * C + 32\n",
    "    return round(F,1)\n",
    "\n",
    "temperaturas_F = []\n",
    "\n",
    "for temperatura in temperaturas_C:\n",
    "    temperaturas_F.append(fahrenheit(temperatura))\n",
    "\n",
    "print('La lista de temperaturas en grados Farhenheit es: ', temperaturas_F)"
   ]
  },
  {
   "cell_type": "markdown",
   "metadata": {},
   "source": [
    "## Toma la decisión\n",
    "Recuerda que si el sensor detecta más de 4 horas con temperaturas mayores o igual que 70ºC o alguna temperatura superior a 80ºC o la media fuera superior a 65ºC a lo largo de todo el día, deberemos dar la orden de cambiar el sistema de refrigeración para evitar el peligro de dañar el equipamiento: \n",
    "* más de 4 horas con temperaturas mayores o igual que 70ºC\n",
    "* alguna temperatura superior a 80ºC\n",
    "* media fuera superior a 65ºC a lo largo de todo el día\n",
    "Si se cumple alguna de estas tres habrá que cambiar el sistema de refrigeración. "
   ]
  },
  {
   "cell_type": "code",
   "execution_count": 25,
   "metadata": {},
   "outputs": [
    {
     "name": "stdout",
     "output_type": "stream",
     "text": [
      "True\n"
     ]
    }
   ],
   "source": [
    "# Imprime True o False en función de si cambiarías el sistema de refrigeración o no\n",
    "\n",
    "# Comprobamos si alguna temperatura es superior a 80ºC\n",
    "\n",
    "for temperatura in temperaturas_C:\n",
    "    if temperatura > 80:\n",
    "        temp_sup_80 = True\n",
    "\n",
    "\n",
    "# Comprobamos si se cumpe alguna de las condiciones para cambiar el sistema de refrigeración\n",
    "\n",
    "if len(mayores_70) > 4 or temp_sup_80 == True or media(temperaturas_C) > 65:\n",
    "    cambiar_sistema = True\n",
    "    print(cambiar_sistema)"
   ]
  }
 ],
 "metadata": {
  "kernelspec": {
   "display_name": "Python 3",
   "language": "python",
   "name": "python3"
  },
  "language_info": {
   "codemirror_mode": {
    "name": "ipython",
    "version": 3
   },
   "file_extension": ".py",
   "mimetype": "text/x-python",
   "name": "python",
   "nbconvert_exporter": "python",
   "pygments_lexer": "ipython3",
   "version": "3.7.6"
  }
 },
 "nbformat": 4,
 "nbformat_minor": 4
}
