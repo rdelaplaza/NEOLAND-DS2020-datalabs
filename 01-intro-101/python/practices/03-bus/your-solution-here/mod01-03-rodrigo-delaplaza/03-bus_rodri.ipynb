{
 "cells": [
  {
   "cell_type": "markdown",
   "metadata": {},
   "source": [
    "# Bus"
   ]
  },
  {
   "cell_type": "markdown",
   "metadata": {},
   "source": [
    "Este bus tiene un sistema de control de subida y bajada de pasajeros para monitorizar el número de ocupantes que lleva y así detectar cuando hay un aforo demasiado alto."
   ]
  },
  {
   "cell_type": "markdown",
   "metadata": {},
   "source": [
    "En cada parada la subida y bajada de pasajeros se representa por una tupla compuesta por dos números enteros."
   ]
  },
  {
   "cell_type": "markdown",
   "metadata": {},
   "source": [
    "bus_stop = (in, out)"
   ]
  },
  {
   "cell_type": "markdown",
   "metadata": {},
   "source": [
    "La sucesión de paradas se representa con una lista estas tuplas."
   ]
  },
  {
   "cell_type": "markdown",
   "metadata": {},
   "source": [
    "stops = [(in1, out1), (in2, out2), (in3, out3), (in4, out4)]"
   ]
  },
  {
   "cell_type": "code",
   "execution_count": 6,
   "metadata": {},
   "outputs": [],
   "source": [
    "stops = [(10, 0), (4, 1), (3, 5), (3, 4), (5, 1), (1, 5), (5, 8), (4, 6), (2, 3)]"
   ]
  },
  {
   "cell_type": "code",
   "execution_count": 5,
   "metadata": {},
   "outputs": [
    {
     "name": "stdout",
     "output_type": "stream",
     "text": [
      "El numero de paradas es: 9\n"
     ]
    }
   ],
   "source": [
    "# Rodrigo de la Plaza\n",
    "# 04/10/2020\n",
    "\n",
    "# 1. Calcula el número de paradas.\n",
    "\n",
    "num_paradas = len(stops)\n",
    "\n",
    "print(\"El numero de paradas es: \" + str(num_paradas))"
   ]
  },
  {
   "cell_type": "code",
   "execution_count": 7,
   "metadata": {},
   "outputs": [
    {
     "name": "stdout",
     "output_type": "stream",
     "text": [
      "La diferencia de pasajeros en cada parada es: [10, 3, -2, -1, 4, -4, -3, -2, -1]\n"
     ]
    }
   ],
   "source": [
    "# 2. Asigna a una variable una lista cuyos elementos sean el número de pasajeros en cada parada (in-out).\n",
    "\n",
    "pasajeros = []\n",
    "\n",
    "for i in stops:\n",
    "    pasajeros_parada = i[0]-i[1]\n",
    "    pasajeros.append(pasajeros_parada)\n",
    "\n",
    "print(\"La diferencia de pasajeros en cada parada es: \" + str(pasajeros))"
   ]
  },
  {
   "cell_type": "code",
   "execution_count": 12,
   "metadata": {},
   "outputs": [
    {
     "name": "stdout",
     "output_type": "stream",
     "text": [
      "El máximo de ocupación del autobús son 14 pasajeros.\n"
     ]
    }
   ],
   "source": [
    "# 3. Halla el máximo de ocupación del autobús.\n",
    "\n",
    "# Hacemos una nueva lista para ver el flujo de pasajeros:\n",
    "\n",
    "pasajeros_flujo = []\n",
    "pasajeros_total = 0\n",
    "\n",
    "for i in pasajeros:\n",
    "    pasajeros_total = pasajeros_total + i\n",
    "    pasajeros_flujo.append(pasajeros_total)\n",
    "\n",
    "\n",
    "# La ocupación máxima es el máximo valor del flujo de pasajeros:\n",
    "\n",
    "ocupacion_max = max(pasajeros_flujo)\n",
    "\n",
    "print(\"El máximo de ocupación del autobús son \" + str(ocupacion_max) + \" pasajeros.\")"
   ]
  },
  {
   "cell_type": "code",
   "execution_count": 17,
   "metadata": {},
   "outputs": [
    {
     "name": "stdout",
     "output_type": "stream",
     "text": [
      "La media de la ocupación del autobús son 9 pasajeros.\n"
     ]
    }
   ],
   "source": [
    "#4. Calcula la media de la ocupación. Y la desviación estandard.\n",
    "\n",
    "import statistics as stats\n",
    "\n",
    "ocupacion_media = round(stats.mean(pasajeros_flujo))\n",
    "    \n",
    "print(\"La media de la ocupación del autobús son \" + str(ocupacion_media) + \" pasajeros.\")"
   ]
  }
 ],
 "metadata": {
  "kernelspec": {
   "display_name": "Python 3",
   "language": "python",
   "name": "python3"
  },
  "language_info": {
   "codemirror_mode": {
    "name": "ipython",
    "version": 3
   },
   "file_extension": ".py",
   "mimetype": "text/x-python",
   "name": "python",
   "nbconvert_exporter": "python",
   "pygments_lexer": "ipython3",
   "version": "3.7.6"
  }
 },
 "nbformat": 4,
 "nbformat_minor": 4
}
