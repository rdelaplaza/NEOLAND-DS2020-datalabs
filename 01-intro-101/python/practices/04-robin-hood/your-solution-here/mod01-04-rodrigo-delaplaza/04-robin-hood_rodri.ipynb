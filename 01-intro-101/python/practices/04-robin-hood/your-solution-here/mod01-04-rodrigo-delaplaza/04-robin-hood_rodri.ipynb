{
 "cells": [
  {
   "cell_type": "markdown",
   "metadata": {},
   "source": [
    "# Robin Hood"
   ]
  },
  {
   "cell_type": "markdown",
   "metadata": {},
   "source": [
    "Estamos en plena competición para ganar el concurso de tiro con arco en Sherwood. Con nuestro arco y flechas disparamos sobre una diana e intentamos acertar lo más posible del centro.\n",
    "\n",
    "El centro de la diana viene representado por los valores (0, 0) en los ejes de coordenadas."
   ]
  },
  {
   "cell_type": "code",
   "execution_count": 5,
   "metadata": {},
   "outputs": [],
   "source": [
    "puntos = [(4,5), (-0,2), (4,7), (1,-3), (3,-2), (4,5), \n",
    "          (3,2), (5,7), (-5,7), (2,2), (-4,5), (0,-2), \n",
    "          (-4,7), (-1,3), (-3,2), (-4,-5), (-3,2), \n",
    "          (5,7), (5,7), (2,2), (9, 9), (-8, -9)]"
   ]
  },
  {
   "cell_type": "code",
   "execution_count": 7,
   "metadata": {},
   "outputs": [
    {
     "name": "stdout",
     "output_type": "stream",
     "text": [
      "En el intento número 1 no lo ha conseguido.\n",
      "En el intento número 2 no lo ha conseguido.\n",
      "En el intento número 3 no lo ha conseguido.\n",
      "En el intento número 4 no lo ha conseguido.\n",
      "En el intento número 5 no lo ha conseguido.\n",
      "En el intento número 6 no lo ha conseguido.\n",
      "En el intento número 7 no lo ha conseguido.\n",
      "En el intento número 8 no lo ha conseguido.\n",
      "En el intento número 9 no lo ha conseguido.\n",
      "En el intento número 10 no lo ha conseguido.\n",
      "En el intento número 11 no lo ha conseguido.\n",
      "En el intento número 12 no lo ha conseguido.\n",
      "En el intento número 13 no lo ha conseguido.\n",
      "En el intento número 14 no lo ha conseguido.\n",
      "En el intento número 15 no lo ha conseguido.\n",
      "En el intento número 16 no lo ha conseguido.\n",
      "En el intento número 17 no lo ha conseguido.\n",
      "Lo ha conseguido en el intento número 18\n"
     ]
    }
   ],
   "source": [
    "# Rodrigo de la Plaza\n",
    "# 04/10/2020\n",
    "\n",
    "# 1. Robin Hood es famoso por acertar a una flecha con otra flecha. ¿Lo ha conseguido? \n",
    "\n",
    "indices = list(range(len(puntos)))\n",
    "\n",
    "for i in indices:\n",
    "    disparo_1 = puntos[i]\n",
    "    disparo_2 = puntos[i+1]\n",
    "    if disparo_2 == disparo_1:\n",
    "        print(\"Lo ha conseguido en el intento número \"+ str(i+1))\n",
    "        break\n",
    "    else:\n",
    "        print(\"En el intento número \"+ str(i+1) +\" no lo ha conseguido.\")\n"
   ]
  },
  {
   "cell_type": "code",
   "execution_count": 8,
   "metadata": {},
   "outputs": [
    {
     "name": "stdout",
     "output_type": "stream",
     "text": [
      "En el cuadrante Q1 han caido los siguientes 10 flechazos:[(4, 5), (4, 7), (4, 5), (3, 2), (5, 7), (2, 2), (5, 7), (5, 7), (2, 2), (9, 9)]\n",
      "En el cuadrante Q2 han caido los siguientes 6 flechazos:[(-5, 7), (-4, 5), (-4, 7), (-1, 3), (-3, 2), (-3, 2)]\n",
      "En el cuadrante Q3 han caido los siguientes 2 flechazos:[(-4, -5), (-8, -9)]\n",
      "En el cuadrante Q4 han caido los siguientes 2 flechazos:[(1, -3), (3, -2)]\n",
      "Los siguientes 2 flechazos:[(0, 2), (0, -2)] no pertenecen a ningun cuadrante.\n"
     ]
    }
   ],
   "source": [
    "# 2. Calcula cuántos flechazos han caido en cada cuadrante.\n",
    "\n",
    "# Comenzamos con todos los marcadores a cero.\n",
    "\n",
    "flechazos_Q1 = []\n",
    "flechazos_Q2 = []\n",
    "flechazos_Q3 = []\n",
    "flechazos_Q4 = []\n",
    "flechazos_out = []\n",
    "\n",
    "# Comprobamos los flechazos de la lista \"puntos\".\n",
    "\n",
    "indices = list(range(len(puntos)))\n",
    "\n",
    "for i in indices:\n",
    "    flechazo = puntos [i]\n",
    "    x = flechazo[0]\n",
    "    y = flechazo[1]\n",
    "\n",
    "    if x > 0 and y > 0:\n",
    "        flechazos_Q1.append(flechazo)\n",
    "    elif x < 0 and y > 0:\n",
    "        flechazos_Q2.append(flechazo)\n",
    "    elif x < 0 and y < 0:\n",
    "        flechazos_Q3.append(flechazo)\n",
    "    elif x > 0 and y < 0:\n",
    "        flechazos_Q4.append(flechazo)\n",
    "    else:\n",
    "        flechazos_out.append(flechazo)\n",
    "\n",
    "print (\"En el cuadrante Q1 han caido los siguientes \" + str(len(flechazos_Q1)) + \" flechazos:\" + str(flechazos_Q1))\n",
    "print (\"En el cuadrante Q2 han caido los siguientes \" + str(len(flechazos_Q2)) + \" flechazos:\" + str(flechazos_Q2))\n",
    "print (\"En el cuadrante Q3 han caido los siguientes \" + str(len(flechazos_Q3)) + \" flechazos:\" + str(flechazos_Q3))\n",
    "print (\"En el cuadrante Q4 han caido los siguientes \" + str(len(flechazos_Q4)) + \" flechazos:\" + str(flechazos_Q4))\n",
    "print (\"Los siguientes \" + str(len(flechazos_out)) + \" flechazos:\" + str(flechazos_out) + \" no pertenecen a ningun cuadrante.\")\n",
    "\n",
    "\n"
   ]
  },
  {
   "cell_type": "code",
   "execution_count": 4,
   "metadata": {},
   "outputs": [
    {
     "name": "stdout",
     "output_type": "stream",
     "text": [
      "El punto más cercano al centro es: (0, 2) que está a una distancia de 2.0\n"
     ]
    }
   ],
   "source": [
    "# 3. Halla el punto más cercano al centro. Calcula su distancia al centro\n",
    "# Definir una función que calcula la distancia al centro puede servir de ayuda. \n",
    "\n",
    "import math\n",
    "\n",
    "def distancia_centro(x, y):\n",
    "    return math.sqrt(x**2 + y**2)\n",
    "\n",
    "\n",
    "# Calculamos las distancias al centro de cada uno de los disparos y las añadimos a una lista.\n",
    "\n",
    "puntos = [(4, 5), (-0, 2), (4, 7), (1, -3), (3, -2), (4, 5),\n",
    "          (3, 2), (5, 7), (-5, 7), (2, 2), (-4, 5), (0, -2),\n",
    "          (-4, 7), (-1, 3), (-3, 2), (-4, -5), (-3, 2),\n",
    "          (5, 7), (5, 7), (2, 2), (9, 9), (-8, -9)]\n",
    "\n",
    "indices = list(range(len(puntos)))\n",
    "\n",
    "distancias = []\n",
    "\n",
    "for i in indices:\n",
    "    flechazo = puntos [i]\n",
    "    distancias.append (distancia_centro (flechazo[0], flechazo[1]))\n",
    "    \n",
    "\n",
    "# Obtenemos el menor valor de la lista de distancias.\n",
    "\n",
    "minima_distancia_centro = min(distancias)\n",
    "\n",
    "\n",
    "# Averiguamos a qué disparo corresponde esa distancia: punto más cercano al centro\n",
    "\n",
    "index_punto_mas_cercano = list.index(distancias, 2.0)\n",
    "\n",
    "punto_mas_cercano = puntos[1]\n",
    "\n",
    "print (\"El punto más cercano al centro es: \" + str(punto_mas_cercano)   + \" que está a una distancia de \" + str(minima_distancia_centro))\n",
    "\n"
   ]
  },
  {
   "cell_type": "code",
   "execution_count": 5,
   "metadata": {},
   "outputs": [
    {
     "name": "stdout",
     "output_type": "stream",
     "text": [
      "El número de flechas que hay que recoger en el bosque son: 2\n"
     ]
    }
   ],
   "source": [
    "# 4. Si la diana tiene un radio de 9, calcula el número de flechas que hay que recoger al bosque.\n",
    "\n",
    "# Como ya hemos calculado las distancias mínimas al centro, cualquier punto cuya distancia sea mayor que el diámetro de la diana (9) ha ido directo al bosque.\n",
    "\n",
    "flechas_bosque = 0\n",
    "\n",
    "flechas_bosque = 0\n",
    "\n",
    "for i in distancias:\n",
    "    if i > 9:\n",
    "        flechas_bosque += 1\n",
    "\n",
    "print (\"El número de flechas que hay que recoger en el bosque son: \" + str(flechas_bosque))\n",
    "\n"
   ]
  },
  {
   "cell_type": "code",
   "execution_count": null,
   "metadata": {},
   "outputs": [],
   "source": []
  }
 ],
 "metadata": {
  "kernelspec": {
   "display_name": "Python 3",
   "language": "python",
   "name": "python3"
  },
  "language_info": {
   "codemirror_mode": {
    "name": "ipython",
    "version": 3
   },
   "file_extension": ".py",
   "mimetype": "text/x-python",
   "name": "python",
   "nbconvert_exporter": "python",
   "pygments_lexer": "ipython3",
   "version": "3.7.6"
  }
 },
 "nbformat": 4,
 "nbformat_minor": 4
}
