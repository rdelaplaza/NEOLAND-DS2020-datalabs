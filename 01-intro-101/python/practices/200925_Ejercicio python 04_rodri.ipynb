{
 "cells": [
  {
   "cell_type": "markdown",
   "metadata": {},
   "source": [
    "## Calculadora"
   ]
  },
  {
   "cell_type": "code",
   "execution_count": 2,
   "metadata": {},
   "outputs": [
    {
     "name": "stdin",
     "output_type": "stream",
     "text": [
      "Introduce the first number:  5\n",
      "Introduce the second number:  5\n",
      "Introduce the operator:  +\n"
     ]
    }
   ],
   "source": [
    "print (\"Simple calculator!\")\n",
    "\n",
    "FirstNum = input(\"Introduce the first number: \")\n",
    "SecondNum = input(\"Introduce the second number: \")\n",
    "Operator = input(\"Introduce the operator: \")"
   ]
  },
  {
   "cell_type": "code",
   "execution_count": null,
   "metadata": {},
   "outputs": [],
   "source": [
    "if FirstNum.isnumeric and SecondNum.isnumeric and Operator == +:\n",
    "    \n",
    "    "
   ]
  }
 ],
 "metadata": {
  "kernelspec": {
   "display_name": "Python 3",
   "language": "python",
   "name": "python3"
  },
  "language_info": {
   "codemirror_mode": {
    "name": "ipython",
    "version": 3
   },
   "file_extension": ".py",
   "mimetype": "text/x-python",
   "name": "python",
   "nbconvert_exporter": "python",
   "pygments_lexer": "ipython3",
   "version": "3.7.6"
  }
 },
 "nbformat": 4,
 "nbformat_minor": 4
}
