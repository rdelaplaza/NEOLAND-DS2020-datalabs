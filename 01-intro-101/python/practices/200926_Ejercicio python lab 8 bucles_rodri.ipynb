{
 "cells": [
  {
   "cell_type": "markdown",
   "metadata": {},
   "source": [
    "# Lab 8 Bucles"
   ]
  },
  {
   "cell_type": "code",
   "execution_count": 1,
   "metadata": {},
   "outputs": [],
   "source": [
    "molecula = \"\"\"\n",
    "ATOM    232  N   CYS A  28       3.977   8.402   0.487  1.00 10.53           N\n",
    "ATOM    233  CA  CYS A  28       3.295   9.146   1.517  1.00 10.04           C\n",
    "ATOM    234  C   CYS A  28       4.174  10.264   2.053  1.00 10.31           C\n",
    "ATOM    235  O   CYS A  28       5.378  10.108   2.202  1.00 12.91           O\n",
    "ATOM    236  CB  CYS A  28       2.912   8.210   2.680  1.00  9.81           C\n",
    "ATOM    237  SG  CYS A  28       1.804   6.853   2.197  1.00  9.93           S\n",
    "ATOM    238  N   GLY A  29       3.546  11.391   2.430  1.00 10.76           N\n",
    "ATOM    239  CA  GLY A  29       4.295  12.472   3.049  1.00 11.93           C\n",
    "ATOM    240  C   GLY A  29       3.416  13.524   3.596  1.00 12.60           C\n",
    "ATOM    241  O   GLY A  29       3.985  14.574   4.052  1.00 15.82           O\n",
    "ATOM    242  OXT GLY A  29       2.168  13.386   3.672  1.00 11.37           O\n",
    "\"\"\""
   ]
  },
  {
   "cell_type": "code",
   "execution_count": 2,
   "metadata": {},
   "outputs": [
    {
     "data": {
      "text/plain": [
       "str"
      ]
     },
     "execution_count": 2,
     "metadata": {},
     "output_type": "execute_result"
    }
   ],
   "source": [
    "type(molecula)"
   ]
  },
  {
   "cell_type": "code",
   "execution_count": 17,
   "metadata": {},
   "outputs": [],
   "source": [
    "import os\n",
    "#lines = molecula.split(os.linesep)\n",
    "lines = molecula.splitlines()"
   ]
  },
  {
   "cell_type": "code",
   "execution_count": 18,
   "metadata": {},
   "outputs": [
    {
     "data": {
      "text/plain": [
       "['',\n",
       " 'ATOM    232  N   CYS A  28       3.977   8.402   0.487  1.00 10.53           N',\n",
       " 'ATOM    233  CA  CYS A  28       3.295   9.146   1.517  1.00 10.04           C',\n",
       " 'ATOM    234  C   CYS A  28       4.174  10.264   2.053  1.00 10.31           C',\n",
       " 'ATOM    235  O   CYS A  28       5.378  10.108   2.202  1.00 12.91           O',\n",
       " 'ATOM    236  CB  CYS A  28       2.912   8.210   2.680  1.00  9.81           C',\n",
       " 'ATOM    237  SG  CYS A  28       1.804   6.853   2.197  1.00  9.93           S',\n",
       " 'ATOM    238  N   GLY A  29       3.546  11.391   2.430  1.00 10.76           N',\n",
       " 'ATOM    239  CA  GLY A  29       4.295  12.472   3.049  1.00 11.93           C',\n",
       " 'ATOM    240  C   GLY A  29       3.416  13.524   3.596  1.00 12.60           C',\n",
       " 'ATOM    241  O   GLY A  29       3.985  14.574   4.052  1.00 15.82           O',\n",
       " 'ATOM    242  OXT GLY A  29       2.168  13.386   3.672  1.00 11.37           O']"
      ]
     },
     "execution_count": 18,
     "metadata": {},
     "output_type": "execute_result"
    }
   ],
   "source": [
    "lines"
   ]
  },
  {
   "cell_type": "code",
   "execution_count": 7,
   "metadata": {},
   "outputs": [],
   "source": [
    "# Vamos a entender el funcionamiento de SPLIT\n",
    "frases1 = \"Frase1. La segunda frase. Tercera frase\"\n",
    "frases2 = \"Una frase. Dos frases. Tercera frase más larga. Cuarta frase\""
   ]
  },
  {
   "cell_type": "code",
   "execution_count": 10,
   "metadata": {},
   "outputs": [
    {
     "data": {
      "text/plain": [
       "['Una frase', ' Dos frases', ' Tercera frase más larga', ' Cuarta frase', '']"
      ]
     },
     "execution_count": 10,
     "metadata": {},
     "output_type": "execute_result"
    }
   ],
   "source": [
    "frases1.split(\".\")\n",
    "frases2.split(\".\")"
   ]
  },
  {
   "cell_type": "code",
   "execution_count": 19,
   "metadata": {},
   "outputs": [
    {
     "data": {
      "text/plain": [
       "list"
      ]
     },
     "execution_count": 19,
     "metadata": {},
     "output_type": "execute_result"
    }
   ],
   "source": [
    "type(lines)"
   ]
  },
  {
   "cell_type": "code",
   "execution_count": 20,
   "metadata": {},
   "outputs": [
    {
     "data": {
      "text/plain": [
       "12"
      ]
     },
     "execution_count": 20,
     "metadata": {},
     "output_type": "execute_result"
    }
   ],
   "source": [
    "len(lines)"
   ]
  },
  {
   "cell_type": "code",
   "execution_count": 21,
   "metadata": {},
   "outputs": [
    {
     "data": {
      "text/plain": [
       "['',\n",
       " 'ATOM    232  N   CYS A  28       3.977   8.402   0.487  1.00 10.53           N',\n",
       " 'ATOM    233  CA  CYS A  28       3.295   9.146   1.517  1.00 10.04           C',\n",
       " 'ATOM    234  C   CYS A  28       4.174  10.264   2.053  1.00 10.31           C',\n",
       " 'ATOM    235  O   CYS A  28       5.378  10.108   2.202  1.00 12.91           O',\n",
       " 'ATOM    236  CB  CYS A  28       2.912   8.210   2.680  1.00  9.81           C',\n",
       " 'ATOM    237  SG  CYS A  28       1.804   6.853   2.197  1.00  9.93           S',\n",
       " 'ATOM    238  N   GLY A  29       3.546  11.391   2.430  1.00 10.76           N',\n",
       " 'ATOM    239  CA  GLY A  29       4.295  12.472   3.049  1.00 11.93           C',\n",
       " 'ATOM    240  C   GLY A  29       3.416  13.524   3.596  1.00 12.60           C',\n",
       " 'ATOM    241  O   GLY A  29       3.985  14.574   4.052  1.00 15.82           O',\n",
       " 'ATOM    242  OXT GLY A  29       2.168  13.386   3.672  1.00 11.37           O']"
      ]
     },
     "execution_count": 21,
     "metadata": {},
     "output_type": "execute_result"
    }
   ],
   "source": [
    "lines"
   ]
  },
  {
   "cell_type": "code",
   "execution_count": 22,
   "metadata": {},
   "outputs": [
    {
     "name": "stdout",
     "output_type": "stream",
     "text": [
      "ATOM    232  N   CYS A  28       3.977   8.402   0.487  1.00 10.53           N\n",
      "ATOM    233  CA  CYS A  28       3.295   9.146   1.517  1.00 10.04           C\n",
      "ATOM    234  C   CYS A  28       4.174  10.264   2.053  1.00 10.31           C\n",
      "ATOM    235  O   CYS A  28       5.378  10.108   2.202  1.00 12.91           O\n",
      "ATOM    236  CB  CYS A  28       2.912   8.210   2.680  1.00  9.81           C\n",
      "ATOM    237  SG  CYS A  28       1.804   6.853   2.197  1.00  9.93           S\n",
      "ATOM    238  N   GLY A  29       3.546  11.391   2.430  1.00 10.76           N\n",
      "ATOM    239  CA  GLY A  29       4.295  12.472   3.049  1.00 11.93           C\n",
      "ATOM    240  C   GLY A  29       3.416  13.524   3.596  1.00 12.60           C\n",
      "ATOM    241  O   GLY A  29       3.985  14.574   4.052  1.00 15.82           O\n",
      "ATOM    242  OXT GLY A  29       2.168  13.386   3.672  1.00 11.37           O\n"
     ]
    }
   ],
   "source": [
    "for line in lines:\n",
    "    if line.startswith('ATOM'):\n",
    "        print(line)"
   ]
  },
  {
   "cell_type": "code",
   "execution_count": 31,
   "metadata": {},
   "outputs": [
    {
     "name": "stdout",
     "output_type": "stream",
     "text": [
      "['ATOM    232  N   CYS A  28       3.977   8.402   0.487  1.00 10.53           N', 'ATOM    233  CA  CYS A  28       3.295   9.146   1.517  1.00 10.04           C', 'ATOM    234  C   CYS A  28       4.174  10.264   2.053  1.00 10.31           C', 'ATOM    235  O   CYS A  28       5.378  10.108   2.202  1.00 12.91           O', 'ATOM    236  CB  CYS A  28       2.912   8.210   2.680  1.00  9.81           C', 'ATOM    237  SG  CYS A  28       1.804   6.853   2.197  1.00  9.93           S', 'ATOM    238  N   GLY A  29       3.546  11.391   2.430  1.00 10.76           N', 'ATOM    239  CA  GLY A  29       4.295  12.472   3.049  1.00 11.93           C', 'ATOM    240  C   GLY A  29       3.416  13.524   3.596  1.00 12.60           C', 'ATOM    241  O   GLY A  29       3.985  14.574   4.052  1.00 15.82           O', 'ATOM    242  OXT GLY A  29       2.168  13.386   3.672  1.00 11.37           O']\n"
     ]
    }
   ],
   "source": [
    "# Probamos a guardar la información.\n",
    "lines_atom = []\n",
    "for line in lines:\n",
    "    if line.startswith('ATOM'):\n",
    "        lines_atom.append(line) #Añadimos cada línea a la lista lines_atom\n",
    "print(lines_atom)"
   ]
  },
  {
   "cell_type": "code",
   "execution_count": 25,
   "metadata": {},
   "outputs": [],
   "source": [
    "def cuenta_frase(string):\n",
    "    num_frases = string.count(\"\\n\")\n",
    "    return num_frases"
   ]
  },
  {
   "cell_type": "code",
   "execution_count": 27,
   "metadata": {},
   "outputs": [
    {
     "data": {
      "text/plain": [
       "3"
      ]
     },
     "execution_count": 27,
     "metadata": {},
     "output_type": "execute_result"
    }
   ],
   "source": [
    "#Ejecutamos la función\n",
    "cuenta_frase(frases1)"
   ]
  },
  {
   "cell_type": "code",
   "execution_count": 33,
   "metadata": {},
   "outputs": [
    {
     "data": {
      "text/plain": [
       "55"
      ]
     },
     "execution_count": 33,
     "metadata": {},
     "output_type": "execute_result"
    }
   ],
   "source": [
    "cuenta_frase(molecula)"
   ]
  },
  {
   "cell_type": "code",
   "execution_count": 32,
   "metadata": {},
   "outputs": [
    {
     "data": {
      "text/plain": [
       "0"
      ]
     },
     "execution_count": 32,
     "metadata": {},
     "output_type": "execute_result"
    }
   ],
   "source": [
    "cuenta_frase(lines_atom)"
   ]
  },
  {
   "cell_type": "markdown",
   "metadata": {},
   "source": [
    "## Listas"
   ]
  },
  {
   "cell_type": "code",
   "execution_count": 37,
   "metadata": {},
   "outputs": [
    {
     "name": "stdout",
     "output_type": "stream",
     "text": [
      "['Pepe', 'Lucía', 'Ricardo', 'Paco']\n"
     ]
    }
   ],
   "source": [
    "# Listas \n",
    "\n",
    "names = [\"Pepe\", \"Lucía\", \"Ricardo\", \"Paco\"]\n",
    "print(names)"
   ]
  },
  {
   "cell_type": "code",
   "execution_count": 38,
   "metadata": {},
   "outputs": [],
   "source": [
    "len(names) # Cuenta los elementos del objeto\n",
    "names.sort() #Ordenar en  A-Z"
   ]
  },
  {
   "cell_type": "code",
   "execution_count": 39,
   "metadata": {},
   "outputs": [
    {
     "data": {
      "text/plain": [
       "['Lucía', 'Paco', 'Pepe', 'Ricardo']"
      ]
     },
     "execution_count": 39,
     "metadata": {},
     "output_type": "execute_result"
    }
   ],
   "source": [
    "names"
   ]
  },
  {
   "cell_type": "code",
   "execution_count": 40,
   "metadata": {},
   "outputs": [
    {
     "name": "stdout",
     "output_type": "stream",
     "text": [
      "Lucía\n"
     ]
    }
   ],
   "source": [
    "print(names[0])"
   ]
  },
  {
   "cell_type": "code",
   "execution_count": 41,
   "metadata": {},
   "outputs": [
    {
     "data": {
      "text/plain": [
       "'Pepe'"
      ]
     },
     "execution_count": 41,
     "metadata": {},
     "output_type": "execute_result"
    }
   ],
   "source": [
    "names[2] # Hago consulta del elemento en posición 3"
   ]
  },
  {
   "cell_type": "code",
   "execution_count": 42,
   "metadata": {},
   "outputs": [
    {
     "data": {
      "text/plain": [
       "'Ricardo'"
      ]
     },
     "execution_count": 42,
     "metadata": {},
     "output_type": "execute_result"
    }
   ],
   "source": [
    "names[-1]"
   ]
  },
  {
   "cell_type": "code",
   "execution_count": 43,
   "metadata": {},
   "outputs": [
    {
     "data": {
      "text/plain": [
       "'Lucía'"
      ]
     },
     "execution_count": 43,
     "metadata": {},
     "output_type": "execute_result"
    }
   ],
   "source": [
    "names[-4]"
   ]
  },
  {
   "cell_type": "code",
   "execution_count": 45,
   "metadata": {},
   "outputs": [
    {
     "data": {
      "text/plain": [
       "'Paco'"
      ]
     },
     "execution_count": 45,
     "metadata": {},
     "output_type": "execute_result"
    }
   ],
   "source": [
    "names[-3] # Hago consulta del último elemento"
   ]
  },
  {
   "cell_type": "code",
   "execution_count": 47,
   "metadata": {},
   "outputs": [
    {
     "data": {
      "text/plain": [
       "['Paco', 'Pepe']"
      ]
     },
     "execution_count": 47,
     "metadata": {},
     "output_type": "execute_result"
    }
   ],
   "source": [
    "names[1:3] # Hago una consulta con el resultado de uno o más elementos -1"
   ]
  },
  {
   "cell_type": "code",
   "execution_count": 48,
   "metadata": {},
   "outputs": [
    {
     "data": {
      "text/plain": [
       "[]"
      ]
     },
     "execution_count": 48,
     "metadata": {},
     "output_type": "execute_result"
    }
   ],
   "source": [
    "names[-1:-3] # Funciona solo para elementos de inquierda a derecha"
   ]
  },
  {
   "cell_type": "code",
   "execution_count": 51,
   "metadata": {},
   "outputs": [],
   "source": [
    "# Quiero meter un nuevo miembro al equipo: Barbara\n",
    "names.append ('Barbara')\n",
    "names.sort()"
   ]
  },
  {
   "cell_type": "code",
   "execution_count": 52,
   "metadata": {},
   "outputs": [
    {
     "data": {
      "text/plain": [
       "['Barbara', 'Barbara', 'Lucía', 'Paco', 'Pepe', 'Ricardo']"
      ]
     },
     "execution_count": 52,
     "metadata": {},
     "output_type": "execute_result"
    }
   ],
   "source": [
    "names"
   ]
  },
  {
   "cell_type": "markdown",
   "metadata": {},
   "source": [
    "## Tuplas"
   ]
  },
  {
   "cell_type": "code",
   "execution_count": 59,
   "metadata": {},
   "outputs": [],
   "source": [
    "# Las tuplas se utilizan cuando necesitamos almacenar pocos valores\n",
    "# Ej. Coordenadas geográficas\n",
    "tupla = (12.5, 60.5)\n",
    "\n",
    "# Creamos un listado único o set\n",
    "s = set()"
   ]
  },
  {
   "cell_type": "code",
   "execution_count": 64,
   "metadata": {},
   "outputs": [
    {
     "data": {
      "text/plain": [
       "set"
      ]
     },
     "execution_count": 64,
     "metadata": {},
     "output_type": "execute_result"
    }
   ],
   "source": [
    "type (s)"
   ]
  },
  {
   "cell_type": "code",
   "execution_count": 60,
   "metadata": {},
   "outputs": [],
   "source": [
    "# Añadimos valores\n",
    "s.add(2)\n",
    "s.add(5)\n",
    "s.add(6)"
   ]
  },
  {
   "cell_type": "code",
   "execution_count": 61,
   "metadata": {},
   "outputs": [
    {
     "data": {
      "text/plain": [
       "{2, 5, 6}"
      ]
     },
     "execution_count": 61,
     "metadata": {},
     "output_type": "execute_result"
    }
   ],
   "source": [
    "s"
   ]
  },
  {
   "cell_type": "code",
   "execution_count": 62,
   "metadata": {},
   "outputs": [],
   "source": [
    "s.remove(5) # Quitamos elementos"
   ]
  },
  {
   "cell_type": "code",
   "execution_count": 63,
   "metadata": {},
   "outputs": [
    {
     "data": {
      "text/plain": [
       "{2, 6}"
      ]
     },
     "execution_count": 63,
     "metadata": {},
     "output_type": "execute_result"
    }
   ],
   "source": [
    "s"
   ]
  },
  {
   "cell_type": "markdown",
   "metadata": {},
   "source": [
    "## Diccionarios"
   ]
  },
  {
   "cell_type": "code",
   "execution_count": 65,
   "metadata": {},
   "outputs": [
    {
     "data": {
      "text/plain": [
       "dict"
      ]
     },
     "execution_count": 65,
     "metadata": {},
     "output_type": "execute_result"
    }
   ],
   "source": [
    "# Configuramos un dict o dictionary\n",
    "neoland = {\"Enrique\": \"Data Scientist\",\n",
    "          \"Enrique\": \"Data Arquitect\",\n",
    "           \"Maria\": \"Data Engineer\",\n",
    "           \"Juan\": \"Data Analyst\",\n",
    "           \"Jorge\": \"Data Scientist\",\n",
    "           \"Noelia\": \"Data y nada más\",\n",
    "           \"Raquel\": \"Data Specialist\",\n",
    "           \"Rodrigo\": \"Data y no sé\",\n",
    "           \"Eduardo\": \"Dataaaa\"\n",
    "          }\n",
    "type(neoland) # Imprimimos el tipo de objeto"
   ]
  },
  {
   "cell_type": "code",
   "execution_count": 66,
   "metadata": {},
   "outputs": [
    {
     "data": {
      "text/plain": [
       "8"
      ]
     },
     "execution_count": 66,
     "metadata": {},
     "output_type": "execute_result"
    }
   ],
   "source": [
    "len(neoland) # Contamos los elementos -pares/valor"
   ]
  },
  {
   "cell_type": "code",
   "execution_count": 67,
   "metadata": {},
   "outputs": [
    {
     "data": {
      "text/plain": [
       "'Data Engineer'"
      ]
     },
     "execution_count": 67,
     "metadata": {},
     "output_type": "execute_result"
    }
   ],
   "source": [
    "neoland['Maria']"
   ]
  },
  {
   "cell_type": "code",
   "execution_count": 68,
   "metadata": {},
   "outputs": [
    {
     "data": {
      "text/plain": [
       "dict_keys(['Enrique', 'Maria', 'Juan', 'Jorge', 'Noelia', 'Raquel', 'Rodrigo', 'Eduardo'])"
      ]
     },
     "execution_count": 68,
     "metadata": {},
     "output_type": "execute_result"
    }
   ],
   "source": [
    "neoland.keys() # Llamamos los elementos por key"
   ]
  },
  {
   "cell_type": "code",
   "execution_count": 69,
   "metadata": {},
   "outputs": [
    {
     "data": {
      "text/plain": [
       "dict_items([('Enrique', 'Data Arquitect'), ('Maria', 'Data Engineer'), ('Juan', 'Data Analyst'), ('Jorge', 'Data Scientist'), ('Noelia', 'Data y nada más'), ('Raquel', 'Data Specialist'), ('Rodrigo', 'Data y no sé'), ('Eduardo', 'Dataaaa')])"
      ]
     },
     "execution_count": 69,
     "metadata": {},
     "output_type": "execute_result"
    }
   ],
   "source": [
    "neoland.items() # Devolverá los pares"
   ]
  },
  {
   "cell_type": "code",
   "execution_count": 73,
   "metadata": {},
   "outputs": [],
   "source": [
    "neoland['Marco'] = 'Profesor' # Para añadir un nuevo elemento (par/valor), ej. Profesor"
   ]
  },
  {
   "cell_type": "code",
   "execution_count": 72,
   "metadata": {},
   "outputs": [
    {
     "data": {
      "text/plain": [
       "{'Enrique': 'Data Arquitect',\n",
       " 'Maria': 'Data Engineer',\n",
       " 'Juan': 'Data Analyst',\n",
       " 'Jorge': 'Data Scientist',\n",
       " 'Noelia': 'Data y nada más',\n",
       " 'Raquel': 'Data Specialist',\n",
       " 'Rodrigo': 'Data y no sé',\n",
       " 'Eduardo': 'Dataaaa',\n",
       " 'Marco': 'Profesor'}"
      ]
     },
     "execution_count": 72,
     "metadata": {},
     "output_type": "execute_result"
    }
   ],
   "source": [
    "neoland"
   ]
  },
  {
   "cell_type": "code",
   "execution_count": 74,
   "metadata": {},
   "outputs": [
    {
     "data": {
      "text/plain": [
       "dict"
      ]
     },
     "execution_count": 74,
     "metadata": {},
     "output_type": "execute_result"
    }
   ],
   "source": [
    "type(neoland)"
   ]
  },
  {
   "cell_type": "code",
   "execution_count": 80,
   "metadata": {},
   "outputs": [],
   "source": [
    "# Creamos un dict vacío\n",
    "\n",
    "dic_tipo = {}\n",
    "\n",
    "for lines in lines:\n",
    "    tipo = line [-1]\n",
    "    # Una vez tenemos el tipo guardado, queremos ver si existe ya en el diccionario\n",
    "    # Si no existe, crearemos la clave que contendrá una lista en la que añadiremos\n",
    "    if not dic_tipo.get(tipo):\n",
    "        dic_tipo[tipo] = [line]\n",
    "    else:\n",
    "        dic_tipo[tipo].append(line)\n",
    "    "
   ]
  },
  {
   "cell_type": "code",
   "execution_count": 85,
   "metadata": {},
   "outputs": [
    {
     "data": {
      "text/plain": [
       "{}"
      ]
     },
     "execution_count": 85,
     "metadata": {},
     "output_type": "execute_result"
    }
   ],
   "source": [
    "dic_tipo"
   ]
  },
  {
   "cell_type": "code",
   "execution_count": null,
   "metadata": {},
   "outputs": [],
   "source": []
  }
 ],
 "metadata": {
  "kernelspec": {
   "display_name": "Python 3",
   "language": "python",
   "name": "python3"
  },
  "language_info": {
   "codemirror_mode": {
    "name": "ipython",
    "version": 3
   },
   "file_extension": ".py",
   "mimetype": "text/x-python",
   "name": "python",
   "nbconvert_exporter": "python",
   "pygments_lexer": "ipython3",
   "version": "3.7.6"
  }
 },
 "nbformat": 4,
 "nbformat_minor": 4
}
