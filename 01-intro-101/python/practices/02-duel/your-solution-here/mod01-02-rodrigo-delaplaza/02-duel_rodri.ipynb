{
 "cells": [
  {
   "cell_type": "markdown",
   "metadata": {},
   "source": [
    "# Duelo de magos"
   ]
  },
  {
   "cell_type": "markdown",
   "metadata": {},
   "source": [
    "Estás presenciando una batalla épica entre dos poderosos magos: Gandalf y Saruman. Cada mago tiene 10 hechizos de potencia variable en su mente y los van a lanzar uno tras otro. El ganador del duelo será el que gane más de esos choques entre hechizos. Los hechizos se representan como una lista de 10 números enteros cuyo valor equivale a la potencia del hechizo."
   ]
  },
  {
   "cell_type": "code",
   "execution_count": 1,
   "metadata": {},
   "outputs": [
    {
     "name": "stdout",
     "output_type": "stream",
     "text": [
      "Gandalf gana\n"
     ]
    }
   ],
   "source": [
    "# Rodrigo de la Plaza\n",
    "# 04/10/2020\n",
    "\n",
    "gandalf = [10, 11, 13, 30, 22, 11, 10, 33, 22, 22]\n",
    "saruman = [23, 66, 12, 43, 12, 10, 44, 23, 12, 17]\n",
    "\n",
    "gandalf_hechizos_ganados = 0\n",
    "saruman_hechizos_ganados = 0\n",
    "choque = 0\n",
    "\n",
    "for i in gandalf:\n",
    "    if i > saruman[choque]:\n",
    "        choque = choque + 1\n",
    "        gandalf_hechizos_ganados = gandalf_hechizos_ganados + 1\n",
    "    else:\n",
    "        choque = choque + 1\n",
    "        saruman_hechizos_ganados = saruman_hechizos_ganados + 1\n",
    "\n",
    "if gandalf_hechizos_ganados > saruman_hechizos_ganados:\n",
    "    print (\"Gandalf gana\")\n",
    "elif gandalf_hechizos_ganados < saruman_hechizos_ganados:\n",
    "    print (\"Saruman gana\")\n",
    "else:\n",
    "    print (\"Empate\")"
   ]
  }
 ],
 "metadata": {
  "kernelspec": {
   "display_name": "Python 3",
   "language": "python",
   "name": "python3"
  },
  "language_info": {
   "codemirror_mode": {
    "name": "ipython",
    "version": 3
   },
   "file_extension": ".py",
   "mimetype": "text/x-python",
   "name": "python",
   "nbconvert_exporter": "python",
   "pygments_lexer": "ipython3",
   "version": "3.7.6"
  }
 },
 "nbformat": 4,
 "nbformat_minor": 4
}
