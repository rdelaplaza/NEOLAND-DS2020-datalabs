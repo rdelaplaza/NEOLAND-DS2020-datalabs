{
 "cells": [
  {
   "cell_type": "markdown",
   "metadata": {},
   "source": [
    "# Programación para *Data Science*"
   ]
  },
  {
   "cell_type": "markdown",
   "metadata": {},
   "source": [
    "Unidad 3: Conceptos avanzados de Python\n",
    "------------------------------------------------------\n",
    "\n",
    "### Instrucciones de uso\n",
    "\n",
    "En el módulo anterior introducimos conceptos básicos sobre variables y su uso en Python. En este módulo estudiaremos conceptos más avanzados como las instrucciones de flujo de ejecución (for, while, if), cómo definir y utilizar funciones, cómo leer y escribir ficheros y cómo organizar el código."
   ]
  },
  {
   "cell_type": "markdown",
   "metadata": {},
   "source": [
    "Iteración y operaciones lógicas\n",
    "-------------------------------\n",
    "\n",
    "En la gran mayoría de ocasiones, tendremos que manipular nuestros datos y para ello utilizaremos los conceptos de iteración y las operaciones lógicas. Las operaciones lógicas nos permiten comparar valores entre variables (mayor, menor, igualdad) y la iteración ir visitando uno a uno los elementos de una lista, tupla, diccionario o cualquier estructura de datos que sea susceptible de secuenciarse."
   ]
  },
  {
   "cell_type": "code",
   "execution_count": 4,
   "metadata": {},
   "outputs": [
    {
     "name": "stdout",
     "output_type": "stream",
     "text": [
      "True\n"
     ]
    }
   ],
   "source": [
    "# Las operaciones lógicas tendrán como resultado un valor cierto (True) o falso (False):\n",
    "\n",
    "a = 5\n",
    "b = 1\n",
    "\n",
    "# ¿Es el valor de a mayor que b?\n",
    "print a > b"
   ]
  },
  {
   "cell_type": "code",
   "execution_count": 5,
   "metadata": {},
   "outputs": [
    {
     "name": "stdout",
     "output_type": "stream",
     "text": [
      "False\n"
     ]
    }
   ],
   "source": [
    "# ¿Es el valor de a menor que b?\n",
    "print a < b"
   ]
  },
  {
   "cell_type": "code",
   "execution_count": 6,
   "metadata": {},
   "outputs": [
    {
     "name": "stdout",
     "output_type": "stream",
     "text": [
      "True\n"
     ]
    }
   ],
   "source": [
    "b = 5\n",
    "# ¿Es el valor de b igual al de a?\n",
    "print b == a"
   ]
  },
  {
   "cell_type": "code",
   "execution_count": 7,
   "metadata": {},
   "outputs": [
    {
     "name": "stdout",
     "output_type": "stream",
     "text": [
      "True\n",
      "True\n",
      "True\n"
     ]
    }
   ],
   "source": [
    "# Otros operadores lógicos disponibles son menor o igual '<=', mayor o igual '>=' o la negación 'not'.\n",
    "print a <= b\n",
    "print a >= b\n",
    "\n",
    "a = False\n",
    "print not a"
   ]
  },
  {
   "cell_type": "markdown",
   "metadata": {},
   "source": [
    "También podemos alterar el flujo de ejecución de nuestro programa utilizando las estructuras *if...else* o *if...elif...else*. Veamos unos cuantos ejemplos:"
   ]
  },
  {
   "cell_type": "code",
   "execution_count": 8,
   "metadata": {},
   "outputs": [
    {
     "name": "stdout",
     "output_type": "stream",
     "text": [
      "a es menor o igual que b\n"
     ]
    }
   ],
   "source": [
    "a = 5\n",
    "b = 6\n",
    "if a > b:\n",
    "    print 'a es mayor que b'\n",
    "else:\n",
    "    print 'a es menor o igual que b'"
   ]
  },
  {
   "cell_type": "code",
   "execution_count": 9,
   "metadata": {},
   "outputs": [
    {
     "name": "stdout",
     "output_type": "stream",
     "text": [
      "a es igual a b\n"
     ]
    }
   ],
   "source": [
    "a = 5\n",
    "b = 5\n",
    "if a > b:\n",
    "    print 'a es mayor que b'\n",
    "elif a < b:\n",
    "    print 'a es menor que b'\n",
    "else:\n",
    "    print 'a es igual a b'"
   ]
  },
  {
   "cell_type": "markdown",
   "metadata": {},
   "source": [
    "En Python existen solo dos formas de iterar una secuencia: mediante **for** o mediante **while**. La primera de las opciones, *for*, iterará uno por uno los elementos contenidos en una lista. En el caso de *while*, iteraremos mientras la condición de permanencia en el bucle se cumpla. Veamos unos ejemplos:"
   ]
  },
  {
   "cell_type": "code",
   "execution_count": 10,
   "metadata": {},
   "outputs": [
    {
     "name": "stdout",
     "output_type": "stream",
     "text": [
      "Kraken\n",
      "Leviathan\n",
      "Uroborus\n",
      "Hydra\n",
      "\n",
      "0 Kraken\n",
      "1 Leviathan\n",
      "2 Uroborus\n",
      "3 Hydra\n"
     ]
    }
   ],
   "source": [
    "monsters = ['Kraken', 'Leviathan', 'Uroborus', 'Hydra']\n",
    "\n",
    "# Primer método iterando mediante for:\n",
    "for monster in monsters:\n",
    "    print monster\n",
    "\n",
    "print\n",
    "\n",
    "# Segundo método. La función especial 'enumerate' nos devuelve una tupla en la que el primer elemento es un \n",
    "# índice que empieza en 0 y aumenta de 1 en 1 y el segundo elemento es el valor de la posición en la lista:\n",
    "for i, monster in enumerate(monsters):\n",
    "    print i, monster"
   ]
  },
  {
   "cell_type": "code",
   "execution_count": 11,
   "metadata": {},
   "outputs": [
    {
     "name": "stdout",
     "output_type": "stream",
     "text": [
      "0 Kraken\n",
      "1 Leviathan\n",
      "2 Uroborus\n",
      "3 Hydra\n"
     ]
    }
   ],
   "source": [
    "# También podríamos iterar la lista mediante while, pero es una forma mucho menos idiomática en Python \n",
    "# y preferiremos siempre la opción de for:\n",
    "i = 0\n",
    "# Mientras que el índice 'i' sea menor que la longitud de la lista 'monsters':\n",
    "while i < len(monsters):\n",
    "    # Imprime el valor de la lista en la posición 'i'.\n",
    "    print i, monsters[i]\n",
    "    # No nos olvidemos de actualizar el valor de 'i' sumándole 1 o tendremos un bucle infinito.\n",
    "    i += 1\n",
    "\n"
   ]
  },
  {
   "cell_type": "markdown",
   "metadata": {},
   "source": [
    "En este momento seríamos capaces de calcular la serie de Fibonacci hasta un determinado valor:"
   ]
  },
  {
   "cell_type": "code",
   "execution_count": 12,
   "metadata": {},
   "outputs": [
    {
     "name": "stdout",
     "output_type": "stream",
     "text": [
      "0 1 1 2 3 5 8 13 21 34 55 89\n"
     ]
    }
   ],
   "source": [
    "# Calculamos el valor de la serie hasta un valor n=100.\n",
    "n = 100\n",
    "\n",
    "a, b = 0, 1\n",
    "while a < n:\n",
    "    print a,\n",
    "    a, b = b, a+b"
   ]
  },
  {
   "cell_type": "markdown",
   "metadata": {},
   "source": [
    "En Python disponemos de una función muy útil para generar una secuencia de números, que podemos utilizar de diferentes formas:"
   ]
  },
  {
   "cell_type": "code",
   "execution_count": 13,
   "metadata": {},
   "outputs": [
    {
     "data": {
      "text/plain": [
       "[0, 1, 2, 3, 4, 5, 6, 7, 8, 9]"
      ]
     },
     "execution_count": 13,
     "metadata": {},
     "output_type": "execute_result"
    }
   ],
   "source": [
    "# La función range nos devuelve una lista de números:\n",
    "range(10)"
   ]
  },
  {
   "cell_type": "code",
   "execution_count": 14,
   "metadata": {},
   "outputs": [
    {
     "name": "stdout",
     "output_type": "stream",
     "text": [
      "0 1 2 3 4 5 6 7 8 9\n"
     ]
    }
   ],
   "source": [
    "# Podemos utilizarla para iterar:\n",
    "for i in range(10):\n",
    "    print i,\n",
    "print"
   ]
  },
  {
   "cell_type": "code",
   "execution_count": 15,
   "metadata": {},
   "outputs": [
    {
     "data": {
      "text/plain": [
       "[5, 8, 11, 14, 17]"
      ]
     },
     "execution_count": 15,
     "metadata": {},
     "output_type": "execute_result"
    }
   ],
   "source": [
    "# Podemos definir el rango de acción. Por ejemplo, calcula los números entre 5 y 20 de 3 en 3:\n",
    "range(5,20,3)"
   ]
  },
  {
   "cell_type": "code",
   "execution_count": 16,
   "metadata": {},
   "outputs": [
    {
     "name": "stdout",
     "output_type": "stream",
     "text": [
      "376\n",
      "41\n",
      "34\n",
      "424\n",
      "\n",
      "Andorra\n",
      "Switzerland\n",
      "Spain\n",
      "None\n",
      "\n",
      "376 Andorra\n",
      "41 Switzerland\n",
      "34 Spain\n",
      "424 None\n"
     ]
    }
   ],
   "source": [
    "# También es posible iterar en un diccionario:\n",
    "country_codes = {34: 'Spain', 376: 'Andorra', 41: 'Switzerland', 424: None}\n",
    "\n",
    "# Por clave:\n",
    "for country_code in country_codes.keys():\n",
    "    print country_code\n",
    "print\n",
    "\n",
    "# Por valor:\n",
    "for country in country_codes.values():\n",
    "    print country\n",
    "print\n",
    "\n",
    "# Por los dos a la vez:\n",
    "for country_code, country in country_codes.iteritems():\n",
    "    print country_code, country"
   ]
  },
  {
   "cell_type": "markdown",
   "metadata": {},
   "source": [
    "Funciones\n",
    "---------\n",
    "\n",
    "Otra forma muy importante de organizar el flujo de ejecución es encapsulando cierta porción de código en una función reutilizable. Una función en Python utiliza el mismo concepto que una función matemática. Por ejemplo, imaginemos la función matemática:\n",
    "\n",
    "*suma(x, y) = x + y*\n",
    "\n",
    "En Python podemos definir la misma función de la siguiente forma:"
   ]
  },
  {
   "cell_type": "code",
   "execution_count": 17,
   "metadata": {},
   "outputs": [
    {
     "name": "stdout",
     "output_type": "stream",
     "text": [
      "6\n",
      "0\n",
      "6.0\n"
     ]
    }
   ],
   "source": [
    "# La función suma se define mediante la palabra especial 'def' y tiene dos argumentos: 'x' e 'y':\n",
    "def suma(x, y):\n",
    "    # Devolvemos el valor de la suma.\n",
    "    return x + y\n",
    "\n",
    "# En este momento, podemos llamarla con cualquier valor:\n",
    "print suma(2, 4)\n",
    "print suma(5, -5)\n",
    "print suma(3.5, 2.5)"
   ]
  },
  {
   "cell_type": "code",
   "execution_count": 18,
   "metadata": {},
   "outputs": [],
   "source": [
    "# Podemos definir una función que no haga nada utilizando la palabra especial 'pass':\n",
    "\n",
    "def dummy():\n",
    "    pass\n",
    "\n",
    "dummy()"
   ]
  },
  {
   "cell_type": "code",
   "execution_count": 19,
   "metadata": {},
   "outputs": [
    {
     "name": "stdout",
     "output_type": "stream",
     "text": [
      "0 1 1 2 3 5 8\n"
     ]
    }
   ],
   "source": [
    "# Podríamos volver a definir el trozo de código de la secuencia de Fibonacci como una función:\n",
    "\n",
    "def fibonacci(n=100):\n",
    "    a, b = 0, 1\n",
    "    while a < n:\n",
    "        print a,\n",
    "        a, b = b, a+b\n",
    "\n",
    "fibonacci(10)"
   ]
  },
  {
   "cell_type": "code",
   "execution_count": 20,
   "metadata": {},
   "outputs": [
    {
     "name": "stdout",
     "output_type": "stream",
     "text": [
      "0 1 1 2 3 5 8 13 21 34 55 89\n"
     ]
    }
   ],
   "source": [
    "# En el anterior ejemplo, hemos definido que el argumento n tenga un valor por defecto. Esto es muy útil\n",
    "# en los casos en los que utilicemos la función siempre con un mismo valor, queramos dejar constancia de un\n",
    "# caso de ejemplo o por defecto. En este caso, podemos ejecutar la función sin pasarle ningún valor:\n",
    "fibonacci()"
   ]
  },
  {
   "cell_type": "code",
   "execution_count": 21,
   "metadata": {},
   "outputs": [
    {
     "name": "stdout",
     "output_type": "stream",
     "text": [
      "9\n",
      "8\n"
     ]
    }
   ],
   "source": [
    "# Podemos definir parte de los argumentos con valores por defecto y otro sin. \n",
    "# Los argumentos sin valor por defecto siempre tienen que estar más a la izquierda en la definición de la función:\n",
    "\n",
    "def potencia(a, b=2):\n",
    "    # Por defecto, elevaremos al cuadrado.\n",
    "    return a**b\n",
    "\n",
    "print potencia(3)\n",
    "print potencia(2, 3)"
   ]
  },
  {
   "cell_type": "markdown",
   "metadata": {},
   "source": [
    "**Recomendamos la lectura de la [documentación oficial](https://docs.python.org/2/tutorial/controlflow.html)** para acabar de fijar conocimientos."
   ]
  },
  {
   "cell_type": "markdown",
   "metadata": {},
   "source": [
    "Leer y escribir desde ficheros\n",
    "------------------------------\n",
    "\n",
    "Una tarea habitual es leer líneas de un fichero o escribir líneas en un fichero. En Python, leer y escribir ficheros se hace a través de la librería *os*. Una librería es un conjunto de código que tiene cierto sentido agrupar para ser usado por otra gente. En nuestro caso, *os* es una librería que agrupa funciones relacionadas con el sistema operativo (**o**perating **s**ystem). Para cargar una librería, utilizaremos la palabra reservada **import**. Más adelante explicaremos algunas particularidades de utilizar e importar librerías. A continuación os explicamos cómo escribir y leer un fichero:"
   ]
  },
  {
   "cell_type": "code",
   "execution_count": 6,
   "metadata": {},
   "outputs": [],
   "source": [
    "# Primero de todo, vamos a escribir en un fichero.\n",
    "import os\n",
    "\n",
    "# Abrimos un fichero de nombre 'a_file.txt' para escritura (de ahí la 'w', 'writing').\n",
    "# Lo asignamos a un objeto para manejar el fichero de nombre 'out':\n",
    "out = open('a_file.txt', 'w')\n",
    "# Vamos a escribir 10 líneas, cada una con un número de 0 a 9.\n",
    "for i in range(10):\n",
    "    # La siguiente línea escribe en el fichero todo lo que pongamos dentro de out.write()\n",
    "    # En nuestro caso, es un string del tipo '0\\n', '1\\n', etc. Esto lo conseguimos utilizando las wildcards %d y %s.\n",
    "    # %s representa un string o cadena de caracteres y %d un número entero.\n",
    "    # Concatenamos en este caso un número con un string que se trata del salto de línea, os.linesep, que equivale en Linux\n",
    "    # a '\\n':\n",
    "    out.write(\"Línea %d%s\" % (i, os.linesep))\n",
    "\n",
    "out.close()"
   ]
  },
  {
   "cell_type": "code",
   "execution_count": 4,
   "metadata": {},
   "outputs": [
    {
     "name": "stdout",
     "output_type": "stream",
     "text": [
      "Línea 0\n",
      "Línea 1\n",
      "Línea 2\n",
      "Línea 3\n",
      "Línea 4\n",
      "Línea 5\n",
      "Línea 6\n",
      "Línea 7\n",
      "Línea 8\n",
      "Línea 9\n",
      "\n",
      "Línea 0\n",
      "Línea 1\n",
      "Línea 2\n",
      "Línea 3\n",
      "Línea 4\n",
      "Línea 5\n",
      "Línea 6\n",
      "Línea 7\n",
      "Línea 8\n",
      "Línea 9\n",
      "\n",
      "Línea 0\n",
      "Línea 1\n",
      "Línea 2\n",
      "Línea 3\n",
      "Línea 4\n",
      "Línea 5\n",
      "Línea 6\n",
      "Línea 7\n",
      "Línea 8\n",
      "Línea 9\n"
     ]
    }
   ],
   "source": [
    "# Ahora vamos a leer el fichero que acabamos de escribir de tres formas distintas:\n",
    "\n",
    "# Primer método\n",
    "f = open('a_file.txt')\n",
    "for line in f:\n",
    "    print line,\n",
    "f.close()\n",
    "\n",
    "print\n",
    "\n",
    "# Segundo método\n",
    "f = open('a_file.txt')\n",
    "lines = f.readlines()\n",
    "for line in lines:\n",
    "    print line,\n",
    "f.close()\n",
    "\n",
    "print\n",
    "\n",
    "# Tercer método\n",
    "with open('a_file.txt') as f:\n",
    "    for line in f:\n",
    "        print line,"
   ]
  },
  {
   "cell_type": "markdown",
   "metadata": {},
   "source": [
    "Organización del código\n",
    "------------------------\n",
    "\n",
    "Un módulo de Python es cualquier fichero con extensión *.py* que esté bajo la ruta del path de Python. El path de Python puede consultarse importando la librería sys:"
   ]
  },
  {
   "cell_type": "code",
   "execution_count": 24,
   "metadata": {},
   "outputs": [
    {
     "name": "stdout",
     "output_type": "stream",
     "text": [
      "['', '/usr/local/lib/python2.7/dist-packages/python_louvain-0.4-py2.7.egg', '/usr/local/lib/python2.7/dist-packages/Hashmal-0.1.0a0-py2.7.egg', '/usr/lib/python2.7', '/usr/lib/python2.7/plat-x86_64-linux-gnu', '/usr/lib/python2.7/lib-tk', '/usr/lib/python2.7/lib-old', '/usr/lib/python2.7/lib-dynload', '/home/cris/.local/lib/python2.7/site-packages', '/usr/local/lib/python2.7/dist-packages', '/usr/lib/python2.7/dist-packages', '/usr/lib/python2.7/dist-packages/PILcompat', '/usr/lib/python2.7/dist-packages/gtk-2.0', '/usr/lib/python2.7/dist-packages/IPython/extensions']\n"
     ]
    }
   ],
   "source": [
    "import sys\n",
    "print sys.path"
   ]
  },
  {
   "cell_type": "markdown",
   "metadata": {},
   "source": [
    "Por defecto, Python también mira las librerías que se hayan definido en la variable de entorno $PYTHONPATH (esto puede cambiar ligeramente en un [entorno Windows](https://docs.python.org/2/using/cmdline.html)).\n",
    "\n",
    "Un paquete en Python es cualquier directorio que contenga un fichero especial de nombre *\\_\\_init\\_\\_.py* (este fichero estará vacío la mayoría de veces).\n",
    "\n",
    "Un módulo puede contener diferentes funciones, variables u objetos. Por ejemplo, definamos un módulo de nombre *prog_datasci.py* que contenga:"
   ]
  },
  {
   "cell_type": "code",
   "execution_count": 25,
   "metadata": {},
   "outputs": [],
   "source": [
    "# prog_datasci.py\n",
    "\n",
    "PI = 3.14159265\n",
    "\n",
    "def suma(x, y):\n",
    "    return x + y\n",
    "\n",
    "\n",
    "def resta(x, y):\n",
    "    return x - y\n"
   ]
  },
  {
   "cell_type": "markdown",
   "metadata": {},
   "source": [
    "Para utilizar desde otro módulo o script estas funciones, deberíamos escribir lo siguiente:"
   ]
  },
  {
   "cell_type": "code",
   "execution_count": 26,
   "metadata": {},
   "outputs": [],
   "source": [
    "from prog_datasci import PI, suma, resta\n",
    "\n",
    "# Y entonces podríamos utilizarlas normalmente.\n",
    "siete = suma(2,5)"
   ]
  },
  {
   "cell_type": "markdown",
   "metadata": {},
   "source": [
    "En Python también podemos utilizar la directiva _from prog\\_datasci import \\*_, pero su uso está **totalmente desaconsejado**. La razón es que estaríamos importando gran cantidad de código que no utilizaremos (con el consiguiente aumento del uso de la memoria), pero además, podríamos tener colisiones de nombres (funciones que se llamen de la misma forma en diferentes módulos) sin nuestro conocimiento. A no ser que sea imprescindible, no utilizaremos esa directiva e importaremos una a una las librerías y las funciones que vayamos a necesitar.\n",
    "\n",
    "Podéis aprender más sobre importar librerías y definir vuestros propios módulos aquí: http://life.bsc.es/pid/brian/python/#/5"
   ]
  }
 ],
 "metadata": {
  "kernelspec": {
   "display_name": "Python 3",
   "language": "python",
   "name": "python3"
  },
  "language_info": {
   "codemirror_mode": {
    "name": "ipython",
    "version": 3
   },
   "file_extension": ".py",
   "mimetype": "text/x-python",
   "name": "python",
   "nbconvert_exporter": "python",
   "pygments_lexer": "ipython3",
   "version": "3.6.8"
  }
 },
 "nbformat": 4,
 "nbformat_minor": 1
}
