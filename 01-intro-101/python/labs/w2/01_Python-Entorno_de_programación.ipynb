{
 "cells": [
  {
   "cell_type": "markdown",
   "metadata": {},
   "source": [
    "# 1. Python para Data Science\n",
    "\n",
    "## Elección del entorno de programación\n",
    "\n",
    "La Ciencia de los Datos es una disciplina en continua evolución. Se trata de un campo joven, en el que a medida\n",
    "que van surgiendo nuevas necesidades y problemas que resolver aparecen nuevas herramientas informáticas para\n",
    "tratarlos de la forma más eficiente o rápida posible.\n",
    "\n",
    "Actualmente, [Python parece ser el lenguaje de programación más popular](https://www.kdnuggets.com/2017/01/most-popular-language-machine-learning-data-science.html) para trabajar en Ciencia de\n",
    "los Datos. Python es un lenguaje de programación interpretado multiplataforma, es decir, que no ha de ser\n",
    "compilado a ningún código máquina específico para cada máquina o arquitectura en el que queramos ejecutarlo,\n",
    "sino que es un intérprete, el intérprete de Python, el que se encarga de compilar y ejecutar en tiempo real el\n",
    "código de nuestro programa. Esto tiene una gran ventaja: se escribe un único código y puede ejecutarse en\n",
    "muchas máquinas sin necesidad de reescribirse. Sin embargo, esto a su vez lo suele hacer más lento frente a\n",
    "otras alternativas de código compilado como son C, C++ o Fortran, en los que el programador suele ser más\n",
    "consciente de la arquitectura de ejecución. Pero esta no es la única razón que hace que Python sea atractivo,\n",
    "sino que este lenguaje también cuenta con otras importantes características como son su alta legibilidad, el\n",
    "grado de optimización al que se puede llegar (pueden desarrollarse extensiones nativas para el lenguaje vía los\n",
    "lenguajes de programación [C o C++](https://docs.python.org/2/extending/extending.html) o incluso Fortran o el hecho de que opere con diferentes paradigmas de programación: [orientación a objetos, programación funcional](https://es.wikipedia.org/wiki/Programaci%C3%B3n_orientada_a_objetos), etc.\n",
    "\n",
    "En este curso utilizaremos Python. La elección no es aleatoria, sino que responde a las siguientes características:\n",
    "\n",
    "* Python y Perl disponen de funciones para el manejo de cadenas de caracteres similares, pero la legibilidad\n",
    "del código en Python suele ser muy superior y suele ser un lenguaje más asequible para especialistas que\n",
    "no vienen del campo de la informática.\n",
    "\n",
    "* Python, a diferencia de R, es un lenguaje más generalista, con diversas librerías de análisis estadístico\n",
    "bastante potentes que pueden suplir el campo de aplicación R, cosa que no sucede a la inversa.\n",
    "* Python, frente a Java, es un lenguaje más conciso, en el que la longitud del código que realice el mismo\n",
    "trabajo ocupará habitualmente mucho menos que su contrapartida en Java (lo que se conoce en el argot\n",
    "como verbosidad).\n",
    "\n",
    "* Python goza de una gran popularidad y su uso en multitud de disciplinas se ha ido incrementando año a\n",
    "año.\n",
    "\n",
    "Una vez argumentada la elección del lenguaje de programación Python, veremos a continuación cómo instalar\n",
    "las diferentes herramientas."
   ]
  },
  {
   "cell_type": "markdown",
   "metadata": {},
   "source": [
    "## Instalación de las herramientas\n",
    "\n",
    "Python puede ser instalado en multitud de plataformas y sistemas operativos. En muchas ocasiones, forma parte\n",
    "de la instalación base del sistema operativo (en [Ubuntu Linux](https://es.wikipedia.org/wiki/Ubuntu), en [OS X](https://es.wikipedia.org/wiki/MacOS), etc.) aunque la versión del intérprete puede\n",
    "variar bastante (en la unidad 2 hablaremos de ello con más profundidad). La lista siguiente contiene el software y las librerías principales que utilizaremos durante el curso:\n",
    "\n",
    "* [Python](https://www.python.org/) versión 3.7.4 july 2019\n",
    "* [SciPy](https://scipy.org/install.html) versión 1.3.1 aug 2019\n",
    "    * [Numpy]\n",
    "    * [Matplotlib]\n",
    "    * [IPython]\n",
    "    * [Pandas]\n",
    "* [Scikit-learn](https://scikit-learn.org/stable/) versión 0.21.3 july 2019\n",
    "\n",
    "Existen proyectos interesantes como Anaconda, que se encargan de empaquetar las librerías científicas y de\n",
    "análisis de datos más utilizadas en Python y de distribuirlas en un único instalador.\n",
    "\n",
    "*Alterativas*\n",
    "\n",
    "- **Virtualbox**, maquina virtual para instalar contenedores o sistemas operativos\n",
    "- **Docker**, contenedor con imágen de entorno de desarrollo Python, Jupyter-Notebook, Jupyter-Lab\n",
    "- **Linea de comandos**, nativo en OSx y Linux. Windows10 utilizará PowerShell\n"
   ]
  }
 ],
 "metadata": {
  "kernelspec": {
   "display_name": "Python 3",
   "language": "python",
   "name": "python3"
  },
  "language_info": {
   "codemirror_mode": {
    "name": "ipython",
    "version": 3
   },
   "file_extension": ".py",
   "mimetype": "text/x-python",
   "name": "python",
   "nbconvert_exporter": "python",
   "pygments_lexer": "ipython3",
   "version": "3.7.3"
  }
 },
 "nbformat": 4,
 "nbformat_minor": 4
}
