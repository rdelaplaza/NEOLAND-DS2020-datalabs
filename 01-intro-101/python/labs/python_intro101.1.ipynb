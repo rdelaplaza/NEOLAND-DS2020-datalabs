{
 "cells": [
  {
   "cell_type": "markdown",
   "metadata": {},
   "source": [
    "# Python - intro 101\n",
    "\n",
    "## Lab 1 - Qué va a crear\n",
    "\n",
    "En este desafío, creará un contador de calorías que solicita al usuario lo siguiente:\n",
    "\n",
    "- La fecha actual (en cualquier formato)\n",
    "- Calorías ingeridas en el desayuno\n",
    "- Calorías ingeridas en la comida\n",
    "- Calorías ingeridas en la cena\n",
    "- Calorías ingeridas en tentempiés\n",
    "\n",
    "Después, el programa sumará todas las calorías y les dará formato de mensaje."
   ]
  },
  {
   "cell_type": "code",
   "execution_count": null,
   "metadata": {},
   "outputs": [],
   "source": [
    "# Creamos las variables del contador\n",
    "print(\"¿Qué día es hoy?\")\n",
    "date = input()\n",
    "print(\"Calorias desayuno\")\n",
    "breakfast = int(input())\n",
    "print(\"Calorias comida\")\n",
    "lunch = int(input())\n",
    "print(\"Calorias cena\")\n",
    "dinner = int(input())\n",
    "print(\"Calorias merienda\")\n",
    "snack = int(input())"
   ]
  },
  {
   "cell_type": "code",
   "execution_count": null,
   "metadata": {},
   "outputs": [],
   "source": [
    "totalCal = breakfast + lunch + dinner + snack"
   ]
  },
  {
   "cell_type": "code",
   "execution_count": null,
   "metadata": {},
   "outputs": [],
   "source": [
    "print(\"Calorias totales del día: \" + date + \" son: \" + str(totalCal))"
   ]
  },
  {
   "cell_type": "markdown",
   "metadata": {},
   "source": [
    "\n",
    "***\n"
   ]
  },
  {
   "cell_type": "markdown",
   "metadata": {},
   "source": [
    "### Lab 2: Escribir código en el archivo nuevo para resolver el desafío\n",
    "\n",
    "Escriba un programa corto que imprima un mensaje entre varios al usuario en función de su entrada.\n",
    "\n",
    "En primer lugar, pregunte al usuario si quiere continuar o no.\n",
    "\n",
    "Si el usuario responde con `no` o `n`, imprima la frase `Exiting`.\n",
    "\n",
    "Obtenga la salida siguiente en este escenario de `no`. El usuario ha especificado `no` cuando se le solicitó.\n",
    "\n",
    "\n",
    "```{pseudo-code}\n",
    "output\n",
    "Would you like to continue? no\n",
    "Exiting\n",
    "```\n",
    "\n",
    "\n",
    "Si el usuario responde con `yes` o `y`, imprima la frase `Continuing ...` y `Complete!`.\n",
    "\n",
    "Obtenga la salida siguiente en este escenario de `yes`. El usuario ha especificado `yes` cuando se le solicitó.\n",
    "\n",
    "ResultadosCopiar\n",
    "\n",
    "```output\n",
    "Would you like to continue? yes\n",
    "Continuing ...\n",
    "Complete!\n",
    "```"
   ]
  },
  {
   "cell_type": "code",
   "execution_count": null,
   "metadata": {},
   "outputs": [],
   "source": [
    "respuesta = input(\"Quieres seguir?\")"
   ]
  },
  {
   "cell_type": "code",
   "execution_count": null,
   "metadata": {},
   "outputs": [],
   "source": [
    "if respuesta == 'yes' or respuesta == 'y':\n",
    "    print(\"Continuing ...\")\n",
    "    print(\"Complete!\")\n",
    "elif respuesta == 'not' or respuesta == 'n':\n",
    "    print(\"Exiting\")\n",
    "else:\n",
    "    print(\"Intenta contestar nuevamente yes o not\")"
   ]
  },
  {
   "cell_type": "markdown",
   "metadata": {},
   "source": [
    "***\n",
    "## Lab 3 - Convertidor Fahrenheit a Celsius\n",
    "\n",
    "Escribir un programa que convierta la temperatura de Fahrenheit a Celsius\n",
    "\n",
    "En este código se muestra la fórmula matemática para convertir una temperatura medida en grados Fahrenheit a una temperatura medida en grados Celsius:\n",
    "\n",
    "Copiar\n",
    "\n",
    "```\n",
    "celsius = (fahrenheit - 32) * 5/9\n",
    "```\n",
    "\n",
    "Use esta fórmula para compilar un programa que solicite a los usuarios una temperatura en grados Fahrenheit, realice la conversión a Celsius y, después, muestre la temperatura en grados Celsius.\n",
    "\n",
    "Si el usuario escribe el valor *55*, el programa debe generar este resultado:\n",
    "\n",
    "ResultadosCopiar\n",
    "\n",
    "```output\n",
    "What is the temperature in fahrenheit?  55\n",
    "Temperature in celsius is 12\n",
    "```\n",
    "\n",
    "Pero si el usuario escribe un valor no válido, el programa debe indicarle que hay un problema y, después, cerrar el programa. En este caso, si el usuario escribe el valor *Bob*, el programa debe generar este resultado:\n",
    "\n",
    "ResultadosCopiar\n",
    "\n",
    "```output\n",
    "What is the temperature in fahrenheit?  bob\n",
    "Input is not a number.\n",
    "```\n",
    "\n",
    " Nota\n",
    "\n",
    "Para comprobar el trabajo, use un conversor de temperatura en línea y confirme que el resultado del programa coincide con el del conversor.\n",
    "\n",
    "Tanto si tiene dificultades y necesita echar un vistazo a la solución como si finaliza el ejercicio correctamente, continúe para ver una solución a este desafío."
   ]
  },
  {
   "cell_type": "markdown",
   "metadata": {},
   "source": [
    "## posible solución"
   ]
  },
  {
   "cell_type": "code",
   "execution_count": null,
   "metadata": {},
   "outputs": [],
   "source": [
    "# Juan\n",
    "\n",
    "### Función que realiza la conversión.\n",
    "\n",
    "def Fahrenheit_to_celsius(Fah):\n",
    "    \n",
    "    Celsius = (Fah - 32) * 5/9 \n",
    "    print(Celsius)\n",
    "    \n",
    "    \n",
    "### Función que realiza la validación de los datos.\n",
    "\n",
    "def validation(Temp_validation):    \n",
    " \n",
    "    if Temp_validation == 'Bob'or Temp_validation == 'bob':\n",
    "        print('{} input is not a number'.format(Temp_validation))\n",
    "    else:\n",
    "        try:\n",
    "            int(Temp_validation)\n",
    "        except ValueError:\n",
    "            print('{} es un valor Incorrecto. Saliendo del programa'.format(Temp_validation))      \n",
    "        Temp = int(Temp_validation)    \n",
    "        Fahrenheit_to_celsius(Temp)"
   ]
  },
  {
   "cell_type": "code",
   "execution_count": null,
   "metadata": {},
   "outputs": [],
   "source": [
    "Temp = input('Ibobntroduce una temperatura Fah')\n",
    "\n",
    "validation(Temp)"
   ]
  },
  {
   "cell_type": "code",
   "execution_count": null,
   "metadata": {},
   "outputs": [],
   "source": [
    "# Enrique\n",
    "\n",
    "\n",
    "\n",
    "respuesta = input(\"What is the temperature in fahrenheit? \")\n",
    "try:\n",
    "    entero = int(respuesta)\n",
    "    celsius = (int(respuesta) - 32)*5/9\n",
    "    print(\"Temperatura in celsius is \" + str(celsius))\n",
    "except ValueError:                              \n",
    "    print(\"No es un formato correcto\")\n",
    "\n"
   ]
  },
  {
   "cell_type": "code",
   "execution_count": null,
   "metadata": {},
   "outputs": [],
   "source": [
    "# Noelia\n",
    "def caltem():\n",
    "    #fahrenheit = int\n",
    "    respuesta = (input(\"What is the temperature in fahrenheit?\"))\n",
    "    \n",
    "    if type(int(respuesta)) is str:\n",
    "        celsius = int((respuesta - 32) * 5/9)\n",
    "        print(\"Temperature in celsius is \"+ str(celsius))  \n",
    "    else:\n",
    "        print(\"Input is not a number\") # este tiene que devolver el resultado"
   ]
  },
  {
   "cell_type": "code",
   "execution_count": null,
   "metadata": {},
   "outputs": [],
   "source": [
    "caltem()"
   ]
  },
  {
   "cell_type": "code",
   "execution_count": null,
   "metadata": {},
   "outputs": [],
   "source": [
    "print(type(respuesta))"
   ]
  },
  {
   "cell_type": "code",
   "execution_count": null,
   "metadata": {},
   "outputs": [],
   "source": [
    "type(fahrenheit)"
   ]
  },
  {
   "cell_type": "code",
   "execution_count": null,
   "metadata": {},
   "outputs": [],
   "source": [
    "# Alternativa Solución Marco\n",
    "\n",
    "fahrenheit = input(\"Cual es la temperatura FAH de: \")\n",
    "\n",
    "if fahrenheit.isnumeric() == False:\n",
    "    print(\"Input is not a numeric\")\n",
    "    exit()\n",
    "\n",
    "fahrenheit = int(fahrenheit)\n",
    "\n",
    "celsius = int((fahrenheit -32) * 5/9 )\n",
    "print(\"La temperatura en celsius es: \" + str(celsius))\n"
   ]
  },
  {
   "cell_type": "markdown",
   "metadata": {},
   "source": [
    "***\n",
    "## lab 4 - Crear una calculadora **sencilla** sin definir funciones - parte 1\n",
    "\n",
    "Cree una calculadora sencilla que acepte un primer número, una operación y un segundo número.\n",
    "\n",
    "Este es un resultado de ejemplo, en el que un usuario ha escrito *4*, *** y *5* en los cuadros de entrada:\n",
    "\n",
    "\n",
    "```output\n",
    "Simple calculator!\n",
    "First number? 4\n",
    "Operation? *\n",
    "Second number? 5\n",
    "product of 4 * 5 equals 20\n",
    "```\n",
    "\n",
    "El programa debe aceptar un símbolo, como el símbolo de asterisco (*****), para realizar una multiplicación y generar un producto. Asegúrese de implementar lógica para estos resultados:\n",
    "\n",
    "- Suma\n",
    "- Resta\n",
    "- Multiplicación\n",
    "- Cociente\n",
    "- Exponente\n",
    "- Módulo\n",
    "\n",
    "Si el usuario no escribe un valor numérico, muestre este mensaje:\n",
    "\n",
    "\n",
    "```output\n",
    "Please input a number.\n",
    "```\n",
    "\n",
    "Si el usuario escribe una operación que no se reconoce, muestre este mensaje:\n",
    "\n",
    "\n",
    "```output\n",
    "Operation not recognized.\n",
    "```\n",
    "\n",
    "Tanto si tiene dificultades y necesita echar un vistazo a la solución como si finaliza el ejercicio correctamente, continúe para ver una solución a este desafío."
   ]
  },
  {
   "cell_type": "code",
   "execution_count": null,
   "metadata": {},
   "outputs": [],
   "source": [
    "## Sol. NOELIA\n",
    "\n",
    "a=input(\"Introduzca un número \")\n",
    "b=input(\"Introduzca otro número \")\n",
    "operacion=input(\"Introduzca +, -, *, /, //, % \")\n",
    "operadores = [\"+\" , \"-\" , \"*\" , \"/\" , \"//\" , \"%\"]\n",
    "try:\n",
    "    a=float(a)\n",
    "    b=float(b)\n",
    "    if operacion not in operadores:\n",
    "        print(\"Error: Operation not recognized\")\n",
    "    else:\n",
    "        if operacion== \"+\":\n",
    "            resultado= a+b\n",
    "        if operacion== \"-\":\n",
    "            resultado= a-b\n",
    "        if operacion== \"*\":\n",
    "            resultado= a*b\n",
    "        if operacion== \"/\":\n",
    "            resulatdo= a/b\n",
    "        if operacion== \"//\":\n",
    "            resultado= a//b\n",
    "        if operacion== \"%\":\n",
    "            resultado= a%b\n",
    "        print(resultado)\n",
    "except: \n",
    "    print(\"Error: Please input a number\")\n",
    "    "
   ]
  },
  {
   "cell_type": "markdown",
   "metadata": {},
   "source": [
    "*** \n",
    "\n",
    "# Iterators"
   ]
  },
  {
   "cell_type": "code",
   "execution_count": null,
   "metadata": {},
   "outputs": [],
   "source": [
    "# While...\n",
    "# For..."
   ]
  },
  {
   "cell_type": "code",
   "execution_count": 5,
   "metadata": {},
   "outputs": [],
   "source": [
    "# While ---- break, continue, else"
   ]
  },
  {
   "cell_type": "code",
   "execution_count": 14,
   "metadata": {},
   "outputs": [
    {
     "name": "stdout",
     "output_type": "stream",
     "text": [
      "[0]\n",
      "[0, 1]\n",
      "[0, 1, 2]\n",
      "[0, 1, 2, 3]\n",
      "[0, 1, 2, 3, 4]\n",
      "[0, 1, 2, 3, 4, 5]\n",
      "[0, 1, 2, 3, 4, 5, 6]\n",
      "[0, 1, 2, 3, 4, 5, 6, 7]\n",
      "[0, 1, 2, 3, 4, 5, 6, 7, 8]\n",
      "[0, 1, 2, 3, 4, 5, 6, 7, 8, 9]\n",
      "[0, 1, 2, 3, 4, 5, 6, 7, 8, 9, 10]\n",
      "[0, 1, 2, 3, 4, 5, 6, 7, 8, 9, 10, 11]\n",
      "[0, 1, 2, 3, 4, 5, 6, 7, 8, 9, 10, 11, 12]\n",
      "[0, 1, 2, 3, 4, 5, 6, 7, 8, 9, 10, 11, 12, 13]\n",
      "[0, 1, 2, 3, 4, 5, 6, 7, 8, 9, 10, 11, 12, 13, 14]\n",
      "[0, 1, 2, 3, 4, 5, 6, 7, 8, 9, 10, 11, 12, 13, 14, 15]\n",
      "[0, 1, 2, 3, 4, 5, 6, 7, 8, 9, 10, 11, 12, 13, 14, 15, 16]\n",
      "[0, 1, 2, 3, 4, 5, 6, 7, 8, 9, 10, 11, 12, 13, 14, 15, 16, 17]\n",
      "[0, 1, 2, 3, 4, 5, 6, 7, 8, 9, 10, 11, 12, 13, 14, 15, 16, 17, 18]\n",
      "[0, 1, 2, 3, 4, 5, 6, 7, 8, 9, 10, 11, 12, 13, 14, 15, 16, 17, 18, 19]\n",
      "[0, 1, 2, 3, 4, 5, 6, 7, 8, 9, 10, 11, 12, 13, 14, 15, 16, 17, 18, 19, 20]\n",
      "[0, 1, 2, 3, 4, 5, 6, 7, 8, 9, 10, 11, 12, 13, 14, 15, 16, 17, 18, 19, 20, 21]\n",
      "[0, 1, 2, 3, 4, 5, 6, 7, 8, 9, 10, 11, 12, 13, 14, 15, 16, 17, 18, 19, 20, 21, 22]\n",
      "[0, 1, 2, 3, 4, 5, 6, 7, 8, 9, 10, 11, 12, 13, 14, 15, 16, 17, 18, 19, 20, 21, 22, 23]\n",
      "[0, 1, 2, 3, 4, 5, 6, 7, 8, 9, 10, 11, 12, 13, 14, 15, 16, 17, 18, 19, 20, 21, 22, 23, 24]\n",
      "[0, 1, 2, 3, 4, 5, 6, 7, 8, 9, 10, 11, 12, 13, 14, 15, 16, 17, 18, 19, 20, 21, 22, 23, 24, 25]\n",
      "[0, 1, 2, 3, 4, 5, 6, 7, 8, 9, 10, 11, 12, 13, 14, 15, 16, 17, 18, 19, 20, 21, 22, 23, 24, 25, 26]\n",
      "[0, 1, 2, 3, 4, 5, 6, 7, 8, 9, 10, 11, 12, 13, 14, 15, 16, 17, 18, 19, 20, 21, 22, 23, 24, 25, 26, 27]\n",
      "[0, 1, 2, 3, 4, 5, 6, 7, 8, 9, 10, 11, 12, 13, 14, 15, 16, 17, 18, 19, 20, 21, 22, 23, 24, 25, 26, 27, 28]\n",
      "[0, 1, 2, 3, 4, 5, 6, 7, 8, 9, 10, 11, 12, 13, 14, 15, 16, 17, 18, 19, 20, 21, 22, 23, 24, 25, 26, 27, 28, 29]\n",
      "[0, 1, 2, 3, 4, 5, 6, 7, 8, 9, 10, 11, 12, 13, 14, 15, 16, 17, 18, 19, 20, 21, 22, 23, 24, 25, 26, 27, 28, 29, 30]\n",
      "[0, 1, 2, 3, 4, 5, 6, 7, 8, 9, 10, 11, 12, 13, 14, 15, 16, 17, 18, 19, 20, 21, 22, 23, 24, 25, 26, 27, 28, 29, 30, 31]\n",
      "[0, 1, 2, 3, 4, 5, 6, 7, 8, 9, 10, 11, 12, 13, 14, 15, 16, 17, 18, 19, 20, 21, 22, 23, 24, 25, 26, 27, 28, 29, 30, 31, 32]\n",
      "[0, 1, 2, 3, 4, 5, 6, 7, 8, 9, 10, 11, 12, 13, 14, 15, 16, 17, 18, 19, 20, 21, 22, 23, 24, 25, 26, 27, 28, 29, 30, 31, 32, 33]\n",
      "[0, 1, 2, 3, 4, 5, 6, 7, 8, 9, 10, 11, 12, 13, 14, 15, 16, 17, 18, 19, 20, 21, 22, 23, 24, 25, 26, 27, 28, 29, 30, 31, 32, 33, 34]\n",
      "[0, 1, 2, 3, 4, 5, 6, 7, 8, 9, 10, 11, 12, 13, 14, 15, 16, 17, 18, 19, 20, 21, 22, 23, 24, 25, 26, 27, 28, 29, 30, 31, 32, 33, 34, 35]\n",
      "[0, 1, 2, 3, 4, 5, 6, 7, 8, 9, 10, 11, 12, 13, 14, 15, 16, 17, 18, 19, 20, 21, 22, 23, 24, 25, 26, 27, 28, 29, 30, 31, 32, 33, 34, 35, 36]\n",
      "[0, 1, 2, 3, 4, 5, 6, 7, 8, 9, 10, 11, 12, 13, 14, 15, 16, 17, 18, 19, 20, 21, 22, 23, 24, 25, 26, 27, 28, 29, 30, 31, 32, 33, 34, 35, 36, 37]\n",
      "[0, 1, 2, 3, 4, 5, 6, 7, 8, 9, 10, 11, 12, 13, 14, 15, 16, 17, 18, 19, 20, 21, 22, 23, 24, 25, 26, 27, 28, 29, 30, 31, 32, 33, 34, 35, 36, 37, 38]\n",
      "[0, 1, 2, 3, 4, 5, 6, 7, 8, 9, 10, 11, 12, 13, 14, 15, 16, 17, 18, 19, 20, 21, 22, 23, 24, 25, 26, 27, 28, 29, 30, 31, 32, 33, 34, 35, 36, 37, 38, 39]\n",
      "[0, 1, 2, 3, 4, 5, 6, 7, 8, 9, 10, 11, 12, 13, 14, 15, 16, 17, 18, 19, 20, 21, 22, 23, 24, 25, 26, 27, 28, 29, 30, 31, 32, 33, 34, 35, 36, 37, 38, 39, 40]\n",
      "[0, 1, 2, 3, 4, 5, 6, 7, 8, 9, 10, 11, 12, 13, 14, 15, 16, 17, 18, 19, 20, 21, 22, 23, 24, 25, 26, 27, 28, 29, 30, 31, 32, 33, 34, 35, 36, 37, 38, 39, 40, 41]\n",
      "[0, 1, 2, 3, 4, 5, 6, 7, 8, 9, 10, 11, 12, 13, 14, 15, 16, 17, 18, 19, 20, 21, 22, 23, 24, 25, 26, 27, 28, 29, 30, 31, 32, 33, 34, 35, 36, 37, 38, 39, 40, 41, 42]\n",
      "[0, 1, 2, 3, 4, 5, 6, 7, 8, 9, 10, 11, 12, 13, 14, 15, 16, 17, 18, 19, 20, 21, 22, 23, 24, 25, 26, 27, 28, 29, 30, 31, 32, 33, 34, 35, 36, 37, 38, 39, 40, 41, 42, 43]\n",
      "[0, 1, 2, 3, 4, 5, 6, 7, 8, 9, 10, 11, 12, 13, 14, 15, 16, 17, 18, 19, 20, 21, 22, 23, 24, 25, 26, 27, 28, 29, 30, 31, 32, 33, 34, 35, 36, 37, 38, 39, 40, 41, 42, 43, 44]\n",
      "[0, 1, 2, 3, 4, 5, 6, 7, 8, 9, 10, 11, 12, 13, 14, 15, 16, 17, 18, 19, 20, 21, 22, 23, 24, 25, 26, 27, 28, 29, 30, 31, 32, 33, 34, 35, 36, 37, 38, 39, 40, 41, 42, 43, 44, 45]\n",
      "[0, 1, 2, 3, 4, 5, 6, 7, 8, 9, 10, 11, 12, 13, 14, 15, 16, 17, 18, 19, 20, 21, 22, 23, 24, 25, 26, 27, 28, 29, 30, 31, 32, 33, 34, 35, 36, 37, 38, 39, 40, 41, 42, 43, 44, 45, 46]\n",
      "[0, 1, 2, 3, 4, 5, 6, 7, 8, 9, 10, 11, 12, 13, 14, 15, 16, 17, 18, 19, 20, 21, 22, 23, 24, 25, 26, 27, 28, 29, 30, 31, 32, 33, 34, 35, 36, 37, 38, 39, 40, 41, 42, 43, 44, 45, 46, 47]\n",
      "[0, 1, 2, 3, 4, 5, 6, 7, 8, 9, 10, 11, 12, 13, 14, 15, 16, 17, 18, 19, 20, 21, 22, 23, 24, 25, 26, 27, 28, 29, 30, 31, 32, 33, 34, 35, 36, 37, 38, 39, 40, 41, 42, 43, 44, 45, 46, 47, 48]\n",
      "[0, 1, 2, 3, 4, 5, 6, 7, 8, 9, 10, 11, 12, 13, 14, 15, 16, 17, 18, 19, 20, 21, 22, 23, 24, 25, 26, 27, 28, 29, 30, 31, 32, 33, 34, 35, 36, 37, 38, 39, 40, 41, 42, 43, 44, 45, 46, 47, 48, 49]\n",
      "[0, 1, 2, 3, 4, 5, 6, 7, 8, 9, 10, 11, 12, 13, 14, 15, 16, 17, 18, 19, 20, 21, 22, 23, 24, 25, 26, 27, 28, 29, 30, 31, 32, 33, 34, 35, 36, 37, 38, 39, 40, 41, 42, 43, 44, 45, 46, 47, 48, 49, 50]\n",
      "[0, 1, 2, 3, 4, 5, 6, 7, 8, 9, 10, 11, 12, 13, 14, 15, 16, 17, 18, 19, 20, 21, 22, 23, 24, 25, 26, 27, 28, 29, 30, 31, 32, 33, 34, 35, 36, 37, 38, 39, 40, 41, 42, 43, 44, 45, 46, 47, 48, 49, 50, 51]\n",
      "[0, 1, 2, 3, 4, 5, 6, 7, 8, 9, 10, 11, 12, 13, 14, 15, 16, 17, 18, 19, 20, 21, 22, 23, 24, 25, 26, 27, 28, 29, 30, 31, 32, 33, 34, 35, 36, 37, 38, 39, 40, 41, 42, 43, 44, 45, 46, 47, 48, 49, 50, 51, 52]\n",
      "[0, 1, 2, 3, 4, 5, 6, 7, 8, 9, 10, 11, 12, 13, 14, 15, 16, 17, 18, 19, 20, 21, 22, 23, 24, 25, 26, 27, 28, 29, 30, 31, 32, 33, 34, 35, 36, 37, 38, 39, 40, 41, 42, 43, 44, 45, 46, 47, 48, 49, 50, 51, 52, 53]\n",
      "[0, 1, 2, 3, 4, 5, 6, 7, 8, 9, 10, 11, 12, 13, 14, 15, 16, 17, 18, 19, 20, 21, 22, 23, 24, 25, 26, 27, 28, 29, 30, 31, 32, 33, 34, 35, 36, 37, 38, 39, 40, 41, 42, 43, 44, 45, 46, 47, 48, 49, 50, 51, 52, 53, 54]\n",
      "[0, 1, 2, 3, 4, 5, 6, 7, 8, 9, 10, 11, 12, 13, 14, 15, 16, 17, 18, 19, 20, 21, 22, 23, 24, 25, 26, 27, 28, 29, 30, 31, 32, 33, 34, 35, 36, 37, 38, 39, 40, 41, 42, 43, 44, 45, 46, 47, 48, 49, 50, 51, 52, 53, 54, 55]\n",
      "[0, 1, 2, 3, 4, 5, 6, 7, 8, 9, 10, 11, 12, 13, 14, 15, 16, 17, 18, 19, 20, 21, 22, 23, 24, 25, 26, 27, 28, 29, 30, 31, 32, 33, 34, 35, 36, 37, 38, 39, 40, 41, 42, 43, 44, 45, 46, 47, 48, 49, 50, 51, 52, 53, 54, 55, 56]\n",
      "[0, 1, 2, 3, 4, 5, 6, 7, 8, 9, 10, 11, 12, 13, 14, 15, 16, 17, 18, 19, 20, 21, 22, 23, 24, 25, 26, 27, 28, 29, 30, 31, 32, 33, 34, 35, 36, 37, 38, 39, 40, 41, 42, 43, 44, 45, 46, 47, 48, 49, 50, 51, 52, 53, 54, 55, 56, 57]\n",
      "[0, 1, 2, 3, 4, 5, 6, 7, 8, 9, 10, 11, 12, 13, 14, 15, 16, 17, 18, 19, 20, 21, 22, 23, 24, 25, 26, 27, 28, 29, 30, 31, 32, 33, 34, 35, 36, 37, 38, 39, 40, 41, 42, 43, 44, 45, 46, 47, 48, 49, 50, 51, 52, 53, 54, 55, 56, 57, 58]\n",
      "[0, 1, 2, 3, 4, 5, 6, 7, 8, 9, 10, 11, 12, 13, 14, 15, 16, 17, 18, 19, 20, 21, 22, 23, 24, 25, 26, 27, 28, 29, 30, 31, 32, 33, 34, 35, 36, 37, 38, 39, 40, 41, 42, 43, 44, 45, 46, 47, 48, 49, 50, 51, 52, 53, 54, 55, 56, 57, 58, 59]\n",
      "[0, 1, 2, 3, 4, 5, 6, 7, 8, 9, 10, 11, 12, 13, 14, 15, 16, 17, 18, 19, 20, 21, 22, 23, 24, 25, 26, 27, 28, 29, 30, 31, 32, 33, 34, 35, 36, 37, 38, 39, 40, 41, 42, 43, 44, 45, 46, 47, 48, 49, 50, 51, 52, 53, 54, 55, 56, 57, 58, 59, 60]\n",
      "[0, 1, 2, 3, 4, 5, 6, 7, 8, 9, 10, 11, 12, 13, 14, 15, 16, 17, 18, 19, 20, 21, 22, 23, 24, 25, 26, 27, 28, 29, 30, 31, 32, 33, 34, 35, 36, 37, 38, 39, 40, 41, 42, 43, 44, 45, 46, 47, 48, 49, 50, 51, 52, 53, 54, 55, 56, 57, 58, 59, 60, 61]\n",
      "[0, 1, 2, 3, 4, 5, 6, 7, 8, 9, 10, 11, 12, 13, 14, 15, 16, 17, 18, 19, 20, 21, 22, 23, 24, 25, 26, 27, 28, 29, 30, 31, 32, 33, 34, 35, 36, 37, 38, 39, 40, 41, 42, 43, 44, 45, 46, 47, 48, 49, 50, 51, 52, 53, 54, 55, 56, 57, 58, 59, 60, 61, 62]\n",
      "[0, 1, 2, 3, 4, 5, 6, 7, 8, 9, 10, 11, 12, 13, 14, 15, 16, 17, 18, 19, 20, 21, 22, 23, 24, 25, 26, 27, 28, 29, 30, 31, 32, 33, 34, 35, 36, 37, 38, 39, 40, 41, 42, 43, 44, 45, 46, 47, 48, 49, 50, 51, 52, 53, 54, 55, 56, 57, 58, 59, 60, 61, 62, 63]\n",
      "[0, 1, 2, 3, 4, 5, 6, 7, 8, 9, 10, 11, 12, 13, 14, 15, 16, 17, 18, 19, 20, 21, 22, 23, 24, 25, 26, 27, 28, 29, 30, 31, 32, 33, 34, 35, 36, 37, 38, 39, 40, 41, 42, 43, 44, 45, 46, 47, 48, 49, 50, 51, 52, 53, 54, 55, 56, 57, 58, 59, 60, 61, 62, 63, 64]\n",
      "[0, 1, 2, 3, 4, 5, 6, 7, 8, 9, 10, 11, 12, 13, 14, 15, 16, 17, 18, 19, 20, 21, 22, 23, 24, 25, 26, 27, 28, 29, 30, 31, 32, 33, 34, 35, 36, 37, 38, 39, 40, 41, 42, 43, 44, 45, 46, 47, 48, 49, 50, 51, 52, 53, 54, 55, 56, 57, 58, 59, 60, 61, 62, 63, 64, 65]\n",
      "[0, 1, 2, 3, 4, 5, 6, 7, 8, 9, 10, 11, 12, 13, 14, 15, 16, 17, 18, 19, 20, 21, 22, 23, 24, 25, 26, 27, 28, 29, 30, 31, 32, 33, 34, 35, 36, 37, 38, 39, 40, 41, 42, 43, 44, 45, 46, 47, 48, 49, 50, 51, 52, 53, 54, 55, 56, 57, 58, 59, 60, 61, 62, 63, 64, 65, 66]\n",
      "[0, 1, 2, 3, 4, 5, 6, 7, 8, 9, 10, 11, 12, 13, 14, 15, 16, 17, 18, 19, 20, 21, 22, 23, 24, 25, 26, 27, 28, 29, 30, 31, 32, 33, 34, 35, 36, 37, 38, 39, 40, 41, 42, 43, 44, 45, 46, 47, 48, 49, 50, 51, 52, 53, 54, 55, 56, 57, 58, 59, 60, 61, 62, 63, 64, 65, 66, 67]\n",
      "[0, 1, 2, 3, 4, 5, 6, 7, 8, 9, 10, 11, 12, 13, 14, 15, 16, 17, 18, 19, 20, 21, 22, 23, 24, 25, 26, 27, 28, 29, 30, 31, 32, 33, 34, 35, 36, 37, 38, 39, 40, 41, 42, 43, 44, 45, 46, 47, 48, 49, 50, 51, 52, 53, 54, 55, 56, 57, 58, 59, 60, 61, 62, 63, 64, 65, 66, 67, 68]\n",
      "[0, 1, 2, 3, 4, 5, 6, 7, 8, 9, 10, 11, 12, 13, 14, 15, 16, 17, 18, 19, 20, 21, 22, 23, 24, 25, 26, 27, 28, 29, 30, 31, 32, 33, 34, 35, 36, 37, 38, 39, 40, 41, 42, 43, 44, 45, 46, 47, 48, 49, 50, 51, 52, 53, 54, 55, 56, 57, 58, 59, 60, 61, 62, 63, 64, 65, 66, 67, 68, 69]\n",
      "[0, 1, 2, 3, 4, 5, 6, 7, 8, 9, 10, 11, 12, 13, 14, 15, 16, 17, 18, 19, 20, 21, 22, 23, 24, 25, 26, 27, 28, 29, 30, 31, 32, 33, 34, 35, 36, 37, 38, 39, 40, 41, 42, 43, 44, 45, 46, 47, 48, 49, 50, 51, 52, 53, 54, 55, 56, 57, 58, 59, 60, 61, 62, 63, 64, 65, 66, 67, 68, 69, 70]\n",
      "[0, 1, 2, 3, 4, 5, 6, 7, 8, 9, 10, 11, 12, 13, 14, 15, 16, 17, 18, 19, 20, 21, 22, 23, 24, 25, 26, 27, 28, 29, 30, 31, 32, 33, 34, 35, 36, 37, 38, 39, 40, 41, 42, 43, 44, 45, 46, 47, 48, 49, 50, 51, 52, 53, 54, 55, 56, 57, 58, 59, 60, 61, 62, 63, 64, 65, 66, 67, 68, 69, 70, 71]\n",
      "[0, 1, 2, 3, 4, 5, 6, 7, 8, 9, 10, 11, 12, 13, 14, 15, 16, 17, 18, 19, 20, 21, 22, 23, 24, 25, 26, 27, 28, 29, 30, 31, 32, 33, 34, 35, 36, 37, 38, 39, 40, 41, 42, 43, 44, 45, 46, 47, 48, 49, 50, 51, 52, 53, 54, 55, 56, 57, 58, 59, 60, 61, 62, 63, 64, 65, 66, 67, 68, 69, 70, 71, 72]\n",
      "[0, 1, 2, 3, 4, 5, 6, 7, 8, 9, 10, 11, 12, 13, 14, 15, 16, 17, 18, 19, 20, 21, 22, 23, 24, 25, 26, 27, 28, 29, 30, 31, 32, 33, 34, 35, 36, 37, 38, 39, 40, 41, 42, 43, 44, 45, 46, 47, 48, 49, 50, 51, 52, 53, 54, 55, 56, 57, 58, 59, 60, 61, 62, 63, 64, 65, 66, 67, 68, 69, 70, 71, 72, 73]\n",
      "[0, 1, 2, 3, 4, 5, 6, 7, 8, 9, 10, 11, 12, 13, 14, 15, 16, 17, 18, 19, 20, 21, 22, 23, 24, 25, 26, 27, 28, 29, 30, 31, 32, 33, 34, 35, 36, 37, 38, 39, 40, 41, 42, 43, 44, 45, 46, 47, 48, 49, 50, 51, 52, 53, 54, 55, 56, 57, 58, 59, 60, 61, 62, 63, 64, 65, 66, 67, 68, 69, 70, 71, 72, 73, 74]\n",
      "[0, 1, 2, 3, 4, 5, 6, 7, 8, 9, 10, 11, 12, 13, 14, 15, 16, 17, 18, 19, 20, 21, 22, 23, 24, 25, 26, 27, 28, 29, 30, 31, 32, 33, 34, 35, 36, 37, 38, 39, 40, 41, 42, 43, 44, 45, 46, 47, 48, 49, 50, 51, 52, 53, 54, 55, 56, 57, 58, 59, 60, 61, 62, 63, 64, 65, 66, 67, 68, 69, 70, 71, 72, 73, 74, 75]\n",
      "[0, 1, 2, 3, 4, 5, 6, 7, 8, 9, 10, 11, 12, 13, 14, 15, 16, 17, 18, 19, 20, 21, 22, 23, 24, 25, 26, 27, 28, 29, 30, 31, 32, 33, 34, 35, 36, 37, 38, 39, 40, 41, 42, 43, 44, 45, 46, 47, 48, 49, 50, 51, 52, 53, 54, 55, 56, 57, 58, 59, 60, 61, 62, 63, 64, 65, 66, 67, 68, 69, 70, 71, 72, 73, 74, 75, 76]\n",
      "[0, 1, 2, 3, 4, 5, 6, 7, 8, 9, 10, 11, 12, 13, 14, 15, 16, 17, 18, 19, 20, 21, 22, 23, 24, 25, 26, 27, 28, 29, 30, 31, 32, 33, 34, 35, 36, 37, 38, 39, 40, 41, 42, 43, 44, 45, 46, 47, 48, 49, 50, 51, 52, 53, 54, 55, 56, 57, 58, 59, 60, 61, 62, 63, 64, 65, 66, 67, 68, 69, 70, 71, 72, 73, 74, 75, 76, 77]\n",
      "[0, 1, 2, 3, 4, 5, 6, 7, 8, 9, 10, 11, 12, 13, 14, 15, 16, 17, 18, 19, 20, 21, 22, 23, 24, 25, 26, 27, 28, 29, 30, 31, 32, 33, 34, 35, 36, 37, 38, 39, 40, 41, 42, 43, 44, 45, 46, 47, 48, 49, 50, 51, 52, 53, 54, 55, 56, 57, 58, 59, 60, 61, 62, 63, 64, 65, 66, 67, 68, 69, 70, 71, 72, 73, 74, 75, 76, 77, 78]\n",
      "[0, 1, 2, 3, 4, 5, 6, 7, 8, 9, 10, 11, 12, 13, 14, 15, 16, 17, 18, 19, 20, 21, 22, 23, 24, 25, 26, 27, 28, 29, 30, 31, 32, 33, 34, 35, 36, 37, 38, 39, 40, 41, 42, 43, 44, 45, 46, 47, 48, 49, 50, 51, 52, 53, 54, 55, 56, 57, 58, 59, 60, 61, 62, 63, 64, 65, 66, 67, 68, 69, 70, 71, 72, 73, 74, 75, 76, 77, 78, 79]\n",
      "[0, 1, 2, 3, 4, 5, 6, 7, 8, 9, 10, 11, 12, 13, 14, 15, 16, 17, 18, 19, 20, 21, 22, 23, 24, 25, 26, 27, 28, 29, 30, 31, 32, 33, 34, 35, 36, 37, 38, 39, 40, 41, 42, 43, 44, 45, 46, 47, 48, 49, 50, 51, 52, 53, 54, 55, 56, 57, 58, 59, 60, 61, 62, 63, 64, 65, 66, 67, 68, 69, 70, 71, 72, 73, 74, 75, 76, 77, 78, 79, 80]\n",
      "[0, 1, 2, 3, 4, 5, 6, 7, 8, 9, 10, 11, 12, 13, 14, 15, 16, 17, 18, 19, 20, 21, 22, 23, 24, 25, 26, 27, 28, 29, 30, 31, 32, 33, 34, 35, 36, 37, 38, 39, 40, 41, 42, 43, 44, 45, 46, 47, 48, 49, 50, 51, 52, 53, 54, 55, 56, 57, 58, 59, 60, 61, 62, 63, 64, 65, 66, 67, 68, 69, 70, 71, 72, 73, 74, 75, 76, 77, 78, 79, 80, 81]\n",
      "[0, 1, 2, 3, 4, 5, 6, 7, 8, 9, 10, 11, 12, 13, 14, 15, 16, 17, 18, 19, 20, 21, 22, 23, 24, 25, 26, 27, 28, 29, 30, 31, 32, 33, 34, 35, 36, 37, 38, 39, 40, 41, 42, 43, 44, 45, 46, 47, 48, 49, 50, 51, 52, 53, 54, 55, 56, 57, 58, 59, 60, 61, 62, 63, 64, 65, 66, 67, 68, 69, 70, 71, 72, 73, 74, 75, 76, 77, 78, 79, 80, 81, 82]\n",
      "[0, 1, 2, 3, 4, 5, 6, 7, 8, 9, 10, 11, 12, 13, 14, 15, 16, 17, 18, 19, 20, 21, 22, 23, 24, 25, 26, 27, 28, 29, 30, 31, 32, 33, 34, 35, 36, 37, 38, 39, 40, 41, 42, 43, 44, 45, 46, 47, 48, 49, 50, 51, 52, 53, 54, 55, 56, 57, 58, 59, 60, 61, 62, 63, 64, 65, 66, 67, 68, 69, 70, 71, 72, 73, 74, 75, 76, 77, 78, 79, 80, 81, 82, 83]\n",
      "[0, 1, 2, 3, 4, 5, 6, 7, 8, 9, 10, 11, 12, 13, 14, 15, 16, 17, 18, 19, 20, 21, 22, 23, 24, 25, 26, 27, 28, 29, 30, 31, 32, 33, 34, 35, 36, 37, 38, 39, 40, 41, 42, 43, 44, 45, 46, 47, 48, 49, 50, 51, 52, 53, 54, 55, 56, 57, 58, 59, 60, 61, 62, 63, 64, 65, 66, 67, 68, 69, 70, 71, 72, 73, 74, 75, 76, 77, 78, 79, 80, 81, 82, 83, 84]\n",
      "[0, 1, 2, 3, 4, 5, 6, 7, 8, 9, 10, 11, 12, 13, 14, 15, 16, 17, 18, 19, 20, 21, 22, 23, 24, 25, 26, 27, 28, 29, 30, 31, 32, 33, 34, 35, 36, 37, 38, 39, 40, 41, 42, 43, 44, 45, 46, 47, 48, 49, 50, 51, 52, 53, 54, 55, 56, 57, 58, 59, 60, 61, 62, 63, 64, 65, 66, 67, 68, 69, 70, 71, 72, 73, 74, 75, 76, 77, 78, 79, 80, 81, 82, 83, 84, 85]\n",
      "[0, 1, 2, 3, 4, 5, 6, 7, 8, 9, 10, 11, 12, 13, 14, 15, 16, 17, 18, 19, 20, 21, 22, 23, 24, 25, 26, 27, 28, 29, 30, 31, 32, 33, 34, 35, 36, 37, 38, 39, 40, 41, 42, 43, 44, 45, 46, 47, 48, 49, 50, 51, 52, 53, 54, 55, 56, 57, 58, 59, 60, 61, 62, 63, 64, 65, 66, 67, 68, 69, 70, 71, 72, 73, 74, 75, 76, 77, 78, 79, 80, 81, 82, 83, 84, 85, 86]\n",
      "[0, 1, 2, 3, 4, 5, 6, 7, 8, 9, 10, 11, 12, 13, 14, 15, 16, 17, 18, 19, 20, 21, 22, 23, 24, 25, 26, 27, 28, 29, 30, 31, 32, 33, 34, 35, 36, 37, 38, 39, 40, 41, 42, 43, 44, 45, 46, 47, 48, 49, 50, 51, 52, 53, 54, 55, 56, 57, 58, 59, 60, 61, 62, 63, 64, 65, 66, 67, 68, 69, 70, 71, 72, 73, 74, 75, 76, 77, 78, 79, 80, 81, 82, 83, 84, 85, 86, 87]\n",
      "[0, 1, 2, 3, 4, 5, 6, 7, 8, 9, 10, 11, 12, 13, 14, 15, 16, 17, 18, 19, 20, 21, 22, 23, 24, 25, 26, 27, 28, 29, 30, 31, 32, 33, 34, 35, 36, 37, 38, 39, 40, 41, 42, 43, 44, 45, 46, 47, 48, 49, 50, 51, 52, 53, 54, 55, 56, 57, 58, 59, 60, 61, 62, 63, 64, 65, 66, 67, 68, 69, 70, 71, 72, 73, 74, 75, 76, 77, 78, 79, 80, 81, 82, 83, 84, 85, 86, 87, 88]\n",
      "[0, 1, 2, 3, 4, 5, 6, 7, 8, 9, 10, 11, 12, 13, 14, 15, 16, 17, 18, 19, 20, 21, 22, 23, 24, 25, 26, 27, 28, 29, 30, 31, 32, 33, 34, 35, 36, 37, 38, 39, 40, 41, 42, 43, 44, 45, 46, 47, 48, 49, 50, 51, 52, 53, 54, 55, 56, 57, 58, 59, 60, 61, 62, 63, 64, 65, 66, 67, 68, 69, 70, 71, 72, 73, 74, 75, 76, 77, 78, 79, 80, 81, 82, 83, 84, 85, 86, 87, 88, 89]\n",
      "[0, 1, 2, 3, 4, 5, 6, 7, 8, 9, 10, 11, 12, 13, 14, 15, 16, 17, 18, 19, 20, 21, 22, 23, 24, 25, 26, 27, 28, 29, 30, 31, 32, 33, 34, 35, 36, 37, 38, 39, 40, 41, 42, 43, 44, 45, 46, 47, 48, 49, 50, 51, 52, 53, 54, 55, 56, 57, 58, 59, 60, 61, 62, 63, 64, 65, 66, 67, 68, 69, 70, 71, 72, 73, 74, 75, 76, 77, 78, 79, 80, 81, 82, 83, 84, 85, 86, 87, 88, 89, 90]\n",
      "[0, 1, 2, 3, 4, 5, 6, 7, 8, 9, 10, 11, 12, 13, 14, 15, 16, 17, 18, 19, 20, 21, 22, 23, 24, 25, 26, 27, 28, 29, 30, 31, 32, 33, 34, 35, 36, 37, 38, 39, 40, 41, 42, 43, 44, 45, 46, 47, 48, 49, 50, 51, 52, 53, 54, 55, 56, 57, 58, 59, 60, 61, 62, 63, 64, 65, 66, 67, 68, 69, 70, 71, 72, 73, 74, 75, 76, 77, 78, 79, 80, 81, 82, 83, 84, 85, 86, 87, 88, 89, 90, 91]\n",
      "[0, 1, 2, 3, 4, 5, 6, 7, 8, 9, 10, 11, 12, 13, 14, 15, 16, 17, 18, 19, 20, 21, 22, 23, 24, 25, 26, 27, 28, 29, 30, 31, 32, 33, 34, 35, 36, 37, 38, 39, 40, 41, 42, 43, 44, 45, 46, 47, 48, 49, 50, 51, 52, 53, 54, 55, 56, 57, 58, 59, 60, 61, 62, 63, 64, 65, 66, 67, 68, 69, 70, 71, 72, 73, 74, 75, 76, 77, 78, 79, 80, 81, 82, 83, 84, 85, 86, 87, 88, 89, 90, 91, 92]\n",
      "[0, 1, 2, 3, 4, 5, 6, 7, 8, 9, 10, 11, 12, 13, 14, 15, 16, 17, 18, 19, 20, 21, 22, 23, 24, 25, 26, 27, 28, 29, 30, 31, 32, 33, 34, 35, 36, 37, 38, 39, 40, 41, 42, 43, 44, 45, 46, 47, 48, 49, 50, 51, 52, 53, 54, 55, 56, 57, 58, 59, 60, 61, 62, 63, 64, 65, 66, 67, 68, 69, 70, 71, 72, 73, 74, 75, 76, 77, 78, 79, 80, 81, 82, 83, 84, 85, 86, 87, 88, 89, 90, 91, 92, 93]\n",
      "[0, 1, 2, 3, 4, 5, 6, 7, 8, 9, 10, 11, 12, 13, 14, 15, 16, 17, 18, 19, 20, 21, 22, 23, 24, 25, 26, 27, 28, 29, 30, 31, 32, 33, 34, 35, 36, 37, 38, 39, 40, 41, 42, 43, 44, 45, 46, 47, 48, 49, 50, 51, 52, 53, 54, 55, 56, 57, 58, 59, 60, 61, 62, 63, 64, 65, 66, 67, 68, 69, 70, 71, 72, 73, 74, 75, 76, 77, 78, 79, 80, 81, 82, 83, 84, 85, 86, 87, 88, 89, 90, 91, 92, 93, 94]\n",
      "[0, 1, 2, 3, 4, 5, 6, 7, 8, 9, 10, 11, 12, 13, 14, 15, 16, 17, 18, 19, 20, 21, 22, 23, 24, 25, 26, 27, 28, 29, 30, 31, 32, 33, 34, 35, 36, 37, 38, 39, 40, 41, 42, 43, 44, 45, 46, 47, 48, 49, 50, 51, 52, 53, 54, 55, 56, 57, 58, 59, 60, 61, 62, 63, 64, 65, 66, 67, 68, 69, 70, 71, 72, 73, 74, 75, 76, 77, 78, 79, 80, 81, 82, 83, 84, 85, 86, 87, 88, 89, 90, 91, 92, 93, 94, 95]\n",
      "[0, 1, 2, 3, 4, 5, 6, 7, 8, 9, 10, 11, 12, 13, 14, 15, 16, 17, 18, 19, 20, 21, 22, 23, 24, 25, 26, 27, 28, 29, 30, 31, 32, 33, 34, 35, 36, 37, 38, 39, 40, 41, 42, 43, 44, 45, 46, 47, 48, 49, 50, 51, 52, 53, 54, 55, 56, 57, 58, 59, 60, 61, 62, 63, 64, 65, 66, 67, 68, 69, 70, 71, 72, 73, 74, 75, 76, 77, 78, 79, 80, 81, 82, 83, 84, 85, 86, 87, 88, 89, 90, 91, 92, 93, 94, 95, 96]\n",
      "[0, 1, 2, 3, 4, 5, 6, 7, 8, 9, 10, 11, 12, 13, 14, 15, 16, 17, 18, 19, 20, 21, 22, 23, 24, 25, 26, 27, 28, 29, 30, 31, 32, 33, 34, 35, 36, 37, 38, 39, 40, 41, 42, 43, 44, 45, 46, 47, 48, 49, 50, 51, 52, 53, 54, 55, 56, 57, 58, 59, 60, 61, 62, 63, 64, 65, 66, 67, 68, 69, 70, 71, 72, 73, 74, 75, 76, 77, 78, 79, 80, 81, 82, 83, 84, 85, 86, 87, 88, 89, 90, 91, 92, 93, 94, 95, 96, 97]\n",
      "[0, 1, 2, 3, 4, 5, 6, 7, 8, 9, 10, 11, 12, 13, 14, 15, 16, 17, 18, 19, 20, 21, 22, 23, 24, 25, 26, 27, 28, 29, 30, 31, 32, 33, 34, 35, 36, 37, 38, 39, 40, 41, 42, 43, 44, 45, 46, 47, 48, 49, 50, 51, 52, 53, 54, 55, 56, 57, 58, 59, 60, 61, 62, 63, 64, 65, 66, 67, 68, 69, 70, 71, 72, 73, 74, 75, 76, 77, 78, 79, 80, 81, 82, 83, 84, 85, 86, 87, 88, 89, 90, 91, 92, 93, 94, 95, 96, 97, 98]\n",
      "[0, 1, 2, 3, 4, 5, 6, 7, 8, 9, 10, 11, 12, 13, 14, 15, 16, 17, 18, 19, 20, 21, 22, 23, 24, 25, 26, 27, 28, 29, 30, 31, 32, 33, 34, 35, 36, 37, 38, 39, 40, 41, 42, 43, 44, 45, 46, 47, 48, 49, 50, 51, 52, 53, 54, 55, 56, 57, 58, 59, 60, 61, 62, 63, 64, 65, 66, 67, 68, 69, 70, 71, 72, 73, 74, 75, 76, 77, 78, 79, 80, 81, 82, 83, 84, 85, 86, 87, 88, 89, 90, 91, 92, 93, 94, 95, 96, 97, 98, 99]\n",
      "CPU times: user 3 µs, sys: 1 µs, total: 4 µs\n",
      "Wall time: 6.91 µs\n"
     ]
    }
   ],
   "source": [
    "# ejemplo dados\n",
    "import os\n",
    "import random\n",
    "# random.seed() -- me espero\n",
    "\n",
    "names = [] # variable global\n",
    "#for name in range(5,1000,5): es lo mismo escribiendo params que no....\n",
    "\n",
    "for name in range(100):\n",
    "    names.append(name)\n",
    "    print(names)\n",
    "%time"
   ]
  },
  {
   "cell_type": "code",
   "execution_count": 9,
   "metadata": {},
   "outputs": [
    {
     "name": "stdout",
     "output_type": "stream",
     "text": [
      "[0, 1, 2, 3, 4, 5, 6, 7, 8, 9, 10, 11, 12, 13, 14, 15, 16, 17, 18, 19, 20, 21, 22, 23, 24, 25, 26, 27, 28, 29, 30, 31, 32, 33, 34, 35, 36, 37, 38, 39, 40, 41, 42, 43, 44, 45, 46, 47, 48, 49, 50, 51, 52, 53, 54, 55, 56, 57, 58, 59, 60, 61, 62, 63, 64, 65, 66, 67, 68, 69, 70, 71, 72, 73, 74, 75, 76, 77, 78, 79, 80, 81, 82, 83, 84, 85, 86, 87, 88, 89, 90, 91, 92, 93, 94, 95, 96, 97, 98, 99, 0, 1, 2, 3, 4, 5, 6, 7, 8, 9, 10, 11, 12, 13, 14, 15, 16, 17, 18, 19, 20, 21, 22, 23, 24, 25, 26, 27, 28, 29, 30, 31, 32, 33, 34, 35, 36, 37, 38, 39, 40, 41, 42, 43, 44, 45, 46, 47, 48, 49, 50, 51, 52, 53, 54, 55, 56, 57, 58, 59, 60, 61, 62, 63, 64, 65, 66, 67, 68, 69, 70, 71, 72, 73, 74, 75, 76, 77, 78, 79, 80, 81, 82, 83, 84, 85, 86, 87, 88, 89, 90, 91, 92, 93, 94, 95, 96, 97, 98, 99]\n",
      "CPU times: user 2 µs, sys: 1 µs, total: 3 µs\n",
      "Wall time: 5.01 µs\n"
     ]
    }
   ],
   "source": [
    "for name in range(100):\n",
    "    names.append(name)\n",
    "print(names)\n",
    "%time"
   ]
  },
  {
   "cell_type": "code",
   "execution_count": 12,
   "metadata": {},
   "outputs": [
    {
     "name": "stdout",
     "output_type": "stream",
     "text": [
      "[1, 0, 73, 0, 30]\n",
      "CPU times: user 2 µs, sys: 1 µs, total: 3 µs\n",
      "Wall time: 5.48 µs\n"
     ]
    }
   ],
   "source": [
    "for name in range(100):\n",
    "    names.append(name)\n",
    "print(random.choices(names,k=5))\n",
    "%time"
   ]
  },
  {
   "cell_type": "code",
   "execution_count": 13,
   "metadata": {},
   "outputs": [
    {
     "name": "stdout",
     "output_type": "stream",
     "text": [
      "[5, 8, 40, 10, 90]\n",
      "CPU times: user 2 µs, sys: 1 µs, total: 3 µs\n",
      "Wall time: 5.01 µs\n"
     ]
    }
   ],
   "source": [
    "random.seed(123)\n",
    "names = []\n",
    "for name in range(100):\n",
    "    names.append(name)\n",
    "print(random.choices(names,k=5))\n",
    "%time"
   ]
  },
  {
   "cell_type": "markdown",
   "metadata": {},
   "source": [
    "***\n",
    "\n",
    "## lab 6 - Jugamos a los dados\n",
    "\n",
    "```output\n",
    "Guess a number between 1 and 5: 3\n",
    "Guess a number between 1 and 5: 4\n",
    "You guessed it in 2 tries!\n",
    "```\n",
    "\n",
    "```output\n",
    "Guess a number between 1 and 5: Beth\n",
    "Guess a number between 1 and 5: Charlee\n",
    "Guess a number between 1 and 5: 3\n",
    "Guess a number between 1 and 5: 4\n",
    "Guess a number between 1 and 5: 2\n",
    "You guessed it in 5 tries!\n",
    "\n",
    "```"
   ]
  },
  {
   "cell_type": "code",
   "execution_count": null,
   "metadata": {},
   "outputs": [],
   "source": [
    "#### Importamos las librerias\n",
    "import random\n",
    "\n",
    "# Declaramos las variables\n",
    "value = random.randint(1,6)\n",
    "count = 0\n",
    "guess = 0\n",
    "\n",
    "# Creamos el iterador\n",
    "while guess != value:\n",
    "    count += 1 # incremento\n",
    "    guess = input(\"Adivina un numero entre 1 y 6:\")\n",
    "    if guess.isnumeric():\n",
    "        guess = int(guess)\n",
    "else:\n",
    "    print(\"has adivinado en {} ocasiones!\".format(count))"
   ]
  },
  {
   "cell_type": "markdown",
   "metadata": {},
   "source": [
    "***\n",
    "\n",
    "## lab 7 - Mejora del lab anterior\n",
    "\n",
    "Recompile el juego de adivinación de números, pero esta vez:\n",
    "\n",
    "- Muestre el número del intento actual.\n",
    "- Si el número propuesto es demasiado bajo, indíquele al usuario \"El número es demasiado bajo, vuelva a intentarlo\".\n",
    "- Si el número propuesto es demasiado alto, indíquele al usuario \"El número es demasiado alto, vuelva a intentarlo\".\n",
    "- Si el usuario escribe un valor no numérico, indíquele al usuario \"Introduzca solo números\".\n",
    "\n",
    "Además, tome nota de la salida. Las solicitudes y los mensajes han cambiado en comparación con el desafío original.\n",
    "\n",
    "Independientemente de cómo lo haga, el código debería producir una salida similar a la siguiente (debido a la respuesta y a las suposiciones generadas aleatoriamente):\n",
    "\n",
    "\n",
    "```output\n",
    "Guess a number between 1 and 10\n",
    "Enter guess #1: 5\n",
    "Your guess is too low, try again!\n",
    "Enter guess #2: 8\n",
    "Your guess is too high, try again!\n",
    "Enter guess #3: 7\n",
    "Your guess is too high, try again!\n",
    "Enter guess #4: 6\n",
    "You guessed it in 4 tries!\n",
    "```\n",
    "\n",
    "Si el usuario escribe un valor que no es numérico, muestre un mensaje de error. En la siguiente salida de ejemplo, el usuario escribe algunas cadenas y se le recuerda que solo debe introducir números.\n",
    "\n",
    "\n",
    "```output\n",
    "Guess a number between 1 and 10\n",
    "Enter guess #1: Bob\n",
    "Numbers only, please!\n",
    "Enter guess #2: Beth\n",
    "Numbers only, please!\n",
    "Enter guess #3: 5\n",
    "You guessed it in 3 tries!\n",
    "```"
   ]
  },
  {
   "cell_type": "markdown",
   "metadata": {},
   "source": [
    "Posible Solución"
   ]
  },
  {
   "cell_type": "code",
   "execution_count": null,
   "metadata": {},
   "outputs": [],
   "source": []
  },
  {
   "cell_type": "markdown",
   "metadata": {},
   "source": [
    "## lab 8 - Interactuar con los bucles\n",
    "\n",
    "for ... loop"
   ]
  },
  {
   "cell_type": "markdown",
   "metadata": {},
   "source": [
    "Vamos a mostrar en este ejemplo cómo podemos iterar dentro de un texto por línea e ir guardando información de forma interactiva en un diccionario:"
   ]
  },
  {
   "cell_type": "code",
   "execution_count": 16,
   "metadata": {},
   "outputs": [],
   "source": [
    "molecula = \"\"\"\n",
    "ATOM    232  N   CYS A  28       3.977   8.402   0.487  1.00 10.53           N\n",
    "ATOM    233  CA  CYS A  28       3.295   9.146   1.517  1.00 10.04           C\n",
    "ATOM    234  C   CYS A  28       4.174  10.264   2.053  1.00 10.31           C\n",
    "ATOM    235  O   CYS A  28       5.378  10.108   2.202  1.00 12.91           O\n",
    "ATOM    236  CB  CYS A  28       2.912   8.210   2.680  1.00  9.81           C\n",
    "ATOM    237  SG  CYS A  28       1.804   6.853   2.197  1.00  9.93           S\n",
    "ATOM    238  N   GLY A  29       3.546  11.391   2.430  1.00 10.76           N\n",
    "ATOM    239  CA  GLY A  29       4.295  12.472   3.049  1.00 11.93           C\n",
    "ATOM    240  C   GLY A  29       3.416  13.524   3.596  1.00 12.60           C\n",
    "ATOM    241  O   GLY A  29       3.985  14.574   4.052  1.00 15.82           O\n",
    "ATOM    242  OXT GLY A  29       2.168  13.386   3.672  1.00 11.37           O\n",
    "\"\"\""
   ]
  },
  {
   "cell_type": "code",
   "execution_count": 18,
   "metadata": {},
   "outputs": [
    {
     "data": {
      "text/plain": [
       "str"
      ]
     },
     "execution_count": 18,
     "metadata": {},
     "output_type": "execute_result"
    }
   ],
   "source": [
    "type(molecula)"
   ]
  },
  {
   "cell_type": "code",
   "execution_count": null,
   "metadata": {},
   "outputs": [],
   "source": [
    "# Tenemos preparado ya un string con el contenido de dos aminoácidos. Cada línea representa un átomo.\n",
    "# Vamos a iterar línea por línea porque nos conviene así, ya que cada línea se corresponde con un átomo.\n",
    "    \n",
    "# Qué ha pasado? Cuál es el problema? Básicamente, estre string está compuesto por líneas, pero la forma de iterarlo es primero\n",
    "# de todo separarlo por saltos de línea. Vamos a intentarlo de nuevo:"
   ]
  },
  {
   "cell_type": "code",
   "execution_count": 20,
   "metadata": {},
   "outputs": [],
   "source": [
    "import os\n",
    "lines = molecula.split(os.linesep)"
   ]
  },
  {
   "cell_type": "code",
   "execution_count": 36,
   "metadata": {},
   "outputs": [
    {
     "data": {
      "text/plain": [
       "12"
      ]
     },
     "execution_count": 36,
     "metadata": {},
     "output_type": "execute_result"
    }
   ],
   "source": [
    "# alternativa con splitlines built-in function\n",
    "lines2 = molecula.splitlines()\n",
    "len(lines2)"
   ]
  },
  {
   "cell_type": "code",
   "execution_count": 38,
   "metadata": {},
   "outputs": [
    {
     "data": {
      "text/plain": [
       "['',\n",
       " 'ATOM    232  N   CYS A  28       3.977   8.402   0.487  1.00 10.53           N',\n",
       " 'ATOM    233  CA  CYS A  28       3.295   9.146   1.517  1.00 10.04           C',\n",
       " 'ATOM    234  C   CYS A  28       4.174  10.264   2.053  1.00 10.31           C',\n",
       " 'ATOM    235  O   CYS A  28       5.378  10.108   2.202  1.00 12.91           O',\n",
       " 'ATOM    236  CB  CYS A  28       2.912   8.210   2.680  1.00  9.81           C',\n",
       " 'ATOM    237  SG  CYS A  28       1.804   6.853   2.197  1.00  9.93           S',\n",
       " 'ATOM    238  N   GLY A  29       3.546  11.391   2.430  1.00 10.76           N',\n",
       " 'ATOM    239  CA  GLY A  29       4.295  12.472   3.049  1.00 11.93           C',\n",
       " 'ATOM    240  C   GLY A  29       3.416  13.524   3.596  1.00 12.60           C',\n",
       " 'ATOM    241  O   GLY A  29       3.985  14.574   4.052  1.00 15.82           O',\n",
       " 'ATOM    242  OXT GLY A  29       2.168  13.386   3.672  1.00 11.37           O',\n",
       " '']"
      ]
     },
     "execution_count": 38,
     "metadata": {},
     "output_type": "execute_result"
    }
   ],
   "source": [
    "lines"
   ]
  },
  {
   "cell_type": "code",
   "execution_count": 39,
   "metadata": {},
   "outputs": [
    {
     "data": {
      "text/plain": [
       "['',\n",
       " 'ATOM    232  N   CYS A  28       3.977   8.402   0.487  1.00 10.53           N',\n",
       " 'ATOM    233  CA  CYS A  28       3.295   9.146   1.517  1.00 10.04           C',\n",
       " 'ATOM    234  C   CYS A  28       4.174  10.264   2.053  1.00 10.31           C',\n",
       " 'ATOM    235  O   CYS A  28       5.378  10.108   2.202  1.00 12.91           O',\n",
       " 'ATOM    236  CB  CYS A  28       2.912   8.210   2.680  1.00  9.81           C',\n",
       " 'ATOM    237  SG  CYS A  28       1.804   6.853   2.197  1.00  9.93           S',\n",
       " 'ATOM    238  N   GLY A  29       3.546  11.391   2.430  1.00 10.76           N',\n",
       " 'ATOM    239  CA  GLY A  29       4.295  12.472   3.049  1.00 11.93           C',\n",
       " 'ATOM    240  C   GLY A  29       3.416  13.524   3.596  1.00 12.60           C',\n",
       " 'ATOM    241  O   GLY A  29       3.985  14.574   4.052  1.00 15.82           O',\n",
       " 'ATOM    242  OXT GLY A  29       2.168  13.386   3.672  1.00 11.37           O']"
      ]
     },
     "execution_count": 39,
     "metadata": {},
     "output_type": "execute_result"
    }
   ],
   "source": [
    "lines2"
   ]
  },
  {
   "cell_type": "code",
   "execution_count": 28,
   "metadata": {},
   "outputs": [
    {
     "data": {
      "text/plain": [
       "list"
      ]
     },
     "execution_count": 28,
     "metadata": {},
     "output_type": "execute_result"
    }
   ],
   "source": [
    "type(lines)"
   ]
  },
  {
   "cell_type": "code",
   "execution_count": 29,
   "metadata": {},
   "outputs": [
    {
     "data": {
      "text/plain": [
       "13"
      ]
     },
     "execution_count": 29,
     "metadata": {},
     "output_type": "execute_result"
    }
   ],
   "source": [
    "len(lines)"
   ]
  },
  {
   "cell_type": "code",
   "execution_count": 22,
   "metadata": {},
   "outputs": [],
   "source": [
    "# Vamos a entender el funcionamiento de SPLIT\n",
    "frases1 = \"Frase1. La segunda frase. Tercera frase.\"\n",
    "frase2 = \"Una frase. Dos frases. Tercera frase mas larga. Cuarta frase.\""
   ]
  },
  {
   "cell_type": "code",
   "execution_count": 25,
   "metadata": {},
   "outputs": [
    {
     "data": {
      "text/plain": [
       "['Una frase', ' Dos frases', ' Tercera frase mas larga', ' Cuarta frase', '']"
      ]
     },
     "execution_count": 25,
     "metadata": {},
     "output_type": "execute_result"
    }
   ],
   "source": [
    "frases1.split(\".\")\n",
    "frase2.split(\".\")"
   ]
  },
  {
   "cell_type": "code",
   "execution_count": 30,
   "metadata": {},
   "outputs": [],
   "source": [
    "# Fijaos que hemos importado una librería, os, que se trata de la parte de Python que contiene funciones útiles para\n",
    "# interactuar con el sistema operativo. En nuestro caso, os.linesep contiene el carácter '\\n' que es el salto de línea en \n",
    "# Linux."
   ]
  },
  {
   "cell_type": "code",
   "execution_count": 32,
   "metadata": {},
   "outputs": [
    {
     "name": "stdout",
     "output_type": "stream",
     "text": [
      "ATOM    232  N   CYS A  28       3.977   8.402   0.487  1.00 10.53           N\n",
      "ATOM    233  CA  CYS A  28       3.295   9.146   1.517  1.00 10.04           C\n",
      "ATOM    234  C   CYS A  28       4.174  10.264   2.053  1.00 10.31           C\n",
      "ATOM    235  O   CYS A  28       5.378  10.108   2.202  1.00 12.91           O\n",
      "ATOM    236  CB  CYS A  28       2.912   8.210   2.680  1.00  9.81           C\n",
      "ATOM    237  SG  CYS A  28       1.804   6.853   2.197  1.00  9.93           S\n",
      "ATOM    238  N   GLY A  29       3.546  11.391   2.430  1.00 10.76           N\n",
      "ATOM    239  CA  GLY A  29       4.295  12.472   3.049  1.00 11.93           C\n",
      "ATOM    240  C   GLY A  29       3.416  13.524   3.596  1.00 12.60           C\n",
      "ATOM    241  O   GLY A  29       3.985  14.574   4.052  1.00 15.82           O\n",
      "ATOM    242  OXT GLY A  29       2.168  13.386   3.672  1.00 11.37           O\n"
     ]
    }
   ],
   "source": [
    "for line in lines:\n",
    "    if line.startswith('ATOM'):\n",
    "        print(line)"
   ]
  },
  {
   "cell_type": "code",
   "execution_count": 42,
   "metadata": {},
   "outputs": [
    {
     "name": "stdout",
     "output_type": "stream",
     "text": [
      "['ATOM    232  N   CYS A  28       3.977   8.402   0.487  1.00 10.53           N', 'ATOM    233  CA  CYS A  28       3.295   9.146   1.517  1.00 10.04           C', 'ATOM    234  C   CYS A  28       4.174  10.264   2.053  1.00 10.31           C', 'ATOM    235  O   CYS A  28       5.378  10.108   2.202  1.00 12.91           O', 'ATOM    236  CB  CYS A  28       2.912   8.210   2.680  1.00  9.81           C', 'ATOM    237  SG  CYS A  28       1.804   6.853   2.197  1.00  9.93           S', 'ATOM    238  N   GLY A  29       3.546  11.391   2.430  1.00 10.76           N', 'ATOM    239  CA  GLY A  29       4.295  12.472   3.049  1.00 11.93           C', 'ATOM    240  C   GLY A  29       3.416  13.524   3.596  1.00 12.60           C', 'ATOM    241  O   GLY A  29       3.985  14.574   4.052  1.00 15.82           O', 'ATOM    242  OXT GLY A  29       2.168  13.386   3.672  1.00 11.37           O']\n"
     ]
    }
   ],
   "source": [
    "# probamos en guardar la información\n",
    "lines_atom = []\n",
    "for line in lines:\n",
    "    if line.startswith('ATOM'):\n",
    "        lines_atom.append(line) #añadimos cada linea a la lista lines_atom\n",
    "print(lines_atom)"
   ]
  },
  {
   "cell_type": "code",
   "execution_count": 53,
   "metadata": {},
   "outputs": [],
   "source": [
    "# Definimos una función para que haga la misma operación en manera resumida, ordenada y bonita!\n",
    "def cuenta_frase(string):\n",
    "    num_frases = string.count(\"\\n\")\n",
    "    return num_frases"
   ]
  },
  {
   "cell_type": "code",
   "execution_count": 56,
   "metadata": {},
   "outputs": [
    {
     "data": {
      "text/plain": [
       "12"
      ]
     },
     "execution_count": 56,
     "metadata": {},
     "output_type": "execute_result"
    }
   ],
   "source": [
    "# Ejectuamos la función\n",
    "cuenta_frase(molecula)"
   ]
  },
  {
   "cell_type": "markdown",
   "metadata": {},
   "source": [
    "## LISTAS"
   ]
  },
  {
   "cell_type": "code",
   "execution_count": 58,
   "metadata": {},
   "outputs": [
    {
     "name": "stdout",
     "output_type": "stream",
     "text": [
      "['Pepe', 'Lucia', 'Ricardo', 'Paco']\n"
     ]
    }
   ],
   "source": [
    "# Listas\n",
    "\n",
    "names = [\"Pepe\", \"Lucia\", \"Ricardo\", \"Paco\"]\n",
    "print(names)"
   ]
  },
  {
   "cell_type": "code",
   "execution_count": 62,
   "metadata": {},
   "outputs": [],
   "source": [
    "len(names) # cuenta los elementos del objeto\n",
    "names.sort() # ordenar en A-Z"
   ]
  },
  {
   "cell_type": "code",
   "execution_count": 64,
   "metadata": {},
   "outputs": [
    {
     "data": {
      "text/plain": [
       "['Lucia', 'Paco', 'Pepe', 'Ricardo']"
      ]
     },
     "execution_count": 64,
     "metadata": {},
     "output_type": "execute_result"
    }
   ],
   "source": [
    "names"
   ]
  },
  {
   "cell_type": "code",
   "execution_count": 67,
   "metadata": {},
   "outputs": [
    {
     "data": {
      "text/plain": [
       "'Pepe'"
      ]
     },
     "execution_count": 67,
     "metadata": {},
     "output_type": "execute_result"
    }
   ],
   "source": [
    "names[2] # hago consulta del elemento en posición 3"
   ]
  },
  {
   "cell_type": "code",
   "execution_count": 72,
   "metadata": {},
   "outputs": [
    {
     "data": {
      "text/plain": [
       "'Paco'"
      ]
     },
     "execution_count": 72,
     "metadata": {},
     "output_type": "execute_result"
    }
   ],
   "source": [
    "names[-3] # hago consulta desde el último elemento"
   ]
  },
  {
   "cell_type": "code",
   "execution_count": 77,
   "metadata": {},
   "outputs": [
    {
     "data": {
      "text/plain": [
       "['Paco', 'Pepe']"
      ]
     },
     "execution_count": 77,
     "metadata": {},
     "output_type": "execute_result"
    }
   ],
   "source": [
    "names[1:3] # hago una consulta con el resultado uno o más de un elemento -1"
   ]
  },
  {
   "cell_type": "code",
   "execution_count": 80,
   "metadata": {},
   "outputs": [
    {
     "data": {
      "text/plain": [
       "[]"
      ]
     },
     "execution_count": 80,
     "metadata": {},
     "output_type": "execute_result"
    }
   ],
   "source": [
    "names[-1:-3] # funciona solo para elemento de izq a dcha"
   ]
  },
  {
   "cell_type": "code",
   "execution_count": 87,
   "metadata": {},
   "outputs": [],
   "source": [
    "# quiero añadir un nuevo miembro al equipo Barbara\n",
    "names.append(\"Barbara\")\n",
    "names.sort()"
   ]
  },
  {
   "cell_type": "code",
   "execution_count": 88,
   "metadata": {},
   "outputs": [
    {
     "data": {
      "text/plain": [
       "['Barbara',\n",
       " 'Barbara',\n",
       " 'Barbara',\n",
       " 'Barbara',\n",
       " 'Barbara',\n",
       " 'Lucia',\n",
       " 'Paco',\n",
       " 'Pepe',\n",
       " 'Ricardo']"
      ]
     },
     "execution_count": 88,
     "metadata": {},
     "output_type": "execute_result"
    }
   ],
   "source": [
    "names"
   ]
  },
  {
   "cell_type": "markdown",
   "metadata": {},
   "source": [
    "## TUPLAS"
   ]
  },
  {
   "cell_type": "code",
   "execution_count": 89,
   "metadata": {},
   "outputs": [],
   "source": [
    "# las tuplas se utilizan cuando necesitamos almacenar poco valores, \n",
    "# ej. coordenadas\n",
    "tupla = (12.5, 60.5)\n"
   ]
  },
  {
   "cell_type": "markdown",
   "metadata": {},
   "source": [
    "## SET"
   ]
  },
  {
   "cell_type": "code",
   "execution_count": 95,
   "metadata": {},
   "outputs": [],
   "source": [
    "# Creamos un listado único o set \n",
    "s = set()"
   ]
  },
  {
   "cell_type": "code",
   "execution_count": 96,
   "metadata": {},
   "outputs": [],
   "source": [
    "# añadimos valores\n",
    "s.add(2)\n",
    "s.add(5)\n",
    "s.add(6)"
   ]
  },
  {
   "cell_type": "code",
   "execution_count": 98,
   "metadata": {},
   "outputs": [
    {
     "data": {
      "text/plain": [
       "set"
      ]
     },
     "execution_count": 98,
     "metadata": {},
     "output_type": "execute_result"
    }
   ],
   "source": [
    "type(s)"
   ]
  },
  {
   "cell_type": "code",
   "execution_count": 100,
   "metadata": {},
   "outputs": [
    {
     "data": {
      "text/plain": [
       "{2, 5, 6}"
      ]
     },
     "execution_count": 100,
     "metadata": {},
     "output_type": "execute_result"
    }
   ],
   "source": [
    "s"
   ]
  },
  {
   "cell_type": "code",
   "execution_count": 102,
   "metadata": {},
   "outputs": [
    {
     "data": {
      "text/plain": [
       "{2, 5, 6}"
      ]
     },
     "execution_count": 102,
     "metadata": {},
     "output_type": "execute_result"
    }
   ],
   "source": [
    "s.add(5) # admite solo valores únicos\n",
    "s"
   ]
  },
  {
   "cell_type": "code",
   "execution_count": 103,
   "metadata": {},
   "outputs": [
    {
     "data": {
      "text/plain": [
       "{2, 6}"
      ]
     },
     "execution_count": 103,
     "metadata": {},
     "output_type": "execute_result"
    }
   ],
   "source": [
    "s.remove(5) # quitamos elementos\n",
    "s"
   ]
  },
  {
   "cell_type": "markdown",
   "metadata": {},
   "source": [
    "## DICCIONARIOS"
   ]
  },
  {
   "cell_type": "code",
   "execution_count": 104,
   "metadata": {},
   "outputs": [
    {
     "data": {
      "text/plain": [
       "dict"
      ]
     },
     "execution_count": 104,
     "metadata": {},
     "output_type": "execute_result"
    }
   ],
   "source": [
    "# Configuramos un dict o dictionary o diccionario\n",
    "neoland = {\n",
    "    \"Enrique\": \"Data Scientist\",\n",
    "    \"María\":\"Data Arquitect\",\n",
    "    \"Juan\":\"Data Engineer\",\n",
    "    \"Jorge\":\"Data Analyst\",\n",
    "    \"Noelia\":\"Data y nada más\",\n",
    "    \"Raquel\":\"Data Specialist\",\n",
    "    \"Rodrigo\":\"Data y no sé\",\n",
    "    \"Eduardo\":\"Dataaaa\"\n",
    "          }\n",
    "type(neoland) # imprimimos el tipo de objeto"
   ]
  },
  {
   "cell_type": "code",
   "execution_count": 106,
   "metadata": {},
   "outputs": [
    {
     "data": {
      "text/plain": [
       "8"
      ]
     },
     "execution_count": 106,
     "metadata": {},
     "output_type": "execute_result"
    }
   ],
   "source": [
    "len(neoland) # contamos los elementos - pares/valor"
   ]
  },
  {
   "cell_type": "code",
   "execution_count": 110,
   "metadata": {},
   "outputs": [
    {
     "data": {
      "text/plain": [
       "'Data Arquitect'"
      ]
     },
     "execution_count": 110,
     "metadata": {},
     "output_type": "execute_result"
    }
   ],
   "source": [
    "neoland[\"María\"] # buscar el elemento que su key o parámetro sea María, devolverá su valor"
   ]
  },
  {
   "cell_type": "code",
   "execution_count": 112,
   "metadata": {},
   "outputs": [
    {
     "data": {
      "text/plain": [
       "dict_keys(['Enrique', 'María', 'Juan', 'Jorge', 'Noelia', 'Raquel', 'Rodrigo', 'Eduardo'])"
      ]
     },
     "execution_count": 112,
     "metadata": {},
     "output_type": "execute_result"
    }
   ],
   "source": [
    "neoland.keys() # llamamos los elemwentos por KEY"
   ]
  },
  {
   "cell_type": "code",
   "execution_count": 114,
   "metadata": {},
   "outputs": [
    {
     "data": {
      "text/plain": [
       "dict_items([('Enrique', 'Data Scientist'), ('María', 'Data Arquitect'), ('Juan', 'Data Engineer'), ('Jorge', 'Data Analyst'), ('Noelia', 'Data y nada más'), ('Raquel', 'Data Specialist'), ('Rodrigo', 'Data y no sé'), ('Eduardo', 'Dataaaa')])"
      ]
     },
     "execution_count": 114,
     "metadata": {},
     "output_type": "execute_result"
    }
   ],
   "source": [
    "neoland.items() # devolverá los pares"
   ]
  },
  {
   "cell_type": "code",
   "execution_count": 116,
   "metadata": {},
   "outputs": [
    {
     "data": {
      "text/plain": [
       "{'Enrique': 'Data Scientist',\n",
       " 'María': 'Data Arquitect',\n",
       " 'Juan': 'Data Engineer',\n",
       " 'Jorge': 'Data Analyst',\n",
       " 'Noelia': 'Data y nada más',\n",
       " 'Raquel': 'Data Specialist',\n",
       " 'Rodrigo': 'Data y no sé',\n",
       " 'Eduardo': 'Dataaaa',\n",
       " 'Marco': 'Profesor'}"
      ]
     },
     "execution_count": 116,
     "metadata": {},
     "output_type": "execute_result"
    }
   ],
   "source": [
    "# para añadir un nuevo elemento (par/valor) , ej. el profesor\n",
    "neoland[\"Marco\"] = \"Profesor\"\n",
    "neoland"
   ]
  },
  {
   "cell_type": "code",
   "execution_count": 119,
   "metadata": {},
   "outputs": [
    {
     "data": {
      "text/plain": [
       "dict"
      ]
     },
     "execution_count": 119,
     "metadata": {},
     "output_type": "execute_result"
    }
   ],
   "source": [
    "type(neoland)"
   ]
  },
  {
   "cell_type": "code",
   "execution_count": 120,
   "metadata": {},
   "outputs": [
    {
     "data": {
      "text/plain": [
       "['ATOM    232  N   CYS A  28       3.977   8.402   0.487  1.00 10.53           N',\n",
       " 'ATOM    233  CA  CYS A  28       3.295   9.146   1.517  1.00 10.04           C',\n",
       " 'ATOM    234  C   CYS A  28       4.174  10.264   2.053  1.00 10.31           C',\n",
       " 'ATOM    235  O   CYS A  28       5.378  10.108   2.202  1.00 12.91           O',\n",
       " 'ATOM    236  CB  CYS A  28       2.912   8.210   2.680  1.00  9.81           C',\n",
       " 'ATOM    237  SG  CYS A  28       1.804   6.853   2.197  1.00  9.93           S',\n",
       " 'ATOM    238  N   GLY A  29       3.546  11.391   2.430  1.00 10.76           N',\n",
       " 'ATOM    239  CA  GLY A  29       4.295  12.472   3.049  1.00 11.93           C',\n",
       " 'ATOM    240  C   GLY A  29       3.416  13.524   3.596  1.00 12.60           C',\n",
       " 'ATOM    241  O   GLY A  29       3.985  14.574   4.052  1.00 15.82           O',\n",
       " 'ATOM    242  OXT GLY A  29       2.168  13.386   3.672  1.00 11.37           O']"
      ]
     },
     "execution_count": 120,
     "metadata": {},
     "output_type": "execute_result"
    }
   ],
   "source": [
    "lines_atom"
   ]
  },
  {
   "cell_type": "code",
   "execution_count": 125,
   "metadata": {},
   "outputs": [],
   "source": [
    "# Creamos un dict vacio\n",
    "\n",
    "dic_tipo = {}\n",
    "\n",
    "for line in lines_atom:\n",
    "    tipo = line[-1]\n",
    "    # Una vez tenemos el tipo guardado, queremos ver si existe ya en el diccionario.\n",
    "    # Si no existe, crearemos la clave que contendrá una lista en la que añadiremos nuestra línea:\n",
    "    if not dic_tipo.get(tipo):\n",
    "        dic_tipo[tipo] = [line]\n",
    "    else:\n",
    "        # si ya existe añadimos a la lista una frase:\n",
    "        dic_tipo[tipo].append(line)"
   ]
  },
  {
   "cell_type": "code",
   "execution_count": 133,
   "metadata": {},
   "outputs": [
    {
     "data": {
      "text/plain": [
       "{'N': ['ATOM    232  N   CYS A  28       3.977   8.402   0.487  1.00 10.53           N',\n",
       "  'ATOM    238  N   GLY A  29       3.546  11.391   2.430  1.00 10.76           N'],\n",
       " 'C': ['ATOM    233  CA  CYS A  28       3.295   9.146   1.517  1.00 10.04           C',\n",
       "  'ATOM    234  C   CYS A  28       4.174  10.264   2.053  1.00 10.31           C',\n",
       "  'ATOM    236  CB  CYS A  28       2.912   8.210   2.680  1.00  9.81           C',\n",
       "  'ATOM    239  CA  GLY A  29       4.295  12.472   3.049  1.00 11.93           C',\n",
       "  'ATOM    240  C   GLY A  29       3.416  13.524   3.596  1.00 12.60           C'],\n",
       " 'O': ['ATOM    235  O   CYS A  28       5.378  10.108   2.202  1.00 12.91           O',\n",
       "  'ATOM    241  O   GLY A  29       3.985  14.574   4.052  1.00 15.82           O',\n",
       "  'ATOM    242  OXT GLY A  29       2.168  13.386   3.672  1.00 11.37           O'],\n",
       " 'S': ['ATOM    237  SG  CYS A  28       1.804   6.853   2.197  1.00  9.93           S']}"
      ]
     },
     "execution_count": 133,
     "metadata": {},
     "output_type": "execute_result"
    }
   ],
   "source": [
    "dic_tipo"
   ]
  }
 ],
 "metadata": {
  "kernelspec": {
   "display_name": "Python 3",
   "language": "python",
   "name": "python3"
  },
  "language_info": {
   "codemirror_mode": {
    "name": "ipython",
    "version": 3
   },
   "file_extension": ".py",
   "mimetype": "text/x-python",
   "name": "python",
   "nbconvert_exporter": "python",
   "pygments_lexer": "ipython3",
   "version": "3.7.3"
  }
 },
 "nbformat": 4,
 "nbformat_minor": 4
}
