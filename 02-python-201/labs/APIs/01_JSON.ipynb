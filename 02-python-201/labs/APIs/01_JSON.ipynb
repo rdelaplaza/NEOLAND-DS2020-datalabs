{
 "cells": [
  {
   "cell_type": "markdown",
   "metadata": {},
   "source": [
    "# Adquisión de datos `DIRECTO`\n",
    "\n",
    "- [X] descarga directa\n",
    "- petición GET a través de API de terceros (ej. AEMET, Ayto. Barcelona....)\n",
    "- web crawling (que es una práctica ilegal...pero muy de moda entre los hackers!?¿!)"
   ]
  },
  {
   "cell_type": "markdown",
   "metadata": {},
   "source": [
    "***\n",
    "## Primer paso\n",
    "Es trabajar con los datos en formato `JSON`"
   ]
  },
  {
   "cell_type": "code",
   "execution_count": 1,
   "metadata": {},
   "outputs": [
    {
     "name": "stdout",
     "output_type": "stream",
     "text": [
      "<class 'dict'>\n",
      "{'nombre': 'Yann', 'apellidos': {'apellido1': 'LeCun', 'apellido2': '-'}, 'edad': 56}\n",
      "<class 'list'>\n",
      "[1, 2, 3]\n"
     ]
    }
   ],
   "source": [
    "# Primero vamos a entender el funcionamiento del JSON a tráves los diccionarios (dict)\n",
    "\n",
    "# Construimos un diccionario de ejemplo y mostramos el tipo de datos y el contenido de la variable.\n",
    "diccionario_ejemplo = {\"nombre\": \"Yann\", \"apellidos\": {\"apellido1\": \"LeCun\", \"apellido2\": \"-\"}, \"edad\": 56}\n",
    "print(type(diccionario_ejemplo))\n",
    "print(diccionario_ejemplo)\n",
    "\n",
    "# Construimos una lista de ejemplo y mostramos el tipo de datos y el contenido de la variable.\n",
    "lista_ejemplo = [1, 2, 3]\n",
    "print(type(lista_ejemplo))\n",
    "print(lista_ejemplo)"
   ]
  },
  {
   "cell_type": "code",
   "execution_count": 5,
   "metadata": {},
   "outputs": [
    {
     "name": "stdout",
     "output_type": "stream",
     "text": [
      "<class 'list'>\n"
     ]
    }
   ],
   "source": [
    "nested_dict = [diccionario_ejemplo]\n",
    "nested_dict\n",
    "print(type(nested_dict))"
   ]
  },
  {
   "cell_type": "code",
   "execution_count": 8,
   "metadata": {},
   "outputs": [
    {
     "data": {
      "text/plain": [
       "[{'nombre': 'Yann',\n",
       "  'apellidos': {'apellido1': 'LeCun', 'apellido2': '-'},\n",
       "  'edad': 56}]"
      ]
     },
     "execution_count": 8,
     "metadata": {},
     "output_type": "execute_result"
    }
   ],
   "source": [
    "nested_dict"
   ]
  },
  {
   "cell_type": "code",
   "execution_count": 9,
   "metadata": {},
   "outputs": [
    {
     "data": {
      "text/plain": [
       "dict"
      ]
     },
     "execution_count": 9,
     "metadata": {},
     "output_type": "execute_result"
    }
   ],
   "source": [
    "type(nested_dict[0])"
   ]
  },
  {
   "cell_type": "code",
   "execution_count": 10,
   "metadata": {},
   "outputs": [],
   "source": [
    "# Trataremos los json a parte\n",
    "import json\n",
    "\n",
    "# Mostramos la representación del json del diccionario\n",
    "json_dict = json.dumps(diccionario_ejemplo)"
   ]
  },
  {
   "cell_type": "code",
   "execution_count": 12,
   "metadata": {},
   "outputs": [
    {
     "name": "stdout",
     "output_type": "stream",
     "text": [
      "<class 'str'>\n",
      "{\"nombre\": \"Yann\", \"apellidos\": {\"apellido1\": \"LeCun\", \"apellido2\": \"-\"}, \"edad\": 56}\n"
     ]
    }
   ],
   "source": [
    "# Mostramos su estructura\n",
    "print(type(json_dict))\n",
    "print(json_dict)"
   ]
  },
  {
   "cell_type": "code",
   "execution_count": 13,
   "metadata": {},
   "outputs": [],
   "source": [
    "# Mostramos la representación del json de la lista\n",
    "json_list = json.dumps(lista_ejemplo)"
   ]
  },
  {
   "cell_type": "code",
   "execution_count": 14,
   "metadata": {},
   "outputs": [
    {
     "name": "stdout",
     "output_type": "stream",
     "text": [
      "<class 'str'>\n",
      "[1, 2, 3]\n"
     ]
    }
   ],
   "source": [
    "print(type(json_list))\n",
    "print(json_list)"
   ]
  },
  {
   "cell_type": "markdown",
   "metadata": {},
   "source": [
    "Este proceso a través de la función `json.dumps` del json, es **serializar** el objeto, en este caso siempre será en formato 'string'."
   ]
  },
  {
   "cell_type": "markdown",
   "metadata": {},
   "source": [
    "***\n",
    "El proceso inverso conocido como **deserializar** crea objetos Python en `list`y `dict` a través de la función `json.loads`"
   ]
  },
  {
   "cell_type": "code",
   "execution_count": 16,
   "metadata": {},
   "outputs": [
    {
     "name": "stdout",
     "output_type": "stream",
     "text": [
      "{'nombre': 'Yann', 'apellidos': {'apellido1': 'LeCun', 'apellido2': '-'}, 'edad': 56}\n",
      "<class 'dict'>\n"
     ]
    }
   ],
   "source": [
    "# Como el caso anterior convertimos los JSONs en dict y list\n",
    "json2dict = json.loads(json_dict)\n",
    "print(json2dict)\n",
    "print(type(json2dict))"
   ]
  },
  {
   "cell_type": "code",
   "execution_count": 18,
   "metadata": {},
   "outputs": [
    {
     "ename": "TypeError",
     "evalue": "the JSON object must be str, bytes or bytearray, not list",
     "output_type": "error",
     "traceback": [
      "\u001b[0;31m---------------------------------------------------------------------------\u001b[0m",
      "\u001b[0;31mTypeError\u001b[0m                                 Traceback (most recent call last)",
      "\u001b[0;32m<ipython-input-18-b251101396ad>\u001b[0m in \u001b[0;36m<module>\u001b[0;34m\u001b[0m\n\u001b[1;32m      1\u001b[0m \u001b[0;31m# No podemos convertir a json datos en lista o diccionarios, tienen que ser en formato o class STR, BYTES o BYTESARRAY\u001b[0m\u001b[0;34m\u001b[0m\u001b[0;34m\u001b[0m\u001b[0;34m\u001b[0m\u001b[0m\n\u001b[0;32m----> 2\u001b[0;31m \u001b[0mjson2dict_2\u001b[0m \u001b[0;34m=\u001b[0m \u001b[0mjson\u001b[0m\u001b[0;34m.\u001b[0m\u001b[0mloads\u001b[0m\u001b[0;34m(\u001b[0m\u001b[0mnested_dict\u001b[0m\u001b[0;34m)\u001b[0m\u001b[0;34m\u001b[0m\u001b[0;34m\u001b[0m\u001b[0m\n\u001b[0m",
      "\u001b[0;32m/opt/conda/lib/python3.8/json/__init__.py\u001b[0m in \u001b[0;36mloads\u001b[0;34m(s, cls, object_hook, parse_float, parse_int, parse_constant, object_pairs_hook, **kw)\u001b[0m\n\u001b[1;32m    339\u001b[0m     \u001b[0;32melse\u001b[0m\u001b[0;34m:\u001b[0m\u001b[0;34m\u001b[0m\u001b[0;34m\u001b[0m\u001b[0m\n\u001b[1;32m    340\u001b[0m         \u001b[0;32mif\u001b[0m \u001b[0;32mnot\u001b[0m \u001b[0misinstance\u001b[0m\u001b[0;34m(\u001b[0m\u001b[0ms\u001b[0m\u001b[0;34m,\u001b[0m \u001b[0;34m(\u001b[0m\u001b[0mbytes\u001b[0m\u001b[0;34m,\u001b[0m \u001b[0mbytearray\u001b[0m\u001b[0;34m)\u001b[0m\u001b[0;34m)\u001b[0m\u001b[0;34m:\u001b[0m\u001b[0;34m\u001b[0m\u001b[0;34m\u001b[0m\u001b[0m\n\u001b[0;32m--> 341\u001b[0;31m             raise TypeError(f'the JSON object must be str, bytes or bytearray, '\n\u001b[0m\u001b[1;32m    342\u001b[0m                             f'not {s.__class__.__name__}')\n\u001b[1;32m    343\u001b[0m         \u001b[0ms\u001b[0m \u001b[0;34m=\u001b[0m \u001b[0ms\u001b[0m\u001b[0;34m.\u001b[0m\u001b[0mdecode\u001b[0m\u001b[0;34m(\u001b[0m\u001b[0mdetect_encoding\u001b[0m\u001b[0;34m(\u001b[0m\u001b[0ms\u001b[0m\u001b[0;34m)\u001b[0m\u001b[0;34m,\u001b[0m \u001b[0;34m'surrogatepass'\u001b[0m\u001b[0;34m)\u001b[0m\u001b[0;34m\u001b[0m\u001b[0;34m\u001b[0m\u001b[0m\n",
      "\u001b[0;31mTypeError\u001b[0m: the JSON object must be str, bytes or bytearray, not list"
     ]
    }
   ],
   "source": [
    "# No podemos convertir a json datos en lista o diccionarios, tienen que ser en formato o class STR, BYTES o BYTEARRAY\n",
    "json2dict_2 = json.loads(nested_dict)"
   ]
  },
  {
   "cell_type": "code",
   "execution_count": 20,
   "metadata": {},
   "outputs": [
    {
     "name": "stdout",
     "output_type": "stream",
     "text": [
      "[1, 2, 3]\n",
      "<class 'list'>\n"
     ]
    }
   ],
   "source": [
    "# Convertimos el objeto (anteriormente en lista) de json a list\n",
    "json2list = json.loads(json_list)\n",
    "print(json2list)\n",
    "print(type(json2list))"
   ]
  },
  {
   "cell_type": "markdown",
   "metadata": {},
   "source": [
    "***\n",
    "Para mejorar la legibilidad de los datos que obtendremos de las API, definiremos una función que mostrará cadenas JSON por pantalla formateadas para mejorar la lectura. La función aceptará tanto cadenas de carácteres con contenido JSON como objetos Python, y mostrará el contenido por pantalla.\n",
    "\n",
    "Además, la función recibirá un parámetro opcional que nos permitirá indicar el número máximo de líneas que hay que mostrar. Así, podremos usar la función para visualizar las primeras líneas de un JSON largo, sin tener que mostrar el JSON completo por pantalla."
   ]
  },
  {
   "cell_type": "code",
   "execution_count": 56,
   "metadata": {},
   "outputs": [],
   "source": [
    "# Definimos una función `json_print` que tiene un parámetro (json_data) y uno opcional (limit)\n",
    "# El parámetro sort_keys FALSE para ordenar o no alfabeticamente\n",
    "# el parámetro indent para buscar entre los anidados (niveles)\n",
    "def json_print(json_data, limit=None):\n",
    "    if isinstance(json_data, (str)):\n",
    "        json_data = json.loads(json_data)\n",
    "    nice = json.dumps(json_data, sort_keys=False, indent=3, separators=(',',':'))\n",
    "    print(\"\\n\".join(nice.split(\"\\n\")[0:limit]))\n",
    "    if limit is not None:\n",
    "        print(\"[....]\")"
   ]
  },
  {
   "cell_type": "code",
   "execution_count": 33,
   "metadata": {},
   "outputs": [],
   "source": [
    "# Aplicamos la función a un tweet\n",
    "tweet = {\n",
    "  \"created_at\": \"Thu Apr 06 15:24:15 +0000 2017\",\n",
    "  \"id_str\": \"850006245121695744\",\n",
    "  \"text\": \"1\\/ Today we\\u2019re sharing our vision for the future of the Twitter API platform!\\nhttps:\\/\\/t.co\\/XweGngmxlP\",\n",
    "  \"user\": {\n",
    "    \"id\": 2244994945,\n",
    "    \"name\": \"Twitter Dev\",\n",
    "    \"screen_name\": \"TwitterDev\",\n",
    "    \"location\": \"Internet\",\n",
    "    \"url\": \"https:\\/\\/dev.twitter.com\\/\",\n",
    "    \"description\": \"Your official source for Twitter Platform news, updates & events. Need technical help? Visit https:\\/\\/twittercommunity.com\\/ \\u2328\\ufe0f #TapIntoTwitter\"\n",
    "  },\n",
    "  \"place\": {   \n",
    "  },\n",
    "  \"entities\": {\n",
    "    \"hashtags\": [      \n",
    "    ],\n",
    "    \"urls\": [\n",
    "      {\n",
    "        \"url\": \"https:\\/\\/t.co\\/XweGngmxlP\",\n",
    "        \"unwound\": {\n",
    "          \"url\": \"https:\\/\\/cards.twitter.com\\/cards\\/18ce53wgo4h\\/3xo1c\",\n",
    "          \"title\": \"Building the Future of the Twitter API Platform\"\n",
    "        }\n",
    "      }\n",
    "    ],\n",
    "    \"user_mentions\": [     \n",
    "    ]\n",
    "  }\n",
    "}"
   ]
  },
  {
   "cell_type": "code",
   "execution_count": 34,
   "metadata": {},
   "outputs": [
    {
     "data": {
      "text/plain": [
       "{'created_at': 'Thu Apr 06 15:24:15 +0000 2017',\n",
       " 'id_str': '850006245121695744',\n",
       " 'text': '1\\\\/ Today we’re sharing our vision for the future of the Twitter API platform!\\nhttps:\\\\/\\\\/t.co\\\\/XweGngmxlP',\n",
       " 'user': {'id': 2244994945,\n",
       "  'name': 'Twitter Dev',\n",
       "  'screen_name': 'TwitterDev',\n",
       "  'location': 'Internet',\n",
       "  'url': 'https:\\\\/\\\\/dev.twitter.com\\\\/',\n",
       "  'description': 'Your official source for Twitter Platform news, updates & events. Need technical help? Visit https:\\\\/\\\\/twittercommunity.com\\\\/ ⌨️ #TapIntoTwitter'},\n",
       " 'place': {},\n",
       " 'entities': {'hashtags': [],\n",
       "  'urls': [{'url': 'https:\\\\/\\\\/t.co\\\\/XweGngmxlP',\n",
       "    'unwound': {'url': 'https:\\\\/\\\\/cards.twitter.com\\\\/cards\\\\/18ce53wgo4h\\\\/3xo1c',\n",
       "     'title': 'Building the Future of the Twitter API Platform'}}],\n",
       "  'user_mentions': []}}"
      ]
     },
     "execution_count": 34,
     "metadata": {},
     "output_type": "execute_result"
    }
   ],
   "source": [
    "tweet"
   ]
  },
  {
   "cell_type": "code",
   "execution_count": 26,
   "metadata": {},
   "outputs": [
    {
     "data": {
      "text/plain": [
       "dict"
      ]
     },
     "execution_count": 26,
     "metadata": {},
     "output_type": "execute_result"
    }
   ],
   "source": [
    "type(tweet)"
   ]
  },
  {
   "cell_type": "code",
   "execution_count": 37,
   "metadata": {},
   "outputs": [
    {
     "name": "stdout",
     "output_type": "stream",
     "text": [
      "{\n",
      "   \"created_at\":\"Thu Apr 06 15:24:15 +0000 2017\",\n",
      "   \"entities\":{\n",
      "      \"hashtags\":[],\n",
      "      \"urls\":[\n",
      "         {\n",
      "            \"unwound\":{\n",
      "               \"title\":\"Building the Future of the Twitter API Platform\",\n",
      "               \"url\":\"https:\\\\/\\\\/cards.twitter.com\\\\/cards\\\\/18ce53wgo4h\\\\/3xo1c\"\n",
      "            },\n",
      "            \"url\":\"https:\\\\/\\\\/t.co\\\\/XweGngmxlP\"\n",
      "         }\n",
      "      ],\n",
      "      \"user_mentions\":[]\n",
      "   },\n",
      "   \"id_str\":\"850006245121695744\",\n",
      "   \"place\":{},\n",
      "   \"text\":\"1\\\\/ Today we\\u2019re sharing our vision for the future of the Twitter API platform!\\nhttps:\\\\/\\\\/t.co\\\\/XweGngmxlP\",\n",
      "   \"user\":{\n",
      "      \"description\":\"Your official source for Twitter Platform news, updates & events. Need technical help? Visit https:\\\\/\\\\/twittercommunity.com\\\\/ \\u2328\\ufe0f #TapIntoTwitter\",\n",
      "      \"id\":2244994945,\n",
      "      \"location\":\"Internet\",\n",
      "      \"name\":\"Twitter Dev\",\n",
      "      \"screen_name\":\"TwitterDev\",\n",
      "      \"url\":\"https:\\\\/\\\\/dev.twitter.com\\\\/\"\n",
      "   }\n",
      "}\n"
     ]
    }
   ],
   "source": [
    "# Convertimos este tweet en json\n",
    "json_print(tweet)"
   ]
  },
  {
   "cell_type": "code",
   "execution_count": 48,
   "metadata": {},
   "outputs": [
    {
     "name": "stdout",
     "output_type": "stream",
     "text": [
      "{\"nombre\": \"Yann\", \"apellidos\": {\"apellido1\": \"LeCun\", \"apellido2\": \"-\"}, \"edad\": 56}\n",
      "<class 'str'>\n"
     ]
    }
   ],
   "source": [
    "print(json_dict)\n",
    "print(type(json_dict))"
   ]
  },
  {
   "cell_type": "code",
   "execution_count": 46,
   "metadata": {},
   "outputs": [
    {
     "name": "stdout",
     "output_type": "stream",
     "text": [
      "{'nombre': 'Yann', 'apellidos': {'apellido1': 'LeCun', 'apellido2': '-'}, 'edad': 56}\n"
     ]
    }
   ],
   "source": [
    "print(diccionario_ejemplo)"
   ]
  },
  {
   "cell_type": "code",
   "execution_count": 47,
   "metadata": {},
   "outputs": [
    {
     "name": "stdout",
     "output_type": "stream",
     "text": [
      "<class 'dict'>\n"
     ]
    }
   ],
   "source": [
    "print(type(diccionario_ejemplo))"
   ]
  },
  {
   "cell_type": "code",
   "execution_count": 44,
   "metadata": {},
   "outputs": [
    {
     "name": "stdout",
     "output_type": "stream",
     "text": [
      "{\n",
      "   \"apellidos\":{\n",
      "      \"apellido1\":\"LeCun\",\n",
      "      \"apellido2\":\"-\"\n",
      "   },\n",
      "   \"edad\":56,\n",
      "   \"nombre\":\"Yann\"\n",
      "}\n"
     ]
    }
   ],
   "source": [
    "json_print(diccionario_ejemplo)"
   ]
  },
  {
   "cell_type": "code",
   "execution_count": 50,
   "metadata": {},
   "outputs": [
    {
     "name": "stdout",
     "output_type": "stream",
     "text": [
      "[\n",
      "   1,\n",
      "   2,\n",
      "   3\n",
      "]\n"
     ]
    }
   ],
   "source": [
    "json_print(lista_ejemplo)"
   ]
  },
  {
   "cell_type": "code",
   "execution_count": 55,
   "metadata": {},
   "outputs": [
    {
     "data": {
      "text/plain": [
       "{'nombre': 'Yann',\n",
       " 'apellidos': {'apellido1': 'LeCun', 'apellido2': '-'},\n",
       " 'edad': 56}"
      ]
     },
     "execution_count": 55,
     "metadata": {},
     "output_type": "execute_result"
    }
   ],
   "source": [
    "diccionario_ejemplo"
   ]
  },
  {
   "cell_type": "code",
   "execution_count": 57,
   "metadata": {},
   "outputs": [
    {
     "name": "stdout",
     "output_type": "stream",
     "text": [
      "{\n",
      "   \"nombre\":\"Yann\",\n",
      "   \"apellidos\":{\n",
      "[....]\n",
      "<class 'NoneType'>\n"
     ]
    }
   ],
   "source": [
    "print(type(json_print(diccionario_ejemplo, 3)))"
   ]
  }
 ],
 "metadata": {
  "kernelspec": {
   "display_name": "Python 3",
   "language": "python",
   "name": "python3"
  },
  "language_info": {
   "codemirror_mode": {
    "name": "ipython",
    "version": 3
   },
   "file_extension": ".py",
   "mimetype": "text/x-python",
   "name": "python",
   "nbconvert_exporter": "python",
   "pygments_lexer": "ipython3",
   "version": "3.8.6"
  }
 },
 "nbformat": 4,
 "nbformat_minor": 4
}
