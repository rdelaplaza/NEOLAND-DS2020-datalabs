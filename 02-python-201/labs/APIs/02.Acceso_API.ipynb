{
 "cells": [
  {
   "cell_type": "markdown",
   "metadata": {},
   "source": [
    "# Adquisión de datos `API`\n",
    "\n",
    "- [ ] descarga directa\n",
    "- [X] petición GET a través de API de terceros (ej. AEMET, Ayto. Barcelona....)\n",
    "- web crawling (que es una práctica ilegal...pero muy de moda entre los hackers!?¿!)"
   ]
  },
  {
   "cell_type": "markdown",
   "metadata": {},
   "source": [
    "*** \n",
    "## Acceso a API manualmente\n",
    "\n",
    "Podemos utilizar la librería de Python [Requests](http://docs.python-requests.org/) para realizar peticiones a web API de manera manual. Para ello, tendremos que acceder a la documentación de la API con la que queramos actuar, construir manualmente las peticiones para obtener la información deseada y procesar también manualmente la respuesta recibida.\n",
    "\n",
    "Veamos un ejemplo de petición HTTP a una API pública. El sitio http://postcodes.io/ ofrece una API de geolocalización sobre códigos postales en el Reino Unido. Leyendo la documentación, podemos ver que tiene un método GET con la URL http://api.postcodes.io/postcodes/código-postal que nos retorna información del código postal especificado. "
   ]
  },
  {
   "cell_type": "code",
   "execution_count": 26,
   "metadata": {},
   "outputs": [],
   "source": [
    "# Importamos la librería requests\n",
    "import requests\n",
    "# El parámetro sort_keys FALSE para ordenar o no alfabeticamente\n",
    "# el parámetro indent para buscar entre los anidados (niveles)\n",
    "def json_print(json_data, limit=None):\n",
    "    if isinstance(json_data, (str)):\n",
    "        json_data = json.loads(json_data)\n",
    "    nice = json.dumps(json_data, sort_keys=False, indent=3, separators=(',',':'))\n",
    "    print(\"\\n\".join(nice.split(\"\\n\")[0:limit]))\n",
    "    if limit is not None:\n",
    "        print(\"[....]\")"
   ]
  },
  {
   "cell_type": "code",
   "execution_count": 4,
   "metadata": {},
   "outputs": [],
   "source": [
    "# Realizamos una petición GET a la API por un código postal `E98 1TT`\n",
    "# Podemos utilizar opcionalmente en caso de separación por espacio la codificación ASCII %20\n",
    "response = requests.get('http://api.postcodes.io/postcodes/E98%201TT')"
   ]
  },
  {
   "cell_type": "code",
   "execution_count": 7,
   "metadata": {},
   "outputs": [],
   "source": [
    "# Realizamos una petición GET a la API por un código postal `E98 1TT`\n",
    "# Podemos utilizar opcionalmente en caso de separación por espacio la codificación ASCII %20\n",
    "response_emt = requests.get('https://openapi.emtmadrid.es/v1/hello/')"
   ]
  },
  {
   "cell_type": "code",
   "execution_count": 8,
   "metadata": {},
   "outputs": [
    {
     "data": {
      "text/plain": [
       "<Response [200]>"
      ]
     },
     "execution_count": 8,
     "metadata": {},
     "output_type": "execute_result"
    }
   ],
   "source": [
    "response_emt"
   ]
  },
  {
   "cell_type": "code",
   "execution_count": 5,
   "metadata": {},
   "outputs": [
    {
     "data": {
      "text/plain": [
       "<Response [200]>"
      ]
     },
     "execution_count": 5,
     "metadata": {},
     "output_type": "execute_result"
    }
   ],
   "source": [
    "response"
   ]
  },
  {
   "cell_type": "code",
   "execution_count": 9,
   "metadata": {},
   "outputs": [
    {
     "name": "stdout",
     "output_type": "stream",
     "text": [
      "Código de estado de la respuesta:  200 \n",
      "\n"
     ]
    }
   ],
   "source": [
    "# Mostramos los resultados de la respuesta recibida en caso de obtener `200`\n",
    "print(u\"Código de estado de la respuesta: \",response.status_code, \"\\n\")"
   ]
  },
  {
   "cell_type": "code",
   "execution_count": 15,
   "metadata": {},
   "outputs": [
    {
     "name": "stdout",
     "output_type": "stream",
     "text": [
      "{'Date': 'Fri, 11 Dec 2020 19:38:43 GMT', 'Content-Type': 'application/json; charset=utf-8', 'Transfer-Encoding': 'chunked', 'Connection': 'keep-alive', 'Set-Cookie': '__cfduid=db029573e625cd89666279b99b4bcbfda1607715523; expires=Sun, 10-Jan-21 19:38:43 GMT; path=/; domain=.postcodes.io; HttpOnly; SameSite=Lax', 'X-GNU': 'Michael J Blanchard', 'Access-Control-Allow-Origin': '*', 'ETag': 'W/\"36d-BWWNmOIYupt4CfqWuk9qrACGUjY\"', 'CF-Cache-Status': 'HIT', 'Age': '185', 'cf-request-id': '06f4e923410000ff0c2ab3c000000001', 'Report-To': '{\"endpoints\":[{\"url\":\"https:\\\\/\\\\/a.nel.cloudflare.com\\\\/report?s=HGacCwX60R38ZAq7HT2GkVp8IF2FEHMMAPIBtJfAYHTiw3MHIR5NAV8E5UdK7SCCfDGeA1UL87gfWydpo39uIy3Q%2FxrlfqWKlmI6tmLgtVhc\"}],\"group\":\"cf-nel\",\"max_age\":604800}', 'NEL': '{\"report_to\":\"cf-nel\",\"max_age\":604800}', 'Vary': 'Accept-Encoding', 'Server': 'cloudflare', 'CF-RAY': '6001aae53d65ff0c-MAD', 'Content-Encoding': 'gzip'}\n"
     ]
    }
   ],
   "source": [
    "# Mostramos la cabecera de la respuesta\n",
    "print(response.headers)"
   ]
  },
  {
   "cell_type": "code",
   "execution_count": 21,
   "metadata": {},
   "outputs": [
    {
     "name": "stdout",
     "output_type": "stream",
     "text": [
      "<class 'requests.structures.CaseInsensitiveDict'>\n"
     ]
    }
   ],
   "source": [
    "print(type(response.headers))"
   ]
  },
  {
   "cell_type": "code",
   "execution_count": 23,
   "metadata": {},
   "outputs": [
    {
     "name": "stdout",
     "output_type": "stream",
     "text": [
      "<class 'dict'>\n"
     ]
    }
   ],
   "source": [
    "print(type(dict(response.headers)))"
   ]
  },
  {
   "cell_type": "code",
   "execution_count": 34,
   "metadata": {},
   "outputs": [
    {
     "ename": "NameError",
     "evalue": "name 'json' is not defined",
     "output_type": "error",
     "traceback": [
      "\u001b[0;31m---------------------------------------------------------------------------\u001b[0m",
      "\u001b[0;31mNameError\u001b[0m                                 Traceback (most recent call last)",
      "\u001b[0;32m<ipython-input-34-08261708d5ec>\u001b[0m in \u001b[0;36m<module>\u001b[0;34m\u001b[0m\n\u001b[1;32m      3\u001b[0m \u001b[0;32mimport\u001b[0m \u001b[0mjson\u001b[0m\u001b[0;34m\u001b[0m\u001b[0;34m\u001b[0m\u001b[0m\n\u001b[1;32m      4\u001b[0m \u001b[0;32mfrom\u001b[0m \u001b[0mjson_print\u001b[0m \u001b[0;32mimport\u001b[0m \u001b[0;34m*\u001b[0m\u001b[0;34m\u001b[0m\u001b[0;34m\u001b[0m\u001b[0m\n\u001b[0;32m----> 5\u001b[0;31m \u001b[0mjson_print\u001b[0m\u001b[0;34m(\u001b[0m\u001b[0mresponse\u001b[0m\u001b[0;34m.\u001b[0m\u001b[0mheaders\u001b[0m\u001b[0;34m)\u001b[0m\u001b[0;34m\u001b[0m\u001b[0;34m\u001b[0m\u001b[0m\n\u001b[0m",
      "\u001b[0;32m~/NEOLAND_DS_professor/bootcamp_DS_202021_NEOLAND/02-python-201/API/json_print.py\u001b[0m in \u001b[0;36mjson_print\u001b[0;34m(json_data, limit)\u001b[0m\n\u001b[1;32m      4\u001b[0m \u001b[0;32mdef\u001b[0m \u001b[0mjson_print\u001b[0m\u001b[0;34m(\u001b[0m\u001b[0mjson_data\u001b[0m\u001b[0;34m,\u001b[0m \u001b[0mlimit\u001b[0m\u001b[0;34m=\u001b[0m\u001b[0;32mNone\u001b[0m\u001b[0;34m)\u001b[0m\u001b[0;34m:\u001b[0m\u001b[0;34m\u001b[0m\u001b[0;34m\u001b[0m\u001b[0m\n\u001b[1;32m      5\u001b[0m     \u001b[0;32mif\u001b[0m \u001b[0misinstance\u001b[0m\u001b[0;34m(\u001b[0m\u001b[0mjson_data\u001b[0m\u001b[0;34m,\u001b[0m \u001b[0;34m(\u001b[0m\u001b[0mstr\u001b[0m\u001b[0;34m)\u001b[0m\u001b[0;34m)\u001b[0m\u001b[0;34m:\u001b[0m\u001b[0;34m\u001b[0m\u001b[0;34m\u001b[0m\u001b[0m\n\u001b[0;32m----> 6\u001b[0;31m         \u001b[0mjson_data\u001b[0m \u001b[0;34m=\u001b[0m \u001b[0mjson\u001b[0m\u001b[0;34m.\u001b[0m\u001b[0mloads\u001b[0m\u001b[0;34m(\u001b[0m\u001b[0mjson_data\u001b[0m\u001b[0;34m)\u001b[0m\u001b[0;34m\u001b[0m\u001b[0;34m\u001b[0m\u001b[0m\n\u001b[0m\u001b[1;32m      7\u001b[0m     \u001b[0mnice\u001b[0m \u001b[0;34m=\u001b[0m \u001b[0mjson\u001b[0m\u001b[0;34m.\u001b[0m\u001b[0mdumps\u001b[0m\u001b[0;34m(\u001b[0m\u001b[0mjson_data\u001b[0m\u001b[0;34m,\u001b[0m \u001b[0msort_keys\u001b[0m\u001b[0;34m=\u001b[0m\u001b[0;32mFalse\u001b[0m\u001b[0;34m,\u001b[0m \u001b[0mindent\u001b[0m\u001b[0;34m=\u001b[0m\u001b[0;36m3\u001b[0m\u001b[0;34m,\u001b[0m \u001b[0mseparators\u001b[0m\u001b[0;34m=\u001b[0m\u001b[0;34m(\u001b[0m\u001b[0;34m','\u001b[0m\u001b[0;34m,\u001b[0m\u001b[0;34m':'\u001b[0m\u001b[0;34m)\u001b[0m\u001b[0;34m)\u001b[0m\u001b[0;34m\u001b[0m\u001b[0;34m\u001b[0m\u001b[0m\n\u001b[1;32m      8\u001b[0m     \u001b[0mprint\u001b[0m\u001b[0;34m(\u001b[0m\u001b[0;34m\"\\n\"\u001b[0m\u001b[0;34m.\u001b[0m\u001b[0mjoin\u001b[0m\u001b[0;34m(\u001b[0m\u001b[0mnice\u001b[0m\u001b[0;34m.\u001b[0m\u001b[0msplit\u001b[0m\u001b[0;34m(\u001b[0m\u001b[0;34m\"\\n\"\u001b[0m\u001b[0;34m)\u001b[0m\u001b[0;34m[\u001b[0m\u001b[0;36m0\u001b[0m\u001b[0;34m:\u001b[0m\u001b[0mlimit\u001b[0m\u001b[0;34m]\u001b[0m\u001b[0;34m)\u001b[0m\u001b[0;34m)\u001b[0m\u001b[0;34m\u001b[0m\u001b[0;34m\u001b[0m\u001b[0m\n",
      "\u001b[0;31mNameError\u001b[0m: name 'json' is not defined"
     ]
    }
   ],
   "source": [
    "# Vamos a imprimirlo en manera \"nice\" pero devolverá error si no le indico que tipo\n",
    "# de objeto tiene que ser convertido a dict o list\n",
    "import json\n",
    "from json_print import *\n",
    "json_print(response.headers)"
   ]
  },
  {
   "cell_type": "code",
   "execution_count": 27,
   "metadata": {},
   "outputs": [
    {
     "name": "stdout",
     "output_type": "stream",
     "text": [
      "{\n",
      "   \"Date\":\"Fri, 11 Dec 2020 19:38:43 GMT\",\n",
      "   \"Content-Type\":\"application/json; charset=utf-8\",\n",
      "   \"Transfer-Encoding\":\"chunked\",\n",
      "   \"Connection\":\"keep-alive\",\n",
      "   \"Set-Cookie\":\"__cfduid=db029573e625cd89666279b99b4bcbfda1607715523; expires=Sun, 10-Jan-21 19:38:43 GMT; path=/; domain=.postcodes.io; HttpOnly; SameSite=Lax\",\n",
      "   \"X-GNU\":\"Michael J Blanchard\",\n",
      "   \"Access-Control-Allow-Origin\":\"*\",\n",
      "   \"ETag\":\"W/\\\"36d-BWWNmOIYupt4CfqWuk9qrACGUjY\\\"\",\n",
      "   \"CF-Cache-Status\":\"HIT\",\n",
      "   \"Age\":\"185\",\n",
      "   \"cf-request-id\":\"06f4e923410000ff0c2ab3c000000001\",\n",
      "   \"Report-To\":\"{\\\"endpoints\\\":[{\\\"url\\\":\\\"https:\\\\/\\\\/a.nel.cloudflare.com\\\\/report?s=HGacCwX60R38ZAq7HT2GkVp8IF2FEHMMAPIBtJfAYHTiw3MHIR5NAV8E5UdK7SCCfDGeA1UL87gfWydpo39uIy3Q%2FxrlfqWKlmI6tmLgtVhc\\\"}],\\\"group\\\":\\\"cf-nel\\\",\\\"max_age\\\":604800}\",\n",
      "   \"NEL\":\"{\\\"report_to\\\":\\\"cf-nel\\\",\\\"max_age\\\":604800}\",\n",
      "   \"Vary\":\"Accept-Encoding\",\n",
      "   \"Server\":\"cloudflare\",\n",
      "   \"CF-RAY\":\"6001aae53d65ff0c-MAD\",\n",
      "   \"Content-Encoding\":\"gzip\"\n",
      "}\n"
     ]
    }
   ],
   "source": [
    "# Imprimimos en pantalla el header\n",
    "json_print(dict(response.headers))"
   ]
  },
  {
   "cell_type": "code",
   "execution_count": 28,
   "metadata": {},
   "outputs": [
    {
     "name": "stdout",
     "output_type": "stream",
     "text": [
      "{\n",
      "   \"status\":200,\n",
      "   \"result\":{\n",
      "      \"postcode\":\"E98 1TT\",\n",
      "      \"quality\":1,\n",
      "      \"eastings\":534427,\n",
      "      \"northings\":180564,\n",
      "      \"country\":\"England\",\n",
      "      \"nhs_ha\":\"London\",\n",
      "      \"longitude\":-0.064393,\n",
      "      \"latitude\":51.508024,\n",
      "      \"european_electoral_region\":\"London\",\n",
      "      \"primary_care_trust\":\"Tower Hamlets\",\n",
      "      \"region\":\"London\",\n",
      "      \"lsoa\":\"Tower Hamlets 026B\",\n",
      "      \"msoa\":\"Tower Hamlets 026\",\n",
      "      \"incode\":\"1TT\",\n",
      "      \"outcode\":\"E98\",\n",
      "      \"parliamentary_constituency\":\"Poplar and Limehouse\",\n",
      "      \"admin_district\":\"Tower Hamlets\",\n",
      "      \"parish\":\"Tower Hamlets, unparished area\",\n",
      "      \"admin_county\":null,\n",
      "      \"admin_ward\":\"St Katharine's & Wapping\",\n",
      "      \"ced\":null,\n",
      "      \"ccg\":\"NHS Tower Hamlets\",\n",
      "      \"nuts\":\"Tower Hamlets\",\n",
      "      \"codes\":{\n",
      "         \"admin_district\":\"E09000030\",\n",
      "         \"admin_county\":\"E99999999\",\n",
      "         \"admin_ward\":\"E05009330\",\n",
      "         \"parish\":\"E43000220\",\n",
      "         \"parliamentary_constituency\":\"E14000882\",\n",
      "         \"ccg\":\"E38000186\",\n",
      "         \"ccg_id\":\"08V\",\n",
      "         \"ced\":\"E99999999\",\n",
      "         \"nuts\":\"UKI42\",\n",
      "         \"lsoa\":\"E01004294\",\n",
      "         \"msoa\":\"E02000889\",\n",
      "         \"lau2\":\"E05009330\"\n",
      "      }\n",
      "   }\n",
      "}\n"
     ]
    }
   ],
   "source": [
    "# Imprimimos el cuerpo del json\n",
    "json_print(str(response.text))"
   ]
  },
  {
   "cell_type": "code",
   "execution_count": 33,
   "metadata": {},
   "outputs": [
    {
     "data": {
      "text/plain": [
       "<urllib3.response.HTTPResponse at 0x7fa1c8459730>"
      ]
     },
     "execution_count": 33,
     "metadata": {},
     "output_type": "execute_result"
    }
   ],
   "source": [
    "response.raw"
   ]
  },
  {
   "cell_type": "code",
   "execution_count": null,
   "metadata": {},
   "outputs": [],
   "source": []
  }
 ],
 "metadata": {
  "kernelspec": {
   "display_name": "Python 3",
   "language": "python",
   "name": "python3"
  },
  "language_info": {
   "codemirror_mode": {
    "name": "ipython",
    "version": 3
   },
   "file_extension": ".py",
   "mimetype": "text/x-python",
   "name": "python",
   "nbconvert_exporter": "python",
   "pygments_lexer": "ipython3",
   "version": "3.8.6"
  }
 },
 "nbformat": 4,
 "nbformat_minor": 4
}
