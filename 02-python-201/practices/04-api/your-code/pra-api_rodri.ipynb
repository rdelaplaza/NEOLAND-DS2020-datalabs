{
 "cells": [
  {
   "cell_type": "markdown",
   "metadata": {},
   "source": [
    "Adquisición de datos en Python\n",
    "--------------------------------------\n",
    "\n",
    "\n",
    "En este Notebook encontraréis dos conjuntos de ejercicios: un primer conjunto de **ejercicios para practicar** y un segundo conjunto de **actividades evaluables** como PRÁCTICAS de la asignatura."
   ]
  },
  {
   "cell_type": "markdown",
   "metadata": {},
   "source": [
    "---"
   ]
  },
  {
   "cell_type": "markdown",
   "metadata": {},
   "source": [
    "## Ejercicios y preguntas teóricas\n",
    "\n",
    "A continuación, encontraréis los **ejercicios y preguntas teóricas que debéis completar en esta PRA** y que forman parte de la evaluación de esta unidad."
   ]
  },
  {
   "cell_type": "markdown",
   "metadata": {},
   "source": [
    "## Pregunta 1"
   ]
  },
  {
   "cell_type": "markdown",
   "metadata": {},
   "source": [
    "La respuesta recibida después de realizar una petición a una web API http es un objeto que contiene, entre otros, los siguientes atributos: **status.code**, **content** y **headers**.  Describe qué información contiene cada uno de los atributos anteriormente enumerados y pon un ejemplo de cada uno.  Recordad que hay que citar las referencias consultadas para responder la pregunta, y que la respuesta que proporcionéis debe ser original (redactada por vosotros mismos, después de haber leído y entendido las referencias que consideréis oportunas)."
   ]
  },
  {
   "cell_type": "markdown",
   "metadata": {},
   "source": [
    "**Respuesta**"
   ]
  },
  {
   "cell_type": "markdown",
   "metadata": {},
   "source": [
    "### status.code"
   ]
  },
  {
   "cell_type": "markdown",
   "metadata": {},
   "source": [
    "* Descripción: Se trata de los códigos de estado de respuesta a la petición a una web API http, tal y como se especifica en el enunciado del ejercicio. Una vez realizada la petición, podemos recibir respuestas clasificadas en diferentes clases: respuestas informativas (100-...), respuestas de petición correcta (200-...), redirecciones (300-...), error del cliente (400-...) y error del servidor (500-...)"
   ]
  },
  {
   "cell_type": "markdown",
   "metadata": {},
   "source": [
    "* Ejemplo:"
   ]
  },
  {
   "cell_type": "code",
   "execution_count": 3,
   "metadata": {},
   "outputs": [],
   "source": [
    "# Importamos la librería requests\n",
    "import requests"
   ]
  },
  {
   "cell_type": "code",
   "execution_count": 4,
   "metadata": {},
   "outputs": [],
   "source": [
    "# Realizamos una petición GET a la API para poder obtener una respuesta y visualizar su estado\n",
    "response = requests.get('https://openapi.emtmadrid.es/v1/hello/')"
   ]
  },
  {
   "cell_type": "code",
   "execution_count": 5,
   "metadata": {},
   "outputs": [
    {
     "data": {
      "text/plain": [
       "<Response [200]>"
      ]
     },
     "execution_count": 5,
     "metadata": {},
     "output_type": "execute_result"
    }
   ],
   "source": [
    "# Visualizamos el código de estado de respuesta a nuestra petición\n",
    "response"
   ]
  },
  {
   "cell_type": "code",
   "execution_count": 6,
   "metadata": {},
   "outputs": [
    {
     "name": "stdout",
     "output_type": "stream",
     "text": [
      "Código de estado de la respuesta:  200\n"
     ]
    }
   ],
   "source": [
    "# Mostramos los resultados de la respuesta recibida\n",
    "print('Código de estado de la respuesta: ', response.status_code)"
   ]
  },
  {
   "cell_type": "markdown",
   "metadata": {},
   "source": [
    "* Referencia: https://developer.mozilla.org/en-US/docs/Web/HTTP/Status"
   ]
  },
  {
   "cell_type": "markdown",
   "metadata": {},
   "source": [
    "### headers"
   ]
  },
  {
   "cell_type": "markdown",
   "metadata": {},
   "source": [
    "* Descripción: Las cabeceras permiten intercambiar información adicional en el momento de realizar una petición a una web API http o cuando se recibe la respuesta."
   ]
  },
  {
   "cell_type": "markdown",
   "metadata": {},
   "source": [
    "* Ejemplo:"
   ]
  },
  {
   "cell_type": "code",
   "execution_count": 7,
   "metadata": {},
   "outputs": [
    {
     "data": {
      "text/plain": [
       "{'Server': 'gunicorn/19.7.1', 'Date': 'Wed, 13 Jan 2021 09:32:59 GMT', 'Content-Type': 'application/json', 'Content-Length': '468', 'Access-Control-Allow-Origin': '*', 'Set-Cookie': 'SERVERIDP=6349184795127a3d7cbc3d4a423e020d55961de7; path=/', 'Cache-control': 'private'}"
      ]
     },
     "execution_count": 7,
     "metadata": {},
     "output_type": "execute_result"
    }
   ],
   "source": [
    "# Mostramos la cabecera de la respuesta\n",
    "response.headers"
   ]
  },
  {
   "cell_type": "code",
   "execution_count": 8,
   "metadata": {},
   "outputs": [
    {
     "data": {
      "text/plain": [
       "requests.structures.CaseInsensitiveDict"
      ]
     },
     "execution_count": 8,
     "metadata": {},
     "output_type": "execute_result"
    }
   ],
   "source": [
    "type(response.headers)"
   ]
  },
  {
   "cell_type": "code",
   "execution_count": 9,
   "metadata": {},
   "outputs": [],
   "source": [
    "# Para que sea más 'amigable' lo imprimimos en formato 'nice' utilizando la función creada en clase 'json_print'\n",
    "# Mediante esta función vamos a convertir los objetos 'serie' en diccionarios ('dict')\n",
    "# Primero importamos la librería json\n",
    "import json\n",
    "# Y después copiamos la función, que está basada en esta librería\n",
    "def json_print(json_data, limit=None):\n",
    "    if isinstance(json_data, (str)):\n",
    "        json_data = json.loads(json_data)\n",
    "    nice = json.dumps(json_data, sort_keys=False, indent=3, separators=(',',':'))\n",
    "    print(\"\\n\".join(nice.split(\"\\n\")[0:limit]))\n",
    "    if limit is not None:\n",
    "        print(\"[....]\")"
   ]
  },
  {
   "cell_type": "code",
   "execution_count": 10,
   "metadata": {},
   "outputs": [
    {
     "name": "stdout",
     "output_type": "stream",
     "text": [
      "{\n",
      "   \"Server\":\"gunicorn/19.7.1\",\n",
      "   \"Date\":\"Wed, 13 Jan 2021 09:32:59 GMT\",\n",
      "   \"Content-Type\":\"application/json\",\n",
      "   \"Content-Length\":\"468\",\n",
      "   \"Access-Control-Allow-Origin\":\"*\",\n",
      "   \"Set-Cookie\":\"SERVERIDP=6349184795127a3d7cbc3d4a423e020d55961de7; path=/\",\n",
      "   \"Cache-control\":\"private\"\n",
      "}\n"
     ]
    }
   ],
   "source": [
    "# Imprimimos por pantalla el header indicando el tipo de objeto al que tiene que ser convertido, en este caso ('dict')\n",
    "json_print(dict(response.headers))"
   ]
  },
  {
   "cell_type": "markdown",
   "metadata": {},
   "source": [
    "* Referencia: https://developer.mozilla.org/en-US/docs/Web/HTTP/Headers"
   ]
  },
  {
   "cell_type": "markdown",
   "metadata": {},
   "source": [
    "### content"
   ]
  },
  {
   "cell_type": "markdown",
   "metadata": {},
   "source": [
    "* Descripción: Se trata del contenido de la respuesta que obtenemos cuando realizamos una una petición a una web API http. En la cabecera de la respuesta tenemos información adicional del contenido, como su tipo o tamaño."
   ]
  },
  {
   "cell_type": "markdown",
   "metadata": {},
   "source": [
    "* Ejemplo:"
   ]
  },
  {
   "cell_type": "code",
   "execution_count": 11,
   "metadata": {},
   "outputs": [
    {
     "data": {
      "text/plain": [
       "'{\"APIVersion\":{\"description\":\"OPENAPI for public access\",\"version\":\"00107\"},\"SourceCli\":\"81.0.38.42\",\"SourceIP\":\"81.0.38.42\",\"code\":\"00\",\"developerPortal\":\"https://mobilitylabs.emtmadrid.es\",\"instant\":\"2021-01-13T10:32:59.453841\",\"message\":\"Hello, here openapi.emtmadrid.es, I am running Ok and I feel good\",\"morehelp\":\"https://gitlab.com/mobilitylabsmadrid\",\"poweredBy\":\"Empresa Municipal de Transportes de Madrid, S.A.\",\"versions\":[\"v1\",\"build 06\",\"v2\",\"build 10\"]}\\n'"
      ]
     },
     "execution_count": 11,
     "metadata": {},
     "output_type": "execute_result"
    }
   ],
   "source": [
    "response.text"
   ]
  },
  {
   "cell_type": "code",
   "execution_count": 12,
   "metadata": {},
   "outputs": [
    {
     "data": {
      "text/plain": [
       "str"
      ]
     },
     "execution_count": 12,
     "metadata": {},
     "output_type": "execute_result"
    }
   ],
   "source": [
    "type(response.text)"
   ]
  },
  {
   "cell_type": "code",
   "execution_count": 13,
   "metadata": {},
   "outputs": [
    {
     "name": "stdout",
     "output_type": "stream",
     "text": [
      "{\n",
      "   \"APIVersion\":{\n",
      "      \"description\":\"OPENAPI for public access\",\n",
      "      \"version\":\"00107\"\n",
      "   },\n",
      "   \"SourceCli\":\"81.0.38.42\",\n",
      "   \"SourceIP\":\"81.0.38.42\",\n",
      "   \"code\":\"00\",\n",
      "   \"developerPortal\":\"https://mobilitylabs.emtmadrid.es\",\n",
      "   \"instant\":\"2021-01-13T10:32:59.453841\",\n",
      "   \"message\":\"Hello, here openapi.emtmadrid.es, I am running Ok and I feel good\",\n",
      "   \"morehelp\":\"https://gitlab.com/mobilitylabsmadrid\",\n",
      "   \"poweredBy\":\"Empresa Municipal de Transportes de Madrid, S.A.\",\n",
      "   \"versions\":[\n",
      "      \"v1\",\n",
      "      \"build 06\",\n",
      "      \"v2\",\n",
      "      \"build 10\"\n",
      "   ]\n",
      "}\n"
     ]
    }
   ],
   "source": [
    "# Imprimimos el cuerpo del json\n",
    "json_print(str(response.text))"
   ]
  },
  {
   "cell_type": "markdown",
   "metadata": {},
   "source": [
    "* Referencia: https://developer.mozilla.org/en-US/docs/Web/HTTP/Session"
   ]
  },
  {
   "cell_type": "markdown",
   "metadata": {},
   "source": [
    "## Pregunta 2"
   ]
  },
  {
   "cell_type": "markdown",
   "metadata": {},
   "source": [
    "Enumera tres librerías de Python para acceder a una API y especifica la API a la cual se accede. Para cada una de las librerías anteriormente enumeradas, pon un ejemplo de **endpoint** de la API que permite obtener una determinada información y de la función que permite obtenerla.  Recordad que hay que citar las referencias consultadas para responder la pregunta. \n",
    "\n",
    "**Nota**. Un ejemplo sería la librería de Python [Tweepy](http://www.tweepy.org/) que accede a la API de Twitter. Un posible endpoint sería *https://api.twitter.com/1.1/search/tweets.json* y la función *api.get_user()* permitiriá obtener información de un determinado usuario. "
   ]
  },
  {
   "cell_type": "markdown",
   "metadata": {},
   "source": [
    "**Respuesta**"
   ]
  },
  {
   "cell_type": "markdown",
   "metadata": {},
   "source": [
    "### 1. Spotipy"
   ]
  },
  {
   "cell_type": "markdown",
   "metadata": {},
   "source": [
    "* API: Spotify"
   ]
  },
  {
   "cell_type": "markdown",
   "metadata": {},
   "source": [
    "* Endpoint: https://api.spotify.com/v1/artists. La función *sp.user_playlist()* permite obtener información de una playlist de spotify. Para acceder a la API de Spotify es necesario que nos demos de alta como 'developers' para obtener los tokens."
   ]
  },
  {
   "cell_type": "markdown",
   "metadata": {},
   "source": [
    "* Referencia: https://developer.spotify.com/documentation/web-api/reference/artists/"
   ]
  },
  {
   "cell_type": "markdown",
   "metadata": {},
   "source": [
    "### 2. AWS SDK para Python (Boto3)"
   ]
  },
  {
   "cell_type": "markdown",
   "metadata": {},
   "source": [
    "* API: Amazon API Gateway"
   ]
  },
  {
   "cell_type": "markdown",
   "metadata": {},
   "source": [
    "* Endpoint: https://console.aws.amazon.com/apigateway."
   ]
  },
  {
   "cell_type": "markdown",
   "metadata": {},
   "source": [
    "* Referencia: https://docs.aws.amazon.com/apigateway/latest/developerguide/welcome.html"
   ]
  },
  {
   "cell_type": "markdown",
   "metadata": {},
   "source": [
    "### 3. Wikipedia"
   ]
  },
  {
   "cell_type": "markdown",
   "metadata": {},
   "source": [
    "* API: Media Wiki API"
   ]
  },
  {
   "cell_type": "markdown",
   "metadata": {},
   "source": [
    "* Endpoint: https://api.spotify.com/v1/artists. La función *wikipedia.search()* permite obtener información de las búsquedas en Wikipedia"
   ]
  },
  {
   "cell_type": "markdown",
   "metadata": {},
   "source": [
    "* Referencia: https://unipython.com/como-usar-la-libreria-wikipedia-de-python/"
   ]
  },
  {
   "cell_type": "markdown",
   "metadata": {},
   "source": [
    "## Ejercicio 1\n",
    "\n",
    "Implementad una función que devuelva una lista con el nombre de las personas actualmente en el espacio consultando alguna de las APIs que se detallan en la siguiente [url](http://api.open-notify.org)."
   ]
  },
  {
   "cell_type": "markdown",
   "metadata": {},
   "source": [
    "**Respuesta**"
   ]
  },
  {
   "cell_type": "code",
   "execution_count": 14,
   "metadata": {},
   "outputs": [],
   "source": [
    "# Importamos las librerías\n",
    "import requests\n",
    "import json"
   ]
  },
  {
   "cell_type": "code",
   "execution_count": 15,
   "metadata": {},
   "outputs": [],
   "source": [
    "# Realizamos una petición GET a la API para poder obtener una respuesta y visualizar su estado\n",
    "response_1 = requests.get('http://api.open-notify.org/astros.json')"
   ]
  },
  {
   "cell_type": "code",
   "execution_count": 16,
   "metadata": {},
   "outputs": [
    {
     "name": "stdout",
     "output_type": "stream",
     "text": [
      "Código de estado de la respuesta:  200\n"
     ]
    }
   ],
   "source": [
    "# Visualizamos el código de estado de respuesta a nuestra petición\n",
    "print('Código de estado de la respuesta: ', response_1.status_code)"
   ]
  },
  {
   "cell_type": "code",
   "execution_count": 17,
   "metadata": {},
   "outputs": [],
   "source": [
    "# Obtenemos la información de la respuesta y la almacenamos en una variable\n",
    "info = response_1.text"
   ]
  },
  {
   "cell_type": "code",
   "execution_count": 18,
   "metadata": {},
   "outputs": [
    {
     "data": {
      "text/plain": [
       "str"
      ]
     },
     "execution_count": 18,
     "metadata": {},
     "output_type": "execute_result"
    }
   ],
   "source": [
    "# Comprobamos de qué tipo es la información almacenada\n",
    "type(info)"
   ]
  },
  {
   "cell_type": "code",
   "execution_count": 19,
   "metadata": {},
   "outputs": [],
   "source": [
    "# Como es una 'str' utilizamos la función 'loads' de la librería 'json' para convertir la información en un diccionario\n",
    "dict_info = json.loads(info)"
   ]
  },
  {
   "cell_type": "code",
   "execution_count": 20,
   "metadata": {},
   "outputs": [
    {
     "data": {
      "text/plain": [
       "dict"
      ]
     },
     "execution_count": 20,
     "metadata": {},
     "output_type": "execute_result"
    }
   ],
   "source": [
    "# Comprobamos si ha funcionado la conversión\n",
    "type(dict_info)"
   ]
  },
  {
   "cell_type": "code",
   "execution_count": 21,
   "metadata": {},
   "outputs": [
    {
     "data": {
      "text/plain": [
       "{'message': 'success',\n",
       " 'number': 7,\n",
       " 'people': [{'craft': 'ISS', 'name': 'Sergey Ryzhikov'},\n",
       "  {'craft': 'ISS', 'name': 'Kate Rubins'},\n",
       "  {'craft': 'ISS', 'name': 'Sergey Kud-Sverchkov'},\n",
       "  {'craft': 'ISS', 'name': 'Mike Hopkins'},\n",
       "  {'craft': 'ISS', 'name': 'Victor Glover'},\n",
       "  {'craft': 'ISS', 'name': 'Shannon Walker'},\n",
       "  {'craft': 'ISS', 'name': 'Soichi Noguchi'}]}"
      ]
     },
     "execution_count": 21,
     "metadata": {},
     "output_type": "execute_result"
    }
   ],
   "source": [
    "# Observamos el diccionario\n",
    "dict_info"
   ]
  },
  {
   "cell_type": "code",
   "execution_count": 22,
   "metadata": {},
   "outputs": [],
   "source": [
    "# Extraemos la lista de gente que está en el espacio\n",
    "lista_gente_espacio = dict_info['people']"
   ]
  },
  {
   "cell_type": "code",
   "execution_count": 23,
   "metadata": {},
   "outputs": [
    {
     "data": {
      "text/plain": [
       "[{'craft': 'ISS', 'name': 'Sergey Ryzhikov'},\n",
       " {'craft': 'ISS', 'name': 'Kate Rubins'},\n",
       " {'craft': 'ISS', 'name': 'Sergey Kud-Sverchkov'},\n",
       " {'craft': 'ISS', 'name': 'Mike Hopkins'},\n",
       " {'craft': 'ISS', 'name': 'Victor Glover'},\n",
       " {'craft': 'ISS', 'name': 'Shannon Walker'},\n",
       " {'craft': 'ISS', 'name': 'Soichi Noguchi'}]"
      ]
     },
     "execution_count": 23,
     "metadata": {},
     "output_type": "execute_result"
    }
   ],
   "source": [
    "# Observamos el listado\n",
    "lista_gente_espacio"
   ]
  },
  {
   "cell_type": "code",
   "execution_count": 24,
   "metadata": {},
   "outputs": [],
   "source": [
    "# Creamos una lista vacía en la que almacenaremos los nombres de estas personas\n",
    "astronautas = []"
   ]
  },
  {
   "cell_type": "code",
   "execution_count": 25,
   "metadata": {},
   "outputs": [],
   "source": [
    "# Utilizamos un bucle 'for' para iterar por la información y extraer el listado de nombres\n",
    "for astronauta in lista_gente_espacio:\n",
    "    astronautas.append(astronauta['name'])"
   ]
  },
  {
   "cell_type": "code",
   "execution_count": 26,
   "metadata": {},
   "outputs": [
    {
     "data": {
      "text/plain": [
       "['Sergey Ryzhikov',\n",
       " 'Kate Rubins',\n",
       " 'Sergey Kud-Sverchkov',\n",
       " 'Mike Hopkins',\n",
       " 'Victor Glover',\n",
       " 'Shannon Walker',\n",
       " 'Soichi Noguchi']"
      ]
     },
     "execution_count": 26,
     "metadata": {},
     "output_type": "execute_result"
    }
   ],
   "source": [
    "# Observamos el listado\n",
    "astronautas"
   ]
  },
  {
   "cell_type": "code",
   "execution_count": 27,
   "metadata": {},
   "outputs": [],
   "source": [
    "# Definimos la función que nos solicita el enunciado consolidando todo lo desarrollado hasta ahora\n",
    "def personas_espacio():\n",
    "    response_1 = requests.get('http://api.open-notify.org/astros.json')\n",
    "    info = response_1.text\n",
    "    dict_info = json.loads(info)\n",
    "    lista_gente_espacio = dict_info['people']\n",
    "    astronautas = []\n",
    "    for astronauta in lista_gente_espacio:\n",
    "        astronautas.append(astronauta['name'])\n",
    "    return astronautas"
   ]
  },
  {
   "cell_type": "code",
   "execution_count": 31,
   "metadata": {},
   "outputs": [
    {
     "data": {
      "text/plain": [
       "['Sergey Ryzhikov',\n",
       " 'Kate Rubins',\n",
       " 'Sergey Kud-Sverchkov',\n",
       " 'Mike Hopkins',\n",
       " 'Victor Glover',\n",
       " 'Shannon Walker',\n",
       " 'Soichi Noguchi']"
      ]
     },
     "execution_count": 31,
     "metadata": {},
     "output_type": "execute_result"
    }
   ],
   "source": [
    "personas_espacio()"
   ]
  },
  {
   "cell_type": "markdown",
   "metadata": {},
   "source": [
    "## Ejercicio 2\n",
    "Queremos saber el número de crímenes violentos que se han producido en Reino Unido en una localización (latitud, longitud) y fecha concretas mediante la seguiente [url](https://data.police.uk/docs/method/crimes-at-location/). Implementad un conjunto de funciones para obtener el número de crimenes producidos en una determinada fecha en una determinada localización. \n",
    "\n",
    "- La primera función devolverá la latitud y longitud de una determinada dirección postal mediante la API de geolocalización de [google maps](https://pypi.org/project/googlemaps/1.0.2/). \n",
    "\n",
    "- La segunda función devolverá el número de crimenes producidos en una determinada fecha y en una determinada localización (latitud, longitud).  \n",
    "\n",
    "Usa ambas funciones para obtener el número de crimenes violentos en la dirección **Adelaide St, WC2N 4HZ, London, United Kingdom** en abril del 2018. \n",
    "\n",
    "**Nota**: Deberéis registraros a [Google Cloud Platform](https://developers.google.com/maps/documentation/javascript/get-api-key) para obtener las credenciales de la API de googlemaps."
   ]
  },
  {
   "cell_type": "markdown",
   "metadata": {},
   "source": [
    "**Respuesta**\n"
   ]
  },
  {
   "cell_type": "markdown",
   "metadata": {},
   "source": [
    "### Función 1"
   ]
  },
  {
   "cell_type": "code",
   "execution_count": 39,
   "metadata": {},
   "outputs": [],
   "source": [
    "# Lo primero hemos obtenido las credenciales de la API de googlemaps y guardado en el archivo *.txt 'creds'\n",
    "# Importamos las librerías necesarias para interactuar con este archivo\n",
    "import sys, os"
   ]
  },
  {
   "cell_type": "code",
   "execution_count": 46,
   "metadata": {},
   "outputs": [],
   "source": [
    "# Utilizamos la función anterior y las herramientas de las librerías para obtener la APY_KEY y poder utilizarla sin que quede a la vista en nuestro código\n",
    "google_creeds = open(\"creds.txt\", \"r\")\n",
    "line = google_creeds.readlines()"
   ]
  },
  {
   "cell_type": "code",
   "execution_count": 56,
   "metadata": {},
   "outputs": [],
   "source": [
    "# Aprovechamos una función vista en clase para leer el fichero\n",
    "api_key = line[0].split(\"=\")[1].splitlines(False)[0]"
   ]
  },
  {
   "cell_type": "code",
   "execution_count": 36,
   "metadata": {},
   "outputs": [
    {
     "name": "stdout",
     "output_type": "stream",
     "text": [
      "Requirement already satisfied: googlemaps in c:\\users\\rodrigodelaplaza\\anaconda3\\lib\\site-packages (4.4.2)\n",
      "Requirement already satisfied: requests<3.0,>=2.20.0 in c:\\users\\rodrigodelaplaza\\anaconda3\\lib\\site-packages (from googlemaps) (2.24.0)\n",
      "Requirement already satisfied: certifi>=2017.4.17 in c:\\users\\rodrigodelaplaza\\anaconda3\\lib\\site-packages (from requests<3.0,>=2.20.0->googlemaps) (2020.6.20)\n",
      "Requirement already satisfied: idna<3,>=2.5 in c:\\users\\rodrigodelaplaza\\anaconda3\\lib\\site-packages (from requests<3.0,>=2.20.0->googlemaps) (2.10)\n",
      "Requirement already satisfied: chardet<4,>=3.0.2 in c:\\users\\rodrigodelaplaza\\anaconda3\\lib\\site-packages (from requests<3.0,>=2.20.0->googlemaps) (3.0.4)\n",
      "Requirement already satisfied: urllib3!=1.25.0,!=1.25.1,<1.26,>=1.21.1 in c:\\users\\rodrigodelaplaza\\anaconda3\\lib\\site-packages (from requests<3.0,>=2.20.0->googlemaps) (1.25.9)\n"
     ]
    }
   ],
   "source": [
    "# Instalamos googlemaps\n",
    "!pip install googlemaps"
   ]
  },
  {
   "cell_type": "code",
   "execution_count": 54,
   "metadata": {},
   "outputs": [
    {
     "name": "stdout",
     "output_type": "stream",
     "text": [
      "Requirement already up-to-date: googlemaps in c:\\users\\rodrigodelaplaza\\anaconda3\\lib\\site-packages (4.4.2)\n",
      "Requirement already satisfied, skipping upgrade: requests<3.0,>=2.20.0 in c:\\users\\rodrigodelaplaza\\anaconda3\\lib\\site-packages (from googlemaps) (2.24.0)\n",
      "Requirement already satisfied, skipping upgrade: urllib3!=1.25.0,!=1.25.1,<1.26,>=1.21.1 in c:\\users\\rodrigodelaplaza\\anaconda3\\lib\\site-packages (from requests<3.0,>=2.20.0->googlemaps) (1.25.9)\n",
      "Requirement already satisfied, skipping upgrade: chardet<4,>=3.0.2 in c:\\users\\rodrigodelaplaza\\anaconda3\\lib\\site-packages (from requests<3.0,>=2.20.0->googlemaps) (3.0.4)\n",
      "Requirement already satisfied, skipping upgrade: idna<3,>=2.5 in c:\\users\\rodrigodelaplaza\\anaconda3\\lib\\site-packages (from requests<3.0,>=2.20.0->googlemaps) (2.10)\n",
      "Requirement already satisfied, skipping upgrade: certifi>=2017.4.17 in c:\\users\\rodrigodelaplaza\\anaconda3\\lib\\site-packages (from requests<3.0,>=2.20.0->googlemaps) (2020.6.20)\n"
     ]
    }
   ],
   "source": [
    "!pip install -U googlemaps"
   ]
  },
  {
   "cell_type": "code",
   "execution_count": 69,
   "metadata": {},
   "outputs": [],
   "source": [
    "# Importamos la librería \n",
    "import googlemaps"
   ]
  },
  {
   "cell_type": "code",
   "execution_count": 65,
   "metadata": {},
   "outputs": [],
   "source": [
    "# Cargamos nuestras credenciales\n",
    "gmaps = googlemaps.Client(key=api_key)"
   ]
  },
  {
   "cell_type": "code",
   "execution_count": 66,
   "metadata": {},
   "outputs": [
    {
     "ename": "ApiError",
     "evalue": "REQUEST_DENIED (This API project is not authorized to use this API.)",
     "output_type": "error",
     "traceback": [
      "\u001b[1;31m---------------------------------------------------------------------------\u001b[0m",
      "\u001b[1;31mApiError\u001b[0m                                  Traceback (most recent call last)",
      "\u001b[1;32m<ipython-input-66-e8f9a4b4fc7b>\u001b[0m in \u001b[0;36m<module>\u001b[1;34m\u001b[0m\n\u001b[0;32m      1\u001b[0m \u001b[1;31m# Geoposicionamos la dirección mediante\u001b[0m\u001b[1;33m\u001b[0m\u001b[1;33m\u001b[0m\u001b[1;33m\u001b[0m\u001b[0m\n\u001b[1;32m----> 2\u001b[1;33m \u001b[0mgeocode_result\u001b[0m \u001b[1;33m=\u001b[0m \u001b[0mgmaps\u001b[0m\u001b[1;33m.\u001b[0m\u001b[0mgeocode\u001b[0m\u001b[1;33m(\u001b[0m\u001b[1;34m'Adelaide St, WC2N 4HZ, London, United Kingdom'\u001b[0m\u001b[1;33m)\u001b[0m\u001b[1;33m\u001b[0m\u001b[1;33m\u001b[0m\u001b[0m\n\u001b[0m",
      "\u001b[1;32m~\\anaconda3\\lib\\site-packages\\googlemaps\\client.py\u001b[0m in \u001b[0;36mwrapper\u001b[1;34m(*args, **kwargs)\u001b[0m\n\u001b[0;32m    416\u001b[0m     \u001b[1;32mdef\u001b[0m \u001b[0mwrapper\u001b[0m\u001b[1;33m(\u001b[0m\u001b[1;33m*\u001b[0m\u001b[0margs\u001b[0m\u001b[1;33m,\u001b[0m \u001b[1;33m**\u001b[0m\u001b[0mkwargs\u001b[0m\u001b[1;33m)\u001b[0m\u001b[1;33m:\u001b[0m\u001b[1;33m\u001b[0m\u001b[1;33m\u001b[0m\u001b[0m\n\u001b[0;32m    417\u001b[0m         \u001b[0margs\u001b[0m\u001b[1;33m[\u001b[0m\u001b[1;36m0\u001b[0m\u001b[1;33m]\u001b[0m\u001b[1;33m.\u001b[0m\u001b[0m_extra_params\u001b[0m \u001b[1;33m=\u001b[0m \u001b[0mkwargs\u001b[0m\u001b[1;33m.\u001b[0m\u001b[0mpop\u001b[0m\u001b[1;33m(\u001b[0m\u001b[1;34m\"extra_params\"\u001b[0m\u001b[1;33m,\u001b[0m \u001b[1;32mNone\u001b[0m\u001b[1;33m)\u001b[0m\u001b[1;33m\u001b[0m\u001b[1;33m\u001b[0m\u001b[0m\n\u001b[1;32m--> 418\u001b[1;33m         \u001b[0mresult\u001b[0m \u001b[1;33m=\u001b[0m \u001b[0mfunc\u001b[0m\u001b[1;33m(\u001b[0m\u001b[1;33m*\u001b[0m\u001b[0margs\u001b[0m\u001b[1;33m,\u001b[0m \u001b[1;33m**\u001b[0m\u001b[0mkwargs\u001b[0m\u001b[1;33m)\u001b[0m\u001b[1;33m\u001b[0m\u001b[1;33m\u001b[0m\u001b[0m\n\u001b[0m\u001b[0;32m    419\u001b[0m         \u001b[1;32mtry\u001b[0m\u001b[1;33m:\u001b[0m\u001b[1;33m\u001b[0m\u001b[1;33m\u001b[0m\u001b[0m\n\u001b[0;32m    420\u001b[0m             \u001b[1;32mdel\u001b[0m \u001b[0margs\u001b[0m\u001b[1;33m[\u001b[0m\u001b[1;36m0\u001b[0m\u001b[1;33m]\u001b[0m\u001b[1;33m.\u001b[0m\u001b[0m_extra_params\u001b[0m\u001b[1;33m\u001b[0m\u001b[1;33m\u001b[0m\u001b[0m\n",
      "\u001b[1;32m~\\anaconda3\\lib\\site-packages\\googlemaps\\geocoding.py\u001b[0m in \u001b[0;36mgeocode\u001b[1;34m(client, address, components, bounds, region, language)\u001b[0m\n\u001b[0;32m     66\u001b[0m         \u001b[0mparams\u001b[0m\u001b[1;33m[\u001b[0m\u001b[1;34m\"language\"\u001b[0m\u001b[1;33m]\u001b[0m \u001b[1;33m=\u001b[0m \u001b[0mlanguage\u001b[0m\u001b[1;33m\u001b[0m\u001b[1;33m\u001b[0m\u001b[0m\n\u001b[0;32m     67\u001b[0m \u001b[1;33m\u001b[0m\u001b[0m\n\u001b[1;32m---> 68\u001b[1;33m     \u001b[1;32mreturn\u001b[0m \u001b[0mclient\u001b[0m\u001b[1;33m.\u001b[0m\u001b[0m_request\u001b[0m\u001b[1;33m(\u001b[0m\u001b[1;34m\"/maps/api/geocode/json\"\u001b[0m\u001b[1;33m,\u001b[0m \u001b[0mparams\u001b[0m\u001b[1;33m)\u001b[0m\u001b[1;33m.\u001b[0m\u001b[0mget\u001b[0m\u001b[1;33m(\u001b[0m\u001b[1;34m\"results\"\u001b[0m\u001b[1;33m,\u001b[0m \u001b[1;33m[\u001b[0m\u001b[1;33m]\u001b[0m\u001b[1;33m)\u001b[0m\u001b[1;33m\u001b[0m\u001b[1;33m\u001b[0m\u001b[0m\n\u001b[0m\u001b[0;32m     69\u001b[0m \u001b[1;33m\u001b[0m\u001b[0m\n\u001b[0;32m     70\u001b[0m \u001b[1;33m\u001b[0m\u001b[0m\n",
      "\u001b[1;32m~\\anaconda3\\lib\\site-packages\\googlemaps\\client.py\u001b[0m in \u001b[0;36m_request\u001b[1;34m(self, url, params, first_request_time, retry_counter, base_url, accepts_clientid, extract_body, requests_kwargs, post_json)\u001b[0m\n\u001b[0;32m    311\u001b[0m                 \u001b[0mresult\u001b[0m \u001b[1;33m=\u001b[0m \u001b[0mextract_body\u001b[0m\u001b[1;33m(\u001b[0m\u001b[0mresponse\u001b[0m\u001b[1;33m)\u001b[0m\u001b[1;33m\u001b[0m\u001b[1;33m\u001b[0m\u001b[0m\n\u001b[0;32m    312\u001b[0m             \u001b[1;32melse\u001b[0m\u001b[1;33m:\u001b[0m\u001b[1;33m\u001b[0m\u001b[1;33m\u001b[0m\u001b[0m\n\u001b[1;32m--> 313\u001b[1;33m                 \u001b[0mresult\u001b[0m \u001b[1;33m=\u001b[0m \u001b[0mself\u001b[0m\u001b[1;33m.\u001b[0m\u001b[0m_get_body\u001b[0m\u001b[1;33m(\u001b[0m\u001b[0mresponse\u001b[0m\u001b[1;33m)\u001b[0m\u001b[1;33m\u001b[0m\u001b[1;33m\u001b[0m\u001b[0m\n\u001b[0m\u001b[0;32m    314\u001b[0m             \u001b[0mself\u001b[0m\u001b[1;33m.\u001b[0m\u001b[0msent_times\u001b[0m\u001b[1;33m.\u001b[0m\u001b[0mappend\u001b[0m\u001b[1;33m(\u001b[0m\u001b[0mtime\u001b[0m\u001b[1;33m.\u001b[0m\u001b[0mtime\u001b[0m\u001b[1;33m(\u001b[0m\u001b[1;33m)\u001b[0m\u001b[1;33m)\u001b[0m\u001b[1;33m\u001b[0m\u001b[1;33m\u001b[0m\u001b[0m\n\u001b[0;32m    315\u001b[0m             \u001b[1;32mreturn\u001b[0m \u001b[0mresult\u001b[0m\u001b[1;33m\u001b[0m\u001b[1;33m\u001b[0m\u001b[0m\n",
      "\u001b[1;32m~\\anaconda3\\lib\\site-packages\\googlemaps\\client.py\u001b[0m in \u001b[0;36m_get_body\u001b[1;34m(self, response)\u001b[0m\n\u001b[0;32m    340\u001b[0m                 api_status, body.get(\"error_message\"))\n\u001b[0;32m    341\u001b[0m \u001b[1;33m\u001b[0m\u001b[0m\n\u001b[1;32m--> 342\u001b[1;33m         raise googlemaps.exceptions.ApiError(api_status,\n\u001b[0m\u001b[0;32m    343\u001b[0m                                              body.get(\"error_message\"))\n\u001b[0;32m    344\u001b[0m \u001b[1;33m\u001b[0m\u001b[0m\n",
      "\u001b[1;31mApiError\u001b[0m: REQUEST_DENIED (This API project is not authorized to use this API.)"
     ]
    }
   ],
   "source": [
    "# Geoposicionamos la dirección mediante \n",
    "geocode_result = gmaps.geocode('Adelaide St, WC2N 4HZ, London, United Kingdom')"
   ]
  },
  {
   "cell_type": "code",
   "execution_count": 73,
   "metadata": {},
   "outputs": [
    {
     "name": "stdout",
     "output_type": "stream",
     "text": [
      "Collecting geopy\n",
      "  Downloading geopy-2.1.0-py3-none-any.whl (112 kB)\n",
      "Collecting geographiclib<2,>=1.49\n",
      "  Downloading geographiclib-1.50-py3-none-any.whl (38 kB)\n",
      "Installing collected packages: geographiclib, geopy\n",
      "Successfully installed geographiclib-1.50 geopy-2.1.0\n"
     ]
    }
   ],
   "source": [
    "# Como no tenemos acceso a la API de GoogleMaps, vamos a probar una solución alternativa\n",
    "# Referencia: https://www.altergeosistemas.com/blog/2015/11/19/geocodificacion-direcciones-python/\n",
    "!pip install geopy"
   ]
  },
  {
   "cell_type": "code",
   "execution_count": 13,
   "metadata": {},
   "outputs": [],
   "source": [
    "# Importación del módulo Nominatim de geopy que utilizaremos para geocodificar\n",
    "from geopy.geocoders import Nominatim"
   ]
  },
  {
   "cell_type": "code",
   "execution_count": 14,
   "metadata": {},
   "outputs": [],
   "source": [
    "# Cada servicio de geolocalización como Google Maps, Bing Maps, Yahoo, MapQuest o Nominatim tiene su propia clase en geopy.geocoders para utilizar el servicio API.\n",
    "# Creamos un objeto llamado geolocalizador a partir de la clase Nominatim().\n",
    "geolocalizador = Nominatim(user_agent='neoland')"
   ]
  },
  {
   "cell_type": "code",
   "execution_count": 15,
   "metadata": {},
   "outputs": [],
   "source": [
    "# Para la dirección facilitada pedimos al servicios de geocodificación de Nominatim que nos devuelva sus coordenadas\n",
    "localizacion = geolocalizador.geocode('Adelaide St, WC2N 4HZ, London, United Kingdom')"
   ]
  },
  {
   "cell_type": "code",
   "execution_count": 16,
   "metadata": {},
   "outputs": [],
   "source": [
    "# Almacenamos la información en la variable 'coordenadas'\n",
    "coordenadas = (localizacion.latitude, localizacion.longitude)"
   ]
  },
  {
   "cell_type": "code",
   "execution_count": 17,
   "metadata": {},
   "outputs": [],
   "source": [
    "# Compilamos todo el desarrollo en la primera función que nos pide el ejercicio\n",
    "def geolocalizacion(direccion):\n",
    "    geolocalizador = Nominatim(user_agent='neoland')\n",
    "    localizacion = geolocalizador.geocode(direccion)\n",
    "    coordenadas = (localizacion.latitude, localizacion.longitude)\n",
    "    return coordenadas"
   ]
  },
  {
   "cell_type": "code",
   "execution_count": 18,
   "metadata": {},
   "outputs": [
    {
     "data": {
      "text/plain": [
       "(51.5091724, -0.1258542)"
      ]
     },
     "execution_count": 18,
     "metadata": {},
     "output_type": "execute_result"
    }
   ],
   "source": [
    "# Probamos la función creada con la dirección del ejercicio\n",
    "geolocalizacion('Adelaide St, WC2N 4HZ, London, United Kingdom')"
   ]
  },
  {
   "cell_type": "markdown",
   "metadata": {},
   "source": [
    "### Función 2"
   ]
  },
  {
   "cell_type": "code",
   "execution_count": 96,
   "metadata": {},
   "outputs": [],
   "source": [
    "# Importamos las librerías\n",
    "import requests\n",
    "import json"
   ]
  },
  {
   "cell_type": "code",
   "execution_count": 110,
   "metadata": {},
   "outputs": [],
   "source": [
    "# Definimos la función que nos solicita el enunciado aprovechando lo desarrollado en el ejercicio anterior y la función 1 ('geolocalizacion') \n",
    "def numero_crimenes(direccion, anyo, mes):\n",
    "    latitud = geolocalizacion(direccion)[0]\n",
    "    longitud = geolocalizacion(direccion)[1]\n",
    "    fecha = f'{anyo}-{mes}'\n",
    "    response_2 = requests.get(f'https://data.police.uk/api/crimes-at-location?date={fecha}&lat={latitud}&lng={longitud}')\n",
    "    info_2 = response_2.text\n",
    "    dict_info_2 = json.loads(info_2)\n",
    "    return len(dict_info_2)"
   ]
  },
  {
   "cell_type": "code",
   "execution_count": 112,
   "metadata": {},
   "outputs": [
    {
     "data": {
      "text/plain": [
       "23"
      ]
     },
     "execution_count": 112,
     "metadata": {},
     "output_type": "execute_result"
    }
   ],
   "source": [
    "# Probamos la función introduciendo los datos facilitados para el ejercicio\n",
    "numero_crimenes('Adelaide St, WC2N 4HZ, London, United Kingdom', '2018', '04')"
   ]
  },
  {
   "cell_type": "markdown",
   "metadata": {},
   "source": [
    "## Ejercicio 3\n",
    "\n",
    "Queremos conocer los nombres más frecuentes de los recién nacidos en Barcelona por sexo entre los años 1996 y 2018. Implementad una función de dos parámetros (id: identificador del recurso, año: año de consulta), que devuelva una lista con el nombre más frecuente para niña y para niño en dicho año.  Usa la función para obtener lo siguiente: \n",
    "\n",
    "a) Una lista con el nombre más frecuente de los recién nacidos en Barcelona por sexo para cada uno de los años entre 1996 y 2018 (incluidos). \n",
    "\n",
    "b) Crear una lista ordenada de mayor a menor, a partir de la lista obtenida en el apartado a), según el número de veces que dicho nombre ha sido utilizado.\n",
    "\n",
    "\n",
    "Para realizar el ejercicio consultad el portal de datos abiertos del Ayuntamiento de Barcelona mediante la siguiente [url](https://opendata-ajuntament.barcelona.cat/es/). \n",
    "\n",
    "**Nota 1**: Consultad como realizar las consultas mediante la API en [la pestaña de Desarrolladores](https://opendata-ajuntament.barcelona.cat/es/desenvolupadors)\n",
    "\n",
    "**Nota 2**: Algunos nombres pueden contener espacios.  Deberéis eliminar dicho espacio para realizar el contaje correctamente.\n"
   ]
  },
  {
   "cell_type": "markdown",
   "metadata": {},
   "source": [
    "**Respuesta**"
   ]
  },
  {
   "cell_type": "code",
   "execution_count": 173,
   "metadata": {},
   "outputs": [],
   "source": [
    "# Creamos una función de dos parámetros (id: identificador del recurso, año: año de consulta), que devuelva una lista con el nombre más frecuente para niña y para niño en dicho año\n",
    "def nombres_frecuentes(identificador,anyo):\n",
    "    response_3 = requests.get(f'https://opendata-ajuntament.barcelona.cat/data/api/action/datastore_search?resource_id={identificador}&q=Any:{anyo}')\n",
    "    info_3 = response_3.text\n",
    "    dict_info_3 = json.loads(info_3)\n",
    "    lista_nombres = dict_info_3['result']['records']\n",
    "    nombres_mas_frecuentes=[]\n",
    "    for nombre in lista_nombres:\n",
    "        if nombre['Ordre'] == '1':\n",
    "            nombres_mas_frecuentes.append(nombre['Nom'])\n",
    "    return nombres_mas_frecuentes"
   ]
  },
  {
   "cell_type": "code",
   "execution_count": 174,
   "metadata": {},
   "outputs": [
    {
     "data": {
      "text/plain": [
       "['LAURA', 'MARC']"
      ]
     },
     "execution_count": 174,
     "metadata": {},
     "output_type": "execute_result"
    }
   ],
   "source": [
    "nombres_frecuentes('e1b5dd1f-a88e-43eb-86d1-d3880d9a6718','1996')"
   ]
  },
  {
   "cell_type": "markdown",
   "metadata": {},
   "source": [
    "### Apartado A"
   ]
  },
  {
   "cell_type": "code",
   "execution_count": 159,
   "metadata": {},
   "outputs": [],
   "source": [
    "# Generamos una lista con el nombre más frecuente de los recién nacidos en Barcelona por sexo para cada uno de los años entre 1996 y 2018 (incluidos)\n",
    "# Utilizamos un bucle 'for' para iterar por los distintos años, aprovechando la función creada\n",
    "def nombres_frecuentes_periodo(anyo_inicio, anyo_fin):\n",
    "    nombres_mas_frecuentes_chica=[]\n",
    "    nombres_mas_frecuentes_chico=[]\n",
    "    for i in range (anyo_inicio, (anyo_fin+1)):\n",
    "        nombre_frecuente_chica = nombres_frecuentes('e1b5dd1f-a88e-43eb-86d1-d3880d9a6718', i)[0]\n",
    "        nombres_mas_frecuentes_chica.append(nombre_frecuente_chica)\n",
    "        nombre_frecuente_chico = nombres_frecuentes('e1b5dd1f-a88e-43eb-86d1-d3880d9a6718', i)[1]\n",
    "        nombres_mas_frecuentes_chico.append(nombre_frecuente_chico)\n",
    "    return nombres_mas_frecuentes_chica, nombres_mas_frecuentes_chico"
   ]
  },
  {
   "cell_type": "code",
   "execution_count": 163,
   "metadata": {},
   "outputs": [],
   "source": [
    "# Lo serializamos y lo dividimos por sexo para que sea más comprensible\n",
    "lista_chicas = json.dumps(nombres_frecuentes_periodo(1996, 2018)[0])\n",
    "lista_chicos = json.dumps(nombres_frecuentes_periodo(1996, 2018)[1])"
   ]
  },
  {
   "cell_type": "code",
   "execution_count": 164,
   "metadata": {},
   "outputs": [
    {
     "name": "stdout",
     "output_type": "stream",
     "text": [
      "La lista de nombres de chica más utilizados es: [\"LAURA\", \"MARIA\", \"MARIA\", \"MARIA\", \"MARIA\", \"MARIA\", \"MARIA\", \"MARIA\", \"MARIA\", \"LAIA\", \"MARIA\", \"LUCIA\", \"MARTINA\", \"MARTINA\", \"MARTINA\", \"MARTINA\", \"JULIA\", \"JULIA\", \"LAIA\", \"EMMA\", \"JULIA\", \"JULIA\", \"EMMA\"]\n",
      "La lista de nombres de chico más utilizados es: [\"MARC\", \"MARC\", \"MARC\", \"MARC\", \"MARC\", \"MARC\", \"MARC\", \"MARC\", \"MARC\", \"MARC\", \"MARC\", \"MARC\", \"MARC\", \"MARC\", \"MARC\", \"MARC\", \"MARC\", \"MARC\", \"MARC\", \"MARC\", \"MARC\", \"POL\", \"MARC\"]\n"
     ]
    }
   ],
   "source": [
    "# Visualizamos el resultado\n",
    "print(f'La lista de nombres de chica más utilizados es: {lista_chicas}' )\n",
    "print(f'La lista de nombres de chico más utilizados es: {lista_chicos}' )"
   ]
  },
  {
   "cell_type": "markdown",
   "metadata": {},
   "source": [
    "### Apartado B"
   ]
  },
  {
   "cell_type": "code",
   "execution_count": 193,
   "metadata": {},
   "outputs": [],
   "source": [
    "# Creamos una lista ordenada de mayor a menor, a partir de la lista obtenida en el apartado a), según el número de veces que dicho nombre ha sido utilizado\n",
    "# Vamos a reaprovechar la función creada, pero con una ligera variable, para obtener el número de veces quese repite cada nombre\n",
    "def nombres_frecuentes_repeticiones(identificador,anyo):\n",
    "    response_3 = requests.get(f'https://opendata-ajuntament.barcelona.cat/data/api/action/datastore_search?resource_id={identificador}&q=Any:{anyo}')\n",
    "    info_3 = response_3.text\n",
    "    dict_info_3 = json.loads(info_3)\n",
    "    lista_nombres = dict_info_3['result']['records']\n",
    "    nombres_mas_frecuentes=[]\n",
    "    for nombre in lista_nombres:\n",
    "        if nombre['Ordre'] == '1':\n",
    "            nombres_mas_frecuentes.append(nombre)\n",
    "    return nombres_mas_frecuentes"
   ]
  },
  {
   "cell_type": "code",
   "execution_count": 176,
   "metadata": {},
   "outputs": [],
   "source": [
    "# Para que sea más sencillo crear la lista ordenada, cargamos la info en un DF\n",
    "import pandas as pd"
   ]
  },
  {
   "cell_type": "code",
   "execution_count": 189,
   "metadata": {},
   "outputs": [],
   "source": [
    "# Creamos por un lado un DF para los nombres de chica incluyendo las variables que nos interesan\n",
    "df_lista_chicas = pd.DataFrame(columns = ['Anyo', 'Nombre', 'Repeticiones'], \n",
    "                  index = range(23))"
   ]
  },
  {
   "cell_type": "code",
   "execution_count": 211,
   "metadata": {},
   "outputs": [],
   "source": [
    "# Utilizamos un bucle 'for' para cargar la información de los años 1996 a 2018\n",
    "lista_anyos = list(range(1996,2019))\n",
    "for i in lista_anyos:\n",
    "    df_lista_chicas.loc[[lista_anyos.index(i)],['Anyo']] = nombres_frecuentes_repeticiones('e1b5dd1f-a88e-43eb-86d1-d3880d9a6718', i)[0]['Any']\n",
    "    df_lista_chicas.loc[[lista_anyos.index(i)],['Nombre']] = nombres_frecuentes_repeticiones('e1b5dd1f-a88e-43eb-86d1-d3880d9a6718', i)[0]['Nom']\n",
    "    df_lista_chicas.loc[[lista_anyos.index(i)],['Repeticiones']] = nombres_frecuentes_repeticiones('e1b5dd1f-a88e-43eb-86d1-d3880d9a6718', i)[0]['Nombre']"
   ]
  },
  {
   "cell_type": "code",
   "execution_count": 218,
   "metadata": {},
   "outputs": [
    {
     "data": {
      "text/html": [
       "<div>\n",
       "<style scoped>\n",
       "    .dataframe tbody tr th:only-of-type {\n",
       "        vertical-align: middle;\n",
       "    }\n",
       "\n",
       "    .dataframe tbody tr th {\n",
       "        vertical-align: top;\n",
       "    }\n",
       "\n",
       "    .dataframe thead th {\n",
       "        text-align: right;\n",
       "    }\n",
       "</style>\n",
       "<table border=\"1\" class=\"dataframe\">\n",
       "  <thead>\n",
       "    <tr style=\"text-align: right;\">\n",
       "      <th></th>\n",
       "      <th>Anyo</th>\n",
       "      <th>Nombre</th>\n",
       "      <th>Repeticiones</th>\n",
       "    </tr>\n",
       "  </thead>\n",
       "  <tbody>\n",
       "    <tr>\n",
       "      <th>3</th>\n",
       "      <td>1999</td>\n",
       "      <td>MARIA</td>\n",
       "      <td>299</td>\n",
       "    </tr>\n",
       "    <tr>\n",
       "      <th>4</th>\n",
       "      <td>2000</td>\n",
       "      <td>MARIA</td>\n",
       "      <td>268</td>\n",
       "    </tr>\n",
       "    <tr>\n",
       "      <th>2</th>\n",
       "      <td>1998</td>\n",
       "      <td>MARIA</td>\n",
       "      <td>265</td>\n",
       "    </tr>\n",
       "    <tr>\n",
       "      <th>5</th>\n",
       "      <td>2001</td>\n",
       "      <td>MARIA</td>\n",
       "      <td>243</td>\n",
       "    </tr>\n",
       "    <tr>\n",
       "      <th>6</th>\n",
       "      <td>2002</td>\n",
       "      <td>MARIA</td>\n",
       "      <td>243</td>\n",
       "    </tr>\n",
       "    <tr>\n",
       "      <th>1</th>\n",
       "      <td>1997</td>\n",
       "      <td>MARIA</td>\n",
       "      <td>241</td>\n",
       "    </tr>\n",
       "    <tr>\n",
       "      <th>0</th>\n",
       "      <td>1996</td>\n",
       "      <td>LAURA</td>\n",
       "      <td>237</td>\n",
       "    </tr>\n",
       "    <tr>\n",
       "      <th>8</th>\n",
       "      <td>2004</td>\n",
       "      <td>MARIA</td>\n",
       "      <td>200</td>\n",
       "    </tr>\n",
       "    <tr>\n",
       "      <th>9</th>\n",
       "      <td>2005</td>\n",
       "      <td>LAIA</td>\n",
       "      <td>200</td>\n",
       "    </tr>\n",
       "    <tr>\n",
       "      <th>7</th>\n",
       "      <td>2003</td>\n",
       "      <td>MARIA</td>\n",
       "      <td>196</td>\n",
       "    </tr>\n",
       "    <tr>\n",
       "      <th>10</th>\n",
       "      <td>2006</td>\n",
       "      <td>MARIA</td>\n",
       "      <td>196</td>\n",
       "    </tr>\n",
       "    <tr>\n",
       "      <th>14</th>\n",
       "      <td>2010</td>\n",
       "      <td>MARTINA</td>\n",
       "      <td>194</td>\n",
       "    </tr>\n",
       "    <tr>\n",
       "      <th>12</th>\n",
       "      <td>2008</td>\n",
       "      <td>MARTINA</td>\n",
       "      <td>169</td>\n",
       "    </tr>\n",
       "    <tr>\n",
       "      <th>13</th>\n",
       "      <td>2009</td>\n",
       "      <td>MARTINA</td>\n",
       "      <td>167</td>\n",
       "    </tr>\n",
       "    <tr>\n",
       "      <th>11</th>\n",
       "      <td>2007</td>\n",
       "      <td>LUCIA</td>\n",
       "      <td>159</td>\n",
       "    </tr>\n",
       "    <tr>\n",
       "      <th>16</th>\n",
       "      <td>2012</td>\n",
       "      <td>JULIA</td>\n",
       "      <td>158</td>\n",
       "    </tr>\n",
       "    <tr>\n",
       "      <th>15</th>\n",
       "      <td>2011</td>\n",
       "      <td>MARTINA</td>\n",
       "      <td>157</td>\n",
       "    </tr>\n",
       "    <tr>\n",
       "      <th>18</th>\n",
       "      <td>2014</td>\n",
       "      <td>LAIA</td>\n",
       "      <td>153</td>\n",
       "    </tr>\n",
       "    <tr>\n",
       "      <th>22</th>\n",
       "      <td>2018</td>\n",
       "      <td>EMMA</td>\n",
       "      <td>146</td>\n",
       "    </tr>\n",
       "    <tr>\n",
       "      <th>19</th>\n",
       "      <td>2015</td>\n",
       "      <td>EMMA</td>\n",
       "      <td>145</td>\n",
       "    </tr>\n",
       "    <tr>\n",
       "      <th>17</th>\n",
       "      <td>2013</td>\n",
       "      <td>JULIA</td>\n",
       "      <td>143</td>\n",
       "    </tr>\n",
       "    <tr>\n",
       "      <th>20</th>\n",
       "      <td>2016</td>\n",
       "      <td>JULIA</td>\n",
       "      <td>137</td>\n",
       "    </tr>\n",
       "    <tr>\n",
       "      <th>21</th>\n",
       "      <td>2017</td>\n",
       "      <td>JULIA</td>\n",
       "      <td>123</td>\n",
       "    </tr>\n",
       "  </tbody>\n",
       "</table>\n",
       "</div>"
      ],
      "text/plain": [
       "    Anyo   Nombre Repeticiones\n",
       "3   1999    MARIA          299\n",
       "4   2000    MARIA          268\n",
       "2   1998    MARIA          265\n",
       "5   2001    MARIA          243\n",
       "6   2002    MARIA          243\n",
       "1   1997    MARIA          241\n",
       "0   1996    LAURA          237\n",
       "8   2004    MARIA          200\n",
       "9   2005     LAIA          200\n",
       "7   2003    MARIA          196\n",
       "10  2006    MARIA          196\n",
       "14  2010  MARTINA          194\n",
       "12  2008  MARTINA          169\n",
       "13  2009  MARTINA          167\n",
       "11  2007    LUCIA          159\n",
       "16  2012    JULIA          158\n",
       "15  2011  MARTINA          157\n",
       "18  2014     LAIA          153\n",
       "22  2018     EMMA          146\n",
       "19  2015     EMMA          145\n",
       "17  2013    JULIA          143\n",
       "20  2016    JULIA          137\n",
       "21  2017    JULIA          123"
      ]
     },
     "execution_count": 218,
     "metadata": {},
     "output_type": "execute_result"
    }
   ],
   "source": [
    "# Visualizamos el resultado ordenado por repeticiones\n",
    "df_lista_chicas.sort_values('Repeticiones', ascending=False)"
   ]
  },
  {
   "cell_type": "code",
   "execution_count": 219,
   "metadata": {},
   "outputs": [],
   "source": [
    "# Repetimos el proceso para los nombres de chico\n",
    "df_lista_chicos = pd.DataFrame(columns = ['Anyo', 'Nombre', 'Repeticiones'], \n",
    "                  index = range(23))"
   ]
  },
  {
   "cell_type": "code",
   "execution_count": 220,
   "metadata": {},
   "outputs": [],
   "source": [
    "# Utilizamos un bucle 'for' para cargar la información de los años 1996 a 2018\n",
    "lista_anyos = list(range(1996,2019))\n",
    "for i in lista_anyos:\n",
    "    df_lista_chicos.loc[[lista_anyos.index(i)],['Anyo']] = nombres_frecuentes_repeticiones('e1b5dd1f-a88e-43eb-86d1-d3880d9a6718', i)[1]['Any']\n",
    "    df_lista_chicos.loc[[lista_anyos.index(i)],['Nombre']] = nombres_frecuentes_repeticiones('e1b5dd1f-a88e-43eb-86d1-d3880d9a6718', i)[1]['Nom']\n",
    "    df_lista_chicos.loc[[lista_anyos.index(i)],['Repeticiones']] = nombres_frecuentes_repeticiones('e1b5dd1f-a88e-43eb-86d1-d3880d9a6718', i)[1]['Nombre']"
   ]
  },
  {
   "cell_type": "code",
   "execution_count": 221,
   "metadata": {},
   "outputs": [
    {
     "data": {
      "text/html": [
       "<div>\n",
       "<style scoped>\n",
       "    .dataframe tbody tr th:only-of-type {\n",
       "        vertical-align: middle;\n",
       "    }\n",
       "\n",
       "    .dataframe tbody tr th {\n",
       "        vertical-align: top;\n",
       "    }\n",
       "\n",
       "    .dataframe thead th {\n",
       "        text-align: right;\n",
       "    }\n",
       "</style>\n",
       "<table border=\"1\" class=\"dataframe\">\n",
       "  <thead>\n",
       "    <tr style=\"text-align: right;\">\n",
       "      <th></th>\n",
       "      <th>Anyo</th>\n",
       "      <th>Nombre</th>\n",
       "      <th>Repeticiones</th>\n",
       "    </tr>\n",
       "  </thead>\n",
       "  <tbody>\n",
       "    <tr>\n",
       "      <th>1</th>\n",
       "      <td>1997</td>\n",
       "      <td>MARC</td>\n",
       "      <td>348</td>\n",
       "    </tr>\n",
       "    <tr>\n",
       "      <th>2</th>\n",
       "      <td>1998</td>\n",
       "      <td>MARC</td>\n",
       "      <td>330</td>\n",
       "    </tr>\n",
       "    <tr>\n",
       "      <th>0</th>\n",
       "      <td>1996</td>\n",
       "      <td>MARC</td>\n",
       "      <td>295</td>\n",
       "    </tr>\n",
       "    <tr>\n",
       "      <th>3</th>\n",
       "      <td>1999</td>\n",
       "      <td>MARC</td>\n",
       "      <td>291</td>\n",
       "    </tr>\n",
       "    <tr>\n",
       "      <th>4</th>\n",
       "      <td>2000</td>\n",
       "      <td>MARC</td>\n",
       "      <td>290</td>\n",
       "    </tr>\n",
       "    <tr>\n",
       "      <th>7</th>\n",
       "      <td>2003</td>\n",
       "      <td>MARC</td>\n",
       "      <td>287</td>\n",
       "    </tr>\n",
       "    <tr>\n",
       "      <th>9</th>\n",
       "      <td>2005</td>\n",
       "      <td>MARC</td>\n",
       "      <td>277</td>\n",
       "    </tr>\n",
       "    <tr>\n",
       "      <th>6</th>\n",
       "      <td>2002</td>\n",
       "      <td>MARC</td>\n",
       "      <td>267</td>\n",
       "    </tr>\n",
       "    <tr>\n",
       "      <th>8</th>\n",
       "      <td>2004</td>\n",
       "      <td>MARC</td>\n",
       "      <td>259</td>\n",
       "    </tr>\n",
       "    <tr>\n",
       "      <th>12</th>\n",
       "      <td>2008</td>\n",
       "      <td>MARC</td>\n",
       "      <td>244</td>\n",
       "    </tr>\n",
       "    <tr>\n",
       "      <th>11</th>\n",
       "      <td>2007</td>\n",
       "      <td>MARC</td>\n",
       "      <td>237</td>\n",
       "    </tr>\n",
       "    <tr>\n",
       "      <th>5</th>\n",
       "      <td>2001</td>\n",
       "      <td>MARC</td>\n",
       "      <td>234</td>\n",
       "    </tr>\n",
       "    <tr>\n",
       "      <th>10</th>\n",
       "      <td>2006</td>\n",
       "      <td>MARC</td>\n",
       "      <td>229</td>\n",
       "    </tr>\n",
       "    <tr>\n",
       "      <th>15</th>\n",
       "      <td>2011</td>\n",
       "      <td>MARC</td>\n",
       "      <td>209</td>\n",
       "    </tr>\n",
       "    <tr>\n",
       "      <th>16</th>\n",
       "      <td>2012</td>\n",
       "      <td>MARC</td>\n",
       "      <td>206</td>\n",
       "    </tr>\n",
       "    <tr>\n",
       "      <th>14</th>\n",
       "      <td>2010</td>\n",
       "      <td>MARC</td>\n",
       "      <td>195</td>\n",
       "    </tr>\n",
       "    <tr>\n",
       "      <th>13</th>\n",
       "      <td>2009</td>\n",
       "      <td>MARC</td>\n",
       "      <td>194</td>\n",
       "    </tr>\n",
       "    <tr>\n",
       "      <th>18</th>\n",
       "      <td>2014</td>\n",
       "      <td>MARC</td>\n",
       "      <td>192</td>\n",
       "    </tr>\n",
       "    <tr>\n",
       "      <th>17</th>\n",
       "      <td>2013</td>\n",
       "      <td>MARC</td>\n",
       "      <td>175</td>\n",
       "    </tr>\n",
       "    <tr>\n",
       "      <th>19</th>\n",
       "      <td>2015</td>\n",
       "      <td>MARC</td>\n",
       "      <td>172</td>\n",
       "    </tr>\n",
       "    <tr>\n",
       "      <th>20</th>\n",
       "      <td>2016</td>\n",
       "      <td>MARC</td>\n",
       "      <td>148</td>\n",
       "    </tr>\n",
       "    <tr>\n",
       "      <th>21</th>\n",
       "      <td>2017</td>\n",
       "      <td>POL</td>\n",
       "      <td>139</td>\n",
       "    </tr>\n",
       "    <tr>\n",
       "      <th>22</th>\n",
       "      <td>2018</td>\n",
       "      <td>MARC</td>\n",
       "      <td>121</td>\n",
       "    </tr>\n",
       "  </tbody>\n",
       "</table>\n",
       "</div>"
      ],
      "text/plain": [
       "    Anyo Nombre Repeticiones\n",
       "1   1997   MARC          348\n",
       "2   1998   MARC          330\n",
       "0   1996   MARC          295\n",
       "3   1999   MARC          291\n",
       "4   2000   MARC          290\n",
       "7   2003   MARC          287\n",
       "9   2005   MARC          277\n",
       "6   2002   MARC          267\n",
       "8   2004   MARC          259\n",
       "12  2008   MARC          244\n",
       "11  2007   MARC          237\n",
       "5   2001   MARC          234\n",
       "10  2006   MARC          229\n",
       "15  2011   MARC          209\n",
       "16  2012   MARC          206\n",
       "14  2010   MARC          195\n",
       "13  2009   MARC          194\n",
       "18  2014   MARC          192\n",
       "17  2013   MARC          175\n",
       "19  2015   MARC          172\n",
       "20  2016   MARC          148\n",
       "21  2017    POL          139\n",
       "22  2018   MARC          121"
      ]
     },
     "execution_count": 221,
     "metadata": {},
     "output_type": "execute_result"
    }
   ],
   "source": [
    "# Visualizamos el resultado ordenado por repeticiones\n",
    "df_lista_chicos.sort_values('Repeticiones', ascending=False)"
   ]
  },
  {
   "cell_type": "markdown",
   "metadata": {},
   "source": [
    "## Ejercicio opcional"
   ]
  },
  {
   "cell_type": "markdown",
   "metadata": {},
   "source": [
    "Programad una función que devuelva la fecha y hora de los 10 próximos pases de la estación espacial internacional ([ISS](http://api.open-notify.org)) sobre la Torre Eiffel  (especificada por su **longitud** y **latitud**). La función debe devolver una lista de 10 elementos, cada uno de los cuales debe ser una cadena de caracteres con la fecha y la hora de los pases."
   ]
  },
  {
   "cell_type": "markdown",
   "metadata": {},
   "source": [
    "**Respuesta**"
   ]
  },
  {
   "cell_type": "code",
   "execution_count": 45,
   "metadata": {},
   "outputs": [],
   "source": [
    "# Importamos la librerías\n",
    "import requests\n",
    "import json\n",
    "from datetime import datetime"
   ]
  },
  {
   "cell_type": "code",
   "execution_count": 20,
   "metadata": {},
   "outputs": [],
   "source": [
    "# Aprovechamos la función de geolocalización creada en ejercicios anteriores para obtener las coordenadas de la Torre Eiffel\n",
    "coordenadas_eiffel = geolocalizacion('6 Rue du Faubourg Saint-Denis, 75010 Paris, France')"
   ]
  },
  {
   "cell_type": "code",
   "execution_count": 21,
   "metadata": {},
   "outputs": [
    {
     "data": {
      "text/plain": [
       "(48.8700666, 2.3529369)"
      ]
     },
     "execution_count": 21,
     "metadata": {},
     "output_type": "execute_result"
    }
   ],
   "source": [
    "coordenadas_eiffel"
   ]
  },
  {
   "cell_type": "code",
   "execution_count": 30,
   "metadata": {},
   "outputs": [
    {
     "data": {
      "text/plain": [
       "{'message': 'success',\n",
       " 'request': {'altitude': 100,\n",
       "  'datetime': 1610616467,\n",
       "  'latitude': 48.8700666,\n",
       "  'longitude': 2.3529369,\n",
       "  'passes': 10},\n",
       " 'response': [{'duration': 458, 'risetime': 1610651592},\n",
       "  {'duration': 639, 'risetime': 1610657263},\n",
       "  {'duration': 655, 'risetime': 1610663057},\n",
       "  {'duration': 653, 'risetime': 1610668882},\n",
       "  {'duration': 652, 'risetime': 1610674694},\n",
       "  {'duration': 552, 'risetime': 1610680520},\n",
       "  {'duration': 330, 'risetime': 1610735212},\n",
       "  {'duration': 618, 'risetime': 1610740817},\n",
       "  {'duration': 656, 'risetime': 1610746592},\n",
       "  {'duration': 652, 'risetime': 1610752415}]}"
      ]
     },
     "execution_count": 30,
     "metadata": {},
     "output_type": "execute_result"
    }
   ],
   "source": [
    "# Repetimos la operación de petición de respuesta teniendo en cuenta las coordenadas ya conocidas de la Torre Eiffel\n",
    "response_4 = requests.get(f'http://api.open-notify.org/iss-pass.json?lat={coordenadas_eiffel[0]}&lon={coordenadas_eiffel[1]}&n=10')\n",
    "info_4 = response_4.text\n",
    "dict_info_4 = json.loads(info_4)\n",
    "dict_info_4"
   ]
  },
  {
   "cell_type": "code",
   "execution_count": 39,
   "metadata": {},
   "outputs": [
    {
     "data": {
      "text/plain": [
       "[{'duration': 458, 'risetime': 1610651592},\n",
       " {'duration': 639, 'risetime': 1610657263},\n",
       " {'duration': 655, 'risetime': 1610663057},\n",
       " {'duration': 653, 'risetime': 1610668882},\n",
       " {'duration': 652, 'risetime': 1610674694},\n",
       " {'duration': 552, 'risetime': 1610680520},\n",
       " {'duration': 330, 'risetime': 1610735212},\n",
       " {'duration': 618, 'risetime': 1610740817},\n",
       " {'duration': 656, 'risetime': 1610746592},\n",
       " {'duration': 652, 'risetime': 1610752415}]"
      ]
     },
     "execution_count": 39,
     "metadata": {},
     "output_type": "execute_result"
    }
   ],
   "source": [
    "# Visualizamos la lista que nos interesa\n",
    "dict_info_4['response']"
   ]
  },
  {
   "cell_type": "code",
   "execution_count": 46,
   "metadata": {},
   "outputs": [
    {
     "data": {
      "text/plain": [
       "'14/01/2021, 20:13:12'"
      ]
     },
     "execution_count": 46,
     "metadata": {},
     "output_type": "execute_result"
    }
   ],
   "source": [
    "# Transformamos el dato de los pases en fecha y hora\n",
    "datetime.fromtimestamp(dict_info_4['response'][0]['risetime']).strftime(\"%d/%m/%Y, %H:%M:%S\")"
   ]
  },
  {
   "cell_type": "code",
   "execution_count": 47,
   "metadata": {},
   "outputs": [],
   "source": [
    "# Definimos la función que nos solicita el enunciado consolidando todo lo desarrollado hasta ahora\n",
    "def pases_ISS (direccion, numero_pases):\n",
    "    coordenadas_eiffel = geolocalizacion(direccion)\n",
    "    response_4 = requests.get(f'http://api.open-notify.org/iss-pass.json?lat={coordenadas_eiffel[0]}&lon={coordenadas_eiffel[1]}&n={numero_pases}')\n",
    "    info_4 = response_4.text\n",
    "    dict_info_4 = json.loads(info_4)\n",
    "    dict_info_4\n",
    "    lista_pases_original = dict_info_4['response']\n",
    "    lista_pases_nueva = []\n",
    "    for pase in lista_pases_original:\n",
    "        lista_pases_nueva.append(datetime.fromtimestamp(pase['risetime']).strftime(\"%d/%m/%Y, %H:%M:%S\"))\n",
    "    return lista_pases_nueva"
   ]
  },
  {
   "cell_type": "code",
   "execution_count": 49,
   "metadata": {},
   "outputs": [
    {
     "data": {
      "text/plain": [
       "['14/01/2021, 20:13:12',\n",
       " '14/01/2021, 21:47:43',\n",
       " '14/01/2021, 23:24:17',\n",
       " '15/01/2021, 01:01:22',\n",
       " '15/01/2021, 02:38:14',\n",
       " '15/01/2021, 04:15:20',\n",
       " '15/01/2021, 19:26:52',\n",
       " '15/01/2021, 21:00:17',\n",
       " '15/01/2021, 22:36:32',\n",
       " '16/01/2021, 00:13:35']"
      ]
     },
     "execution_count": 49,
     "metadata": {},
     "output_type": "execute_result"
    }
   ],
   "source": [
    "# Utilizamos la función teniendo en cuenta como parámetros la dirección de la Torre Eiffel y los 10 pases requeridos por el ejercicio\n",
    "pases_ISS('6 Rue du Faubourg Saint-Denis, 75010 Paris, France', 10)"
   ]
  }
 ],
 "metadata": {
  "kernelspec": {
   "display_name": "Python 3",
   "language": "python",
   "name": "python3"
  },
  "language_info": {
   "codemirror_mode": {
    "name": "ipython",
    "version": 3
   },
   "file_extension": ".py",
   "mimetype": "text/x-python",
   "name": "python",
   "nbconvert_exporter": "python",
   "pygments_lexer": "ipython3",
   "version": "3.8.3"
  }
 },
 "nbformat": 4,
 "nbformat_minor": 4
}
