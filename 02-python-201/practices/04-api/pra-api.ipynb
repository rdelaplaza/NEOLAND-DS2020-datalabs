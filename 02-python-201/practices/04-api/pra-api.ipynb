{
 "cells": [
  {
   "cell_type": "markdown",
   "metadata": {},
   "source": [
    "Adquisición de datos en Python\n",
    "--------------------------------------\n",
    "\n",
    "\n",
    "En este Notebook encontraréis dos conjuntos de ejercicios: un primer conjunto de **ejercicios para practicar** y un segundo conjunto de **actividades evaluables** como PRÁCTICAS de la asignatura."
   ]
  },
  {
   "cell_type": "markdown",
   "metadata": {},
   "source": [
    "---"
   ]
  },
  {
   "cell_type": "markdown",
   "metadata": {},
   "source": [
    "## Ejercicios y preguntas teóricas\n",
    "\n",
    "A continuación, encontraréis los **ejercicios y preguntas teóricas que debéis completar en esta PRA** y que forman parte de la evaluación de esta unidad."
   ]
  },
  {
   "cell_type": "markdown",
   "metadata": {},
   "source": [
    "## Pregunta 1"
   ]
  },
  {
   "cell_type": "markdown",
   "metadata": {},
   "source": [
    "La respuesta recibida después de realizar una petición a una web API http es un objeto que contiene, entre otros, los siguientes atributos: **status.code**, **content** y **headers**.  Describe qué información contiene cada uno de los atributos anteriormente enumerados y pon un ejemplo de cada uno.  Recordad que hay que citar las referencias consultadas para responder la pregunta, y que la respuesta que proporcionéis debe ser original (redactada por vosotros mismos, después de haber leído y entendido las referencias que consideréis oportunas)."
   ]
  },
  {
   "cell_type": "markdown",
   "metadata": {},
   "source": [
    "**Respuesta**"
   ]
  },
  {
   "cell_type": "code",
   "execution_count": null,
   "metadata": {},
   "outputs": [],
   "source": []
  },
  {
   "cell_type": "markdown",
   "metadata": {},
   "source": []
  },
  {
   "cell_type": "markdown",
   "metadata": {},
   "source": [
    "## Pregunta 2"
   ]
  },
  {
   "cell_type": "markdown",
   "metadata": {},
   "source": [
    "Enumera tres librerías de Python para acceder a una API y especifica la API a la cual se accede. Para cada una de las librerías anteriormente enumeradas, pon un ejemplo de **endpoint** de la API que permite obtener una determinada información y de la función que permite obtenerla.  Recordad que hay que citar las referencias consultadas para responder la pregunta. \n",
    "\n",
    "**Nota**. Un ejemplo sería la librería de Python [Tweepy](http://www.tweepy.org/) que accede a la API de Twitter. Un posible endpoint sería *https://api.twitter.com/1.1/search/tweets.json* y la función *api.get_user()* permitiriá obtener información de un determinado usuario. "
   ]
  },
  {
   "cell_type": "markdown",
   "metadata": {},
   "source": [
    "**Respuesta**"
   ]
  },
  {
   "cell_type": "code",
   "execution_count": null,
   "metadata": {},
   "outputs": [],
   "source": []
  },
  {
   "cell_type": "markdown",
   "metadata": {},
   "source": []
  },
  {
   "cell_type": "markdown",
   "metadata": {},
   "source": [
    "## Ejercicio 1\n",
    "\n",
    "Implementad una función que devuelva una lista con el nombre de las personas actualmente en el espacio consultando alguna de las APIs que se detallan en la siguiente [url](http://api.open-notify.org)."
   ]
  },
  {
   "cell_type": "markdown",
   "metadata": {},
   "source": [
    "**Respuesta**"
   ]
  },
  {
   "cell_type": "code",
   "execution_count": null,
   "metadata": {},
   "outputs": [],
   "source": []
  },
  {
   "cell_type": "markdown",
   "metadata": {},
   "source": [
    "## Ejercicio 2\n",
    "Queremos saber el número de crímenes violentos que se han producido en Reino Unido en una localización (latitud, longitud) y fecha concretas mediante la seguiente [url](https://data.police.uk/docs/method/crimes-at-location/). Implementad un conjunto de funciones para obtener el número de crimenes producidos en una determinada fecha en una determinada localización. \n",
    "\n",
    "- La primera función devolverá la latitud y longitud de una determinada dirección postal mediante la API de geolocalización de [google maps](https://pypi.org/project/googlemaps/1.0.2/). \n",
    "\n",
    "- La segunda función devolverá el número de crimenes producidos en una determinada fecha y en una determinada localización (latitud, longitud).  \n",
    "\n",
    "Usa ambas funciones para obtener el número de crimenes violentos en la dirección **Adelaide St, WC2N 4HZ, London, United Kingdom** en abril del 2018. \n",
    "\n",
    "**Nota**: Deberéis registraros a [Google Cloud Platform](https://developers.google.com/maps/documentation/javascript/get-api-key) para obtener las credenciales de la API de googlemaps."
   ]
  },
  {
   "cell_type": "markdown",
   "metadata": {},
   "source": [
    "**Respuesta**\n"
   ]
  },
  {
   "cell_type": "code",
   "execution_count": null,
   "metadata": {},
   "outputs": [],
   "source": []
  },
  {
   "cell_type": "markdown",
   "metadata": {},
   "source": [
    "## Ejercicio 3\n",
    "\n",
    "Queremos conocer los nombres más frecuentes de los recién nacidos en Barcelona por sexo entre los años 1996 y 2018. Implementad una función de dos parámetros (id: identificador del recurso, año: año de consulta), que devuelva una lista con el nombre más frecuente para niña y para niño en dicho año.  Usa la función para obtener lo siguiente: \n",
    "\n",
    "a) Una lista con el nombre más frecuente de los recién nacidos en Barcelona por sexo para cada uno de los años entre 1996 y 2018 (incluidos). \n",
    "\n",
    "b) Crear una lista ordenada de mayor a menor, a partir de la lista obtenida en el apartado a), según el número de veces que dicho nombre ha sido utilizado.\n",
    "\n",
    "\n",
    "Para realizar el ejercicio consultad el portal de datos abiertos del Ayuntamiento de Barcelona mediante la siguiente [url](https://opendata-ajuntament.barcelona.cat/es/). \n",
    "\n",
    "**Nota 1**: Consultad como realizar las consultas mediante la API en [la pestaña de Desarrolladores](https://opendata-ajuntament.barcelona.cat/es/desenvolupadors)\n",
    "\n",
    "**Nota 2**: Algunos nombres pueden contener espacios.  Deberéis eliminar dicho espacio para realizar el contaje correctamente.\n"
   ]
  },
  {
   "cell_type": "markdown",
   "metadata": {},
   "source": [
    "**Respuesta**"
   ]
  },
  {
   "cell_type": "code",
   "execution_count": null,
   "metadata": {},
   "outputs": [],
   "source": []
  },
  {
   "cell_type": "markdown",
   "metadata": {},
   "source": [
    "## Ejercicio opcional"
   ]
  },
  {
   "cell_type": "markdown",
   "metadata": {},
   "source": [
    "Programad una función que devuelva la fecha y hora de los 10 próximos pases de la estación espacial internacional ([ISS](http://api.open-notify.org)) sobre la Torre Eiffel  (especificada por su **longitud** y **latitud**). La función debe devolver una lista de 10 elementos, cada uno de los cuales debe ser una cadena de caracteres con la fecha y la hora de los pases."
   ]
  },
  {
   "cell_type": "markdown",
   "metadata": {},
   "source": [
    "**Respuesta**"
   ]
  },
  {
   "cell_type": "code",
   "execution_count": null,
   "metadata": {},
   "outputs": [],
   "source": []
  }
 ],
 "metadata": {
  "kernelspec": {
   "display_name": "Python 3",
   "language": "python",
   "name": "python3"
  },
  "language_info": {
   "codemirror_mode": {
    "name": "ipython",
    "version": 3
   },
   "file_extension": ".py",
   "mimetype": "text/x-python",
   "name": "python",
   "nbconvert_exporter": "python",
   "pygments_lexer": "ipython3",
   "version": "3.8.6"
  }
 },
 "nbformat": 4,
 "nbformat_minor": 4
}
