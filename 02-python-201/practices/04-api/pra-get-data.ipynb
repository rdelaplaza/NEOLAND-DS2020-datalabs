{
 "cells": [
  {
   "cell_type": "markdown",
   "metadata": {},
   "source": [
    "Adquisición de datos en Python - PRA02\n",
    "--------------------------------------\n",
    "\n",
    "\n",
    "En este Notebook encontraréis dos conjuntos de ejercicios: un primer conjunto de **ejercicios para practicar** y un segundo conjunto de **actividades evaluables** como PRÁCTICAS de la asignatura."
   ]
  },
  {
   "cell_type": "markdown",
   "metadata": {},
   "source": [
    "### Ejercicio 1"
   ]
  },
  {
   "cell_type": "markdown",
   "metadata": {},
   "source": [
    "Hemos visto el uso de la libería [Requests](http://docs.python-requests.org/) para realizar peticiones a web API de manera manual.\n",
    "\n",
    "Mediante esta librería podemos realizar solicitudes como en el ejemplo que hemos visto de [postcodes.io](http://postcodes.io).\n",
    "\n",
    "`response = requests.get('http://api.postcodes.io/postcodes/E98%201TT')`\n",
    "\n",
    "\n",
    "\n",
    "\n",
    "Hemos visto que, en realizar una petición a una web API http, recuperamos un objeto que contiene, entre otros, los siguientes atributos: **status.code**, **content** y **headers**. Busca la información sobre los códigos de **status.code** y completa la siguiente tabla sobre los códigos de error http. \n"
   ]
  },
  {
   "cell_type": "markdown",
   "metadata": {},
   "source": [
    "**Respuesta**\n",
    "\n",
    "Descripción de los principales códigos de error http:\n",
    "\n",
    "- 200:\n",
    "- 301:\n",
    "- 400: \n",
    "- 401: \n",
    "- 403:\n",
    "- 404:\n",
    "- 505:\n",
    "- 501:"
   ]
  },
  {
   "cell_type": "markdown",
   "metadata": {},
   "source": [
    "### Ejercicio 2"
   ]
  },
  {
   "cell_type": "markdown",
   "metadata": {},
   "source": [
    "En este ejercicio intentaremos hacer una solicitud a tres paginas web diferentes vía el protocolo http mediante el método GET implementado en `requests.get`.\n",
    "\n",
    "Obtén mediante `requests.get`, el contenido y el correspondiente `status.code` de las siguentes pàginas web: \n",
    "\n",
    "- http://google.com\n",
    "- http://wikipedia.org\n",
    "- https://mikemai.net/\n",
    "- http://google.com/noexisto\n",
    "\n",
    "Para cada web, muestra:\n",
    "\n",
    "- Los primeros 80 carácteres del contenido de la web \n",
    "- El código de `status.code`.\n",
    "\n"
   ]
  },
  {
   "cell_type": "code",
   "execution_count": null,
   "metadata": {},
   "outputs": [],
   "source": [
    "# Respuesta\n"
   ]
  },
  {
   "cell_type": "markdown",
   "metadata": {},
   "source": [
    "### Ejercicio 3\n",
    "\n",
    "En este ejercicio vamos a hacer un poco de *Fun with cats*. Existe una API para *cat-facts* (hechos sobre gatos) en la base de https://cat-fact.herokuapp.com. Esta API tiene dos puntos de acceso:\n",
    "\n",
    "- **/facts**\n",
    "- **/users**\n",
    "\n",
    "Según la documentación, el modelo en el punto de entrada de un **fact** es tal y como se indica a continuación: \n",
    "\n",
    "|    Key    |      Type     |                                              Description                                              |   |   |\n",
    "|:---------:|:-------------:|:-----------------------------------------------------------------------------------------------------:|---|---|\n",
    "| _id       | ObjectId      | Unique ID for the Fact                                                                                |   |   |\n",
    "| _v        | Number        | Version number of the Fact                                                                            |   |   |\n",
    "| user      | ObjectId      | ID of the User who added the Fact                                                                     |   |   |\n",
    "| text      | String        | The Fact itself                                                                                       |   |   |\n",
    "| updatedAt | Timestamp     | Date in which Fact was last modified                                                                  |   |   |\n",
    "| sendDate  | Timestamp     | If the Fact is meant for one time use, this is the date that it is used                               |   |   |\n",
    "| deleted   | Boolean       | Whether or not the Fact has been deleted (Soft deletes are used)                                      |   |   |\n",
    "| source    | String (enum) | Can be 'user' or 'api', indicates who added the fact to the DB                                        |   |   |\n",
    "| used      | Boolean       | Whether or not the Fact has been sent by the CatBot. This value is reset each time every Fact is used |   |   |\n",
    "| type      | String        | Type of animal the Fact describes (e.g. ‘cat’, ‘dog’, ‘horse’)                                        |   |   |\n",
    "\n",
    "Así, para obtener el **fact** número *58e0086f0aac31001185ed02*, debemos construir una solicitud a la url:\n",
    "\n",
    "- *https://cat-fact.herokuapp.com/facts/58e0086f0aac31001185ed02*\n",
    "\n",
    "El objecto que se nos devolverá, contendrá la información indicada en la tabla en formato *json* serializado. \n",
    "\n",
    "a) Contruye la solicitud, convierte el resultado a un diccionario y muestra por pantalla el resultado de los valores de la tabla anterior para el fact id *58e0086f0aac31001185ed02*.\n",
    "\n"
   ]
  },
  {
   "cell_type": "code",
   "execution_count": null,
   "metadata": {},
   "outputs": [],
   "source": [
    "# Respuesta\n"
   ]
  },
  {
   "cell_type": "markdown",
   "metadata": {},
   "source": [
    "b) Para ara los fact ids:\n",
    "\n",
    "- *5d38bdab0f1c57001592f156*\n",
    "- *5ed11e643c15f700172e3856*\n",
    "- *5ef556dff61f300017030d4c*\n",
    "- *5d9d4ae168a764001553b388*\n",
    "\n",
    "Obtén campos *type*, *user*, *user*, *source*, *used*, *text* y imprímelos siguiendo el siguiente formato:\n",
    "\n",
    "\n",
    "`Type: cat\tUser: 58e007480aac31001185ecef\n",
    "Used: True\tId: 58e0086f0aac31001185ed02\n",
    "Source: https://www.scientificamerican.com/article/strange-but-true-cats-cannot-taste-sweets/\n",
    "Text: Cats can't taste sweetness.`\n",
    "\n",
    "\n"
   ]
  },
  {
   "cell_type": "code",
   "execution_count": null,
   "metadata": {},
   "outputs": [],
   "source": [
    "# Respuesta\n"
   ]
  },
  {
   "cell_type": "markdown",
   "metadata": {},
   "source": [
    "## Ejercicio 4\n",
    "\n",
    "En los ejercicios anteriores, usamos directamente una API para hacer la solicitud que requiramos, y nos encargamos directamente de la gestión de los datos de salida. \n",
    "\n",
    "No obstante, hemos visto ya el uso de librerías que facilitan el accesso a una API. La mayoría de estas librerías (y APIs de proyectos populares) requieren de un registro en la web de desarolladores. \n",
    "\n",
    "\n",
    "Sigue la documentación proporcionada en clase para conseguir un registro en el panel de desarolladores de Twitter. Obtendrás 4 códigos para autenticar tu aplicación. \n",
    "\n",
    "Usa la librería **tweepy** para programar dos funciones. \n",
    "\n",
    "- La primera función, se autentica en la API de twitter usando los 4 códigos proporcionados por el registro. A partir de un nombre de usuario en twitter proporcionado en el argumento de la función, esta retorna una tupla `(user, api)` con el objeto `twepy.models.User`, correspondiente a ese usuario y el descriptor de la API ya inicializada. \n",
    "- La segunda funcion, aceptará un objeto  `twepy.models.User` de entrada y imprimirá: \n",
    " 1. El número de tweets del usuario.\n",
    " 1. El número de amigos del usuario.\n",
    " 1. El número de seguidores del usuario.\n",
    " 1. Los nombres de pantalla de los primeros 10 amigos del usuario (`screen_name`), sus nombres (`name`) junto con sus descripciones.\n",
    "\n",
    "Ejecuta las dos funciones sobre el usuario de twitter **Space_Station**.\n",
    "\n",
    "\n"
   ]
  },
  {
   "cell_type": "code",
   "execution_count": null,
   "metadata": {},
   "outputs": [],
   "source": [
    "# Respuesta\n"
   ]
  },
  {
   "cell_type": "markdown",
   "metadata": {},
   "source": [
    "### Ejercicio 5\n",
    "\n",
    "[congreso.es](http://www.congreso.es/) es la página web del Congreso de los Diputados en España. En ella se guarda una relación de todos los diputados elegidos en cada una de las legislaturas. \n",
    "\n",
    "En una de las páginas se puede observar un mapa del hemiciclo, junto con la posición de cada uno de los diputados, su fotografía, su representación territorial y el partido político al que esté adscrito.  Esta url se encuentra en [Hemiciclo](http://www.congreso.es/portal/page/portal/Congreso/Congreso/Diputados/Hemiciclo).\n",
    "\n",
    "Usad `scrappy` para extraer la siguiente información:\n",
    "\n",
    "*Nombre*, *Territorio*, *Partido*, *URL Imagen*, en el formato de un diccionario, como por ejemplo:\n",
    "\n",
    "`{'Nombre': 'Callejas Cano, Juan Antonio ', 'Territorio': 'Diputado por Ciudad Real', 'Partido': 'G.P. Popular en el Congreso', 'url': '/wc/htdocs/web/img/diputados/peq/35_14.jpg'}`\n",
    "\n",
    "Para Ello: \n",
    "\n",
    "- Utilizad el tutorial de scrappy para encontrar un `xpath` que contenga la información requerida\n",
    "- Extraed la información requerida en forma de diccionario.\n",
    "\n",
    "**Nota**: si la ejecución del _crawler_ os devuelve un error `ReactorNotRestartable`, reiniciad el núcleo del Notebook (en el menú: `Kernel` - `Restart`)\n",
    "\n"
   ]
  },
  {
   "cell_type": "code",
   "execution_count": 4,
   "metadata": {},
   "outputs": [],
   "source": [
    "# Respuesta\n"
   ]
  },
  {
   "cell_type": "markdown",
   "metadata": {},
   "source": [
    "### Ejercicio opcional"
   ]
  },
  {
   "cell_type": "markdown",
   "metadata": {},
   "source": [
    "Consultad la paǵina web de Open Notify, indicando la información sobre los humanos residentes fuera de la tierra (es decir, en el espacio). Dirección url en  [Open Notify](http://api.open-notify.org).\n",
    "\n",
    "Codificad una función que imprima por pantalla el número total de astronautas en el espacio, numero de naves tripuladas actualmente en órbita, así como el nombre de los astronautas que habitan para cada una de estas naves. \n",
    "\n"
   ]
  },
  {
   "cell_type": "code",
   "execution_count": null,
   "metadata": {},
   "outputs": [],
   "source": [
    "# Respuesta\n"
   ]
  }
 ],
 "metadata": {
  "kernelspec": {
   "display_name": "Python 3",
   "language": "python",
   "name": "python3"
  },
  "language_info": {
   "codemirror_mode": {
    "name": "ipython",
    "version": 3
   },
   "file_extension": ".py",
   "mimetype": "text/x-python",
   "name": "python",
   "nbconvert_exporter": "python",
   "pygments_lexer": "ipython3",
   "version": "3.8.6"
  }
 },
 "nbformat": 4,
 "nbformat_minor": 4
}
