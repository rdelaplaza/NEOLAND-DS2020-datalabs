{
 "cells": [
  {
   "cell_type": "markdown",
   "metadata": {},
   "source": [
    "# Ejercicios de Programación Resueltos"
   ]
  },
  {
   "cell_type": "markdown",
   "metadata": {},
   "source": [
    "## Ejercicio 1"
   ]
  },
  {
   "cell_type": "markdown",
   "metadata": {},
   "source": [
    "Calcule una función que determine si un año es bisiesto o no.\n",
    "Recuerde que un año es bisiesto si es multiplo de 4 o es multiplo de 400.\n",
    "Es decir, los años 1700, 1800 o 1900 son divisbles por 4 divisibles pero no divisbles por 400.\n",
    "En cambio, los años 1600 o 2000 son divisbles por 4 divisibles y divisbles por 400."
   ]
  },
  {
   "cell_type": "code",
   "execution_count": 7,
   "metadata": {},
   "outputs": [],
   "source": [
    "# Creamos una función en la que se cumplan las condiciones para que un año sea bisiesto: divisible por 4 y por 400, pero no por 100\n",
    "def bisiesto(anyo):\n",
    "    if anyo % 4 == 0 and (anyo % 100 != 0 or anyo % 400 == 0):\n",
    "        print(f'{anyo} es bisiesto')\n",
    "    else:\n",
    "        print(f'{anyo} no es bisiesto')   "
   ]
  },
  {
   "cell_type": "code",
   "execution_count": 31,
   "metadata": {},
   "outputs": [
    {
     "name": "stdout",
     "output_type": "stream",
     "text": [
      "2020 es bisiesto\n"
     ]
    }
   ],
   "source": [
    "# Comprobamos introduciendo años que sabemos que son bisiestos:\n",
    "bisiesto(2020)"
   ]
  },
  {
   "cell_type": "markdown",
   "metadata": {},
   "source": [
    "## Ejercicio 2"
   ]
  },
  {
   "cell_type": "markdown",
   "metadata": {},
   "source": [
    "Escriba la función que dada una cantidad de dinero calcule el desglose en billetes y monedas, empezando por el billete mayor al menor y contemabldo solo las monedas de 2€ y 1€. Por ejemplo, para la cantidad de dinero, 1378€\n",
    "* 2 billetes de 500€\n",
    "* 1 billete  de 200€\n",
    "* 1 billete  de 100€\n",
    "* 1 billete  de  50€\n",
    "* 1 billete  de  20€\n",
    "* 1 billete  de   5€\n",
    "* 1 moneda   de   2€\n",
    "* 1 moneda   de   1€"
   ]
  },
  {
   "cell_type": "code",
   "execution_count": 72,
   "metadata": {},
   "outputs": [],
   "source": [
    "# Importamos la librería 'math', que vamos a utilizar para redondear los valores al entero menor\n",
    "import math"
   ]
  },
  {
   "cell_type": "code",
   "execution_count": 79,
   "metadata": {},
   "outputs": [],
   "source": [
    "# Creamos una función que vaya dividiendo la cantidad introducida por los valores de los billetes o monedas y restando el valor entero resultante multiplicado por su valor:\n",
    "def desglose_billetes(cantidad):\n",
    "    tipos_billetes = [500, 200, 100, 50, 20, 10, 5, 2, 1]\n",
    "    for billete in tipos_billetes:\n",
    "        num_billetes = int(math.floor(cantidad / billete))\n",
    "        if num_billetes > 1 and billete > 3:\n",
    "            print(f'{num_billetes} billetes de {billete}€')\n",
    "        elif num_billetes == 1 and billete > 3:\n",
    "            print(f'{num_billetes} billete de {billete}€')\n",
    "        elif num_billetes > 1 and billete < 3:\n",
    "            print(f'{num_billetes} monedas de {billete}€')\n",
    "        elif num_billetes == 1 and billete < 3:\n",
    "            print(f'{num_billetes} moneda de {billete}€')\n",
    "        cantidad = cantidad - (num_billetes * billete)"
   ]
  },
  {
   "cell_type": "code",
   "execution_count": 80,
   "metadata": {},
   "outputs": [
    {
     "name": "stdout",
     "output_type": "stream",
     "text": [
      "2 billetes de 500€\n",
      "1 billete de 200€\n",
      "1 billete de 100€\n",
      "1 billete de 50€\n",
      "1 billete de 20€\n",
      "1 billete de 5€\n",
      "1 moneda de 2€\n",
      "1 moneda de 1€\n"
     ]
    }
   ],
   "source": [
    "desglose_billetes(1378)"
   ]
  },
  {
   "cell_type": "markdown",
   "metadata": {},
   "source": [
    "## Ejercicio 3"
   ]
  },
  {
   "cell_type": "markdown",
   "metadata": {},
   "source": [
    "Un banco está intersado en llevar el registro de clientes que solicitan una extracción de dinero de un cajero, para ello el cliente debe introducir la cantidad de dinero a extraer del cajero y éste le devolverá el desglose de dicha cantidad en billetede de 200 a 10 euros. \n",
    "\n",
    "Al finalizar la opreación, se debe quedar en un fichero de registro una traza de los billetes dispensado al cliente junto con su nombre, sus apellidos y la *hora local* en el que se realizó dicha operacion. Guarda el fichero en el formato que más comodo te resulte.\n",
    "\n",
    "Por ejemplo, para la cantidad de dinero, 370€\n",
    "* 1 billete  de 200€\n",
    "* 1 billete  de 100€\n",
    "* 1 billete  de  50€\n",
    "* 1 billete  de  20€\n"
   ]
  },
  {
   "cell_type": "code",
   "execution_count": 9,
   "metadata": {},
   "outputs": [],
   "source": [
    "# Importamos las librerías que vamos a utilizar\n",
    "from datetime import datetime\n",
    "import pandas as pd\n",
    "import math"
   ]
  },
  {
   "cell_type": "code",
   "execution_count": 10,
   "metadata": {},
   "outputs": [],
   "source": [
    "# Creamos una tabla en la que almacenar los datos facilitados por el cliente\n",
    "datos = pd.DataFrame(columns = ['Nombre', 'Fecha', 'Hora', 'Cantidad', '200€', '100€', '50€', '20€', '10€'],\n",
    "                    index = range(10))"
   ]
  },
  {
   "cell_type": "code",
   "execution_count": 11,
   "metadata": {},
   "outputs": [
    {
     "name": "stdin",
     "output_type": "stream",
     "text": [
      "Introduzca su nombre y apellidos:  Rodrigo de la Plaza García\n"
     ]
    }
   ],
   "source": [
    "# Pedimos al cliente su nombre y apellidos para poder registrarlo y colocamos el dato en la primera línea de la tabla\n",
    "nombre = input('Introduzca su nombre y apellidos: ')\n",
    "datos.loc[[0],['Nombre']] = nombre"
   ]
  },
  {
   "cell_type": "code",
   "execution_count": 12,
   "metadata": {},
   "outputs": [],
   "source": [
    "# Registramos la fecha y hora en la que se realiza la operación:\n",
    "fecha = datetime.now().strftime(\"%d/%m/%Y\")\n",
    "hora = datetime.now().strftime(\"%H:%M:%S\")\n",
    "datos.loc[[0],['Fecha']] = fecha\n",
    "datos.loc[[0],['Hora']] = hora"
   ]
  },
  {
   "cell_type": "code",
   "execution_count": 13,
   "metadata": {},
   "outputs": [
    {
     "name": "stdin",
     "output_type": "stream",
     "text": [
      "Introduzca la cantidad de dinero que quiere extraer:  370\n"
     ]
    }
   ],
   "source": [
    "# Pedimos al cliente la cantidad de dinero que desea extraer\n",
    "cantidad = float(input('Introduzca la cantidad de dinero que quiere extraer: '))\n",
    "datos.loc[[0],['Cantidad']] = cantidad"
   ]
  },
  {
   "cell_type": "code",
   "execution_count": 14,
   "metadata": {},
   "outputs": [],
   "source": [
    "# Ajustamos la función del ejercicio anterior para que solamente facilite billetes entre 10 y 200 €\n",
    "def desglose_billetes_cajero(cantidad):\n",
    "    tipos_billetes = [200, 100, 50, 20, 10]\n",
    "    for billete in tipos_billetes:\n",
    "        num_billetes = int(math.floor(cantidad / billete))\n",
    "        if num_billetes > 1:\n",
    "            print(f'{num_billetes} billetes de {billete}€')\n",
    "        elif num_billetes == 1:\n",
    "            print(f'{num_billetes} billete de {billete}€')\n",
    "        cantidad = cantidad - (num_billetes * billete)"
   ]
  },
  {
   "cell_type": "code",
   "execution_count": 15,
   "metadata": {},
   "outputs": [
    {
     "name": "stdout",
     "output_type": "stream",
     "text": [
      "1 billete de 200€\n",
      "1 billete de 100€\n",
      "1 billete de 50€\n",
      "1 billete de 20€\n"
     ]
    }
   ],
   "source": [
    "# Facilitamos al cliente el desglose de la cantidad solicitada\n",
    "desglose = desglose_billetes_cajero(cantidad)"
   ]
  },
  {
   "cell_type": "code",
   "execution_count": 16,
   "metadata": {},
   "outputs": [],
   "source": [
    "# Ajustamos de nuevo la función para cargar los datos en la tabla\n",
    "def extraccion_billetes_cajero(cantidad):\n",
    "    tipos_billetes = [200, 100, 50, 20, 10]\n",
    "    for billete in tipos_billetes:\n",
    "        num_billetes = int(math.floor(cantidad / billete))\n",
    "        datos.loc[[0],[f'{billete}€']] = num_billetes\n",
    "        cantidad = cantidad - (num_billetes * billete)"
   ]
  },
  {
   "cell_type": "code",
   "execution_count": 17,
   "metadata": {},
   "outputs": [],
   "source": [
    "# Ejecutamos la función de carga de datos\n",
    "extraccion_billetes_cajero(cantidad)"
   ]
  },
  {
   "cell_type": "code",
   "execution_count": 18,
   "metadata": {},
   "outputs": [
    {
     "data": {
      "text/html": [
       "<div>\n",
       "<style scoped>\n",
       "    .dataframe tbody tr th:only-of-type {\n",
       "        vertical-align: middle;\n",
       "    }\n",
       "\n",
       "    .dataframe tbody tr th {\n",
       "        vertical-align: top;\n",
       "    }\n",
       "\n",
       "    .dataframe thead th {\n",
       "        text-align: right;\n",
       "    }\n",
       "</style>\n",
       "<table border=\"1\" class=\"dataframe\">\n",
       "  <thead>\n",
       "    <tr style=\"text-align: right;\">\n",
       "      <th></th>\n",
       "      <th>Nombre</th>\n",
       "      <th>Fecha</th>\n",
       "      <th>Hora</th>\n",
       "      <th>Cantidad</th>\n",
       "      <th>200€</th>\n",
       "      <th>100€</th>\n",
       "      <th>50€</th>\n",
       "      <th>20€</th>\n",
       "      <th>10€</th>\n",
       "    </tr>\n",
       "  </thead>\n",
       "  <tbody>\n",
       "    <tr>\n",
       "      <th>0</th>\n",
       "      <td>Rodrigo de la Plaza García</td>\n",
       "      <td>11/01/2021</td>\n",
       "      <td>16:27:33</td>\n",
       "      <td>370</td>\n",
       "      <td>1</td>\n",
       "      <td>1</td>\n",
       "      <td>1</td>\n",
       "      <td>1</td>\n",
       "      <td>0</td>\n",
       "    </tr>\n",
       "    <tr>\n",
       "      <th>1</th>\n",
       "      <td>NaN</td>\n",
       "      <td>NaN</td>\n",
       "      <td>NaN</td>\n",
       "      <td>NaN</td>\n",
       "      <td>NaN</td>\n",
       "      <td>NaN</td>\n",
       "      <td>NaN</td>\n",
       "      <td>NaN</td>\n",
       "      <td>NaN</td>\n",
       "    </tr>\n",
       "    <tr>\n",
       "      <th>2</th>\n",
       "      <td>NaN</td>\n",
       "      <td>NaN</td>\n",
       "      <td>NaN</td>\n",
       "      <td>NaN</td>\n",
       "      <td>NaN</td>\n",
       "      <td>NaN</td>\n",
       "      <td>NaN</td>\n",
       "      <td>NaN</td>\n",
       "      <td>NaN</td>\n",
       "    </tr>\n",
       "    <tr>\n",
       "      <th>3</th>\n",
       "      <td>NaN</td>\n",
       "      <td>NaN</td>\n",
       "      <td>NaN</td>\n",
       "      <td>NaN</td>\n",
       "      <td>NaN</td>\n",
       "      <td>NaN</td>\n",
       "      <td>NaN</td>\n",
       "      <td>NaN</td>\n",
       "      <td>NaN</td>\n",
       "    </tr>\n",
       "    <tr>\n",
       "      <th>4</th>\n",
       "      <td>NaN</td>\n",
       "      <td>NaN</td>\n",
       "      <td>NaN</td>\n",
       "      <td>NaN</td>\n",
       "      <td>NaN</td>\n",
       "      <td>NaN</td>\n",
       "      <td>NaN</td>\n",
       "      <td>NaN</td>\n",
       "      <td>NaN</td>\n",
       "    </tr>\n",
       "    <tr>\n",
       "      <th>5</th>\n",
       "      <td>NaN</td>\n",
       "      <td>NaN</td>\n",
       "      <td>NaN</td>\n",
       "      <td>NaN</td>\n",
       "      <td>NaN</td>\n",
       "      <td>NaN</td>\n",
       "      <td>NaN</td>\n",
       "      <td>NaN</td>\n",
       "      <td>NaN</td>\n",
       "    </tr>\n",
       "    <tr>\n",
       "      <th>6</th>\n",
       "      <td>NaN</td>\n",
       "      <td>NaN</td>\n",
       "      <td>NaN</td>\n",
       "      <td>NaN</td>\n",
       "      <td>NaN</td>\n",
       "      <td>NaN</td>\n",
       "      <td>NaN</td>\n",
       "      <td>NaN</td>\n",
       "      <td>NaN</td>\n",
       "    </tr>\n",
       "    <tr>\n",
       "      <th>7</th>\n",
       "      <td>NaN</td>\n",
       "      <td>NaN</td>\n",
       "      <td>NaN</td>\n",
       "      <td>NaN</td>\n",
       "      <td>NaN</td>\n",
       "      <td>NaN</td>\n",
       "      <td>NaN</td>\n",
       "      <td>NaN</td>\n",
       "      <td>NaN</td>\n",
       "    </tr>\n",
       "    <tr>\n",
       "      <th>8</th>\n",
       "      <td>NaN</td>\n",
       "      <td>NaN</td>\n",
       "      <td>NaN</td>\n",
       "      <td>NaN</td>\n",
       "      <td>NaN</td>\n",
       "      <td>NaN</td>\n",
       "      <td>NaN</td>\n",
       "      <td>NaN</td>\n",
       "      <td>NaN</td>\n",
       "    </tr>\n",
       "    <tr>\n",
       "      <th>9</th>\n",
       "      <td>NaN</td>\n",
       "      <td>NaN</td>\n",
       "      <td>NaN</td>\n",
       "      <td>NaN</td>\n",
       "      <td>NaN</td>\n",
       "      <td>NaN</td>\n",
       "      <td>NaN</td>\n",
       "      <td>NaN</td>\n",
       "      <td>NaN</td>\n",
       "    </tr>\n",
       "  </tbody>\n",
       "</table>\n",
       "</div>"
      ],
      "text/plain": [
       "                       Nombre       Fecha      Hora Cantidad 200€ 100€  50€  \\\n",
       "0  Rodrigo de la Plaza García  11/01/2021  16:27:33      370    1    1    1   \n",
       "1                         NaN         NaN       NaN      NaN  NaN  NaN  NaN   \n",
       "2                         NaN         NaN       NaN      NaN  NaN  NaN  NaN   \n",
       "3                         NaN         NaN       NaN      NaN  NaN  NaN  NaN   \n",
       "4                         NaN         NaN       NaN      NaN  NaN  NaN  NaN   \n",
       "5                         NaN         NaN       NaN      NaN  NaN  NaN  NaN   \n",
       "6                         NaN         NaN       NaN      NaN  NaN  NaN  NaN   \n",
       "7                         NaN         NaN       NaN      NaN  NaN  NaN  NaN   \n",
       "8                         NaN         NaN       NaN      NaN  NaN  NaN  NaN   \n",
       "9                         NaN         NaN       NaN      NaN  NaN  NaN  NaN   \n",
       "\n",
       "   20€  10€  \n",
       "0    1    0  \n",
       "1  NaN  NaN  \n",
       "2  NaN  NaN  \n",
       "3  NaN  NaN  \n",
       "4  NaN  NaN  \n",
       "5  NaN  NaN  \n",
       "6  NaN  NaN  \n",
       "7  NaN  NaN  \n",
       "8  NaN  NaN  \n",
       "9  NaN  NaN  "
      ]
     },
     "execution_count": 18,
     "metadata": {},
     "output_type": "execute_result"
    }
   ],
   "source": [
    "# Comprobamos que la carga se ha realizado de forma correcta\n",
    "datos"
   ]
  },
  {
   "cell_type": "code",
   "execution_count": 19,
   "metadata": {},
   "outputs": [],
   "source": [
    "# Guardamos la tabla en un archivo *.csv como registro, forzando la codificación a 'utf-8'\n",
    "datos.to_csv(\"datos_cajero.csv\", encoding='utf-8')"
   ]
  }
 ],
 "metadata": {
  "kernelspec": {
   "display_name": "Python 3",
   "language": "python",
   "name": "python3"
  },
  "language_info": {
   "codemirror_mode": {
    "name": "ipython",
    "version": 3
   },
   "file_extension": ".py",
   "mimetype": "text/x-python",
   "name": "python",
   "nbconvert_exporter": "python",
   "pygments_lexer": "ipython3",
   "version": "3.8.3"
  }
 },
 "nbformat": 4,
 "nbformat_minor": 4
}
