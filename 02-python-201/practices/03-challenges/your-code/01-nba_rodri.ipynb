{
 "cells": [
  {
   "cell_type": "markdown",
   "metadata": {},
   "source": [
    "# Programación 201\n",
    "\n",
    "# NBA player of the week"
   ]
  },
  {
   "cell_type": "markdown",
   "metadata": {},
   "source": [
    "### Ejercicio 1\n",
    "\n",
    "# Descripción y enunciado\n",
    "El objetivo de esta actividad es la gestión y preparación de datos. La gestión de datos es una parte muy importante de cualquier proceso de minería de datos, ya que los datos se deben preparar y preprocesar antes de iniciar el proceso de extracción de conocimiento.\n",
    "Esta tarea ilustra algunos de los procedimientos básicos con los que nos podemos encontrar para preparar los datos: analizar los tipos de datos, tranformar valores, detectar e eliminar outliers, hacer un muestreo, etcétera.\n",
    "\n",
    "# Fichero de datos\n",
    "El conjunto de datos con el que trabajaremos en esta actividad surge de la bases de datos disponibles en Kaggle . En concreto, los datos corresponden a los jugadores nombrados jugadores de la semana desde la temporada 1984-1985 hasta la temporada 2017-2018. Estos datos nos ofrecen múltiples posibilidades para consolidar los conocimientos y competencias de manipulación de datos, preprocesado y análisis descriptivo. El fichero `NBA_player_of_the_week.csv` se encuentra adjunto.\n",
    "\n",
    "\n",
    "# Ingesta de datos\n",
    "Actualmente el fichero se encuentra en la misma carpeta de datos RMD, está en adjunto. Se enviará nueva práctica similar con los datos de ingesta a través de scraping / API / base de datos para R y Python.\n",
    "\n",
    "\n",
    "# Valoraciones\n",
    "- se valorarán los trabajos por los detalles, no vale con el solo enviar un trozo de código, sino la explicación es fundamental\n",
    "- explicar además los resumen de cada sección (carga, preparación, EDA, limpieza, nuevos atributos, discretización, split train-test)\n",
    "- conclusiones y comparativas son los más importantes para comenzar con Data Mining.\n",
    "\n",
    "**Diciembre 2020**\n",
    "- 1 Cargar un juego de datos\n",
    "- 1.1 Leer el fichero de datos “housePrices.txt”\n",
    "- 2 Consulta de los datos cargados\n",
    "- 2.1 Consulta de las etiquetas de los datos\n",
    "- 2.2 Consulta de datos\n",
    "- 3 Preparación de los datos\n",
    "- 3.1 Cambiamos los identificadores de filas y columnas\n",
    "- 3.2 Filtramos los datos\n",
    "- 3.3 Modificamos el contenido de los datos\n",
    "- 4 Split Train-Test\n",
    "- 4.1 Generamos dos conjuntos de datos train y test\n",
    "- 4.2 Guardamos los ficheros train y test en formato .csv"
   ]
  },
  {
   "cell_type": "markdown",
   "metadata": {},
   "source": [
    "## 1 Cargar un juego de datos\n",
    "*Leer el fichero de datos “NBA_player_of_the_week.csv” y guardar los datos en un objeto con identificador denominado nba.*"
   ]
  },
  {
   "cell_type": "code",
   "execution_count": 101,
   "metadata": {},
   "outputs": [],
   "source": [
    "# Instalamos librerías que vayamos a utilizar como, por ejemplo, \"pandas\" para la lectura del archivo *.csv\n",
    "import pandas as pd\n",
    "import numpy as np\n",
    "import seaborn as sns"
   ]
  },
  {
   "cell_type": "code",
   "execution_count": 2,
   "metadata": {},
   "outputs": [],
   "source": [
    "# Leemos el archivo *.csv\n",
    "data = pd.read_csv('NBA_player_of_the_week.csv')"
   ]
  },
  {
   "cell_type": "markdown",
   "metadata": {},
   "source": [
    "## 2 Descripción de los datos\n",
    "*Describir brevemente la estructura de los datos: qué tipo de datos contiene, número de filas y columnas y nombre de las columnas. Realizar un resumen descriptivo de los datos.*"
   ]
  },
  {
   "cell_type": "code",
   "execution_count": 3,
   "metadata": {},
   "outputs": [
    {
     "data": {
      "text/html": [
       "<div>\n",
       "<style scoped>\n",
       "    .dataframe tbody tr th:only-of-type {\n",
       "        vertical-align: middle;\n",
       "    }\n",
       "\n",
       "    .dataframe tbody tr th {\n",
       "        vertical-align: top;\n",
       "    }\n",
       "\n",
       "    .dataframe thead th {\n",
       "        text-align: right;\n",
       "    }\n",
       "</style>\n",
       "<table border=\"1\" class=\"dataframe\">\n",
       "  <thead>\n",
       "    <tr style=\"text-align: right;\">\n",
       "      <th></th>\n",
       "      <th>Age</th>\n",
       "      <th>Conference</th>\n",
       "      <th>Date</th>\n",
       "      <th>Draft Year</th>\n",
       "      <th>Height</th>\n",
       "      <th>Player</th>\n",
       "      <th>Position</th>\n",
       "      <th>Season</th>\n",
       "      <th>Season short</th>\n",
       "      <th>Seasons in league</th>\n",
       "      <th>Team</th>\n",
       "      <th>Weight</th>\n",
       "      <th>Real_value</th>\n",
       "    </tr>\n",
       "  </thead>\n",
       "  <tbody>\n",
       "    <tr>\n",
       "      <th>0</th>\n",
       "      <td>29</td>\n",
       "      <td>NaN</td>\n",
       "      <td>Apr 14, 1985</td>\n",
       "      <td>1978</td>\n",
       "      <td>6-5</td>\n",
       "      <td>Micheal Ray Richardson</td>\n",
       "      <td>PG</td>\n",
       "      <td>1984-1985</td>\n",
       "      <td>1985</td>\n",
       "      <td>6</td>\n",
       "      <td>New Jersey Nets</td>\n",
       "      <td>189</td>\n",
       "      <td>1.0</td>\n",
       "    </tr>\n",
       "    <tr>\n",
       "      <th>1</th>\n",
       "      <td>23</td>\n",
       "      <td>NaN</td>\n",
       "      <td>Apr 7, 1985</td>\n",
       "      <td>1982</td>\n",
       "      <td>6-6</td>\n",
       "      <td>Derek Smith</td>\n",
       "      <td>SG</td>\n",
       "      <td>1984-1985</td>\n",
       "      <td>1985</td>\n",
       "      <td>2</td>\n",
       "      <td>Los Angeles Clippers</td>\n",
       "      <td>205</td>\n",
       "      <td>1.0</td>\n",
       "    </tr>\n",
       "    <tr>\n",
       "      <th>2</th>\n",
       "      <td>28</td>\n",
       "      <td>NaN</td>\n",
       "      <td>Apr 1, 1985</td>\n",
       "      <td>1979</td>\n",
       "      <td>6-6</td>\n",
       "      <td>Calvin Natt</td>\n",
       "      <td>F</td>\n",
       "      <td>1984-1985</td>\n",
       "      <td>1985</td>\n",
       "      <td>5</td>\n",
       "      <td>Denver Nuggets</td>\n",
       "      <td>220</td>\n",
       "      <td>1.0</td>\n",
       "    </tr>\n",
       "    <tr>\n",
       "      <th>3</th>\n",
       "      <td>37</td>\n",
       "      <td>NaN</td>\n",
       "      <td>Mar 24, 1985</td>\n",
       "      <td>1969</td>\n",
       "      <td>7-2</td>\n",
       "      <td>Kareem Abdul-Jabbar</td>\n",
       "      <td>C</td>\n",
       "      <td>1984-1985</td>\n",
       "      <td>1985</td>\n",
       "      <td>15</td>\n",
       "      <td>Los Angeles Lakers</td>\n",
       "      <td>225</td>\n",
       "      <td>1.0</td>\n",
       "    </tr>\n",
       "    <tr>\n",
       "      <th>4</th>\n",
       "      <td>28</td>\n",
       "      <td>NaN</td>\n",
       "      <td>Mar 17, 1985</td>\n",
       "      <td>1978</td>\n",
       "      <td>6-9</td>\n",
       "      <td>Larry Bird</td>\n",
       "      <td>SF</td>\n",
       "      <td>1984-1985</td>\n",
       "      <td>1985</td>\n",
       "      <td>5</td>\n",
       "      <td>Boston Celtics</td>\n",
       "      <td>220</td>\n",
       "      <td>1.0</td>\n",
       "    </tr>\n",
       "    <tr>\n",
       "      <th>5</th>\n",
       "      <td>26</td>\n",
       "      <td>NaN</td>\n",
       "      <td>Mar 10, 1985</td>\n",
       "      <td>1980</td>\n",
       "      <td>6-4</td>\n",
       "      <td>Darrell Griffith</td>\n",
       "      <td>SG</td>\n",
       "      <td>1984-1985</td>\n",
       "      <td>1985</td>\n",
       "      <td>4</td>\n",
       "      <td>Utah Jazz</td>\n",
       "      <td>190</td>\n",
       "      <td>1.0</td>\n",
       "    </tr>\n",
       "    <tr>\n",
       "      <th>6</th>\n",
       "      <td>24</td>\n",
       "      <td>NaN</td>\n",
       "      <td>Mar 3, 1985</td>\n",
       "      <td>1982</td>\n",
       "      <td>6-3</td>\n",
       "      <td>Sleepy Floyd</td>\n",
       "      <td>PG</td>\n",
       "      <td>1984-1985</td>\n",
       "      <td>1985</td>\n",
       "      <td>2</td>\n",
       "      <td>Golden State Warriors</td>\n",
       "      <td>170</td>\n",
       "      <td>1.0</td>\n",
       "    </tr>\n",
       "    <tr>\n",
       "      <th>7</th>\n",
       "      <td>25</td>\n",
       "      <td>NaN</td>\n",
       "      <td>Feb 24, 1985</td>\n",
       "      <td>1981</td>\n",
       "      <td>6-6</td>\n",
       "      <td>Mark Aguirre</td>\n",
       "      <td>SF</td>\n",
       "      <td>1984-1985</td>\n",
       "      <td>1985</td>\n",
       "      <td>3</td>\n",
       "      <td>Dallas Mavericks</td>\n",
       "      <td>232</td>\n",
       "      <td>1.0</td>\n",
       "    </tr>\n",
       "    <tr>\n",
       "      <th>8</th>\n",
       "      <td>25</td>\n",
       "      <td>NaN</td>\n",
       "      <td>Feb 17, 1985</td>\n",
       "      <td>1979</td>\n",
       "      <td>6-9</td>\n",
       "      <td>Magic Johnson</td>\n",
       "      <td>PG</td>\n",
       "      <td>1984-1985</td>\n",
       "      <td>1985</td>\n",
       "      <td>5</td>\n",
       "      <td>Los Angeles Lakers</td>\n",
       "      <td>255</td>\n",
       "      <td>1.0</td>\n",
       "    </tr>\n",
       "    <tr>\n",
       "      <th>9</th>\n",
       "      <td>25</td>\n",
       "      <td>NaN</td>\n",
       "      <td>Feb 3, 1985</td>\n",
       "      <td>1982</td>\n",
       "      <td>6-7</td>\n",
       "      <td>Dominique Wilkins</td>\n",
       "      <td>SF</td>\n",
       "      <td>1984-1985</td>\n",
       "      <td>1985</td>\n",
       "      <td>2</td>\n",
       "      <td>Atlanta Hawks</td>\n",
       "      <td>200</td>\n",
       "      <td>1.0</td>\n",
       "    </tr>\n",
       "  </tbody>\n",
       "</table>\n",
       "</div>"
      ],
      "text/plain": [
       "   Age Conference          Date  Draft Year Height                  Player  \\\n",
       "0   29        NaN  Apr 14, 1985        1978    6-5  Micheal Ray Richardson   \n",
       "1   23        NaN   Apr 7, 1985        1982    6-6             Derek Smith   \n",
       "2   28        NaN   Apr 1, 1985        1979    6-6             Calvin Natt   \n",
       "3   37        NaN  Mar 24, 1985        1969    7-2     Kareem Abdul-Jabbar   \n",
       "4   28        NaN  Mar 17, 1985        1978    6-9              Larry Bird   \n",
       "5   26        NaN  Mar 10, 1985        1980    6-4        Darrell Griffith   \n",
       "6   24        NaN   Mar 3, 1985        1982    6-3            Sleepy Floyd   \n",
       "7   25        NaN  Feb 24, 1985        1981    6-6            Mark Aguirre   \n",
       "8   25        NaN  Feb 17, 1985        1979    6-9           Magic Johnson   \n",
       "9   25        NaN   Feb 3, 1985        1982    6-7       Dominique Wilkins   \n",
       "\n",
       "  Position     Season  Season short  Seasons in league                   Team  \\\n",
       "0       PG  1984-1985          1985                  6        New Jersey Nets   \n",
       "1       SG  1984-1985          1985                  2   Los Angeles Clippers   \n",
       "2        F  1984-1985          1985                  5         Denver Nuggets   \n",
       "3        C  1984-1985          1985                 15     Los Angeles Lakers   \n",
       "4       SF  1984-1985          1985                  5         Boston Celtics   \n",
       "5       SG  1984-1985          1985                  4              Utah Jazz   \n",
       "6       PG  1984-1985          1985                  2  Golden State Warriors   \n",
       "7       SF  1984-1985          1985                  3       Dallas Mavericks   \n",
       "8       PG  1984-1985          1985                  5     Los Angeles Lakers   \n",
       "9       SF  1984-1985          1985                  2          Atlanta Hawks   \n",
       "\n",
       "  Weight  Real_value  \n",
       "0    189         1.0  \n",
       "1    205         1.0  \n",
       "2    220         1.0  \n",
       "3    225         1.0  \n",
       "4    220         1.0  \n",
       "5    190         1.0  \n",
       "6    170         1.0  \n",
       "7    232         1.0  \n",
       "8    255         1.0  \n",
       "9    200         1.0  "
      ]
     },
     "execution_count": 3,
     "metadata": {},
     "output_type": "execute_result"
    }
   ],
   "source": [
    "# Mostramos las 10 primeras filas para conocer mejor el dataset\n",
    "data.head(10)"
   ]
  },
  {
   "cell_type": "code",
   "execution_count": 4,
   "metadata": {},
   "outputs": [
    {
     "data": {
      "text/plain": [
       "pandas.core.frame.DataFrame"
      ]
     },
     "execution_count": 4,
     "metadata": {},
     "output_type": "execute_result"
    }
   ],
   "source": [
    "# Mostramos el tipo de elemento que del que se trata: dataframe\n",
    "type(data)"
   ]
  },
  {
   "cell_type": "code",
   "execution_count": 5,
   "metadata": {},
   "outputs": [
    {
     "data": {
      "text/plain": [
       "Age                    int64\n",
       "Conference            object\n",
       "Date                  object\n",
       "Draft Year             int64\n",
       "Height                object\n",
       "Player                object\n",
       "Position              object\n",
       "Season                object\n",
       "Season short           int64\n",
       "Seasons in league      int64\n",
       "Team                  object\n",
       "Weight                object\n",
       "Real_value           float64\n",
       "dtype: object"
      ]
     },
     "execution_count": 5,
     "metadata": {},
     "output_type": "execute_result"
    }
   ],
   "source": [
    "# Mostramos los tipos de datos de cada columna del dataframe (todos a la vez)\n",
    "data.dtypes"
   ]
  },
  {
   "cell_type": "code",
   "execution_count": 6,
   "metadata": {},
   "outputs": [
    {
     "name": "stdout",
     "output_type": "stream",
     "text": [
      "El número de filas es:  1145\n"
     ]
    }
   ],
   "source": [
    "# Obtenemos el número de filas conb el método \".len(DataFrame.index)\", que es más rápido que el método \".shape\"\n",
    "print('El número de filas es: ',len(data.index))"
   ]
  },
  {
   "cell_type": "code",
   "execution_count": 7,
   "metadata": {},
   "outputs": [
    {
     "name": "stdout",
     "output_type": "stream",
     "text": [
      "Los nombres de la columnas son:  ['Age', 'Conference', 'Date', 'Draft Year', 'Height', 'Player', 'Position', 'Season', 'Season short', 'Seasons in league', 'Team', 'Weight', 'Real_value']\n"
     ]
    }
   ],
   "source": [
    "# Mostramos las nombres de las columnas\n",
    "print('Los nombres de la columnas son: ', list(data))"
   ]
  },
  {
   "cell_type": "code",
   "execution_count": 8,
   "metadata": {},
   "outputs": [
    {
     "name": "stdout",
     "output_type": "stream",
     "text": [
      "El número de columnas es:  13\n"
     ]
    }
   ],
   "source": [
    "# Obtenemos el número de columnas\n",
    "print('El número de columnas es: ',len(list(data)))"
   ]
  },
  {
   "cell_type": "code",
   "execution_count": 9,
   "metadata": {},
   "outputs": [
    {
     "data": {
      "text/html": [
       "<div>\n",
       "<style scoped>\n",
       "    .dataframe tbody tr th:only-of-type {\n",
       "        vertical-align: middle;\n",
       "    }\n",
       "\n",
       "    .dataframe tbody tr th {\n",
       "        vertical-align: top;\n",
       "    }\n",
       "\n",
       "    .dataframe thead th {\n",
       "        text-align: right;\n",
       "    }\n",
       "</style>\n",
       "<table border=\"1\" class=\"dataframe\">\n",
       "  <thead>\n",
       "    <tr style=\"text-align: right;\">\n",
       "      <th></th>\n",
       "      <th>Age</th>\n",
       "      <th>Draft Year</th>\n",
       "      <th>Season short</th>\n",
       "      <th>Seasons in league</th>\n",
       "      <th>Real_value</th>\n",
       "    </tr>\n",
       "  </thead>\n",
       "  <tbody>\n",
       "    <tr>\n",
       "      <th>count</th>\n",
       "      <td>1145.000000</td>\n",
       "      <td>1145.000000</td>\n",
       "      <td>1145.000000</td>\n",
       "      <td>1145.000000</td>\n",
       "      <td>1145.000000</td>\n",
       "    </tr>\n",
       "    <tr>\n",
       "      <th>mean</th>\n",
       "      <td>26.772926</td>\n",
       "      <td>1997.244541</td>\n",
       "      <td>2004.211354</td>\n",
       "      <td>5.869869</td>\n",
       "      <td>0.667686</td>\n",
       "    </tr>\n",
       "    <tr>\n",
       "      <th>std</th>\n",
       "      <td>3.402354</td>\n",
       "      <td>9.381369</td>\n",
       "      <td>9.426976</td>\n",
       "      <td>3.271995</td>\n",
       "      <td>0.236163</td>\n",
       "    </tr>\n",
       "    <tr>\n",
       "      <th>min</th>\n",
       "      <td>19.000000</td>\n",
       "      <td>1969.000000</td>\n",
       "      <td>1985.000000</td>\n",
       "      <td>0.000000</td>\n",
       "      <td>0.500000</td>\n",
       "    </tr>\n",
       "    <tr>\n",
       "      <th>25%</th>\n",
       "      <td>24.000000</td>\n",
       "      <td>1990.000000</td>\n",
       "      <td>1997.000000</td>\n",
       "      <td>3.000000</td>\n",
       "      <td>0.500000</td>\n",
       "    </tr>\n",
       "    <tr>\n",
       "      <th>50%</th>\n",
       "      <td>26.000000</td>\n",
       "      <td>1998.000000</td>\n",
       "      <td>2006.000000</td>\n",
       "      <td>6.000000</td>\n",
       "      <td>0.500000</td>\n",
       "    </tr>\n",
       "    <tr>\n",
       "      <th>75%</th>\n",
       "      <td>29.000000</td>\n",
       "      <td>2004.000000</td>\n",
       "      <td>2012.000000</td>\n",
       "      <td>8.000000</td>\n",
       "      <td>1.000000</td>\n",
       "    </tr>\n",
       "    <tr>\n",
       "      <th>max</th>\n",
       "      <td>40.000000</td>\n",
       "      <td>2016.000000</td>\n",
       "      <td>2018.000000</td>\n",
       "      <td>17.000000</td>\n",
       "      <td>1.000000</td>\n",
       "    </tr>\n",
       "  </tbody>\n",
       "</table>\n",
       "</div>"
      ],
      "text/plain": [
       "               Age   Draft Year  Season short  Seasons in league   Real_value\n",
       "count  1145.000000  1145.000000   1145.000000        1145.000000  1145.000000\n",
       "mean     26.772926  1997.244541   2004.211354           5.869869     0.667686\n",
       "std       3.402354     9.381369      9.426976           3.271995     0.236163\n",
       "min      19.000000  1969.000000   1985.000000           0.000000     0.500000\n",
       "25%      24.000000  1990.000000   1997.000000           3.000000     0.500000\n",
       "50%      26.000000  1998.000000   2006.000000           6.000000     0.500000\n",
       "75%      29.000000  2004.000000   2012.000000           8.000000     1.000000\n",
       "max      40.000000  2016.000000   2018.000000          17.000000     1.000000"
      ]
     },
     "execution_count": 9,
     "metadata": {},
     "output_type": "execute_result"
    }
   ],
   "source": [
    "# Mostramos las estadísticas básicas, pero solamente de los valores numéricos\n",
    "data.describe()"
   ]
  },
  {
   "cell_type": "markdown",
   "metadata": {},
   "source": [
    "## 3.Preparación de la base de datos\n",
    "### 3.1 Asignar NA a los valores ausentes en los datos de `Conference`."
   ]
  },
  {
   "cell_type": "code",
   "execution_count": 10,
   "metadata": {},
   "outputs": [
    {
     "data": {
      "text/plain": [
       "0        NaN\n",
       "1        NaN\n",
       "2        NaN\n",
       "3        NaN\n",
       "4        NaN\n",
       "        ... \n",
       "1140    West\n",
       "1141    East\n",
       "1142    West\n",
       "1143    East\n",
       "1144    West\n",
       "Name: Conference, Length: 1145, dtype: object"
      ]
     },
     "execution_count": 10,
     "metadata": {},
     "output_type": "execute_result"
    }
   ],
   "source": [
    "data.Conference"
   ]
  },
  {
   "cell_type": "code",
   "execution_count": 11,
   "metadata": {},
   "outputs": [],
   "source": [
    "# Podemos observar que la variable \"Conference\" ya tiene asignados valores \"NaN\" a los valores nulos, por tanto no habría que hacer nada en este caso"
   ]
  },
  {
   "cell_type": "markdown",
   "metadata": {},
   "source": [
    "### 3.2 Transformar los datos de Conference en variable categórica y mostrar la tabla de frecuencia."
   ]
  },
  {
   "cell_type": "code",
   "execution_count": 12,
   "metadata": {},
   "outputs": [
    {
     "data": {
      "text/html": [
       "<div>\n",
       "<style scoped>\n",
       "    .dataframe tbody tr th:only-of-type {\n",
       "        vertical-align: middle;\n",
       "    }\n",
       "\n",
       "    .dataframe tbody tr th {\n",
       "        vertical-align: top;\n",
       "    }\n",
       "\n",
       "    .dataframe thead th {\n",
       "        text-align: right;\n",
       "    }\n",
       "</style>\n",
       "<table border=\"1\" class=\"dataframe\">\n",
       "  <thead>\n",
       "    <tr style=\"text-align: right;\">\n",
       "      <th></th>\n",
       "      <th>frequency</th>\n",
       "    </tr>\n",
       "    <tr>\n",
       "      <th>Conference</th>\n",
       "      <th></th>\n",
       "    </tr>\n",
       "  </thead>\n",
       "  <tbody>\n",
       "    <tr>\n",
       "      <th>East</th>\n",
       "      <td>381</td>\n",
       "    </tr>\n",
       "    <tr>\n",
       "      <th>West</th>\n",
       "      <td>380</td>\n",
       "    </tr>\n",
       "  </tbody>\n",
       "</table>\n",
       "</div>"
      ],
      "text/plain": [
       "            frequency\n",
       "Conference           \n",
       "East              381\n",
       "West              380"
      ]
     },
     "execution_count": 12,
     "metadata": {},
     "output_type": "execute_result"
    }
   ],
   "source": [
    "# Convertimos la variable 'Conference' en categórica\n",
    "data.Conference = data.Conference.astype('category')\n",
    "\n",
    "# Agrupamos por la variable y contamos valores\n",
    "(data\n",
    "  .groupby(\"Conference\")\n",
    "  .agg(frequency=(\"Conference\", \"count\")))"
   ]
  },
  {
   "cell_type": "markdown",
   "metadata": {},
   "source": [
    "### 3.3 Comprobar que la variable tiene xxx valores ausentes"
   ]
  },
  {
   "cell_type": "code",
   "execution_count": 13,
   "metadata": {},
   "outputs": [
    {
     "data": {
      "text/plain": [
       "384"
      ]
     },
     "execution_count": 13,
     "metadata": {},
     "output_type": "execute_result"
    }
   ],
   "source": [
    "# Sumamos los valores nulos de la variable Conference mediante la función 'isnull()'\n",
    "data.Conference.isnull().sum()"
   ]
  },
  {
   "cell_type": "markdown",
   "metadata": {},
   "source": [
    "### 3.4 Transformar las variables Height, Player, Position, Season, Team y Weight en variables categóricas."
   ]
  },
  {
   "cell_type": "code",
   "execution_count": 14,
   "metadata": {},
   "outputs": [],
   "source": [
    "# Creamos una lista con las variables que queremos convertir en categóricas\n",
    "variables = ['Height', 'Player', 'Position', 'Season', 'Team', 'Weight']"
   ]
  },
  {
   "cell_type": "code",
   "execution_count": 15,
   "metadata": {},
   "outputs": [],
   "source": [
    "# Utilizamos un bucle 'for' para no tener que convertir una por una\n",
    "for variable in variables:\n",
    "    data[variable] = data[variable].astype('category')"
   ]
  },
  {
   "cell_type": "code",
   "execution_count": 16,
   "metadata": {},
   "outputs": [
    {
     "data": {
      "text/plain": [
       "Age                     int64\n",
       "Conference           category\n",
       "Date                   object\n",
       "Draft Year              int64\n",
       "Height               category\n",
       "Player               category\n",
       "Position             category\n",
       "Season               category\n",
       "Season short            int64\n",
       "Seasons in league       int64\n",
       "Team                 category\n",
       "Weight               category\n",
       "Real_value            float64\n",
       "dtype: object"
      ]
     },
     "execution_count": 16,
     "metadata": {},
     "output_type": "execute_result"
    }
   ],
   "source": [
    "# Volvemos a mostrar los tipos de datos de cada columna del dataframe\n",
    "data.dtypes"
   ]
  },
  {
   "cell_type": "markdown",
   "metadata": {},
   "source": [
    "### 3.5 Comprobar que estas variables no tienen valores perdidos."
   ]
  },
  {
   "cell_type": "code",
   "execution_count": 17,
   "metadata": {},
   "outputs": [
    {
     "data": {
      "text/plain": [
       "Age                    0\n",
       "Conference           384\n",
       "Date                   0\n",
       "Draft Year             0\n",
       "Height                 0\n",
       "Player                 0\n",
       "Position               0\n",
       "Season                 0\n",
       "Season short           0\n",
       "Seasons in league      0\n",
       "Team                   0\n",
       "Weight                 0\n",
       "Real_value             0\n",
       "dtype: int64"
      ]
     },
     "execution_count": 17,
     "metadata": {},
     "output_type": "execute_result"
    }
   ],
   "source": [
    "# Comprobamos si existen valores nulos en todo el dataframe, donde aparecen las variables buscadas, para no tener que mirar una por una\n",
    "data.isnull().sum()"
   ]
  },
  {
   "cell_type": "markdown",
   "metadata": {},
   "source": [
    "### 3.6 Calcular el número de anyos que pasan entre que salio el jugador elegido en el draft y la temporada en la que fue jugador de la semana. Denomina la variable tiempo."
   ]
  },
  {
   "cell_type": "code",
   "execution_count": 18,
   "metadata": {},
   "outputs": [
    {
     "data": {
      "text/html": [
       "<div>\n",
       "<style scoped>\n",
       "    .dataframe tbody tr th:only-of-type {\n",
       "        vertical-align: middle;\n",
       "    }\n",
       "\n",
       "    .dataframe tbody tr th {\n",
       "        vertical-align: top;\n",
       "    }\n",
       "\n",
       "    .dataframe thead th {\n",
       "        text-align: right;\n",
       "    }\n",
       "</style>\n",
       "<table border=\"1\" class=\"dataframe\">\n",
       "  <thead>\n",
       "    <tr style=\"text-align: right;\">\n",
       "      <th></th>\n",
       "      <th>Player</th>\n",
       "      <th>Draft Year</th>\n",
       "      <th>Season short</th>\n",
       "    </tr>\n",
       "  </thead>\n",
       "  <tbody>\n",
       "    <tr>\n",
       "      <th>0</th>\n",
       "      <td>Micheal Ray Richardson</td>\n",
       "      <td>1978</td>\n",
       "      <td>1985</td>\n",
       "    </tr>\n",
       "    <tr>\n",
       "      <th>1</th>\n",
       "      <td>Derek Smith</td>\n",
       "      <td>1982</td>\n",
       "      <td>1985</td>\n",
       "    </tr>\n",
       "    <tr>\n",
       "      <th>2</th>\n",
       "      <td>Calvin Natt</td>\n",
       "      <td>1979</td>\n",
       "      <td>1985</td>\n",
       "    </tr>\n",
       "    <tr>\n",
       "      <th>3</th>\n",
       "      <td>Kareem Abdul-Jabbar</td>\n",
       "      <td>1969</td>\n",
       "      <td>1985</td>\n",
       "    </tr>\n",
       "    <tr>\n",
       "      <th>4</th>\n",
       "      <td>Larry Bird</td>\n",
       "      <td>1978</td>\n",
       "      <td>1985</td>\n",
       "    </tr>\n",
       "    <tr>\n",
       "      <th>5</th>\n",
       "      <td>Darrell Griffith</td>\n",
       "      <td>1980</td>\n",
       "      <td>1985</td>\n",
       "    </tr>\n",
       "    <tr>\n",
       "      <th>6</th>\n",
       "      <td>Sleepy Floyd</td>\n",
       "      <td>1982</td>\n",
       "      <td>1985</td>\n",
       "    </tr>\n",
       "    <tr>\n",
       "      <th>7</th>\n",
       "      <td>Mark Aguirre</td>\n",
       "      <td>1981</td>\n",
       "      <td>1985</td>\n",
       "    </tr>\n",
       "    <tr>\n",
       "      <th>8</th>\n",
       "      <td>Magic Johnson</td>\n",
       "      <td>1979</td>\n",
       "      <td>1985</td>\n",
       "    </tr>\n",
       "    <tr>\n",
       "      <th>9</th>\n",
       "      <td>Dominique Wilkins</td>\n",
       "      <td>1982</td>\n",
       "      <td>1985</td>\n",
       "    </tr>\n",
       "  </tbody>\n",
       "</table>\n",
       "</div>"
      ],
      "text/plain": [
       "                   Player  Draft Year  Season short\n",
       "0  Micheal Ray Richardson        1978          1985\n",
       "1             Derek Smith        1982          1985\n",
       "2             Calvin Natt        1979          1985\n",
       "3     Kareem Abdul-Jabbar        1969          1985\n",
       "4              Larry Bird        1978          1985\n",
       "5        Darrell Griffith        1980          1985\n",
       "6            Sleepy Floyd        1982          1985\n",
       "7            Mark Aguirre        1981          1985\n",
       "8           Magic Johnson        1979          1985\n",
       "9       Dominique Wilkins        1982          1985"
      ]
     },
     "execution_count": 18,
     "metadata": {},
     "output_type": "execute_result"
    }
   ],
   "source": [
    "# Visualizamos solamente las columnas que nos interesan\n",
    "data_tiempo = data[['Player', 'Draft Year', 'Season short']]\n",
    "\n",
    "data_tiempo.head(10)"
   ]
  },
  {
   "cell_type": "code",
   "execution_count": 19,
   "metadata": {},
   "outputs": [
    {
     "data": {
      "text/html": [
       "<div>\n",
       "<style scoped>\n",
       "    .dataframe tbody tr th:only-of-type {\n",
       "        vertical-align: middle;\n",
       "    }\n",
       "\n",
       "    .dataframe tbody tr th {\n",
       "        vertical-align: top;\n",
       "    }\n",
       "\n",
       "    .dataframe thead th {\n",
       "        text-align: right;\n",
       "    }\n",
       "</style>\n",
       "<table border=\"1\" class=\"dataframe\">\n",
       "  <thead>\n",
       "    <tr style=\"text-align: right;\">\n",
       "      <th></th>\n",
       "      <th>Age</th>\n",
       "      <th>Conference</th>\n",
       "      <th>Date</th>\n",
       "      <th>Draft Year</th>\n",
       "      <th>Height</th>\n",
       "      <th>Player</th>\n",
       "      <th>Position</th>\n",
       "      <th>Season</th>\n",
       "      <th>Season short</th>\n",
       "      <th>Seasons in league</th>\n",
       "      <th>Team</th>\n",
       "      <th>Weight</th>\n",
       "      <th>Real_value</th>\n",
       "      <th>tiempo</th>\n",
       "    </tr>\n",
       "  </thead>\n",
       "  <tbody>\n",
       "    <tr>\n",
       "      <th>0</th>\n",
       "      <td>29</td>\n",
       "      <td>NaN</td>\n",
       "      <td>Apr 14, 1985</td>\n",
       "      <td>1978</td>\n",
       "      <td>6-5</td>\n",
       "      <td>Micheal Ray Richardson</td>\n",
       "      <td>PG</td>\n",
       "      <td>1984-1985</td>\n",
       "      <td>1985</td>\n",
       "      <td>6</td>\n",
       "      <td>New Jersey Nets</td>\n",
       "      <td>189</td>\n",
       "      <td>1.0</td>\n",
       "      <td>7</td>\n",
       "    </tr>\n",
       "    <tr>\n",
       "      <th>1</th>\n",
       "      <td>23</td>\n",
       "      <td>NaN</td>\n",
       "      <td>Apr 7, 1985</td>\n",
       "      <td>1982</td>\n",
       "      <td>6-6</td>\n",
       "      <td>Derek Smith</td>\n",
       "      <td>SG</td>\n",
       "      <td>1984-1985</td>\n",
       "      <td>1985</td>\n",
       "      <td>2</td>\n",
       "      <td>Los Angeles Clippers</td>\n",
       "      <td>205</td>\n",
       "      <td>1.0</td>\n",
       "      <td>3</td>\n",
       "    </tr>\n",
       "    <tr>\n",
       "      <th>2</th>\n",
       "      <td>28</td>\n",
       "      <td>NaN</td>\n",
       "      <td>Apr 1, 1985</td>\n",
       "      <td>1979</td>\n",
       "      <td>6-6</td>\n",
       "      <td>Calvin Natt</td>\n",
       "      <td>F</td>\n",
       "      <td>1984-1985</td>\n",
       "      <td>1985</td>\n",
       "      <td>5</td>\n",
       "      <td>Denver Nuggets</td>\n",
       "      <td>220</td>\n",
       "      <td>1.0</td>\n",
       "      <td>6</td>\n",
       "    </tr>\n",
       "    <tr>\n",
       "      <th>3</th>\n",
       "      <td>37</td>\n",
       "      <td>NaN</td>\n",
       "      <td>Mar 24, 1985</td>\n",
       "      <td>1969</td>\n",
       "      <td>7-2</td>\n",
       "      <td>Kareem Abdul-Jabbar</td>\n",
       "      <td>C</td>\n",
       "      <td>1984-1985</td>\n",
       "      <td>1985</td>\n",
       "      <td>15</td>\n",
       "      <td>Los Angeles Lakers</td>\n",
       "      <td>225</td>\n",
       "      <td>1.0</td>\n",
       "      <td>16</td>\n",
       "    </tr>\n",
       "    <tr>\n",
       "      <th>4</th>\n",
       "      <td>28</td>\n",
       "      <td>NaN</td>\n",
       "      <td>Mar 17, 1985</td>\n",
       "      <td>1978</td>\n",
       "      <td>6-9</td>\n",
       "      <td>Larry Bird</td>\n",
       "      <td>SF</td>\n",
       "      <td>1984-1985</td>\n",
       "      <td>1985</td>\n",
       "      <td>5</td>\n",
       "      <td>Boston Celtics</td>\n",
       "      <td>220</td>\n",
       "      <td>1.0</td>\n",
       "      <td>7</td>\n",
       "    </tr>\n",
       "    <tr>\n",
       "      <th>5</th>\n",
       "      <td>26</td>\n",
       "      <td>NaN</td>\n",
       "      <td>Mar 10, 1985</td>\n",
       "      <td>1980</td>\n",
       "      <td>6-4</td>\n",
       "      <td>Darrell Griffith</td>\n",
       "      <td>SG</td>\n",
       "      <td>1984-1985</td>\n",
       "      <td>1985</td>\n",
       "      <td>4</td>\n",
       "      <td>Utah Jazz</td>\n",
       "      <td>190</td>\n",
       "      <td>1.0</td>\n",
       "      <td>5</td>\n",
       "    </tr>\n",
       "    <tr>\n",
       "      <th>6</th>\n",
       "      <td>24</td>\n",
       "      <td>NaN</td>\n",
       "      <td>Mar 3, 1985</td>\n",
       "      <td>1982</td>\n",
       "      <td>6-3</td>\n",
       "      <td>Sleepy Floyd</td>\n",
       "      <td>PG</td>\n",
       "      <td>1984-1985</td>\n",
       "      <td>1985</td>\n",
       "      <td>2</td>\n",
       "      <td>Golden State Warriors</td>\n",
       "      <td>170</td>\n",
       "      <td>1.0</td>\n",
       "      <td>3</td>\n",
       "    </tr>\n",
       "    <tr>\n",
       "      <th>7</th>\n",
       "      <td>25</td>\n",
       "      <td>NaN</td>\n",
       "      <td>Feb 24, 1985</td>\n",
       "      <td>1981</td>\n",
       "      <td>6-6</td>\n",
       "      <td>Mark Aguirre</td>\n",
       "      <td>SF</td>\n",
       "      <td>1984-1985</td>\n",
       "      <td>1985</td>\n",
       "      <td>3</td>\n",
       "      <td>Dallas Mavericks</td>\n",
       "      <td>232</td>\n",
       "      <td>1.0</td>\n",
       "      <td>4</td>\n",
       "    </tr>\n",
       "    <tr>\n",
       "      <th>8</th>\n",
       "      <td>25</td>\n",
       "      <td>NaN</td>\n",
       "      <td>Feb 17, 1985</td>\n",
       "      <td>1979</td>\n",
       "      <td>6-9</td>\n",
       "      <td>Magic Johnson</td>\n",
       "      <td>PG</td>\n",
       "      <td>1984-1985</td>\n",
       "      <td>1985</td>\n",
       "      <td>5</td>\n",
       "      <td>Los Angeles Lakers</td>\n",
       "      <td>255</td>\n",
       "      <td>1.0</td>\n",
       "      <td>6</td>\n",
       "    </tr>\n",
       "    <tr>\n",
       "      <th>9</th>\n",
       "      <td>25</td>\n",
       "      <td>NaN</td>\n",
       "      <td>Feb 3, 1985</td>\n",
       "      <td>1982</td>\n",
       "      <td>6-7</td>\n",
       "      <td>Dominique Wilkins</td>\n",
       "      <td>SF</td>\n",
       "      <td>1984-1985</td>\n",
       "      <td>1985</td>\n",
       "      <td>2</td>\n",
       "      <td>Atlanta Hawks</td>\n",
       "      <td>200</td>\n",
       "      <td>1.0</td>\n",
       "      <td>3</td>\n",
       "    </tr>\n",
       "  </tbody>\n",
       "</table>\n",
       "</div>"
      ],
      "text/plain": [
       "   Age Conference          Date  Draft Year Height                  Player  \\\n",
       "0   29        NaN  Apr 14, 1985        1978    6-5  Micheal Ray Richardson   \n",
       "1   23        NaN   Apr 7, 1985        1982    6-6             Derek Smith   \n",
       "2   28        NaN   Apr 1, 1985        1979    6-6             Calvin Natt   \n",
       "3   37        NaN  Mar 24, 1985        1969    7-2     Kareem Abdul-Jabbar   \n",
       "4   28        NaN  Mar 17, 1985        1978    6-9              Larry Bird   \n",
       "5   26        NaN  Mar 10, 1985        1980    6-4        Darrell Griffith   \n",
       "6   24        NaN   Mar 3, 1985        1982    6-3            Sleepy Floyd   \n",
       "7   25        NaN  Feb 24, 1985        1981    6-6            Mark Aguirre   \n",
       "8   25        NaN  Feb 17, 1985        1979    6-9           Magic Johnson   \n",
       "9   25        NaN   Feb 3, 1985        1982    6-7       Dominique Wilkins   \n",
       "\n",
       "  Position     Season  Season short  Seasons in league                   Team  \\\n",
       "0       PG  1984-1985          1985                  6        New Jersey Nets   \n",
       "1       SG  1984-1985          1985                  2   Los Angeles Clippers   \n",
       "2        F  1984-1985          1985                  5         Denver Nuggets   \n",
       "3        C  1984-1985          1985                 15     Los Angeles Lakers   \n",
       "4       SF  1984-1985          1985                  5         Boston Celtics   \n",
       "5       SG  1984-1985          1985                  4              Utah Jazz   \n",
       "6       PG  1984-1985          1985                  2  Golden State Warriors   \n",
       "7       SF  1984-1985          1985                  3       Dallas Mavericks   \n",
       "8       PG  1984-1985          1985                  5     Los Angeles Lakers   \n",
       "9       SF  1984-1985          1985                  2          Atlanta Hawks   \n",
       "\n",
       "  Weight  Real_value  tiempo  \n",
       "0    189         1.0       7  \n",
       "1    205         1.0       3  \n",
       "2    220         1.0       6  \n",
       "3    225         1.0      16  \n",
       "4    220         1.0       7  \n",
       "5    190         1.0       5  \n",
       "6    170         1.0       3  \n",
       "7    232         1.0       4  \n",
       "8    255         1.0       6  \n",
       "9    200         1.0       3  "
      ]
     },
     "execution_count": 19,
     "metadata": {},
     "output_type": "execute_result"
    }
   ],
   "source": [
    "# Teniendo el cuenta lo que nos pide y el dataframe anterior, simplemente vamos a restar las columna \"Season short\" menos la columnna \"Draft Year\", y lo vamos a colocar en una nueva columna \"Tiempo\"\n",
    "data['tiempo'] = data['Season short'] - data['Draft Year']\n",
    "\n",
    "# Visualizamos el resultado en las 10 primeras columnas del dataframe\n",
    "data.head(10)"
   ]
  },
  {
   "cell_type": "markdown",
   "metadata": {},
   "source": [
    "### 3.7 ¿Cual es el número de años que más veces se repite entre que salen elegidos en el draft y se proclaman mejores jugadores? (moda de la variable tiempo)"
   ]
  },
  {
   "cell_type": "code",
   "execution_count": 20,
   "metadata": {},
   "outputs": [
    {
     "data": {
      "text/plain": [
       "0    7\n",
       "dtype: int64"
      ]
     },
     "execution_count": 20,
     "metadata": {},
     "output_type": "execute_result"
    }
   ],
   "source": [
    "# Calculamos directamente la moda de la columna tiempo con la función 'mode'\n",
    "data.tiempo.mode()"
   ]
  },
  {
   "cell_type": "markdown",
   "metadata": {},
   "source": [
    "### 3.8 La altura de los jugadores está expresada en pies (aquellas con guión) y cm. Convertir la altura expresada en pies a centimetros [https://www.piesametros.info/](https://www.piesametros.info/). Posteriormente, eliminar el texto “cm” de los datos de tipo altura y convertir la variable en numérica. Calcular media, desviación típica y boxplot."
   ]
  },
  {
   "cell_type": "code",
   "execution_count": 21,
   "metadata": {},
   "outputs": [
    {
     "data": {
      "text/html": [
       "<div>\n",
       "<style scoped>\n",
       "    .dataframe tbody tr th:only-of-type {\n",
       "        vertical-align: middle;\n",
       "    }\n",
       "\n",
       "    .dataframe tbody tr th {\n",
       "        vertical-align: top;\n",
       "    }\n",
       "\n",
       "    .dataframe thead th {\n",
       "        text-align: right;\n",
       "    }\n",
       "</style>\n",
       "<table border=\"1\" class=\"dataframe\">\n",
       "  <thead>\n",
       "    <tr style=\"text-align: right;\">\n",
       "      <th></th>\n",
       "      <th>Player</th>\n",
       "      <th>Height</th>\n",
       "    </tr>\n",
       "  </thead>\n",
       "  <tbody>\n",
       "    <tr>\n",
       "      <th>0</th>\n",
       "      <td>Micheal Ray Richardson</td>\n",
       "      <td>6-5</td>\n",
       "    </tr>\n",
       "    <tr>\n",
       "      <th>1</th>\n",
       "      <td>Derek Smith</td>\n",
       "      <td>6-6</td>\n",
       "    </tr>\n",
       "    <tr>\n",
       "      <th>2</th>\n",
       "      <td>Calvin Natt</td>\n",
       "      <td>6-6</td>\n",
       "    </tr>\n",
       "    <tr>\n",
       "      <th>3</th>\n",
       "      <td>Kareem Abdul-Jabbar</td>\n",
       "      <td>7-2</td>\n",
       "    </tr>\n",
       "    <tr>\n",
       "      <th>4</th>\n",
       "      <td>Larry Bird</td>\n",
       "      <td>6-9</td>\n",
       "    </tr>\n",
       "    <tr>\n",
       "      <th>...</th>\n",
       "      <td>...</td>\n",
       "      <td>...</td>\n",
       "    </tr>\n",
       "    <tr>\n",
       "      <th>1140</th>\n",
       "      <td>James Harden</td>\n",
       "      <td>196cm</td>\n",
       "    </tr>\n",
       "    <tr>\n",
       "      <th>1141</th>\n",
       "      <td>Victor Oladipo</td>\n",
       "      <td>193cm</td>\n",
       "    </tr>\n",
       "    <tr>\n",
       "      <th>1142</th>\n",
       "      <td>DeMarcus Cousins</td>\n",
       "      <td>211cm</td>\n",
       "    </tr>\n",
       "    <tr>\n",
       "      <th>1143</th>\n",
       "      <td>Giannis Antetokounmpo</td>\n",
       "      <td>211cm</td>\n",
       "    </tr>\n",
       "    <tr>\n",
       "      <th>1144</th>\n",
       "      <td>James Harden</td>\n",
       "      <td>196cm</td>\n",
       "    </tr>\n",
       "  </tbody>\n",
       "</table>\n",
       "<p>1145 rows × 2 columns</p>\n",
       "</div>"
      ],
      "text/plain": [
       "                      Player Height\n",
       "0     Micheal Ray Richardson    6-5\n",
       "1                Derek Smith    6-6\n",
       "2                Calvin Natt    6-6\n",
       "3        Kareem Abdul-Jabbar    7-2\n",
       "4                 Larry Bird    6-9\n",
       "...                      ...    ...\n",
       "1140            James Harden  196cm\n",
       "1141          Victor Oladipo  193cm\n",
       "1142        DeMarcus Cousins  211cm\n",
       "1143   Giannis Antetokounmpo  211cm\n",
       "1144            James Harden  196cm\n",
       "\n",
       "[1145 rows x 2 columns]"
      ]
     },
     "execution_count": 21,
     "metadata": {},
     "output_type": "execute_result"
    }
   ],
   "source": [
    "# Visualizamos solamente las columnas que nos interesan\n",
    "data_altura = data[['Player', 'Height']]\n",
    "\n",
    "data_altura"
   ]
  },
  {
   "cell_type": "code",
   "execution_count": 22,
   "metadata": {},
   "outputs": [],
   "source": [
    "# Como la altura ahora mismo es una categórica, convertimos la variable en una cadena de texto\n",
    "data.Height = data.Height.astype('str')"
   ]
  },
  {
   "cell_type": "code",
   "execution_count": 23,
   "metadata": {},
   "outputs": [],
   "source": [
    "# Utilizamos un bucle FOR...LOOP para diferenciar las alturas que están expresadas en cm de las que están en pies y pulgadas.\n",
    "# Las que están en 'cm', nos quedamos solo con el número y las que tienen un '-' (pies y pulgadas), las pasamos a 'cm':\n",
    "for i in range(len(data)):\n",
    "    if 'cm' in data.Height[i]:\n",
    "        data.loc[i,'Height'] = data.Height[i].replace('cm', '')\n",
    "    elif '-' in data.Height[i]:\n",
    "        div = data.Height[i].split('-')\n",
    "        data.loc[i,'Height'] = int(div[0])*30.48 + int(div[1])*2.54"
   ]
  },
  {
   "cell_type": "code",
   "execution_count": 24,
   "metadata": {},
   "outputs": [
    {
     "data": {
      "text/plain": [
       "0       195.58\n",
       "1       198.12\n",
       "2       198.12\n",
       "3       218.44\n",
       "4       205.74\n",
       "         ...  \n",
       "1140    196.00\n",
       "1141    193.00\n",
       "1142    211.00\n",
       "1143    211.00\n",
       "1144    196.00\n",
       "Name: Height, Length: 1145, dtype: float64"
      ]
     },
     "execution_count": 24,
     "metadata": {},
     "output_type": "execute_result"
    }
   ],
   "source": [
    "# Como la altura ahora mismo es un 'str', lo volvemos a cambiar a número para poder operar con él.\n",
    "data.Height = data.Height.astype('float')\n",
    "\n",
    "data.Height"
   ]
  },
  {
   "cell_type": "code",
   "execution_count": 25,
   "metadata": {},
   "outputs": [
    {
     "data": {
      "text/plain": [
       "201.02310917030644"
      ]
     },
     "execution_count": 25,
     "metadata": {},
     "output_type": "execute_result"
    }
   ],
   "source": [
    "# Calculamos la media\n",
    "data.Height.mean()"
   ]
  },
  {
   "cell_type": "code",
   "execution_count": 26,
   "metadata": {},
   "outputs": [
    {
     "data": {
      "text/plain": [
       "9.410947284208387"
      ]
     },
     "execution_count": 26,
     "metadata": {},
     "output_type": "execute_result"
    }
   ],
   "source": [
    "# Calculamos la desviación típica\n",
    "data.Height.std()"
   ]
  },
  {
   "cell_type": "code",
   "execution_count": 27,
   "metadata": {},
   "outputs": [
    {
     "data": {
      "text/plain": [
       "<matplotlib.axes._subplots.AxesSubplot at 0x1ecae7438e0>"
      ]
     },
     "execution_count": 27,
     "metadata": {},
     "output_type": "execute_result"
    },
    {
     "data": {
      "image/png": "[encoded data removed]",
      "text/plain": [
       "<Figure size 432x288 with 1 Axes>"
      ]
     },
     "metadata": {
      "needs_background": "light"
     },
     "output_type": "display_data"
    }
   ],
   "source": [
    "# Mostramos el boxplot\n",
    "data.boxplot('Height')"
   ]
  },
  {
   "cell_type": "markdown",
   "metadata": {},
   "source": [
    "### 3.9 El peso de los jugadores está expresada en libras y kg. Convertir el peso expresado en kgs en libras [https://www.metric-conversions.org/es/peso/kilogramos-a-libras.htm](https://www.metric-conversions.org/es/peso/kilogramos-a-libras.htm). Convertir la variable en numérica.Calcular media, desviación típica y boxplot."
   ]
  },
  {
   "cell_type": "code",
   "execution_count": 28,
   "metadata": {},
   "outputs": [
    {
     "data": {
      "text/html": [
       "<div>\n",
       "<style scoped>\n",
       "    .dataframe tbody tr th:only-of-type {\n",
       "        vertical-align: middle;\n",
       "    }\n",
       "\n",
       "    .dataframe tbody tr th {\n",
       "        vertical-align: top;\n",
       "    }\n",
       "\n",
       "    .dataframe thead th {\n",
       "        text-align: right;\n",
       "    }\n",
       "</style>\n",
       "<table border=\"1\" class=\"dataframe\">\n",
       "  <thead>\n",
       "    <tr style=\"text-align: right;\">\n",
       "      <th></th>\n",
       "      <th>Player</th>\n",
       "      <th>Weight</th>\n",
       "    </tr>\n",
       "  </thead>\n",
       "  <tbody>\n",
       "    <tr>\n",
       "      <th>0</th>\n",
       "      <td>Micheal Ray Richardson</td>\n",
       "      <td>189</td>\n",
       "    </tr>\n",
       "    <tr>\n",
       "      <th>1</th>\n",
       "      <td>Derek Smith</td>\n",
       "      <td>205</td>\n",
       "    </tr>\n",
       "    <tr>\n",
       "      <th>2</th>\n",
       "      <td>Calvin Natt</td>\n",
       "      <td>220</td>\n",
       "    </tr>\n",
       "    <tr>\n",
       "      <th>3</th>\n",
       "      <td>Kareem Abdul-Jabbar</td>\n",
       "      <td>225</td>\n",
       "    </tr>\n",
       "    <tr>\n",
       "      <th>4</th>\n",
       "      <td>Larry Bird</td>\n",
       "      <td>220</td>\n",
       "    </tr>\n",
       "    <tr>\n",
       "      <th>...</th>\n",
       "      <td>...</td>\n",
       "      <td>...</td>\n",
       "    </tr>\n",
       "    <tr>\n",
       "      <th>1140</th>\n",
       "      <td>James Harden</td>\n",
       "      <td>100kg</td>\n",
       "    </tr>\n",
       "    <tr>\n",
       "      <th>1141</th>\n",
       "      <td>Victor Oladipo</td>\n",
       "      <td>95kg</td>\n",
       "    </tr>\n",
       "    <tr>\n",
       "      <th>1142</th>\n",
       "      <td>DeMarcus Cousins</td>\n",
       "      <td>122kg</td>\n",
       "    </tr>\n",
       "    <tr>\n",
       "      <th>1143</th>\n",
       "      <td>Giannis Antetokounmpo</td>\n",
       "      <td>101kg</td>\n",
       "    </tr>\n",
       "    <tr>\n",
       "      <th>1144</th>\n",
       "      <td>James Harden</td>\n",
       "      <td>100kg</td>\n",
       "    </tr>\n",
       "  </tbody>\n",
       "</table>\n",
       "<p>1145 rows × 2 columns</p>\n",
       "</div>"
      ],
      "text/plain": [
       "                      Player Weight\n",
       "0     Micheal Ray Richardson    189\n",
       "1                Derek Smith    205\n",
       "2                Calvin Natt    220\n",
       "3        Kareem Abdul-Jabbar    225\n",
       "4                 Larry Bird    220\n",
       "...                      ...    ...\n",
       "1140            James Harden  100kg\n",
       "1141          Victor Oladipo   95kg\n",
       "1142        DeMarcus Cousins  122kg\n",
       "1143   Giannis Antetokounmpo  101kg\n",
       "1144            James Harden  100kg\n",
       "\n",
       "[1145 rows x 2 columns]"
      ]
     },
     "execution_count": 28,
     "metadata": {},
     "output_type": "execute_result"
    }
   ],
   "source": [
    "# Visualizamos solamente las columnas que nos interesan\n",
    "data_peso = data[['Player', 'Weight']]\n",
    "\n",
    "data_peso"
   ]
  },
  {
   "cell_type": "code",
   "execution_count": 29,
   "metadata": {},
   "outputs": [],
   "source": [
    "# Como el peso ahora mismo es una categórica, convertimos la variable en una cadena de texto\n",
    "data.Weight = data.Weight.astype('str')"
   ]
  },
  {
   "cell_type": "code",
   "execution_count": 30,
   "metadata": {},
   "outputs": [],
   "source": [
    "# Utilizamos un bucle FOR...LOOP para diferenciar los pesos que están en kg de los que están en libras.\n",
    "# Las que están en 'kg', nos quedamos solo con el número y los que están en libras los pasamos a 'kg':\n",
    "\n",
    "for i in range(len(data)):\n",
    "    if 'kg' in data.Weight[i]:\n",
    "        data.loc[i,'Weight'] = data.Weight[i].replace('kg', '')\n",
    "    else:\n",
    "        data.loc[i,'Weight'] = int(data.Weight[i])*0.453592"
   ]
  },
  {
   "cell_type": "code",
   "execution_count": 31,
   "metadata": {},
   "outputs": [
    {
     "data": {
      "text/plain": [
       "0        85.728888\n",
       "1        92.986360\n",
       "2        99.790240\n",
       "3       102.058200\n",
       "4        99.790240\n",
       "           ...    \n",
       "1140    100.000000\n",
       "1141     95.000000\n",
       "1142    122.000000\n",
       "1143    101.000000\n",
       "1144    100.000000\n",
       "Name: Weight, Length: 1145, dtype: float64"
      ]
     },
     "execution_count": 31,
     "metadata": {},
     "output_type": "execute_result"
    }
   ],
   "source": [
    "# Como el peso ahora mismo es un 'str', lo volvemos a cambiar a número para poder operar con él.\n",
    "data.Weight = data.Weight.astype('float')\n",
    "\n",
    "data.Weight"
   ]
  },
  {
   "cell_type": "code",
   "execution_count": 32,
   "metadata": {},
   "outputs": [
    {
     "data": {
      "text/plain": [
       "102.51357129781692"
      ]
     },
     "execution_count": 32,
     "metadata": {},
     "output_type": "execute_result"
    }
   ],
   "source": [
    "# Calculamos la media\n",
    "data.Weight.mean()"
   ]
  },
  {
   "cell_type": "code",
   "execution_count": 33,
   "metadata": {},
   "outputs": [
    {
     "data": {
      "text/plain": [
       "14.323385338120044"
      ]
     },
     "execution_count": 33,
     "metadata": {},
     "output_type": "execute_result"
    }
   ],
   "source": [
    "# Calculamos la desviación típica\n",
    "data.Weight.std()"
   ]
  },
  {
   "cell_type": "code",
   "execution_count": 34,
   "metadata": {},
   "outputs": [
    {
     "data": {
      "text/plain": [
       "<matplotlib.axes._subplots.AxesSubplot at 0x1ecaeee9fd0>"
      ]
     },
     "execution_count": 34,
     "metadata": {},
     "output_type": "execute_result"
    },
    {
     "data": {
      "image/png": "[encoded data removed]",
      "text/plain": [
       "<Figure size 432x288 with 1 Axes>"
      ]
     },
     "metadata": {
      "needs_background": "light"
     },
     "output_type": "display_data"
    }
   ],
   "source": [
    "# Mostramos el boxplot\n",
    "data.boxplot('Weight')"
   ]
  },
  {
   "cell_type": "markdown",
   "metadata": {},
   "source": [
    "## 4 Información sobre posiciones en el campo y equipos.\n",
    "### 4.1 Fusionar las categorias de posición en el campo F,F-C y FC en la categoría genérica Forward. Fusionar las categorias G,G-F y GF en la categoria genérica Guard. Renombrar la categoría ‘PG’ como ‘Point Guard’, ‘SG’ como ‘Shooting Guard’, ‘SF’ como ‘Small Forward’, ‘PF’ como ‘Power Forward’ y ‘C’ como ‘Center’."
   ]
  },
  {
   "cell_type": "code",
   "execution_count": 35,
   "metadata": {},
   "outputs": [
    {
     "data": {
      "text/html": [
       "<div>\n",
       "<style scoped>\n",
       "    .dataframe tbody tr th:only-of-type {\n",
       "        vertical-align: middle;\n",
       "    }\n",
       "\n",
       "    .dataframe tbody tr th {\n",
       "        vertical-align: top;\n",
       "    }\n",
       "\n",
       "    .dataframe thead th {\n",
       "        text-align: right;\n",
       "    }\n",
       "</style>\n",
       "<table border=\"1\" class=\"dataframe\">\n",
       "  <thead>\n",
       "    <tr style=\"text-align: right;\">\n",
       "      <th></th>\n",
       "      <th>Player</th>\n",
       "      <th>Position</th>\n",
       "    </tr>\n",
       "  </thead>\n",
       "  <tbody>\n",
       "    <tr>\n",
       "      <th>0</th>\n",
       "      <td>Micheal Ray Richardson</td>\n",
       "      <td>PG</td>\n",
       "    </tr>\n",
       "    <tr>\n",
       "      <th>1</th>\n",
       "      <td>Derek Smith</td>\n",
       "      <td>SG</td>\n",
       "    </tr>\n",
       "    <tr>\n",
       "      <th>2</th>\n",
       "      <td>Calvin Natt</td>\n",
       "      <td>F</td>\n",
       "    </tr>\n",
       "    <tr>\n",
       "      <th>3</th>\n",
       "      <td>Kareem Abdul-Jabbar</td>\n",
       "      <td>C</td>\n",
       "    </tr>\n",
       "    <tr>\n",
       "      <th>4</th>\n",
       "      <td>Larry Bird</td>\n",
       "      <td>SF</td>\n",
       "    </tr>\n",
       "    <tr>\n",
       "      <th>...</th>\n",
       "      <td>...</td>\n",
       "      <td>...</td>\n",
       "    </tr>\n",
       "    <tr>\n",
       "      <th>1140</th>\n",
       "      <td>James Harden</td>\n",
       "      <td>SG</td>\n",
       "    </tr>\n",
       "    <tr>\n",
       "      <th>1141</th>\n",
       "      <td>Victor Oladipo</td>\n",
       "      <td>G</td>\n",
       "    </tr>\n",
       "    <tr>\n",
       "      <th>1142</th>\n",
       "      <td>DeMarcus Cousins</td>\n",
       "      <td>C</td>\n",
       "    </tr>\n",
       "    <tr>\n",
       "      <th>1143</th>\n",
       "      <td>Giannis Antetokounmpo</td>\n",
       "      <td>F</td>\n",
       "    </tr>\n",
       "    <tr>\n",
       "      <th>1144</th>\n",
       "      <td>James Harden</td>\n",
       "      <td>SG</td>\n",
       "    </tr>\n",
       "  </tbody>\n",
       "</table>\n",
       "<p>1145 rows × 2 columns</p>\n",
       "</div>"
      ],
      "text/plain": [
       "                      Player Position\n",
       "0     Micheal Ray Richardson       PG\n",
       "1                Derek Smith       SG\n",
       "2                Calvin Natt        F\n",
       "3        Kareem Abdul-Jabbar        C\n",
       "4                 Larry Bird       SF\n",
       "...                      ...      ...\n",
       "1140            James Harden       SG\n",
       "1141          Victor Oladipo        G\n",
       "1142        DeMarcus Cousins        C\n",
       "1143   Giannis Antetokounmpo        F\n",
       "1144            James Harden       SG\n",
       "\n",
       "[1145 rows x 2 columns]"
      ]
     },
     "execution_count": 35,
     "metadata": {},
     "output_type": "execute_result"
    }
   ],
   "source": [
    "# Visualizamos la columna que nos interesa\n",
    "data[['Player', 'Position']]"
   ]
  },
  {
   "cell_type": "code",
   "execution_count": 36,
   "metadata": {},
   "outputs": [],
   "source": [
    "# Como Position ahora mismo es una categórica, convertimos la variable en una cadena de texto\n",
    "data.Position = data.Position.astype('str')"
   ]
  },
  {
   "cell_type": "code",
   "execution_count": 37,
   "metadata": {},
   "outputs": [],
   "source": [
    "# Utilizamos la función 'loc' para asignar las categorías\n",
    "data.loc[data.Position == 'F', 'Position'] = 'Forward'\n",
    "data.loc[data.Position == 'F-C', 'Position'] = 'Forward'\n",
    "data.loc[data.Position == 'FC', 'Position'] = 'Forward'\n",
    "data.loc[data.Position == 'G', 'Position'] = 'Guard'\n",
    "data.loc[data.Position == 'G-F', 'Position'] = 'Guard'\n",
    "data.loc[data.Position == 'GF', 'Position'] = 'Guard'\n",
    "data.loc[data.Position == 'PG', 'Position'] = 'Point Guard'\n",
    "data.loc[data.Position == 'SG', 'Position'] = 'Shooting Guard'\n",
    "data.loc[data.Position == 'SF', 'Position'] = 'Small Forward'\n",
    "data.loc[data.Position == 'PF', 'Position'] = 'Power Forward'\n",
    "data.loc[data.Position == 'C', 'Position'] = 'Center'"
   ]
  },
  {
   "cell_type": "code",
   "execution_count": 38,
   "metadata": {},
   "outputs": [
    {
     "data": {
      "text/html": [
       "<div>\n",
       "<style scoped>\n",
       "    .dataframe tbody tr th:only-of-type {\n",
       "        vertical-align: middle;\n",
       "    }\n",
       "\n",
       "    .dataframe tbody tr th {\n",
       "        vertical-align: top;\n",
       "    }\n",
       "\n",
       "    .dataframe thead th {\n",
       "        text-align: right;\n",
       "    }\n",
       "</style>\n",
       "<table border=\"1\" class=\"dataframe\">\n",
       "  <thead>\n",
       "    <tr style=\"text-align: right;\">\n",
       "      <th></th>\n",
       "      <th>Player</th>\n",
       "      <th>Position</th>\n",
       "    </tr>\n",
       "  </thead>\n",
       "  <tbody>\n",
       "    <tr>\n",
       "      <th>0</th>\n",
       "      <td>Micheal Ray Richardson</td>\n",
       "      <td>Point Guard</td>\n",
       "    </tr>\n",
       "    <tr>\n",
       "      <th>1</th>\n",
       "      <td>Derek Smith</td>\n",
       "      <td>Shooting Guard</td>\n",
       "    </tr>\n",
       "    <tr>\n",
       "      <th>2</th>\n",
       "      <td>Calvin Natt</td>\n",
       "      <td>Forward</td>\n",
       "    </tr>\n",
       "    <tr>\n",
       "      <th>3</th>\n",
       "      <td>Kareem Abdul-Jabbar</td>\n",
       "      <td>Center</td>\n",
       "    </tr>\n",
       "    <tr>\n",
       "      <th>4</th>\n",
       "      <td>Larry Bird</td>\n",
       "      <td>Small Forward</td>\n",
       "    </tr>\n",
       "    <tr>\n",
       "      <th>...</th>\n",
       "      <td>...</td>\n",
       "      <td>...</td>\n",
       "    </tr>\n",
       "    <tr>\n",
       "      <th>1140</th>\n",
       "      <td>James Harden</td>\n",
       "      <td>Shooting Guard</td>\n",
       "    </tr>\n",
       "    <tr>\n",
       "      <th>1141</th>\n",
       "      <td>Victor Oladipo</td>\n",
       "      <td>Guard</td>\n",
       "    </tr>\n",
       "    <tr>\n",
       "      <th>1142</th>\n",
       "      <td>DeMarcus Cousins</td>\n",
       "      <td>Center</td>\n",
       "    </tr>\n",
       "    <tr>\n",
       "      <th>1143</th>\n",
       "      <td>Giannis Antetokounmpo</td>\n",
       "      <td>Forward</td>\n",
       "    </tr>\n",
       "    <tr>\n",
       "      <th>1144</th>\n",
       "      <td>James Harden</td>\n",
       "      <td>Shooting Guard</td>\n",
       "    </tr>\n",
       "  </tbody>\n",
       "</table>\n",
       "<p>1145 rows × 2 columns</p>\n",
       "</div>"
      ],
      "text/plain": [
       "                      Player        Position\n",
       "0     Micheal Ray Richardson     Point Guard\n",
       "1                Derek Smith  Shooting Guard\n",
       "2                Calvin Natt         Forward\n",
       "3        Kareem Abdul-Jabbar          Center\n",
       "4                 Larry Bird   Small Forward\n",
       "...                      ...             ...\n",
       "1140            James Harden  Shooting Guard\n",
       "1141          Victor Oladipo           Guard\n",
       "1142        DeMarcus Cousins          Center\n",
       "1143   Giannis Antetokounmpo         Forward\n",
       "1144            James Harden  Shooting Guard\n",
       "\n",
       "[1145 rows x 2 columns]"
      ]
     },
     "execution_count": 38,
     "metadata": {},
     "output_type": "execute_result"
    }
   ],
   "source": [
    "# Visualizamos la columna que nos interesa\n",
    "data[['Player', 'Position']]"
   ]
  },
  {
   "cell_type": "markdown",
   "metadata": {},
   "source": [
    "### 4.2 ¿En que posición ha sido más veces los jugadores de la semana nombrados?"
   ]
  },
  {
   "cell_type": "code",
   "execution_count": 39,
   "metadata": {},
   "outputs": [
    {
     "data": {
      "text/plain": [
       "Guard    228\n",
       "Name: Position, dtype: int64"
      ]
     },
     "execution_count": 39,
     "metadata": {},
     "output_type": "execute_result"
    }
   ],
   "source": [
    "# Utilizamos la función 'value_counts' para saber cuál es la posición que más se repite\n",
    "data.Position.value_counts()[0:1]"
   ]
  },
  {
   "cell_type": "markdown",
   "metadata": {},
   "source": [
    "### 4.3 ¿Cuántos equipos distintos hay?"
   ]
  },
  {
   "cell_type": "code",
   "execution_count": 40,
   "metadata": {},
   "outputs": [
    {
     "data": {
      "text/plain": [
       "'Hay 35 equipos distintos'"
      ]
     },
     "execution_count": 40,
     "metadata": {},
     "output_type": "execute_result"
    }
   ],
   "source": [
    "# Mediante la función 'unique' visualizamos los datos únicos de la variable 'Team', es decir, los equipos que hay. Y calculamos con la función 'len' la longitud de esa lista de equipos\n",
    "f'Hay {len(data.Team.unique())} equipos distintos'"
   ]
  },
  {
   "cell_type": "markdown",
   "metadata": {},
   "source": [
    "### 4.4 ¿Cuáles son los cinco equipos que más veces han sido nombrados sus jugadores como jugador de la semana?"
   ]
  },
  {
   "cell_type": "code",
   "execution_count": 41,
   "metadata": {},
   "outputs": [
    {
     "data": {
      "text/plain": [
       "Los Angeles Lakers     71\n",
       "San Antonio Spurs      61\n",
       "Cleveland Cavaliers    59\n",
       "Miami Heat             57\n",
       "Houston Rockets        56\n",
       "Name: Team, dtype: int64"
      ]
     },
     "execution_count": 41,
     "metadata": {},
     "output_type": "execute_result"
    }
   ],
   "source": [
    "# Utililizamos la función 'value_counts' para obtener una lista ordenada de los equipos que más se repiten, y tomamos los 5 primeros valores\n",
    "data.Team.value_counts()[0:5]"
   ]
  },
  {
   "cell_type": "markdown",
   "metadata": {},
   "source": [
    "## 5 Información sobre jugadores. Estadísticos descriptivos.\n",
    "### 5.1 Crear una base datos denominada nba.unique en la que no se repita el nombre de ningún jugador.Trabajar a partir de ahora con esta base de datos."
   ]
  },
  {
   "cell_type": "code",
   "execution_count": 42,
   "metadata": {},
   "outputs": [],
   "source": [
    "# Utilizamos la función 'drop_duplicates' con el objetivo de eliminar las filas de nuestro DF que se repitan por la columna 'Player', y nos quedamos con el primer valor que aparezca\n",
    "nba_unique = data.drop_duplicates(subset=['Player'], keep=\"first\")"
   ]
  },
  {
   "cell_type": "code",
   "execution_count": 43,
   "metadata": {},
   "outputs": [
    {
     "data": {
      "text/html": [
       "<div>\n",
       "<style scoped>\n",
       "    .dataframe tbody tr th:only-of-type {\n",
       "        vertical-align: middle;\n",
       "    }\n",
       "\n",
       "    .dataframe tbody tr th {\n",
       "        vertical-align: top;\n",
       "    }\n",
       "\n",
       "    .dataframe thead th {\n",
       "        text-align: right;\n",
       "    }\n",
       "</style>\n",
       "<table border=\"1\" class=\"dataframe\">\n",
       "  <thead>\n",
       "    <tr style=\"text-align: right;\">\n",
       "      <th></th>\n",
       "      <th>Age</th>\n",
       "      <th>Conference</th>\n",
       "      <th>Date</th>\n",
       "      <th>Draft Year</th>\n",
       "      <th>Height</th>\n",
       "      <th>Player</th>\n",
       "      <th>Position</th>\n",
       "      <th>Season</th>\n",
       "      <th>Season short</th>\n",
       "      <th>Seasons in league</th>\n",
       "      <th>Team</th>\n",
       "      <th>Weight</th>\n",
       "      <th>Real_value</th>\n",
       "      <th>tiempo</th>\n",
       "    </tr>\n",
       "  </thead>\n",
       "  <tbody>\n",
       "    <tr>\n",
       "      <th>0</th>\n",
       "      <td>29</td>\n",
       "      <td>NaN</td>\n",
       "      <td>Apr 14, 1985</td>\n",
       "      <td>1978</td>\n",
       "      <td>195.58</td>\n",
       "      <td>Micheal Ray Richardson</td>\n",
       "      <td>Point Guard</td>\n",
       "      <td>1984-1985</td>\n",
       "      <td>1985</td>\n",
       "      <td>6</td>\n",
       "      <td>New Jersey Nets</td>\n",
       "      <td>85.728888</td>\n",
       "      <td>1.0</td>\n",
       "      <td>7</td>\n",
       "    </tr>\n",
       "    <tr>\n",
       "      <th>1</th>\n",
       "      <td>23</td>\n",
       "      <td>NaN</td>\n",
       "      <td>Apr 7, 1985</td>\n",
       "      <td>1982</td>\n",
       "      <td>198.12</td>\n",
       "      <td>Derek Smith</td>\n",
       "      <td>Shooting Guard</td>\n",
       "      <td>1984-1985</td>\n",
       "      <td>1985</td>\n",
       "      <td>2</td>\n",
       "      <td>Los Angeles Clippers</td>\n",
       "      <td>92.986360</td>\n",
       "      <td>1.0</td>\n",
       "      <td>3</td>\n",
       "    </tr>\n",
       "    <tr>\n",
       "      <th>2</th>\n",
       "      <td>28</td>\n",
       "      <td>NaN</td>\n",
       "      <td>Apr 1, 1985</td>\n",
       "      <td>1979</td>\n",
       "      <td>198.12</td>\n",
       "      <td>Calvin Natt</td>\n",
       "      <td>Forward</td>\n",
       "      <td>1984-1985</td>\n",
       "      <td>1985</td>\n",
       "      <td>5</td>\n",
       "      <td>Denver Nuggets</td>\n",
       "      <td>99.790240</td>\n",
       "      <td>1.0</td>\n",
       "      <td>6</td>\n",
       "    </tr>\n",
       "    <tr>\n",
       "      <th>3</th>\n",
       "      <td>37</td>\n",
       "      <td>NaN</td>\n",
       "      <td>Mar 24, 1985</td>\n",
       "      <td>1969</td>\n",
       "      <td>218.44</td>\n",
       "      <td>Kareem Abdul-Jabbar</td>\n",
       "      <td>Center</td>\n",
       "      <td>1984-1985</td>\n",
       "      <td>1985</td>\n",
       "      <td>15</td>\n",
       "      <td>Los Angeles Lakers</td>\n",
       "      <td>102.058200</td>\n",
       "      <td>1.0</td>\n",
       "      <td>16</td>\n",
       "    </tr>\n",
       "    <tr>\n",
       "      <th>4</th>\n",
       "      <td>28</td>\n",
       "      <td>NaN</td>\n",
       "      <td>Mar 17, 1985</td>\n",
       "      <td>1978</td>\n",
       "      <td>205.74</td>\n",
       "      <td>Larry Bird</td>\n",
       "      <td>Small Forward</td>\n",
       "      <td>1984-1985</td>\n",
       "      <td>1985</td>\n",
       "      <td>5</td>\n",
       "      <td>Boston Celtics</td>\n",
       "      <td>99.790240</td>\n",
       "      <td>1.0</td>\n",
       "      <td>7</td>\n",
       "    </tr>\n",
       "    <tr>\n",
       "      <th>...</th>\n",
       "      <td>...</td>\n",
       "      <td>...</td>\n",
       "      <td>...</td>\n",
       "      <td>...</td>\n",
       "      <td>...</td>\n",
       "      <td>...</td>\n",
       "      <td>...</td>\n",
       "      <td>...</td>\n",
       "      <td>...</td>\n",
       "      <td>...</td>\n",
       "      <td>...</td>\n",
       "      <td>...</td>\n",
       "      <td>...</td>\n",
       "      <td>...</td>\n",
       "    </tr>\n",
       "    <tr>\n",
       "      <th>1101</th>\n",
       "      <td>25</td>\n",
       "      <td>East</td>\n",
       "      <td>Apr 2, 2018</td>\n",
       "      <td>2013</td>\n",
       "      <td>193.00</td>\n",
       "      <td>Victor Oladipo</td>\n",
       "      <td>Guard</td>\n",
       "      <td>2017-2018</td>\n",
       "      <td>2018</td>\n",
       "      <td>4</td>\n",
       "      <td>Indiana Pacers</td>\n",
       "      <td>95.000000</td>\n",
       "      <td>0.5</td>\n",
       "      <td>5</td>\n",
       "    </tr>\n",
       "    <tr>\n",
       "      <th>1115</th>\n",
       "      <td>26</td>\n",
       "      <td>East</td>\n",
       "      <td>Jan 29, 2018</td>\n",
       "      <td>2012</td>\n",
       "      <td>203.00</td>\n",
       "      <td>Khris Middleton</td>\n",
       "      <td>Small Forward</td>\n",
       "      <td>2017-2018</td>\n",
       "      <td>2018</td>\n",
       "      <td>5</td>\n",
       "      <td>Milwaukee Bucks</td>\n",
       "      <td>106.000000</td>\n",
       "      <td>0.5</td>\n",
       "      <td>6</td>\n",
       "    </tr>\n",
       "    <tr>\n",
       "      <th>1123</th>\n",
       "      <td>24</td>\n",
       "      <td>East</td>\n",
       "      <td>Jan 2, 2018</td>\n",
       "      <td>2012</td>\n",
       "      <td>196.00</td>\n",
       "      <td>Bradley Beal</td>\n",
       "      <td>Shooting Guard</td>\n",
       "      <td>2017-2018</td>\n",
       "      <td>2018</td>\n",
       "      <td>5</td>\n",
       "      <td>Washington Wizards</td>\n",
       "      <td>94.000000</td>\n",
       "      <td>0.5</td>\n",
       "      <td>6</td>\n",
       "    </tr>\n",
       "    <tr>\n",
       "      <th>1137</th>\n",
       "      <td>25</td>\n",
       "      <td>East</td>\n",
       "      <td>Nov 13, 2017</td>\n",
       "      <td>2011</td>\n",
       "      <td>206.00</td>\n",
       "      <td>Tobias Harris</td>\n",
       "      <td>Forward</td>\n",
       "      <td>2017-2018</td>\n",
       "      <td>2018</td>\n",
       "      <td>6</td>\n",
       "      <td>Detroit Pistons</td>\n",
       "      <td>107.000000</td>\n",
       "      <td>0.5</td>\n",
       "      <td>7</td>\n",
       "    </tr>\n",
       "    <tr>\n",
       "      <th>1139</th>\n",
       "      <td>22</td>\n",
       "      <td>East</td>\n",
       "      <td>Nov 6, 2017</td>\n",
       "      <td>2015</td>\n",
       "      <td>221.00</td>\n",
       "      <td>Kristaps Porzingis</td>\n",
       "      <td>Forward</td>\n",
       "      <td>2017-2018</td>\n",
       "      <td>2018</td>\n",
       "      <td>2</td>\n",
       "      <td>New York Knicks</td>\n",
       "      <td>109.000000</td>\n",
       "      <td>0.5</td>\n",
       "      <td>3</td>\n",
       "    </tr>\n",
       "  </tbody>\n",
       "</table>\n",
       "<p>274 rows × 14 columns</p>\n",
       "</div>"
      ],
      "text/plain": [
       "      Age Conference          Date  Draft Year  Height  \\\n",
       "0      29        NaN  Apr 14, 1985        1978  195.58   \n",
       "1      23        NaN   Apr 7, 1985        1982  198.12   \n",
       "2      28        NaN   Apr 1, 1985        1979  198.12   \n",
       "3      37        NaN  Mar 24, 1985        1969  218.44   \n",
       "4      28        NaN  Mar 17, 1985        1978  205.74   \n",
       "...   ...        ...           ...         ...     ...   \n",
       "1101   25       East   Apr 2, 2018        2013  193.00   \n",
       "1115   26       East  Jan 29, 2018        2012  203.00   \n",
       "1123   24       East   Jan 2, 2018        2012  196.00   \n",
       "1137   25       East  Nov 13, 2017        2011  206.00   \n",
       "1139   22       East   Nov 6, 2017        2015  221.00   \n",
       "\n",
       "                      Player        Position     Season  Season short  \\\n",
       "0     Micheal Ray Richardson     Point Guard  1984-1985          1985   \n",
       "1                Derek Smith  Shooting Guard  1984-1985          1985   \n",
       "2                Calvin Natt         Forward  1984-1985          1985   \n",
       "3        Kareem Abdul-Jabbar          Center  1984-1985          1985   \n",
       "4                 Larry Bird   Small Forward  1984-1985          1985   \n",
       "...                      ...             ...        ...           ...   \n",
       "1101          Victor Oladipo           Guard  2017-2018          2018   \n",
       "1115         Khris Middleton   Small Forward  2017-2018          2018   \n",
       "1123            Bradley Beal  Shooting Guard  2017-2018          2018   \n",
       "1137           Tobias Harris         Forward  2017-2018          2018   \n",
       "1139      Kristaps Porzingis         Forward  2017-2018          2018   \n",
       "\n",
       "      Seasons in league                  Team      Weight  Real_value  tiempo  \n",
       "0                     6       New Jersey Nets   85.728888         1.0       7  \n",
       "1                     2  Los Angeles Clippers   92.986360         1.0       3  \n",
       "2                     5        Denver Nuggets   99.790240         1.0       6  \n",
       "3                    15    Los Angeles Lakers  102.058200         1.0      16  \n",
       "4                     5        Boston Celtics   99.790240         1.0       7  \n",
       "...                 ...                   ...         ...         ...     ...  \n",
       "1101                  4        Indiana Pacers   95.000000         0.5       5  \n",
       "1115                  5       Milwaukee Bucks  106.000000         0.5       6  \n",
       "1123                  5    Washington Wizards   94.000000         0.5       6  \n",
       "1137                  6       Detroit Pistons  107.000000         0.5       7  \n",
       "1139                  2       New York Knicks  109.000000         0.5       3  \n",
       "\n",
       "[274 rows x 14 columns]"
      ]
     },
     "execution_count": 43,
     "metadata": {},
     "output_type": "execute_result"
    }
   ],
   "source": [
    "nba_unique"
   ]
  },
  {
   "cell_type": "markdown",
   "metadata": {},
   "source": [
    "### 5.2 Listar el nombre de los 10 jugadores más bajos que han sido nombrados alguna vez jugadores de la semana. No debe repetirse ningún nombre."
   ]
  },
  {
   "cell_type": "code",
   "execution_count": 44,
   "metadata": {},
   "outputs": [
    {
     "data": {
      "text/html": [
       "<div>\n",
       "<style scoped>\n",
       "    .dataframe tbody tr th:only-of-type {\n",
       "        vertical-align: middle;\n",
       "    }\n",
       "\n",
       "    .dataframe tbody tr th {\n",
       "        vertical-align: top;\n",
       "    }\n",
       "\n",
       "    .dataframe thead th {\n",
       "        text-align: right;\n",
       "    }\n",
       "</style>\n",
       "<table border=\"1\" class=\"dataframe\">\n",
       "  <thead>\n",
       "    <tr style=\"text-align: right;\">\n",
       "      <th></th>\n",
       "      <th>Player</th>\n",
       "      <th>Height</th>\n",
       "    </tr>\n",
       "  </thead>\n",
       "  <tbody>\n",
       "    <tr>\n",
       "      <th>967</th>\n",
       "      <td>Isaiah Thomas</td>\n",
       "      <td>175.26</td>\n",
       "    </tr>\n",
       "    <tr>\n",
       "      <th>893</th>\n",
       "      <td>Nate Robinson</td>\n",
       "      <td>175.26</td>\n",
       "    </tr>\n",
       "    <tr>\n",
       "      <th>110</th>\n",
       "      <td>Michael Adams</td>\n",
       "      <td>177.80</td>\n",
       "    </tr>\n",
       "    <tr>\n",
       "      <th>858</th>\n",
       "      <td>Ty Lawson</td>\n",
       "      <td>180.34</td>\n",
       "    </tr>\n",
       "    <tr>\n",
       "      <th>273</th>\n",
       "      <td>Terrell Brandon</td>\n",
       "      <td>180.34</td>\n",
       "    </tr>\n",
       "    <tr>\n",
       "      <th>125</th>\n",
       "      <td>Tim Hardaway</td>\n",
       "      <td>182.88</td>\n",
       "    </tr>\n",
       "    <tr>\n",
       "      <th>219</th>\n",
       "      <td>Kenny Anderson</td>\n",
       "      <td>182.88</td>\n",
       "    </tr>\n",
       "    <tr>\n",
       "      <th>278</th>\n",
       "      <td>Allen Iverson</td>\n",
       "      <td>182.88</td>\n",
       "    </tr>\n",
       "    <tr>\n",
       "      <th>586</th>\n",
       "      <td>Chris Paul</td>\n",
       "      <td>182.88</td>\n",
       "    </tr>\n",
       "    <tr>\n",
       "      <th>1014</th>\n",
       "      <td>J.J. Barea</td>\n",
       "      <td>182.88</td>\n",
       "    </tr>\n",
       "  </tbody>\n",
       "</table>\n",
       "</div>"
      ],
      "text/plain": [
       "               Player  Height\n",
       "967     Isaiah Thomas  175.26\n",
       "893     Nate Robinson  175.26\n",
       "110     Michael Adams  177.80\n",
       "858         Ty Lawson  180.34\n",
       "273   Terrell Brandon  180.34\n",
       "125      Tim Hardaway  182.88\n",
       "219    Kenny Anderson  182.88\n",
       "278     Allen Iverson  182.88\n",
       "586        Chris Paul  182.88\n",
       "1014       J.J. Barea  182.88"
      ]
     },
     "execution_count": 44,
     "metadata": {},
     "output_type": "execute_result"
    }
   ],
   "source": [
    "# Listamos mediante la función 'sort_values' los 10 jugdores más bajos, mostrando solamente las columnas del jugador y su altura\n",
    "nba_unique[['Player', 'Height']].sort_values('Height').head(10)"
   ]
  },
  {
   "cell_type": "markdown",
   "metadata": {},
   "source": [
    "### 5.3 Listar el nombre de los 10 jugadores más altos que han sido nombrados y mostrar su altura. No debe repetirse ningún nombre."
   ]
  },
  {
   "cell_type": "code",
   "execution_count": 45,
   "metadata": {},
   "outputs": [
    {
     "data": {
      "text/html": [
       "<div>\n",
       "<style scoped>\n",
       "    .dataframe tbody tr th:only-of-type {\n",
       "        vertical-align: middle;\n",
       "    }\n",
       "\n",
       "    .dataframe tbody tr th {\n",
       "        vertical-align: top;\n",
       "    }\n",
       "\n",
       "    .dataframe thead th {\n",
       "        text-align: right;\n",
       "    }\n",
       "</style>\n",
       "<table border=\"1\" class=\"dataframe\">\n",
       "  <thead>\n",
       "    <tr style=\"text-align: right;\">\n",
       "      <th></th>\n",
       "      <th>Player</th>\n",
       "      <th>Height</th>\n",
       "    </tr>\n",
       "  </thead>\n",
       "  <tbody>\n",
       "    <tr>\n",
       "      <th>486</th>\n",
       "      <td>Yao Ming</td>\n",
       "      <td>228.60</td>\n",
       "    </tr>\n",
       "    <tr>\n",
       "      <th>236</th>\n",
       "      <td>Rik Smits</td>\n",
       "      <td>223.52</td>\n",
       "    </tr>\n",
       "    <tr>\n",
       "      <th>1139</th>\n",
       "      <td>Kristaps Porzingis</td>\n",
       "      <td>221.00</td>\n",
       "    </tr>\n",
       "    <tr>\n",
       "      <th>256</th>\n",
       "      <td>Arvydas Sabonis</td>\n",
       "      <td>220.98</td>\n",
       "    </tr>\n",
       "    <tr>\n",
       "      <th>483</th>\n",
       "      <td>Zydrunas Ilgauskas</td>\n",
       "      <td>220.98</td>\n",
       "    </tr>\n",
       "    <tr>\n",
       "      <th>3</th>\n",
       "      <td>Kareem Abdul-Jabbar</td>\n",
       "      <td>218.44</td>\n",
       "    </tr>\n",
       "    <tr>\n",
       "      <th>188</th>\n",
       "      <td>Dikembe Mutombo</td>\n",
       "      <td>218.44</td>\n",
       "    </tr>\n",
       "    <tr>\n",
       "      <th>234</th>\n",
       "      <td>Vlade Divac</td>\n",
       "      <td>215.90</td>\n",
       "    </tr>\n",
       "    <tr>\n",
       "      <th>115</th>\n",
       "      <td>David Robinson</td>\n",
       "      <td>215.90</td>\n",
       "    </tr>\n",
       "    <tr>\n",
       "      <th>868</th>\n",
       "      <td>Marc Gasol</td>\n",
       "      <td>215.90</td>\n",
       "    </tr>\n",
       "  </tbody>\n",
       "</table>\n",
       "</div>"
      ],
      "text/plain": [
       "                   Player  Height\n",
       "486              Yao Ming  228.60\n",
       "236             Rik Smits  223.52\n",
       "1139   Kristaps Porzingis  221.00\n",
       "256       Arvydas Sabonis  220.98\n",
       "483    Zydrunas Ilgauskas  220.98\n",
       "3     Kareem Abdul-Jabbar  218.44\n",
       "188       Dikembe Mutombo  218.44\n",
       "234           Vlade Divac  215.90\n",
       "115        David Robinson  215.90\n",
       "868            Marc Gasol  215.90"
      ]
     },
     "execution_count": 45,
     "metadata": {},
     "output_type": "execute_result"
    }
   ],
   "source": [
    "# Invertimos el orden del listado para listar los 10 jugadores más altos\n",
    "nba_unique[['Player', 'Height']].sort_values('Height', ascending=False).head(10)"
   ]
  },
  {
   "cell_type": "markdown",
   "metadata": {},
   "source": [
    "## 6 Eliminación de outliers.\n",
    "### 6.1 Eliminar los outliers de la variable peso (Weight) y guardar en un data frame nba.avg"
   ]
  },
  {
   "cell_type": "code",
   "execution_count": 46,
   "metadata": {},
   "outputs": [
    {
     "data": {
      "text/plain": [
       "count    274.000000\n",
       "mean      99.372027\n",
       "std       13.343014\n",
       "min       68.038800\n",
       "25%       88.450440\n",
       "50%       99.790240\n",
       "75%      108.862080\n",
       "max      147.417400\n",
       "Name: Weight, dtype: float64"
      ]
     },
     "execution_count": 46,
     "metadata": {},
     "output_type": "execute_result"
    }
   ],
   "source": [
    "# Visualizamos los datos estadísticos de la variable peso en el DF que estamos utilizando 'nba_unique' para comprender mejor los datos qe manejamos\n",
    "nba_unique.Weight.describe()"
   ]
  },
  {
   "cell_type": "code",
   "execution_count": 47,
   "metadata": {},
   "outputs": [
    {
     "data": {
      "text/plain": [
       "<matplotlib.axes._subplots.AxesSubplot at 0x1ecaef749a0>"
      ]
     },
     "execution_count": 47,
     "metadata": {},
     "output_type": "execute_result"
    },
    {
     "data": {
      "image/png": "[encoded data removed]",
      "text/plain": [
       "<Figure size 432x288 with 1 Axes>"
      ]
     },
     "metadata": {
      "needs_background": "light"
     },
     "output_type": "display_data"
    }
   ],
   "source": [
    "# Mostramos el 'boxplot' para detectar visualmente los valores atípicos\n",
    "nba_unique.boxplot('Weight')"
   ]
  },
  {
   "cell_type": "code",
   "execution_count": 48,
   "metadata": {},
   "outputs": [
    {
     "name": "stdout",
     "output_type": "stream",
     "text": [
      "88.45044\n",
      "108.86207999999999\n",
      "20.41163999999999\n",
      "147.4174\n"
     ]
    }
   ],
   "source": [
    "# Obtenemos los valores estadísicos numéricamente para poder operar con ellos\n",
    "Q1 = nba_unique.Weight.quantile(0.25)\n",
    "print(Q1)\n",
    "Q3 = nba_unique.Weight.quantile(0.75)\n",
    "print(Q3)\n",
    "rango_int = Q3 - Q1\n",
    "print(Q3 - Q1)\n",
    "valor_maximo = nba_unique.Weight.max()\n",
    "print(valor_maximo)"
   ]
  },
  {
   "cell_type": "code",
   "execution_count": 49,
   "metadata": {},
   "outputs": [
    {
     "name": "stdout",
     "output_type": "stream",
     "text": [
      "139.47954\n"
     ]
    }
   ],
   "source": [
    "# Calculamos el valor del bigote superior, para conocer aquellos valores que vemos que quedan por encima (valores atípicos)\n",
    "BS = (Q3 + 1.5 * rango_int)\n",
    "print(BS)"
   ]
  },
  {
   "cell_type": "code",
   "execution_count": 50,
   "metadata": {},
   "outputs": [
    {
     "data": {
      "text/plain": [
       "206    147.41740\n",
       "486    140.61352\n",
       "Name: Weight, dtype: float64"
      ]
     },
     "execution_count": 50,
     "metadata": {},
     "output_type": "execute_result"
    }
   ],
   "source": [
    "# Comprobamos los valores que cumplen esta condición\n",
    "nba_unique.Weight[nba_unique.Weight > BS]"
   ]
  },
  {
   "cell_type": "code",
   "execution_count": 51,
   "metadata": {},
   "outputs": [],
   "source": [
    "# Eliminamos aquellas filas del DF cuyos valores de la variable 'Weight' (peso) estén por encima de este valor\n",
    "# Generamos un nuevo dataset eliminando los valores atípicos detectados en el paso anterior\n",
    "nba_avg = nba_unique.drop(nba_unique[nba_unique.Weight > BS].index)"
   ]
  },
  {
   "cell_type": "code",
   "execution_count": 52,
   "metadata": {},
   "outputs": [
    {
     "data": {
      "text/html": [
       "<div>\n",
       "<style scoped>\n",
       "    .dataframe tbody tr th:only-of-type {\n",
       "        vertical-align: middle;\n",
       "    }\n",
       "\n",
       "    .dataframe tbody tr th {\n",
       "        vertical-align: top;\n",
       "    }\n",
       "\n",
       "    .dataframe thead th {\n",
       "        text-align: right;\n",
       "    }\n",
       "</style>\n",
       "<table border=\"1\" class=\"dataframe\">\n",
       "  <thead>\n",
       "    <tr style=\"text-align: right;\">\n",
       "      <th></th>\n",
       "      <th>Age</th>\n",
       "      <th>Conference</th>\n",
       "      <th>Date</th>\n",
       "      <th>Draft Year</th>\n",
       "      <th>Height</th>\n",
       "      <th>Player</th>\n",
       "      <th>Position</th>\n",
       "      <th>Season</th>\n",
       "      <th>Season short</th>\n",
       "      <th>Seasons in league</th>\n",
       "      <th>Team</th>\n",
       "      <th>Weight</th>\n",
       "      <th>Real_value</th>\n",
       "      <th>tiempo</th>\n",
       "    </tr>\n",
       "  </thead>\n",
       "  <tbody>\n",
       "    <tr>\n",
       "      <th>0</th>\n",
       "      <td>29</td>\n",
       "      <td>NaN</td>\n",
       "      <td>Apr 14, 1985</td>\n",
       "      <td>1978</td>\n",
       "      <td>195.58</td>\n",
       "      <td>Micheal Ray Richardson</td>\n",
       "      <td>Point Guard</td>\n",
       "      <td>1984-1985</td>\n",
       "      <td>1985</td>\n",
       "      <td>6</td>\n",
       "      <td>New Jersey Nets</td>\n",
       "      <td>85.728888</td>\n",
       "      <td>1.0</td>\n",
       "      <td>7</td>\n",
       "    </tr>\n",
       "    <tr>\n",
       "      <th>1</th>\n",
       "      <td>23</td>\n",
       "      <td>NaN</td>\n",
       "      <td>Apr 7, 1985</td>\n",
       "      <td>1982</td>\n",
       "      <td>198.12</td>\n",
       "      <td>Derek Smith</td>\n",
       "      <td>Shooting Guard</td>\n",
       "      <td>1984-1985</td>\n",
       "      <td>1985</td>\n",
       "      <td>2</td>\n",
       "      <td>Los Angeles Clippers</td>\n",
       "      <td>92.986360</td>\n",
       "      <td>1.0</td>\n",
       "      <td>3</td>\n",
       "    </tr>\n",
       "    <tr>\n",
       "      <th>2</th>\n",
       "      <td>28</td>\n",
       "      <td>NaN</td>\n",
       "      <td>Apr 1, 1985</td>\n",
       "      <td>1979</td>\n",
       "      <td>198.12</td>\n",
       "      <td>Calvin Natt</td>\n",
       "      <td>Forward</td>\n",
       "      <td>1984-1985</td>\n",
       "      <td>1985</td>\n",
       "      <td>5</td>\n",
       "      <td>Denver Nuggets</td>\n",
       "      <td>99.790240</td>\n",
       "      <td>1.0</td>\n",
       "      <td>6</td>\n",
       "    </tr>\n",
       "    <tr>\n",
       "      <th>3</th>\n",
       "      <td>37</td>\n",
       "      <td>NaN</td>\n",
       "      <td>Mar 24, 1985</td>\n",
       "      <td>1969</td>\n",
       "      <td>218.44</td>\n",
       "      <td>Kareem Abdul-Jabbar</td>\n",
       "      <td>Center</td>\n",
       "      <td>1984-1985</td>\n",
       "      <td>1985</td>\n",
       "      <td>15</td>\n",
       "      <td>Los Angeles Lakers</td>\n",
       "      <td>102.058200</td>\n",
       "      <td>1.0</td>\n",
       "      <td>16</td>\n",
       "    </tr>\n",
       "    <tr>\n",
       "      <th>4</th>\n",
       "      <td>28</td>\n",
       "      <td>NaN</td>\n",
       "      <td>Mar 17, 1985</td>\n",
       "      <td>1978</td>\n",
       "      <td>205.74</td>\n",
       "      <td>Larry Bird</td>\n",
       "      <td>Small Forward</td>\n",
       "      <td>1984-1985</td>\n",
       "      <td>1985</td>\n",
       "      <td>5</td>\n",
       "      <td>Boston Celtics</td>\n",
       "      <td>99.790240</td>\n",
       "      <td>1.0</td>\n",
       "      <td>7</td>\n",
       "    </tr>\n",
       "    <tr>\n",
       "      <th>...</th>\n",
       "      <td>...</td>\n",
       "      <td>...</td>\n",
       "      <td>...</td>\n",
       "      <td>...</td>\n",
       "      <td>...</td>\n",
       "      <td>...</td>\n",
       "      <td>...</td>\n",
       "      <td>...</td>\n",
       "      <td>...</td>\n",
       "      <td>...</td>\n",
       "      <td>...</td>\n",
       "      <td>...</td>\n",
       "      <td>...</td>\n",
       "      <td>...</td>\n",
       "    </tr>\n",
       "    <tr>\n",
       "      <th>1101</th>\n",
       "      <td>25</td>\n",
       "      <td>East</td>\n",
       "      <td>Apr 2, 2018</td>\n",
       "      <td>2013</td>\n",
       "      <td>193.00</td>\n",
       "      <td>Victor Oladipo</td>\n",
       "      <td>Guard</td>\n",
       "      <td>2017-2018</td>\n",
       "      <td>2018</td>\n",
       "      <td>4</td>\n",
       "      <td>Indiana Pacers</td>\n",
       "      <td>95.000000</td>\n",
       "      <td>0.5</td>\n",
       "      <td>5</td>\n",
       "    </tr>\n",
       "    <tr>\n",
       "      <th>1115</th>\n",
       "      <td>26</td>\n",
       "      <td>East</td>\n",
       "      <td>Jan 29, 2018</td>\n",
       "      <td>2012</td>\n",
       "      <td>203.00</td>\n",
       "      <td>Khris Middleton</td>\n",
       "      <td>Small Forward</td>\n",
       "      <td>2017-2018</td>\n",
       "      <td>2018</td>\n",
       "      <td>5</td>\n",
       "      <td>Milwaukee Bucks</td>\n",
       "      <td>106.000000</td>\n",
       "      <td>0.5</td>\n",
       "      <td>6</td>\n",
       "    </tr>\n",
       "    <tr>\n",
       "      <th>1123</th>\n",
       "      <td>24</td>\n",
       "      <td>East</td>\n",
       "      <td>Jan 2, 2018</td>\n",
       "      <td>2012</td>\n",
       "      <td>196.00</td>\n",
       "      <td>Bradley Beal</td>\n",
       "      <td>Shooting Guard</td>\n",
       "      <td>2017-2018</td>\n",
       "      <td>2018</td>\n",
       "      <td>5</td>\n",
       "      <td>Washington Wizards</td>\n",
       "      <td>94.000000</td>\n",
       "      <td>0.5</td>\n",
       "      <td>6</td>\n",
       "    </tr>\n",
       "    <tr>\n",
       "      <th>1137</th>\n",
       "      <td>25</td>\n",
       "      <td>East</td>\n",
       "      <td>Nov 13, 2017</td>\n",
       "      <td>2011</td>\n",
       "      <td>206.00</td>\n",
       "      <td>Tobias Harris</td>\n",
       "      <td>Forward</td>\n",
       "      <td>2017-2018</td>\n",
       "      <td>2018</td>\n",
       "      <td>6</td>\n",
       "      <td>Detroit Pistons</td>\n",
       "      <td>107.000000</td>\n",
       "      <td>0.5</td>\n",
       "      <td>7</td>\n",
       "    </tr>\n",
       "    <tr>\n",
       "      <th>1139</th>\n",
       "      <td>22</td>\n",
       "      <td>East</td>\n",
       "      <td>Nov 6, 2017</td>\n",
       "      <td>2015</td>\n",
       "      <td>221.00</td>\n",
       "      <td>Kristaps Porzingis</td>\n",
       "      <td>Forward</td>\n",
       "      <td>2017-2018</td>\n",
       "      <td>2018</td>\n",
       "      <td>2</td>\n",
       "      <td>New York Knicks</td>\n",
       "      <td>109.000000</td>\n",
       "      <td>0.5</td>\n",
       "      <td>3</td>\n",
       "    </tr>\n",
       "  </tbody>\n",
       "</table>\n",
       "<p>272 rows × 14 columns</p>\n",
       "</div>"
      ],
      "text/plain": [
       "      Age Conference          Date  Draft Year  Height  \\\n",
       "0      29        NaN  Apr 14, 1985        1978  195.58   \n",
       "1      23        NaN   Apr 7, 1985        1982  198.12   \n",
       "2      28        NaN   Apr 1, 1985        1979  198.12   \n",
       "3      37        NaN  Mar 24, 1985        1969  218.44   \n",
       "4      28        NaN  Mar 17, 1985        1978  205.74   \n",
       "...   ...        ...           ...         ...     ...   \n",
       "1101   25       East   Apr 2, 2018        2013  193.00   \n",
       "1115   26       East  Jan 29, 2018        2012  203.00   \n",
       "1123   24       East   Jan 2, 2018        2012  196.00   \n",
       "1137   25       East  Nov 13, 2017        2011  206.00   \n",
       "1139   22       East   Nov 6, 2017        2015  221.00   \n",
       "\n",
       "                      Player        Position     Season  Season short  \\\n",
       "0     Micheal Ray Richardson     Point Guard  1984-1985          1985   \n",
       "1                Derek Smith  Shooting Guard  1984-1985          1985   \n",
       "2                Calvin Natt         Forward  1984-1985          1985   \n",
       "3        Kareem Abdul-Jabbar          Center  1984-1985          1985   \n",
       "4                 Larry Bird   Small Forward  1984-1985          1985   \n",
       "...                      ...             ...        ...           ...   \n",
       "1101          Victor Oladipo           Guard  2017-2018          2018   \n",
       "1115         Khris Middleton   Small Forward  2017-2018          2018   \n",
       "1123            Bradley Beal  Shooting Guard  2017-2018          2018   \n",
       "1137           Tobias Harris         Forward  2017-2018          2018   \n",
       "1139      Kristaps Porzingis         Forward  2017-2018          2018   \n",
       "\n",
       "      Seasons in league                  Team      Weight  Real_value  tiempo  \n",
       "0                     6       New Jersey Nets   85.728888         1.0       7  \n",
       "1                     2  Los Angeles Clippers   92.986360         1.0       3  \n",
       "2                     5        Denver Nuggets   99.790240         1.0       6  \n",
       "3                    15    Los Angeles Lakers  102.058200         1.0      16  \n",
       "4                     5        Boston Celtics   99.790240         1.0       7  \n",
       "...                 ...                   ...         ...         ...     ...  \n",
       "1101                  4        Indiana Pacers   95.000000         0.5       5  \n",
       "1115                  5       Milwaukee Bucks  106.000000         0.5       6  \n",
       "1123                  5    Washington Wizards   94.000000         0.5       6  \n",
       "1137                  6       Detroit Pistons  107.000000         0.5       7  \n",
       "1139                  2       New York Knicks  109.000000         0.5       3  \n",
       "\n",
       "[272 rows x 14 columns]"
      ]
     },
     "execution_count": 52,
     "metadata": {},
     "output_type": "execute_result"
    }
   ],
   "source": [
    "nba_avg"
   ]
  },
  {
   "cell_type": "markdown",
   "metadata": {},
   "source": [
    "### 6.2 Comparar los boxplots de los datos originales en nba.unique y de los datos del peso de nba.avg"
   ]
  },
  {
   "cell_type": "code",
   "execution_count": 53,
   "metadata": {},
   "outputs": [
    {
     "data": {
      "text/plain": [
       "<matplotlib.axes._subplots.AxesSubplot at 0x1ecaf007a90>"
      ]
     },
     "execution_count": 53,
     "metadata": {},
     "output_type": "execute_result"
    },
    {
     "data": {
      "image/png": "[encoded data removed]",
      "text/plain": [
       "<Figure size 432x288 with 1 Axes>"
      ]
     },
     "metadata": {
      "needs_background": "light"
     },
     "output_type": "display_data"
    }
   ],
   "source": [
    "# Mostramos el boxplot de cada uno de los DF\n",
    "nba_unique.boxplot('Weight')"
   ]
  },
  {
   "cell_type": "code",
   "execution_count": 54,
   "metadata": {},
   "outputs": [
    {
     "data": {
      "text/plain": [
       "<matplotlib.axes._subplots.AxesSubplot at 0x1ecaf069460>"
      ]
     },
     "execution_count": 54,
     "metadata": {},
     "output_type": "execute_result"
    },
    {
     "data": {
      "image/png": "[encoded data removed]",
      "text/plain": [
       "<Figure size 432x288 with 1 Axes>"
      ]
     },
     "metadata": {
      "needs_background": "light"
     },
     "output_type": "display_data"
    }
   ],
   "source": [
    "nba_avg.boxplot('Weight')"
   ]
  },
  {
   "cell_type": "code",
   "execution_count": 55,
   "metadata": {},
   "outputs": [],
   "source": [
    "# Podemos observar claramente, de forma más visual, cómo desaparecen los valores atípicos mencionados anteriormente."
   ]
  },
  {
   "cell_type": "markdown",
   "metadata": {},
   "source": [
    "### 6.3 Interpretar los resultados"
   ]
  },
  {
   "cell_type": "code",
   "execution_count": 56,
   "metadata": {},
   "outputs": [
    {
     "data": {
      "text/plain": [
       "count    274.000000\n",
       "mean      99.372027\n",
       "std       13.343014\n",
       "min       68.038800\n",
       "25%       88.450440\n",
       "50%       99.790240\n",
       "75%      108.862080\n",
       "max      147.417400\n",
       "Name: Weight, dtype: float64"
      ]
     },
     "execution_count": 56,
     "metadata": {},
     "output_type": "execute_result"
    }
   ],
   "source": [
    "# Visualizamos el resumen de los datos estadísticos de cada uno de los dataset cuyos datos queremos interpretar\n",
    "nba_unique.Weight.describe()"
   ]
  },
  {
   "cell_type": "code",
   "execution_count": 57,
   "metadata": {},
   "outputs": [
    {
     "data": {
      "text/plain": [
       "count    272.000000\n",
       "mean      99.043766\n",
       "std       12.823713\n",
       "min       68.038800\n",
       "25%       88.450440\n",
       "50%       99.790240\n",
       "75%      108.862080\n",
       "max      139.252744\n",
       "Name: Weight, dtype: float64"
      ]
     },
     "execution_count": 57,
     "metadata": {},
     "output_type": "execute_result"
    }
   ],
   "source": [
    "nba_avg.Weight.describe()"
   ]
  },
  {
   "cell_type": "raw",
   "metadata": {},
   "source": [
    "Con la eliminación de los valores atípicos con índices 206 y 486, con los pesos respectivos 147.41740 y 140.61352, se han reducido el numero de elementos en el segundo dataframe nba_avg. Los elementos se han reducido de 274 a 272.\n",
    "\n",
    "Además, se pueden observar los siguientes cambios en los datos estadísticos:\n",
    "\n",
    "- Valor Max de 147.417400 a 139.252744\n",
    "- la media de 99.372027 a 99.043766\n",
    "- la desviación típica de 13.343014 a 12.823713\n",
    "- el 1er y 3er cuartil, la mediana y el min han quedado invariados"
   ]
  },
  {
   "cell_type": "markdown",
   "metadata": {},
   "source": [
    "## 7 Clasificación de jugadores\n",
    "### 7.1 Añadir una columna al conjunto de datos denominada “Altura” que contenga los valores: {“bajo”, “normal”, “alto”}. La asignación del valor depende de la altura de cada jugador. Se asigna:\n",
    "- bajo: los 50 jugadores más bajos\n",
    "- alto: los 50 jugadores más altos\n",
    "- normal: el resto de jugadores"
   ]
  },
  {
   "cell_type": "code",
   "execution_count": 58,
   "metadata": {},
   "outputs": [
    {
     "name": "stderr",
     "output_type": "stream",
     "text": [
      "<ipython-input-58-4c2736a54a6f>:2: SettingWithCopyWarning: \n",
      "A value is trying to be set on a copy of a slice from a DataFrame.\n",
      "Try using .loc[row_indexer,col_indexer] = value instead\n",
      "\n",
      "See the caveats in the documentation: https://pandas.pydata.org/pandas-docs/stable/user_guide/indexing.html#returning-a-view-versus-a-copy\n",
      "  nba_unique['Altura'] = 'normal'\n"
     ]
    }
   ],
   "source": [
    "# Añadimos una nueva columna a nuestro dataset 'nba.unique' considerando a todos los jugadores como normales\n",
    "nba_unique['Altura'] = 'normal'"
   ]
  },
  {
   "cell_type": "code",
   "execution_count": 59,
   "metadata": {},
   "outputs": [
    {
     "data": {
      "text/plain": [
       "normal    274\n",
       "Name: Altura, dtype: int64"
      ]
     },
     "execution_count": 59,
     "metadata": {},
     "output_type": "execute_result"
    }
   ],
   "source": [
    "# Comprobamos que ha funcionado correctamente con un 'value_counts' del nuevo atributo\n",
    "nba_unique['Altura'].value_counts()"
   ]
  },
  {
   "cell_type": "code",
   "execution_count": 60,
   "metadata": {},
   "outputs": [
    {
     "data": {
      "text/html": [
       "<div>\n",
       "<style scoped>\n",
       "    .dataframe tbody tr th:only-of-type {\n",
       "        vertical-align: middle;\n",
       "    }\n",
       "\n",
       "    .dataframe tbody tr th {\n",
       "        vertical-align: top;\n",
       "    }\n",
       "\n",
       "    .dataframe thead th {\n",
       "        text-align: right;\n",
       "    }\n",
       "</style>\n",
       "<table border=\"1\" class=\"dataframe\">\n",
       "  <thead>\n",
       "    <tr style=\"text-align: right;\">\n",
       "      <th></th>\n",
       "      <th>Age</th>\n",
       "      <th>Conference</th>\n",
       "      <th>Date</th>\n",
       "      <th>Draft Year</th>\n",
       "      <th>Height</th>\n",
       "      <th>Player</th>\n",
       "      <th>Position</th>\n",
       "      <th>Season</th>\n",
       "      <th>Season short</th>\n",
       "      <th>Seasons in league</th>\n",
       "      <th>Team</th>\n",
       "      <th>Weight</th>\n",
       "      <th>Real_value</th>\n",
       "      <th>tiempo</th>\n",
       "      <th>Altura</th>\n",
       "    </tr>\n",
       "  </thead>\n",
       "  <tbody>\n",
       "    <tr>\n",
       "      <th>967</th>\n",
       "      <td>26</td>\n",
       "      <td>East</td>\n",
       "      <td>Apr 13, 2015</td>\n",
       "      <td>2011</td>\n",
       "      <td>175.26</td>\n",
       "      <td>Isaiah Thomas</td>\n",
       "      <td>Point Guard</td>\n",
       "      <td>2014-2015</td>\n",
       "      <td>2015</td>\n",
       "      <td>3</td>\n",
       "      <td>Boston Celtics</td>\n",
       "      <td>83.914520</td>\n",
       "      <td>0.5</td>\n",
       "      <td>4</td>\n",
       "      <td>normal</td>\n",
       "    </tr>\n",
       "    <tr>\n",
       "      <th>893</th>\n",
       "      <td>28</td>\n",
       "      <td>East</td>\n",
       "      <td>Feb 4, 2013</td>\n",
       "      <td>2005</td>\n",
       "      <td>175.26</td>\n",
       "      <td>Nate Robinson</td>\n",
       "      <td>Guard</td>\n",
       "      <td>2012-2013</td>\n",
       "      <td>2013</td>\n",
       "      <td>7</td>\n",
       "      <td>Chicago Bulls</td>\n",
       "      <td>81.646560</td>\n",
       "      <td>0.5</td>\n",
       "      <td>8</td>\n",
       "      <td>normal</td>\n",
       "    </tr>\n",
       "    <tr>\n",
       "      <th>110</th>\n",
       "      <td>26</td>\n",
       "      <td>NaN</td>\n",
       "      <td>Dec 11, 1988</td>\n",
       "      <td>1985</td>\n",
       "      <td>177.80</td>\n",
       "      <td>Michael Adams</td>\n",
       "      <td>Point Guard</td>\n",
       "      <td>1988-1989</td>\n",
       "      <td>1989</td>\n",
       "      <td>3</td>\n",
       "      <td>Denver Nuggets</td>\n",
       "      <td>73.935496</td>\n",
       "      <td>1.0</td>\n",
       "      <td>4</td>\n",
       "      <td>normal</td>\n",
       "    </tr>\n",
       "    <tr>\n",
       "      <th>858</th>\n",
       "      <td>24</td>\n",
       "      <td>West</td>\n",
       "      <td>Mar 5, 2012</td>\n",
       "      <td>2009</td>\n",
       "      <td>180.34</td>\n",
       "      <td>Ty Lawson</td>\n",
       "      <td>Point Guard</td>\n",
       "      <td>2011-2012</td>\n",
       "      <td>2012</td>\n",
       "      <td>2</td>\n",
       "      <td>Denver Nuggets</td>\n",
       "      <td>88.450440</td>\n",
       "      <td>0.5</td>\n",
       "      <td>3</td>\n",
       "      <td>normal</td>\n",
       "    </tr>\n",
       "    <tr>\n",
       "      <th>273</th>\n",
       "      <td>25</td>\n",
       "      <td>NaN</td>\n",
       "      <td>Dec 3, 1995</td>\n",
       "      <td>1991</td>\n",
       "      <td>180.34</td>\n",
       "      <td>Terrell Brandon</td>\n",
       "      <td>Point Guard</td>\n",
       "      <td>1995-1996</td>\n",
       "      <td>1996</td>\n",
       "      <td>4</td>\n",
       "      <td>Cleveland Cavaliers</td>\n",
       "      <td>81.646560</td>\n",
       "      <td>1.0</td>\n",
       "      <td>5</td>\n",
       "      <td>normal</td>\n",
       "    </tr>\n",
       "    <tr>\n",
       "      <th>...</th>\n",
       "      <td>...</td>\n",
       "      <td>...</td>\n",
       "      <td>...</td>\n",
       "      <td>...</td>\n",
       "      <td>...</td>\n",
       "      <td>...</td>\n",
       "      <td>...</td>\n",
       "      <td>...</td>\n",
       "      <td>...</td>\n",
       "      <td>...</td>\n",
       "      <td>...</td>\n",
       "      <td>...</td>\n",
       "      <td>...</td>\n",
       "      <td>...</td>\n",
       "      <td>...</td>\n",
       "    </tr>\n",
       "    <tr>\n",
       "      <th>256</th>\n",
       "      <td>31</td>\n",
       "      <td>NaN</td>\n",
       "      <td>Mar 31, 1996</td>\n",
       "      <td>1985</td>\n",
       "      <td>220.98</td>\n",
       "      <td>Arvydas Sabonis</td>\n",
       "      <td>Center</td>\n",
       "      <td>1995-1996</td>\n",
       "      <td>1996</td>\n",
       "      <td>0</td>\n",
       "      <td>Portland Trail Blazers</td>\n",
       "      <td>126.552168</td>\n",
       "      <td>1.0</td>\n",
       "      <td>11</td>\n",
       "      <td>normal</td>\n",
       "    </tr>\n",
       "    <tr>\n",
       "      <th>483</th>\n",
       "      <td>28</td>\n",
       "      <td>East</td>\n",
       "      <td>Mar 14, 2004</td>\n",
       "      <td>1996</td>\n",
       "      <td>220.98</td>\n",
       "      <td>Zydrunas Ilgauskas</td>\n",
       "      <td>Center</td>\n",
       "      <td>2003-2004</td>\n",
       "      <td>2004</td>\n",
       "      <td>7</td>\n",
       "      <td>Cleveland Cavaliers</td>\n",
       "      <td>117.933920</td>\n",
       "      <td>0.5</td>\n",
       "      <td>8</td>\n",
       "      <td>normal</td>\n",
       "    </tr>\n",
       "    <tr>\n",
       "      <th>1139</th>\n",
       "      <td>22</td>\n",
       "      <td>East</td>\n",
       "      <td>Nov 6, 2017</td>\n",
       "      <td>2015</td>\n",
       "      <td>221.00</td>\n",
       "      <td>Kristaps Porzingis</td>\n",
       "      <td>Forward</td>\n",
       "      <td>2017-2018</td>\n",
       "      <td>2018</td>\n",
       "      <td>2</td>\n",
       "      <td>New York Knicks</td>\n",
       "      <td>109.000000</td>\n",
       "      <td>0.5</td>\n",
       "      <td>3</td>\n",
       "      <td>normal</td>\n",
       "    </tr>\n",
       "    <tr>\n",
       "      <th>236</th>\n",
       "      <td>28</td>\n",
       "      <td>NaN</td>\n",
       "      <td>Mar 12, 1995</td>\n",
       "      <td>1988</td>\n",
       "      <td>223.52</td>\n",
       "      <td>Rik Smits</td>\n",
       "      <td>Center</td>\n",
       "      <td>1994-1995</td>\n",
       "      <td>1995</td>\n",
       "      <td>6</td>\n",
       "      <td>Indiana Pacers</td>\n",
       "      <td>113.398000</td>\n",
       "      <td>1.0</td>\n",
       "      <td>7</td>\n",
       "      <td>normal</td>\n",
       "    </tr>\n",
       "    <tr>\n",
       "      <th>486</th>\n",
       "      <td>23</td>\n",
       "      <td>West</td>\n",
       "      <td>Mar 7, 2004</td>\n",
       "      <td>2002</td>\n",
       "      <td>228.60</td>\n",
       "      <td>Yao Ming</td>\n",
       "      <td>Center</td>\n",
       "      <td>2003-2004</td>\n",
       "      <td>2004</td>\n",
       "      <td>1</td>\n",
       "      <td>Houston Rockets</td>\n",
       "      <td>140.613520</td>\n",
       "      <td>0.5</td>\n",
       "      <td>2</td>\n",
       "      <td>normal</td>\n",
       "    </tr>\n",
       "  </tbody>\n",
       "</table>\n",
       "<p>274 rows × 15 columns</p>\n",
       "</div>"
      ],
      "text/plain": [
       "      Age Conference          Date  Draft Year  Height              Player  \\\n",
       "967    26       East  Apr 13, 2015        2011  175.26       Isaiah Thomas   \n",
       "893    28       East   Feb 4, 2013        2005  175.26       Nate Robinson   \n",
       "110    26        NaN  Dec 11, 1988        1985  177.80       Michael Adams   \n",
       "858    24       West   Mar 5, 2012        2009  180.34           Ty Lawson   \n",
       "273    25        NaN   Dec 3, 1995        1991  180.34     Terrell Brandon   \n",
       "...   ...        ...           ...         ...     ...                 ...   \n",
       "256    31        NaN  Mar 31, 1996        1985  220.98     Arvydas Sabonis   \n",
       "483    28       East  Mar 14, 2004        1996  220.98  Zydrunas Ilgauskas   \n",
       "1139   22       East   Nov 6, 2017        2015  221.00  Kristaps Porzingis   \n",
       "236    28        NaN  Mar 12, 1995        1988  223.52           Rik Smits   \n",
       "486    23       West   Mar 7, 2004        2002  228.60            Yao Ming   \n",
       "\n",
       "         Position     Season  Season short  Seasons in league  \\\n",
       "967   Point Guard  2014-2015          2015                  3   \n",
       "893         Guard  2012-2013          2013                  7   \n",
       "110   Point Guard  1988-1989          1989                  3   \n",
       "858   Point Guard  2011-2012          2012                  2   \n",
       "273   Point Guard  1995-1996          1996                  4   \n",
       "...           ...        ...           ...                ...   \n",
       "256        Center  1995-1996          1996                  0   \n",
       "483        Center  2003-2004          2004                  7   \n",
       "1139      Forward  2017-2018          2018                  2   \n",
       "236        Center  1994-1995          1995                  6   \n",
       "486        Center  2003-2004          2004                  1   \n",
       "\n",
       "                        Team      Weight  Real_value  tiempo  Altura  \n",
       "967           Boston Celtics   83.914520         0.5       4  normal  \n",
       "893            Chicago Bulls   81.646560         0.5       8  normal  \n",
       "110           Denver Nuggets   73.935496         1.0       4  normal  \n",
       "858           Denver Nuggets   88.450440         0.5       3  normal  \n",
       "273      Cleveland Cavaliers   81.646560         1.0       5  normal  \n",
       "...                      ...         ...         ...     ...     ...  \n",
       "256   Portland Trail Blazers  126.552168         1.0      11  normal  \n",
       "483      Cleveland Cavaliers  117.933920         0.5       8  normal  \n",
       "1139         New York Knicks  109.000000         0.5       3  normal  \n",
       "236           Indiana Pacers  113.398000         1.0       7  normal  \n",
       "486          Houston Rockets  140.613520         0.5       2  normal  \n",
       "\n",
       "[274 rows x 15 columns]"
      ]
     },
     "execution_count": 60,
     "metadata": {},
     "output_type": "execute_result"
    }
   ],
   "source": [
    "# Ordenamos el DF por la altura, del más bajo al más alto\n",
    "nba_unique.sort_values('Height', ascending=True)"
   ]
  },
  {
   "cell_type": "code",
   "execution_count": 61,
   "metadata": {},
   "outputs": [
    {
     "name": "stderr",
     "output_type": "stream",
     "text": [
      "<ipython-input-61-754325afa20b>:2: SettingWithCopyWarning: \n",
      "A value is trying to be set on a copy of a slice from a DataFrame\n",
      "\n",
      "See the caveats in the documentation: https://pandas.pydata.org/pandas-docs/stable/user_guide/indexing.html#returning-a-view-versus-a-copy\n",
      "  nba_unique['Altura'][0:50] = 'bajo'\n",
      "C:\\Users\\RodrigodelaPlaza\\anaconda3\\lib\\site-packages\\pandas\\core\\series.py:1042: SettingWithCopyWarning: \n",
      "A value is trying to be set on a copy of a slice from a DataFrame\n",
      "\n",
      "See the caveats in the documentation: https://pandas.pydata.org/pandas-docs/stable/user_guide/indexing.html#returning-a-view-versus-a-copy\n",
      "  self._set_with(key, value)\n",
      "C:\\Users\\RodrigodelaPlaza\\anaconda3\\lib\\site-packages\\IPython\\core\\interactiveshell.py:3343: SettingWithCopyWarning: \n",
      "A value is trying to be set on a copy of a slice from a DataFrame\n",
      "\n",
      "See the caveats in the documentation: https://pandas.pydata.org/pandas-docs/stable/user_guide/indexing.html#returning-a-view-versus-a-copy\n",
      "  exec(code_obj, self.user_global_ns, self.user_ns)\n",
      "<ipython-input-61-754325afa20b>:3: SettingWithCopyWarning: \n",
      "A value is trying to be set on a copy of a slice from a DataFrame\n",
      "\n",
      "See the caveats in the documentation: https://pandas.pydata.org/pandas-docs/stable/user_guide/indexing.html#returning-a-view-versus-a-copy\n",
      "  nba_unique['Altura'][224:274] = 'alto'\n"
     ]
    }
   ],
   "source": [
    "# Asignamos el valor de 'bajo' a los 50 primeros jugadores de la lista y 'alto' a los 50 últimos\n",
    "nba_unique['Altura'][0:50] = 'bajo'\n",
    "nba_unique['Altura'][224:274] = 'alto'"
   ]
  },
  {
   "cell_type": "code",
   "execution_count": 62,
   "metadata": {},
   "outputs": [
    {
     "data": {
      "text/plain": [
       "normal    174\n",
       "bajo       50\n",
       "alto       50\n",
       "Name: Altura, dtype: int64"
      ]
     },
     "execution_count": 62,
     "metadata": {},
     "output_type": "execute_result"
    }
   ],
   "source": [
    "# Utilizamos la función 'value_counts' de este nuevo atributo para comprobar que ha funcionado de forma correcta la asignación\n",
    "nba_unique['Altura'].value_counts()"
   ]
  },
  {
   "cell_type": "code",
   "execution_count": 63,
   "metadata": {},
   "outputs": [
    {
     "data": {
      "text/html": [
       "<div>\n",
       "<style scoped>\n",
       "    .dataframe tbody tr th:only-of-type {\n",
       "        vertical-align: middle;\n",
       "    }\n",
       "\n",
       "    .dataframe tbody tr th {\n",
       "        vertical-align: top;\n",
       "    }\n",
       "\n",
       "    .dataframe thead th {\n",
       "        text-align: right;\n",
       "    }\n",
       "</style>\n",
       "<table border=\"1\" class=\"dataframe\">\n",
       "  <thead>\n",
       "    <tr style=\"text-align: right;\">\n",
       "      <th></th>\n",
       "      <th>Player</th>\n",
       "      <th>Altura</th>\n",
       "    </tr>\n",
       "  </thead>\n",
       "  <tbody>\n",
       "    <tr>\n",
       "      <th>0</th>\n",
       "      <td>Micheal Ray Richardson</td>\n",
       "      <td>bajo</td>\n",
       "    </tr>\n",
       "    <tr>\n",
       "      <th>1</th>\n",
       "      <td>Derek Smith</td>\n",
       "      <td>bajo</td>\n",
       "    </tr>\n",
       "    <tr>\n",
       "      <th>2</th>\n",
       "      <td>Calvin Natt</td>\n",
       "      <td>bajo</td>\n",
       "    </tr>\n",
       "    <tr>\n",
       "      <th>3</th>\n",
       "      <td>Kareem Abdul-Jabbar</td>\n",
       "      <td>bajo</td>\n",
       "    </tr>\n",
       "    <tr>\n",
       "      <th>4</th>\n",
       "      <td>Larry Bird</td>\n",
       "      <td>bajo</td>\n",
       "    </tr>\n",
       "    <tr>\n",
       "      <th>...</th>\n",
       "      <td>...</td>\n",
       "      <td>...</td>\n",
       "    </tr>\n",
       "    <tr>\n",
       "      <th>1101</th>\n",
       "      <td>Victor Oladipo</td>\n",
       "      <td>alto</td>\n",
       "    </tr>\n",
       "    <tr>\n",
       "      <th>1115</th>\n",
       "      <td>Khris Middleton</td>\n",
       "      <td>alto</td>\n",
       "    </tr>\n",
       "    <tr>\n",
       "      <th>1123</th>\n",
       "      <td>Bradley Beal</td>\n",
       "      <td>alto</td>\n",
       "    </tr>\n",
       "    <tr>\n",
       "      <th>1137</th>\n",
       "      <td>Tobias Harris</td>\n",
       "      <td>alto</td>\n",
       "    </tr>\n",
       "    <tr>\n",
       "      <th>1139</th>\n",
       "      <td>Kristaps Porzingis</td>\n",
       "      <td>alto</td>\n",
       "    </tr>\n",
       "  </tbody>\n",
       "</table>\n",
       "<p>274 rows × 2 columns</p>\n",
       "</div>"
      ],
      "text/plain": [
       "                      Player Altura\n",
       "0     Micheal Ray Richardson   bajo\n",
       "1                Derek Smith   bajo\n",
       "2                Calvin Natt   bajo\n",
       "3        Kareem Abdul-Jabbar   bajo\n",
       "4                 Larry Bird   bajo\n",
       "...                      ...    ...\n",
       "1101          Victor Oladipo   alto\n",
       "1115         Khris Middleton   alto\n",
       "1123            Bradley Beal   alto\n",
       "1137           Tobias Harris   alto\n",
       "1139      Kristaps Porzingis   alto\n",
       "\n",
       "[274 rows x 2 columns]"
      ]
     },
     "execution_count": 63,
     "metadata": {},
     "output_type": "execute_result"
    }
   ],
   "source": [
    "nba_unique[['Player','Altura']]"
   ]
  },
  {
   "cell_type": "markdown",
   "metadata": {},
   "source": [
    "### 7.2 Añadir una columna al conjunto de datos denominada “Peso” que contenga los valores: {“bajo”, “normal”, “alto”}. La asignación del valor depende del peso de cada jugador. Se asigna:\n",
    "- bajo: los 50 jugadores con menor peso\n",
    "- alto: los 50 jugadores con mayor peso\n",
    "- normal: el resto de jugadores"
   ]
  },
  {
   "cell_type": "code",
   "execution_count": 64,
   "metadata": {},
   "outputs": [
    {
     "name": "stderr",
     "output_type": "stream",
     "text": [
      "<ipython-input-64-362df1c20b22>:2: SettingWithCopyWarning: \n",
      "A value is trying to be set on a copy of a slice from a DataFrame.\n",
      "Try using .loc[row_indexer,col_indexer] = value instead\n",
      "\n",
      "See the caveats in the documentation: https://pandas.pydata.org/pandas-docs/stable/user_guide/indexing.html#returning-a-view-versus-a-copy\n",
      "  nba_unique['Peso'] = 'normal'\n"
     ]
    }
   ],
   "source": [
    "# Añadimos una nueva columna a nuestro dataset 'nba.unique' considerando a todos los jugadores como normales\n",
    "nba_unique['Peso'] = 'normal'"
   ]
  },
  {
   "cell_type": "code",
   "execution_count": 65,
   "metadata": {},
   "outputs": [
    {
     "data": {
      "text/plain": [
       "normal    274\n",
       "Name: Peso, dtype: int64"
      ]
     },
     "execution_count": 65,
     "metadata": {},
     "output_type": "execute_result"
    }
   ],
   "source": [
    "# Comprobamos que ha funcionado correctamente con un 'value_counts' del nuevo atributo\n",
    "nba_unique['Peso'].value_counts()"
   ]
  },
  {
   "cell_type": "code",
   "execution_count": 66,
   "metadata": {},
   "outputs": [
    {
     "data": {
      "text/html": [
       "<div>\n",
       "<style scoped>\n",
       "    .dataframe tbody tr th:only-of-type {\n",
       "        vertical-align: middle;\n",
       "    }\n",
       "\n",
       "    .dataframe tbody tr th {\n",
       "        vertical-align: top;\n",
       "    }\n",
       "\n",
       "    .dataframe thead th {\n",
       "        text-align: right;\n",
       "    }\n",
       "</style>\n",
       "<table border=\"1\" class=\"dataframe\">\n",
       "  <thead>\n",
       "    <tr style=\"text-align: right;\">\n",
       "      <th></th>\n",
       "      <th>Age</th>\n",
       "      <th>Conference</th>\n",
       "      <th>Date</th>\n",
       "      <th>Draft Year</th>\n",
       "      <th>Height</th>\n",
       "      <th>Player</th>\n",
       "      <th>Position</th>\n",
       "      <th>Season</th>\n",
       "      <th>Season short</th>\n",
       "      <th>Seasons in league</th>\n",
       "      <th>Team</th>\n",
       "      <th>Weight</th>\n",
       "      <th>Real_value</th>\n",
       "      <th>tiempo</th>\n",
       "      <th>Altura</th>\n",
       "      <th>Peso</th>\n",
       "    </tr>\n",
       "  </thead>\n",
       "  <tbody>\n",
       "    <tr>\n",
       "      <th>251</th>\n",
       "      <td>25</td>\n",
       "      <td>NaN</td>\n",
       "      <td>Nov 20, 1994</td>\n",
       "      <td>1991</td>\n",
       "      <td>182.88</td>\n",
       "      <td>Elliot Perry</td>\n",
       "      <td>Point Guard</td>\n",
       "      <td>1994-1995</td>\n",
       "      <td>1995</td>\n",
       "      <td>3</td>\n",
       "      <td>Phoenix Suns</td>\n",
       "      <td>68.038800</td>\n",
       "      <td>1.0</td>\n",
       "      <td>4</td>\n",
       "      <td>normal</td>\n",
       "      <td>normal</td>\n",
       "    </tr>\n",
       "    <tr>\n",
       "      <th>110</th>\n",
       "      <td>26</td>\n",
       "      <td>NaN</td>\n",
       "      <td>Dec 11, 1988</td>\n",
       "      <td>1985</td>\n",
       "      <td>177.80</td>\n",
       "      <td>Michael Adams</td>\n",
       "      <td>Point Guard</td>\n",
       "      <td>1988-1989</td>\n",
       "      <td>1989</td>\n",
       "      <td>3</td>\n",
       "      <td>Denver Nuggets</td>\n",
       "      <td>73.935496</td>\n",
       "      <td>1.0</td>\n",
       "      <td>4</td>\n",
       "      <td>normal</td>\n",
       "      <td>normal</td>\n",
       "    </tr>\n",
       "    <tr>\n",
       "      <th>278</th>\n",
       "      <td>21</td>\n",
       "      <td>NaN</td>\n",
       "      <td>Apr 13, 1997</td>\n",
       "      <td>1996</td>\n",
       "      <td>182.88</td>\n",
       "      <td>Allen Iverson</td>\n",
       "      <td>Guard</td>\n",
       "      <td>1996-1997</td>\n",
       "      <td>1997</td>\n",
       "      <td>0</td>\n",
       "      <td>Philadelphia Sixers</td>\n",
       "      <td>74.842680</td>\n",
       "      <td>1.0</td>\n",
       "      <td>1</td>\n",
       "      <td>normal</td>\n",
       "      <td>normal</td>\n",
       "    </tr>\n",
       "    <tr>\n",
       "      <th>611</th>\n",
       "      <td>22</td>\n",
       "      <td>East</td>\n",
       "      <td>Nov 7, 2005</td>\n",
       "      <td>2003</td>\n",
       "      <td>182.88</td>\n",
       "      <td>T.J. Ford</td>\n",
       "      <td>Point Guard</td>\n",
       "      <td>2005-2006</td>\n",
       "      <td>2006</td>\n",
       "      <td>2</td>\n",
       "      <td>Milwaukee Bucks</td>\n",
       "      <td>74.842680</td>\n",
       "      <td>0.5</td>\n",
       "      <td>3</td>\n",
       "      <td>normal</td>\n",
       "      <td>normal</td>\n",
       "    </tr>\n",
       "    <tr>\n",
       "      <th>219</th>\n",
       "      <td>23</td>\n",
       "      <td>NaN</td>\n",
       "      <td>Jan 23, 1994</td>\n",
       "      <td>1991</td>\n",
       "      <td>182.88</td>\n",
       "      <td>Kenny Anderson</td>\n",
       "      <td>Point Guard</td>\n",
       "      <td>1993-1994</td>\n",
       "      <td>1994</td>\n",
       "      <td>2</td>\n",
       "      <td>New Jersey Nets</td>\n",
       "      <td>76.203456</td>\n",
       "      <td>1.0</td>\n",
       "      <td>3</td>\n",
       "      <td>normal</td>\n",
       "      <td>normal</td>\n",
       "    </tr>\n",
       "    <tr>\n",
       "      <th>...</th>\n",
       "      <td>...</td>\n",
       "      <td>...</td>\n",
       "      <td>...</td>\n",
       "      <td>...</td>\n",
       "      <td>...</td>\n",
       "      <td>...</td>\n",
       "      <td>...</td>\n",
       "      <td>...</td>\n",
       "      <td>...</td>\n",
       "      <td>...</td>\n",
       "      <td>...</td>\n",
       "      <td>...</td>\n",
       "      <td>...</td>\n",
       "      <td>...</td>\n",
       "      <td>...</td>\n",
       "      <td>...</td>\n",
       "    </tr>\n",
       "    <tr>\n",
       "      <th>726</th>\n",
       "      <td>21</td>\n",
       "      <td>West</td>\n",
       "      <td>Jan 26, 2009</td>\n",
       "      <td>2005</td>\n",
       "      <td>213.36</td>\n",
       "      <td>Andrew Bynum</td>\n",
       "      <td>Center</td>\n",
       "      <td>2008-2009</td>\n",
       "      <td>2009</td>\n",
       "      <td>3</td>\n",
       "      <td>Los Angeles Lakers</td>\n",
       "      <td>129.273720</td>\n",
       "      <td>0.5</td>\n",
       "      <td>4</td>\n",
       "      <td>normal</td>\n",
       "      <td>normal</td>\n",
       "    </tr>\n",
       "    <tr>\n",
       "      <th>625</th>\n",
       "      <td>22</td>\n",
       "      <td>East</td>\n",
       "      <td>Mar 4, 2007</td>\n",
       "      <td>2004</td>\n",
       "      <td>208.28</td>\n",
       "      <td>Al Jefferson</td>\n",
       "      <td>Forward</td>\n",
       "      <td>2006-2007</td>\n",
       "      <td>2007</td>\n",
       "      <td>2</td>\n",
       "      <td>Boston Celtics</td>\n",
       "      <td>131.088088</td>\n",
       "      <td>0.5</td>\n",
       "      <td>3</td>\n",
       "      <td>normal</td>\n",
       "      <td>normal</td>\n",
       "    </tr>\n",
       "    <tr>\n",
       "      <th>878</th>\n",
       "      <td>27</td>\n",
       "      <td>West</td>\n",
       "      <td>Apr 8, 2013</td>\n",
       "      <td>2008</td>\n",
       "      <td>210.82</td>\n",
       "      <td>Nikola Pekovic</td>\n",
       "      <td>Power Forward</td>\n",
       "      <td>2012-2013</td>\n",
       "      <td>2013</td>\n",
       "      <td>2</td>\n",
       "      <td>Minnesota Timberwolves</td>\n",
       "      <td>139.252744</td>\n",
       "      <td>0.5</td>\n",
       "      <td>5</td>\n",
       "      <td>normal</td>\n",
       "      <td>normal</td>\n",
       "    </tr>\n",
       "    <tr>\n",
       "      <th>486</th>\n",
       "      <td>23</td>\n",
       "      <td>West</td>\n",
       "      <td>Mar 7, 2004</td>\n",
       "      <td>2002</td>\n",
       "      <td>228.60</td>\n",
       "      <td>Yao Ming</td>\n",
       "      <td>Center</td>\n",
       "      <td>2003-2004</td>\n",
       "      <td>2004</td>\n",
       "      <td>1</td>\n",
       "      <td>Houston Rockets</td>\n",
       "      <td>140.613520</td>\n",
       "      <td>0.5</td>\n",
       "      <td>2</td>\n",
       "      <td>normal</td>\n",
       "      <td>normal</td>\n",
       "    </tr>\n",
       "    <tr>\n",
       "      <th>206</th>\n",
       "      <td>20</td>\n",
       "      <td>NaN</td>\n",
       "      <td>Nov 15, 1992</td>\n",
       "      <td>1992</td>\n",
       "      <td>215.90</td>\n",
       "      <td>Shaquille O'Neal</td>\n",
       "      <td>Center</td>\n",
       "      <td>1992-1993</td>\n",
       "      <td>1993</td>\n",
       "      <td>0</td>\n",
       "      <td>Orlando Magic</td>\n",
       "      <td>147.417400</td>\n",
       "      <td>1.0</td>\n",
       "      <td>1</td>\n",
       "      <td>normal</td>\n",
       "      <td>normal</td>\n",
       "    </tr>\n",
       "  </tbody>\n",
       "</table>\n",
       "<p>274 rows × 16 columns</p>\n",
       "</div>"
      ],
      "text/plain": [
       "     Age Conference          Date  Draft Year  Height            Player  \\\n",
       "251   25        NaN  Nov 20, 1994        1991  182.88      Elliot Perry   \n",
       "110   26        NaN  Dec 11, 1988        1985  177.80     Michael Adams   \n",
       "278   21        NaN  Apr 13, 1997        1996  182.88     Allen Iverson   \n",
       "611   22       East   Nov 7, 2005        2003  182.88         T.J. Ford   \n",
       "219   23        NaN  Jan 23, 1994        1991  182.88    Kenny Anderson   \n",
       "..   ...        ...           ...         ...     ...               ...   \n",
       "726   21       West  Jan 26, 2009        2005  213.36      Andrew Bynum   \n",
       "625   22       East   Mar 4, 2007        2004  208.28      Al Jefferson   \n",
       "878   27       West   Apr 8, 2013        2008  210.82    Nikola Pekovic   \n",
       "486   23       West   Mar 7, 2004        2002  228.60          Yao Ming   \n",
       "206   20        NaN  Nov 15, 1992        1992  215.90  Shaquille O'Neal   \n",
       "\n",
       "          Position     Season  Season short  Seasons in league  \\\n",
       "251    Point Guard  1994-1995          1995                  3   \n",
       "110    Point Guard  1988-1989          1989                  3   \n",
       "278          Guard  1996-1997          1997                  0   \n",
       "611    Point Guard  2005-2006          2006                  2   \n",
       "219    Point Guard  1993-1994          1994                  2   \n",
       "..             ...        ...           ...                ...   \n",
       "726         Center  2008-2009          2009                  3   \n",
       "625        Forward  2006-2007          2007                  2   \n",
       "878  Power Forward  2012-2013          2013                  2   \n",
       "486         Center  2003-2004          2004                  1   \n",
       "206         Center  1992-1993          1993                  0   \n",
       "\n",
       "                       Team      Weight  Real_value  tiempo  Altura    Peso  \n",
       "251            Phoenix Suns   68.038800         1.0       4  normal  normal  \n",
       "110          Denver Nuggets   73.935496         1.0       4  normal  normal  \n",
       "278     Philadelphia Sixers   74.842680         1.0       1  normal  normal  \n",
       "611         Milwaukee Bucks   74.842680         0.5       3  normal  normal  \n",
       "219         New Jersey Nets   76.203456         1.0       3  normal  normal  \n",
       "..                      ...         ...         ...     ...     ...     ...  \n",
       "726      Los Angeles Lakers  129.273720         0.5       4  normal  normal  \n",
       "625          Boston Celtics  131.088088         0.5       3  normal  normal  \n",
       "878  Minnesota Timberwolves  139.252744         0.5       5  normal  normal  \n",
       "486         Houston Rockets  140.613520         0.5       2  normal  normal  \n",
       "206           Orlando Magic  147.417400         1.0       1  normal  normal  \n",
       "\n",
       "[274 rows x 16 columns]"
      ]
     },
     "execution_count": 66,
     "metadata": {},
     "output_type": "execute_result"
    }
   ],
   "source": [
    "# Ordenamos el DF por el peso, de menor a mayor\n",
    "nba_unique.sort_values('Weight', ascending=True)"
   ]
  },
  {
   "cell_type": "code",
   "execution_count": 67,
   "metadata": {},
   "outputs": [
    {
     "name": "stderr",
     "output_type": "stream",
     "text": [
      "<ipython-input-67-4fe8bdc16ff5>:2: SettingWithCopyWarning: \n",
      "A value is trying to be set on a copy of a slice from a DataFrame\n",
      "\n",
      "See the caveats in the documentation: https://pandas.pydata.org/pandas-docs/stable/user_guide/indexing.html#returning-a-view-versus-a-copy\n",
      "  nba_unique['Peso'][0:50] = 'bajo'\n",
      "C:\\Users\\RodrigodelaPlaza\\anaconda3\\lib\\site-packages\\pandas\\core\\series.py:1042: SettingWithCopyWarning: \n",
      "A value is trying to be set on a copy of a slice from a DataFrame\n",
      "\n",
      "See the caveats in the documentation: https://pandas.pydata.org/pandas-docs/stable/user_guide/indexing.html#returning-a-view-versus-a-copy\n",
      "  self._set_with(key, value)\n",
      "C:\\Users\\RodrigodelaPlaza\\anaconda3\\lib\\site-packages\\IPython\\core\\interactiveshell.py:3343: SettingWithCopyWarning: \n",
      "A value is trying to be set on a copy of a slice from a DataFrame\n",
      "\n",
      "See the caveats in the documentation: https://pandas.pydata.org/pandas-docs/stable/user_guide/indexing.html#returning-a-view-versus-a-copy\n",
      "  exec(code_obj, self.user_global_ns, self.user_ns)\n",
      "<ipython-input-67-4fe8bdc16ff5>:3: SettingWithCopyWarning: \n",
      "A value is trying to be set on a copy of a slice from a DataFrame\n",
      "\n",
      "See the caveats in the documentation: https://pandas.pydata.org/pandas-docs/stable/user_guide/indexing.html#returning-a-view-versus-a-copy\n",
      "  nba_unique['Peso'][224:274] = 'alto'\n"
     ]
    }
   ],
   "source": [
    "# Asignamos el valor de 'bajo' a los 50 primeros jugadores de la lista y 'alto' a los 50 últimos\n",
    "nba_unique['Peso'][0:50] = 'bajo'\n",
    "nba_unique['Peso'][224:274] = 'alto'"
   ]
  },
  {
   "cell_type": "code",
   "execution_count": 68,
   "metadata": {},
   "outputs": [
    {
     "data": {
      "text/plain": [
       "normal    174\n",
       "bajo       50\n",
       "alto       50\n",
       "Name: Peso, dtype: int64"
      ]
     },
     "execution_count": 68,
     "metadata": {},
     "output_type": "execute_result"
    }
   ],
   "source": [
    "# Utilizamos la función 'value_counts' de este nuevo atributo para comprobar que ha funcionado de forma correcta la asignación\n",
    "nba_unique['Peso'].value_counts()"
   ]
  },
  {
   "cell_type": "code",
   "execution_count": 69,
   "metadata": {},
   "outputs": [
    {
     "data": {
      "text/html": [
       "<div>\n",
       "<style scoped>\n",
       "    .dataframe tbody tr th:only-of-type {\n",
       "        vertical-align: middle;\n",
       "    }\n",
       "\n",
       "    .dataframe tbody tr th {\n",
       "        vertical-align: top;\n",
       "    }\n",
       "\n",
       "    .dataframe thead th {\n",
       "        text-align: right;\n",
       "    }\n",
       "</style>\n",
       "<table border=\"1\" class=\"dataframe\">\n",
       "  <thead>\n",
       "    <tr style=\"text-align: right;\">\n",
       "      <th></th>\n",
       "      <th>Player</th>\n",
       "      <th>Peso</th>\n",
       "    </tr>\n",
       "  </thead>\n",
       "  <tbody>\n",
       "    <tr>\n",
       "      <th>0</th>\n",
       "      <td>Micheal Ray Richardson</td>\n",
       "      <td>bajo</td>\n",
       "    </tr>\n",
       "    <tr>\n",
       "      <th>1</th>\n",
       "      <td>Derek Smith</td>\n",
       "      <td>bajo</td>\n",
       "    </tr>\n",
       "    <tr>\n",
       "      <th>2</th>\n",
       "      <td>Calvin Natt</td>\n",
       "      <td>bajo</td>\n",
       "    </tr>\n",
       "    <tr>\n",
       "      <th>3</th>\n",
       "      <td>Kareem Abdul-Jabbar</td>\n",
       "      <td>bajo</td>\n",
       "    </tr>\n",
       "    <tr>\n",
       "      <th>4</th>\n",
       "      <td>Larry Bird</td>\n",
       "      <td>bajo</td>\n",
       "    </tr>\n",
       "    <tr>\n",
       "      <th>...</th>\n",
       "      <td>...</td>\n",
       "      <td>...</td>\n",
       "    </tr>\n",
       "    <tr>\n",
       "      <th>1101</th>\n",
       "      <td>Victor Oladipo</td>\n",
       "      <td>alto</td>\n",
       "    </tr>\n",
       "    <tr>\n",
       "      <th>1115</th>\n",
       "      <td>Khris Middleton</td>\n",
       "      <td>alto</td>\n",
       "    </tr>\n",
       "    <tr>\n",
       "      <th>1123</th>\n",
       "      <td>Bradley Beal</td>\n",
       "      <td>alto</td>\n",
       "    </tr>\n",
       "    <tr>\n",
       "      <th>1137</th>\n",
       "      <td>Tobias Harris</td>\n",
       "      <td>alto</td>\n",
       "    </tr>\n",
       "    <tr>\n",
       "      <th>1139</th>\n",
       "      <td>Kristaps Porzingis</td>\n",
       "      <td>alto</td>\n",
       "    </tr>\n",
       "  </tbody>\n",
       "</table>\n",
       "<p>274 rows × 2 columns</p>\n",
       "</div>"
      ],
      "text/plain": [
       "                      Player  Peso\n",
       "0     Micheal Ray Richardson  bajo\n",
       "1                Derek Smith  bajo\n",
       "2                Calvin Natt  bajo\n",
       "3        Kareem Abdul-Jabbar  bajo\n",
       "4                 Larry Bird  bajo\n",
       "...                      ...   ...\n",
       "1101          Victor Oladipo  alto\n",
       "1115         Khris Middleton  alto\n",
       "1123            Bradley Beal  alto\n",
       "1137           Tobias Harris  alto\n",
       "1139      Kristaps Porzingis  alto\n",
       "\n",
       "[274 rows x 2 columns]"
      ]
     },
     "execution_count": 69,
     "metadata": {},
     "output_type": "execute_result"
    }
   ],
   "source": [
    "nba_unique[['Player','Peso']]"
   ]
  },
  {
   "cell_type": "markdown",
   "metadata": {},
   "source": [
    "### 7.3 Calcular la media y desviación típica del peso (Weight) según la clasificación de altura de los jugadores."
   ]
  },
  {
   "cell_type": "code",
   "execution_count": 72,
   "metadata": {},
   "outputs": [
    {
     "name": "stderr",
     "output_type": "stream",
     "text": [
      "<ipython-input-72-24a2204d9f29>:1: SettingWithCopyWarning: \n",
      "A value is trying to be set on a copy of a slice from a DataFrame.\n",
      "Try using .loc[row_indexer,col_indexer] = value instead\n",
      "\n",
      "See the caveats in the documentation: https://pandas.pydata.org/pandas-docs/stable/user_guide/indexing.html#returning-a-view-versus-a-copy\n",
      "  nba_unique['Weight'] = nba_unique['Weight'].astype('float')\n"
     ]
    }
   ],
   "source": [
    "# Convertimos la variable peso en decimal para poder operar con él\n",
    "nba_unique['Weight'] = nba_unique['Weight'].astype('float')"
   ]
  },
  {
   "cell_type": "code",
   "execution_count": 90,
   "metadata": {},
   "outputs": [
    {
     "data": {
      "text/html": [
       "<div>\n",
       "<style scoped>\n",
       "    .dataframe tbody tr th:only-of-type {\n",
       "        vertical-align: middle;\n",
       "    }\n",
       "\n",
       "    .dataframe tbody tr th {\n",
       "        vertical-align: top;\n",
       "    }\n",
       "\n",
       "    .dataframe thead th {\n",
       "        text-align: right;\n",
       "    }\n",
       "</style>\n",
       "<table border=\"1\" class=\"dataframe\">\n",
       "  <thead>\n",
       "    <tr style=\"text-align: right;\">\n",
       "      <th></th>\n",
       "      <th>Weight</th>\n",
       "    </tr>\n",
       "    <tr>\n",
       "      <th>Altura</th>\n",
       "      <th></th>\n",
       "    </tr>\n",
       "  </thead>\n",
       "  <tbody>\n",
       "    <tr>\n",
       "      <th>alto</th>\n",
       "      <td>101.553545</td>\n",
       "    </tr>\n",
       "    <tr>\n",
       "      <th>bajo</th>\n",
       "      <td>95.735128</td>\n",
       "    </tr>\n",
       "    <tr>\n",
       "      <th>normal</th>\n",
       "      <td>99.790240</td>\n",
       "    </tr>\n",
       "  </tbody>\n",
       "</table>\n",
       "</div>"
      ],
      "text/plain": [
       "            Weight\n",
       "Altura            \n",
       "alto    101.553545\n",
       "bajo     95.735128\n",
       "normal   99.790240"
      ]
     },
     "execution_count": 90,
     "metadata": {},
     "output_type": "execute_result"
    }
   ],
   "source": [
    "# Calculamos la media del peso (Weight) según la clasificación de altura de los jugadores con la función 'pivot table' de pandas:\n",
    "media_peso = pd.pivot_table(nba_unique, values = 'Weight', index = 'Altura', aggfunc='mean', columns=None, fill_value=None, margins=False, dropna=True, margins_name='All', observed=False)\n",
    "\n",
    "media_peso\n",
    "\n"
   ]
  },
  {
   "cell_type": "code",
   "execution_count": 92,
   "metadata": {},
   "outputs": [
    {
     "data": {
      "text/html": [
       "<div>\n",
       "<style scoped>\n",
       "    .dataframe tbody tr th:only-of-type {\n",
       "        vertical-align: middle;\n",
       "    }\n",
       "\n",
       "    .dataframe tbody tr th {\n",
       "        vertical-align: top;\n",
       "    }\n",
       "\n",
       "    .dataframe thead th {\n",
       "        text-align: right;\n",
       "    }\n",
       "</style>\n",
       "<table border=\"1\" class=\"dataframe\">\n",
       "  <thead>\n",
       "    <tr style=\"text-align: right;\">\n",
       "      <th></th>\n",
       "      <th>Weight</th>\n",
       "    </tr>\n",
       "    <tr>\n",
       "      <th>Altura</th>\n",
       "      <th></th>\n",
       "    </tr>\n",
       "  </thead>\n",
       "  <tbody>\n",
       "    <tr>\n",
       "      <th>alto</th>\n",
       "      <td>12.294528</td>\n",
       "    </tr>\n",
       "    <tr>\n",
       "      <th>bajo</th>\n",
       "      <td>10.450676</td>\n",
       "    </tr>\n",
       "    <tr>\n",
       "      <th>normal</th>\n",
       "      <td>14.206542</td>\n",
       "    </tr>\n",
       "  </tbody>\n",
       "</table>\n",
       "</div>"
      ],
      "text/plain": [
       "           Weight\n",
       "Altura           \n",
       "alto    12.294528\n",
       "bajo    10.450676\n",
       "normal  14.206542"
      ]
     },
     "execution_count": 92,
     "metadata": {},
     "output_type": "execute_result"
    }
   ],
   "source": [
    "# Calculamos la desviación típica del peso (Weight) según la clasificación de altura de los jugadores con la función 'pivot table' de pandas:\n",
    "\n",
    "desv_tipica_peso = pd.pivot_table(nba_unique, values = 'Weight', index = 'Altura', aggfunc='std', columns=None, fill_value=None, margins=False, dropna=True, margins_name='All', observed=False)\n",
    "\n",
    "desv_tipica_peso"
   ]
  },
  {
   "cell_type": "markdown",
   "metadata": {},
   "source": [
    "### 7.4 Realizar un boxplot del peso (Weight) según la clasificación de altura del jugador. Los boxplots deben estar ordenados de menos a mayor altura."
   ]
  },
  {
   "cell_type": "code",
   "execution_count": 104,
   "metadata": {},
   "outputs": [
    {
     "ename": "TypeError",
     "evalue": "boxplot() got multiple values for argument 'x'",
     "output_type": "error",
     "traceback": [
      "\u001b[1;31m---------------------------------------------------------------------------\u001b[0m",
      "\u001b[1;31mTypeError\u001b[0m                                 Traceback (most recent call last)",
      "\u001b[1;32m<ipython-input-104-b2fffd0880dc>\u001b[0m in \u001b[0;36m<module>\u001b[1;34m\u001b[0m\n\u001b[1;32m----> 1\u001b[1;33m \u001b[0mnba_unique\u001b[0m\u001b[1;33m.\u001b[0m\u001b[0mboxplot\u001b[0m\u001b[1;33m(\u001b[0m\u001b[0mx\u001b[0m \u001b[1;33m=\u001b[0m\u001b[0mnba_unique\u001b[0m\u001b[1;33m[\u001b[0m\u001b[1;34m'Altura'\u001b[0m\u001b[1;33m]\u001b[0m\u001b[1;33m,\u001b[0m \u001b[0my\u001b[0m \u001b[1;33m=\u001b[0m \u001b[0mnba_unique\u001b[0m\u001b[1;33m[\u001b[0m\u001b[1;34m'Weight'\u001b[0m\u001b[1;33m]\u001b[0m\u001b[1;33m)\u001b[0m\u001b[1;33m\u001b[0m\u001b[1;33m\u001b[0m\u001b[0m\n\u001b[0m",
      "\u001b[1;32m~\\anaconda3\\lib\\site-packages\\pandas\\plotting\\_core.py\u001b[0m in \u001b[0;36mboxplot_frame\u001b[1;34m(self, column, by, ax, fontsize, rot, grid, figsize, layout, return_type, backend, **kwargs)\u001b[0m\n\u001b[0;32m    434\u001b[0m ):\n\u001b[0;32m    435\u001b[0m     \u001b[0mplot_backend\u001b[0m \u001b[1;33m=\u001b[0m \u001b[0m_get_plot_backend\u001b[0m\u001b[1;33m(\u001b[0m\u001b[0mbackend\u001b[0m\u001b[1;33m)\u001b[0m\u001b[1;33m\u001b[0m\u001b[1;33m\u001b[0m\u001b[0m\n\u001b[1;32m--> 436\u001b[1;33m     return plot_backend.boxplot_frame(\n\u001b[0m\u001b[0;32m    437\u001b[0m         \u001b[0mself\u001b[0m\u001b[1;33m,\u001b[0m\u001b[1;33m\u001b[0m\u001b[1;33m\u001b[0m\u001b[0m\n\u001b[0;32m    438\u001b[0m         \u001b[0mcolumn\u001b[0m\u001b[1;33m=\u001b[0m\u001b[0mcolumn\u001b[0m\u001b[1;33m,\u001b[0m\u001b[1;33m\u001b[0m\u001b[1;33m\u001b[0m\u001b[0m\n",
      "\u001b[1;32m~\\anaconda3\\lib\\site-packages\\pandas\\plotting\\_matplotlib\\boxplot.py\u001b[0m in \u001b[0;36mboxplot_frame\u001b[1;34m(self, column, by, ax, fontsize, rot, grid, figsize, layout, return_type, **kwds)\u001b[0m\n\u001b[0;32m    362\u001b[0m     \u001b[1;32mimport\u001b[0m \u001b[0mmatplotlib\u001b[0m\u001b[1;33m.\u001b[0m\u001b[0mpyplot\u001b[0m \u001b[1;32mas\u001b[0m \u001b[0mplt\u001b[0m\u001b[1;33m\u001b[0m\u001b[1;33m\u001b[0m\u001b[0m\n\u001b[0;32m    363\u001b[0m \u001b[1;33m\u001b[0m\u001b[0m\n\u001b[1;32m--> 364\u001b[1;33m     ax = boxplot(\n\u001b[0m\u001b[0;32m    365\u001b[0m         \u001b[0mself\u001b[0m\u001b[1;33m,\u001b[0m\u001b[1;33m\u001b[0m\u001b[1;33m\u001b[0m\u001b[0m\n\u001b[0;32m    366\u001b[0m         \u001b[0mcolumn\u001b[0m\u001b[1;33m=\u001b[0m\u001b[0mcolumn\u001b[0m\u001b[1;33m,\u001b[0m\u001b[1;33m\u001b[0m\u001b[1;33m\u001b[0m\u001b[0m\n",
      "\u001b[1;32m~\\anaconda3\\lib\\site-packages\\pandas\\plotting\\_matplotlib\\boxplot.py\u001b[0m in \u001b[0;36mboxplot\u001b[1;34m(data, column, by, ax, fontsize, rot, grid, figsize, layout, return_type, **kwds)\u001b[0m\n\u001b[0;32m    341\u001b[0m             \u001b[0mdata\u001b[0m \u001b[1;33m=\u001b[0m \u001b[0mdata\u001b[0m\u001b[1;33m[\u001b[0m\u001b[0mcolumns\u001b[0m\u001b[1;33m]\u001b[0m\u001b[1;33m\u001b[0m\u001b[1;33m\u001b[0m\u001b[0m\n\u001b[0;32m    342\u001b[0m \u001b[1;33m\u001b[0m\u001b[0m\n\u001b[1;32m--> 343\u001b[1;33m         \u001b[0mresult\u001b[0m \u001b[1;33m=\u001b[0m \u001b[0mplot_group\u001b[0m\u001b[1;33m(\u001b[0m\u001b[0mcolumns\u001b[0m\u001b[1;33m,\u001b[0m \u001b[0mdata\u001b[0m\u001b[1;33m.\u001b[0m\u001b[0mvalues\u001b[0m\u001b[1;33m.\u001b[0m\u001b[0mT\u001b[0m\u001b[1;33m,\u001b[0m \u001b[0max\u001b[0m\u001b[1;33m)\u001b[0m\u001b[1;33m\u001b[0m\u001b[1;33m\u001b[0m\u001b[0m\n\u001b[0m\u001b[0;32m    344\u001b[0m         \u001b[0max\u001b[0m\u001b[1;33m.\u001b[0m\u001b[0mgrid\u001b[0m\u001b[1;33m(\u001b[0m\u001b[0mgrid\u001b[0m\u001b[1;33m)\u001b[0m\u001b[1;33m\u001b[0m\u001b[1;33m\u001b[0m\u001b[0m\n\u001b[0;32m    345\u001b[0m \u001b[1;33m\u001b[0m\u001b[0m\n",
      "\u001b[1;32m~\\anaconda3\\lib\\site-packages\\pandas\\plotting\\_matplotlib\\boxplot.py\u001b[0m in \u001b[0;36mplot_group\u001b[1;34m(keys, values, ax)\u001b[0m\n\u001b[0;32m    285\u001b[0m         \u001b[0mkeys\u001b[0m \u001b[1;33m=\u001b[0m \u001b[1;33m[\u001b[0m\u001b[0mpprint_thing\u001b[0m\u001b[1;33m(\u001b[0m\u001b[0mx\u001b[0m\u001b[1;33m)\u001b[0m \u001b[1;32mfor\u001b[0m \u001b[0mx\u001b[0m \u001b[1;32min\u001b[0m \u001b[0mkeys\u001b[0m\u001b[1;33m]\u001b[0m\u001b[1;33m\u001b[0m\u001b[1;33m\u001b[0m\u001b[0m\n\u001b[0;32m    286\u001b[0m         \u001b[0mvalues\u001b[0m \u001b[1;33m=\u001b[0m \u001b[1;33m[\u001b[0m\u001b[0mnp\u001b[0m\u001b[1;33m.\u001b[0m\u001b[0masarray\u001b[0m\u001b[1;33m(\u001b[0m\u001b[0mremove_na_arraylike\u001b[0m\u001b[1;33m(\u001b[0m\u001b[0mv\u001b[0m\u001b[1;33m)\u001b[0m\u001b[1;33m)\u001b[0m \u001b[1;32mfor\u001b[0m \u001b[0mv\u001b[0m \u001b[1;32min\u001b[0m \u001b[0mvalues\u001b[0m\u001b[1;33m]\u001b[0m\u001b[1;33m\u001b[0m\u001b[1;33m\u001b[0m\u001b[0m\n\u001b[1;32m--> 287\u001b[1;33m         \u001b[0mbp\u001b[0m \u001b[1;33m=\u001b[0m \u001b[0max\u001b[0m\u001b[1;33m.\u001b[0m\u001b[0mboxplot\u001b[0m\u001b[1;33m(\u001b[0m\u001b[0mvalues\u001b[0m\u001b[1;33m,\u001b[0m \u001b[1;33m**\u001b[0m\u001b[0mkwds\u001b[0m\u001b[1;33m)\u001b[0m\u001b[1;33m\u001b[0m\u001b[1;33m\u001b[0m\u001b[0m\n\u001b[0m\u001b[0;32m    288\u001b[0m         \u001b[1;32mif\u001b[0m \u001b[0mfontsize\u001b[0m \u001b[1;32mis\u001b[0m \u001b[1;32mnot\u001b[0m \u001b[1;32mNone\u001b[0m\u001b[1;33m:\u001b[0m\u001b[1;33m\u001b[0m\u001b[1;33m\u001b[0m\u001b[0m\n\u001b[0;32m    289\u001b[0m             \u001b[0max\u001b[0m\u001b[1;33m.\u001b[0m\u001b[0mtick_params\u001b[0m\u001b[1;33m(\u001b[0m\u001b[0maxis\u001b[0m\u001b[1;33m=\u001b[0m\u001b[1;34m\"both\"\u001b[0m\u001b[1;33m,\u001b[0m \u001b[0mlabelsize\u001b[0m\u001b[1;33m=\u001b[0m\u001b[0mfontsize\u001b[0m\u001b[1;33m)\u001b[0m\u001b[1;33m\u001b[0m\u001b[1;33m\u001b[0m\u001b[0m\n",
      "\u001b[1;32m~\\anaconda3\\lib\\site-packages\\matplotlib\\cbook\\deprecation.py\u001b[0m in \u001b[0;36mwrapper\u001b[1;34m(*args, **kwargs)\u001b[0m\n\u001b[0;32m    294\u001b[0m                 f\"for the old name will be dropped %(removal)s.\")\n\u001b[0;32m    295\u001b[0m             \u001b[0mkwargs\u001b[0m\u001b[1;33m[\u001b[0m\u001b[0mnew\u001b[0m\u001b[1;33m]\u001b[0m \u001b[1;33m=\u001b[0m \u001b[0mkwargs\u001b[0m\u001b[1;33m.\u001b[0m\u001b[0mpop\u001b[0m\u001b[1;33m(\u001b[0m\u001b[0mold\u001b[0m\u001b[1;33m)\u001b[0m\u001b[1;33m\u001b[0m\u001b[1;33m\u001b[0m\u001b[0m\n\u001b[1;32m--> 296\u001b[1;33m         \u001b[1;32mreturn\u001b[0m \u001b[0mfunc\u001b[0m\u001b[1;33m(\u001b[0m\u001b[1;33m*\u001b[0m\u001b[0margs\u001b[0m\u001b[1;33m,\u001b[0m \u001b[1;33m**\u001b[0m\u001b[0mkwargs\u001b[0m\u001b[1;33m)\u001b[0m\u001b[1;33m\u001b[0m\u001b[1;33m\u001b[0m\u001b[0m\n\u001b[0m\u001b[0;32m    297\u001b[0m \u001b[1;33m\u001b[0m\u001b[0m\n\u001b[0;32m    298\u001b[0m     \u001b[1;31m# wrapper() must keep the same documented signature as func(): if we\u001b[0m\u001b[1;33m\u001b[0m\u001b[1;33m\u001b[0m\u001b[1;33m\u001b[0m\u001b[0m\n",
      "\u001b[1;32m~\\anaconda3\\lib\\site-packages\\matplotlib\\__init__.py\u001b[0m in \u001b[0;36minner\u001b[1;34m(ax, data, *args, **kwargs)\u001b[0m\n\u001b[0;32m   1563\u001b[0m     \u001b[1;32mdef\u001b[0m \u001b[0minner\u001b[0m\u001b[1;33m(\u001b[0m\u001b[0max\u001b[0m\u001b[1;33m,\u001b[0m \u001b[1;33m*\u001b[0m\u001b[0margs\u001b[0m\u001b[1;33m,\u001b[0m \u001b[0mdata\u001b[0m\u001b[1;33m=\u001b[0m\u001b[1;32mNone\u001b[0m\u001b[1;33m,\u001b[0m \u001b[1;33m**\u001b[0m\u001b[0mkwargs\u001b[0m\u001b[1;33m)\u001b[0m\u001b[1;33m:\u001b[0m\u001b[1;33m\u001b[0m\u001b[1;33m\u001b[0m\u001b[0m\n\u001b[0;32m   1564\u001b[0m         \u001b[1;32mif\u001b[0m \u001b[0mdata\u001b[0m \u001b[1;32mis\u001b[0m \u001b[1;32mNone\u001b[0m\u001b[1;33m:\u001b[0m\u001b[1;33m\u001b[0m\u001b[1;33m\u001b[0m\u001b[0m\n\u001b[1;32m-> 1565\u001b[1;33m             \u001b[1;32mreturn\u001b[0m \u001b[0mfunc\u001b[0m\u001b[1;33m(\u001b[0m\u001b[0max\u001b[0m\u001b[1;33m,\u001b[0m \u001b[1;33m*\u001b[0m\u001b[0mmap\u001b[0m\u001b[1;33m(\u001b[0m\u001b[0msanitize_sequence\u001b[0m\u001b[1;33m,\u001b[0m \u001b[0margs\u001b[0m\u001b[1;33m)\u001b[0m\u001b[1;33m,\u001b[0m \u001b[1;33m**\u001b[0m\u001b[0mkwargs\u001b[0m\u001b[1;33m)\u001b[0m\u001b[1;33m\u001b[0m\u001b[1;33m\u001b[0m\u001b[0m\n\u001b[0m\u001b[0;32m   1566\u001b[0m \u001b[1;33m\u001b[0m\u001b[0m\n\u001b[0;32m   1567\u001b[0m         \u001b[0mbound\u001b[0m \u001b[1;33m=\u001b[0m \u001b[0mnew_sig\u001b[0m\u001b[1;33m.\u001b[0m\u001b[0mbind\u001b[0m\u001b[1;33m(\u001b[0m\u001b[0max\u001b[0m\u001b[1;33m,\u001b[0m \u001b[1;33m*\u001b[0m\u001b[0margs\u001b[0m\u001b[1;33m,\u001b[0m \u001b[1;33m**\u001b[0m\u001b[0mkwargs\u001b[0m\u001b[1;33m)\u001b[0m\u001b[1;33m\u001b[0m\u001b[1;33m\u001b[0m\u001b[0m\n",
      "\u001b[1;31mTypeError\u001b[0m: boxplot() got multiple values for argument 'x'"
     ]
    },
    {
     "data": {
      "image/png": "[encoded data removed]",
      "text/plain": [
       "<Figure size 432x288 with 1 Axes>"
      ]
     },
     "metadata": {
      "needs_background": "light"
     },
     "output_type": "display_data"
    }
   ],
   "source": [
    "# Generamos los gráficos según las condiciones requeridas en el enunciado\n",
    "\n",
    "nba_unique.boxplot(x =nba_unique['Altura'], y = nba_unique['Weight'])"
   ]
  },
  {
   "cell_type": "code",
   "execution_count": 105,
   "metadata": {},
   "outputs": [
    {
     "data": {
      "text/plain": [
       "<matplotlib.axes._subplots.AxesSubplot at 0x1ecb3abafa0>"
      ]
     },
     "execution_count": 105,
     "metadata": {},
     "output_type": "execute_result"
    },
    {
     "data": {
      "image/png": "[encoded data removed]",
      "text/plain": [
       "<Figure size 432x288 with 1 Axes>"
      ]
     },
     "metadata": {
      "needs_background": "light"
     },
     "output_type": "display_data"
    }
   ],
   "source": [
    "# Creamos las cajas de bigotes mediante la librería 'seaborn' para solventar el error\n",
    "\n",
    "sns.boxplot(x =nba_unique['Altura'], y = nba_unique['Weight'])"
   ]
  },
  {
   "cell_type": "markdown",
   "metadata": {},
   "source": [
    "### 7.5 Hacer un listado con el nombre de jugadores que tienen una altura ‘normal’ y un peso ‘alto’. Ordenar alfabéticamente por nombre."
   ]
  },
  {
   "cell_type": "code",
   "execution_count": 106,
   "metadata": {},
   "outputs": [
    {
     "data": {
      "text/html": [
       "<div>\n",
       "<style scoped>\n",
       "    .dataframe tbody tr th:only-of-type {\n",
       "        vertical-align: middle;\n",
       "    }\n",
       "\n",
       "    .dataframe tbody tr th {\n",
       "        vertical-align: top;\n",
       "    }\n",
       "\n",
       "    .dataframe thead th {\n",
       "        text-align: right;\n",
       "    }\n",
       "</style>\n",
       "<table border=\"1\" class=\"dataframe\">\n",
       "  <thead>\n",
       "    <tr style=\"text-align: right;\">\n",
       "      <th></th>\n",
       "      <th>Age</th>\n",
       "      <th>Conference</th>\n",
       "      <th>Date</th>\n",
       "      <th>Draft Year</th>\n",
       "      <th>Height</th>\n",
       "      <th>Player</th>\n",
       "      <th>Position</th>\n",
       "      <th>Season</th>\n",
       "      <th>Season short</th>\n",
       "      <th>Seasons in league</th>\n",
       "      <th>Team</th>\n",
       "      <th>Weight</th>\n",
       "      <th>Real_value</th>\n",
       "      <th>tiempo</th>\n",
       "      <th>Altura</th>\n",
       "      <th>Peso</th>\n",
       "    </tr>\n",
       "  </thead>\n",
       "  <tbody>\n",
       "  </tbody>\n",
       "</table>\n",
       "</div>"
      ],
      "text/plain": [
       "Empty DataFrame\n",
       "Columns: [Age, Conference, Date, Draft Year, Height, Player, Position, Season, Season short, Seasons in league, Team, Weight, Real_value, tiempo, Altura, Peso]\n",
       "Index: []"
      ]
     },
     "execution_count": 106,
     "metadata": {},
     "output_type": "execute_result"
    }
   ],
   "source": [
    "# Creamos un listado que cumpla con las dos condiciones del enunciado\n",
    "listado_jugadores = nba_unique[(nba_unique.Altura == 'normal') & (nba_unique.Peso == 'alto')]\n",
    "\n",
    "listado_jugadores"
   ]
  }
 ],
 "metadata": {
  "kernelspec": {
   "display_name": "Python 3",
   "language": "python",
   "name": "python3"
  },
  "language_info": {
   "codemirror_mode": {
    "name": "ipython",
    "version": 3
   },
   "file_extension": ".py",
   "mimetype": "text/x-python",
   "name": "python",
   "nbconvert_exporter": "python",
   "pygments_lexer": "ipython3",
   "version": "3.8.3"
  }
 },
 "nbformat": 4,
 "nbformat_minor": 4
}
