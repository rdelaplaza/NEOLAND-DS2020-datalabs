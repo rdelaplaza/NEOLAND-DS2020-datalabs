{
 "cells": [
  {
   "cell_type": "markdown",
   "metadata": {},
   "source": [
    "# Programación 201"
   ]
  },
  {
   "cell_type": "markdown",
   "metadata": {},
   "source": [
    "Librerías científicas en Python: `NumPy`\n",
    "------------------------------------------------------"
   ]
  },
  {
   "cell_type": "markdown",
   "metadata": {},
   "source": [
    "### Ejercicio 1\n",
    "Calculad la norma y el determinante de la siguiente matriz: ```[[1, 0], [2, -1]]```."
   ]
  },
  {
   "cell_type": "code",
   "execution_count": 2,
   "metadata": {},
   "outputs": [
    {
     "data": {
      "text/plain": [
       "'1.18.5'"
      ]
     },
     "execution_count": 2,
     "metadata": {},
     "output_type": "execute_result"
    }
   ],
   "source": [
    "# Importamos la librería Numpy\n",
    "\n",
    "import numpy as np\n",
    "\n",
    "np.__version__"
   ]
  },
  {
   "cell_type": "code",
   "execution_count": 12,
   "metadata": {},
   "outputs": [
    {
     "name": "stdout",
     "output_type": "stream",
     "text": [
      "-1.0\n",
      "2.449489742783178\n"
     ]
    }
   ],
   "source": [
    "# Respuesta\n",
    "\n",
    "a = ([[1, 0], [2, -1]])\n",
    "\n",
    "determinante = np.linalg.det(a)\n",
    "norma = np.linalg.norm(a)\n",
    "\n",
    "print(determinante)\n",
    "print(norma)\n"
   ]
  },
  {
   "cell_type": "markdown",
   "metadata": {},
   "source": [
    "### Ejercicio 2 \n",
    "Evaluad las funciones arcoseno y arcocoseno en el intervalo [0,1] y con paso (resolución) de 0.1 y guardadlas en dos _arrays_."
   ]
  },
  {
   "cell_type": "code",
   "execution_count": 47,
   "metadata": {},
   "outputs": [
    {
     "name": "stdout",
     "output_type": "stream",
     "text": [
      "[0.  0.1 0.2 0.3 0.4 0.5 0.6 0.7 0.8 0.9]\n",
      "<class 'numpy.ndarray'>\n",
      "10\n",
      "[0.         0.10016742 0.20135792 0.30469265 0.41151685 0.52359878\n",
      " 0.64350111 0.7753975  0.92729522 1.11976951]\n",
      "[1.57079633 1.47062891 1.36943841 1.26610367 1.15927948 1.04719755\n",
      " 0.92729522 0.79539883 0.64350111 0.45102681]\n"
     ]
    }
   ],
   "source": [
    "# Respuesta\n",
    "\n",
    "# Primero creamos un array en el intervalo [0,1] y con paso de 0.1\n",
    "b = np.arange(0,1.0,0.1)\n",
    "print(b)\n",
    "\n",
    "# Compruebo el tipo y el número de elementos\n",
    "print(type(b))\n",
    "print(b.size)\n",
    "\n",
    "# Después calculamos el arcoseno y el arcocoseno del array creado\n",
    "arcosenos = np.arcsin(b)\n",
    "print(arcosenos)\n",
    "\n",
    "arcocosenos = np.arccos(b)\n",
    "print(arcocosenos)\n"
   ]
  },
  {
   "cell_type": "markdown",
   "metadata": {},
   "source": [
    "### Ejercicio 3\n",
    "Generad una lista de 100 valores enteros aleatorios de 0-9. Realizad los siguientes cálculos utilizando métodos de _numpy_:\n",
    "- Media y desviación estándar de los valores de la lista\n",
    "- Valor máximo y mínimo\n",
    "- Sumad todos los valores de la lista\n",
    "- Conseguid una lista de valores únicos"
   ]
  },
  {
   "cell_type": "code",
   "execution_count": 10,
   "metadata": {},
   "outputs": [
    {
     "name": "stdout",
     "output_type": "stream",
     "text": [
      "La media de los valores de la lista es: 4.75\n",
      "La desviación estándar de los valores de la lista es: 2.9878922336657325\n",
      "El valor máximo de los valores de la lista es: 9\n",
      "El valor mínimo de los valores de la lista es: 0\n",
      "La suma de los valores de la lista es: 475\n",
      "La lista de los valores únicos de la lista es: [0 1 2 3 4 5 6 7 8 9]\n"
     ]
    }
   ],
   "source": [
    "# Respuesta\n",
    "\n",
    "# Generamos la lista de 100 valores enteros aleatorios\n",
    "# Creamos una lista \"vacía\"\n",
    "valores_aleatorios = []\n",
    "\n",
    "# Untilizamos un bucle for...loop para ir añadiendo valores enteros (función 'randint') a la lista de forma aleatoria (función 'random')\n",
    "for i in range(100):\n",
    "    x = np.random.randint(10)\n",
    "    valores_aleatorios.append(x)\n",
    "\n",
    "# Imprimimos la lista por pantalla para comprobar que es correcta\n",
    "# print(valores_aleatorios)\n",
    "\n",
    "# Convertimos la lista en un array para poder operar con ella\n",
    "valores_aleatorios = np.array(valores_aleatorios)\n",
    "\n",
    "# Media y y desviación estándar de los valores de la lista\n",
    "media = valores_aleatorios.mean()\n",
    "print(f'La media de los valores de la lista es: {media}')\n",
    "\n",
    "desviacion_estandar = valores_aleatorios.std()\n",
    "print(f'La desviación estándar de los valores de la lista es: {desviacion_estandar}')\n",
    "\n",
    "# Valor máximo y mínimo de los valores de la lista\n",
    "valor_maximo = valores_aleatorios.max()\n",
    "print(f'El valor máximo de los valores de la lista es: {valor_maximo}')\n",
    "\n",
    "valor_minimo = valores_aleatorios.min()\n",
    "print(f'El valor mínimo de los valores de la lista es: {valor_minimo}')\n",
    "# Era previsible que estos fuesen los valores máximo y mínimo de la lista al haber generado un listado de valores aleatorios precisamente entre 0 y 9\n",
    "\n",
    "# Sumamos los valores de la lista:\n",
    "suma_valores = valores_aleatorios.sum()\n",
    "print(f'La suma de los valores de la lista es: {suma_valores}')\n",
    "\n",
    "# Lista de valores únicos\n",
    "valores_unicos = np.unique(valores_aleatorios)\n",
    "print(f'La lista de los valores únicos de la lista es: {valores_unicos}')\n"
   ]
  },
  {
   "cell_type": "markdown",
   "metadata": {},
   "source": [
    "### Ejercicio 4\n",
    "Ordenad la matriz bidimensional ```[[5,1,7], [0,7,4], [7,23,1]]``` por filas utilizando como algoritmo de ordenación el [Merge sort](https://en.wikipedia.org/wiki/Merge_sort).\n",
    "\n",
    "**Hint:** No es necesario que implementéis el algoritmo de ordenación a mano, NumPy contiene métodos para realizar diferentes tipos de ordenación sobre diferentes estructuras de datos."
   ]
  },
  {
   "cell_type": "code",
   "execution_count": 87,
   "metadata": {},
   "outputs": [
    {
     "name": "stdout",
     "output_type": "stream",
     "text": [
      "[[ 1  5  7]\n",
      " [ 0  4  7]\n",
      " [ 1  7 23]]\n"
     ]
    }
   ],
   "source": [
    "# Respuesta\n",
    "# Definimos la matriz\n",
    "c = [[5,1,7], [0,7,4], [7,23,1]]\n",
    "\n",
    "# Ordenamos la matriz por el método 'mergesort' de numpy\n",
    "c_ordenada = np.sort(c, kind = 'mergesort')\n",
    "\n",
    "# Mostramos el resultado por pantalla\n",
    "print(c_ordenada)\n"
   ]
  },
  {
   "cell_type": "markdown",
   "metadata": {},
   "source": [
    "### Ejercicio 5\n",
    "Definid una función que dadas dos matrices, devuelva el valor absoluto de la multiplicación de los determinantes ambas, es decir, dadas A y B, nuestra función devolverá `|det(A) * det(B)|`."
   ]
  },
  {
   "cell_type": "code",
   "execution_count": 17,
   "metadata": {},
   "outputs": [
    {
     "name": "stdout",
     "output_type": "stream",
     "text": [
      "-1.0\n",
      "1.0\n",
      "El valor absoluto de la multiplicación de los determinantes de las matrices A y B es: 1.0\n"
     ]
    }
   ],
   "source": [
    "# Respuesta\n",
    "\n",
    "# Definimos la función apoyándonos en el cálculo del determinante de una matriz visto en puntos anteriores y en la función 'np.abs' que nos devuelve el valor absoluto\n",
    "def multiplicar_determinantes (A,B):\n",
    "    return np.abs(np.linalg.det(A) * np.linalg.det(B))\n",
    "\n",
    "# Para comprobar la nueva función, definimos dos matrices\n",
    "A = ([[1, 0], [2, -1]])\n",
    "B = ([[1, 0], [2, 1]])  \n",
    "\n",
    "print(np.linalg.det(A))\n",
    "print(np.linalg.det(B))\n",
    "print (f'El valor absoluto de la multiplicación de los determinantes de las matrices A y B es: {multiplicar_determinantes(A, B)}')\n",
    "\n",
    "# El valor de multiplicar los determinantes de ambas matrices sería -1 que, en valor absoluto, nos devuelve el valor 1.\n"
   ]
  },
  {
   "cell_type": "markdown",
   "metadata": {},
   "source": [
    "### Ejercicio 6\n",
    "Cread una matriz 10x10 que corresponda con la [matriz identidad](https://es.wikipedia.org/wiki/Matriz_identidad) usando generadores básicos de arrays. Cread una matriz identidad 10x10 (esta vez usando generadores especificos de matrices identidad) y comprobad que ambas matrices son iguales\n",
    "\n",
    "**Consideraciones**:\n",
    "- La primera matriz debe crearse usando constructores básicos de arrays, como los presentados en los Notebooks de teoría.\n",
    "* La segunda matriz debe generarse utilizando el generador de matrices identidad de numpy.\n",
    "* La comparación debe devolver True si las matrices son iguales (un único True), False de no ser así."
   ]
  },
  {
   "cell_type": "code",
   "execution_count": 24,
   "metadata": {},
   "outputs": [
    {
     "data": {
      "text/plain": [
       "True"
      ]
     },
     "execution_count": 24,
     "metadata": {},
     "output_type": "execute_result"
    }
   ],
   "source": [
    "# Respuesta\n",
    "\n",
    "# Generamos la primera matriz identidad mediante generadores básicos de arrays:\n",
    "# Creamos la matriz de 100 valores, todos ellos igual a cero\n",
    "i_1 = np.zeros(100)\n",
    "\n",
    "# Generamos el rango necesario para iterar en el momento de cambiar los ceros por unos\n",
    "rango = np.arange(0, 100, 11)\n",
    "\n",
    "# Utilizamos un bucle for para la sustitución de valores\n",
    "for i in rango:\n",
    "    i_1[i]=1\n",
    "\n",
    "# Damos la forma 10 x 10 a la matriz identidad generada\n",
    "i_1 = i_1.reshape(10, 10)\n",
    "# print(i_1)\n",
    "\n",
    "# Generamos la segunda matriz mediante el generador de matrices identidad de numpy\n",
    "i_2 = np.identity(10)\n",
    "# print(i_2)\n",
    "\n",
    "# Comparamos las dos matrices generadas para ver si son iguales:\n",
    "(i_1 == i_2).all()\n"
   ]
  },
  {
   "cell_type": "markdown",
   "metadata": {},
   "source": [
    "### Ejercicio 7\n",
    "Cread una matriz de 2x6 donde los valores de cada posición `(i, j)` correspondan a `i^2+j` para todo `i` par, `i/j^2` para todo `i` impar."
   ]
  },
  {
   "cell_type": "code",
   "execution_count": 49,
   "metadata": {},
   "outputs": [
    {
     "name": "stdout",
     "output_type": "stream",
     "text": [
      "[[2 3 4 5 6 7]\n",
      " [2 0 0 0 0 0]]\n"
     ]
    },
    {
     "data": {
      "text/plain": [
       "array([[2, 3, 4, 5, 6, 7],\n",
       "       [2, 0, 0, 0, 0, 0]])"
      ]
     },
     "execution_count": 49,
     "metadata": {},
     "output_type": "execute_result"
    }
   ],
   "source": [
    "# Respuesta\n",
    "\n",
    "# Creamos la matriz 2x6\n",
    "d = np.arange(2*6).reshape(2,6)\n",
    "\n",
    "# Iteramos con un for...loop por la matriz creada y sustituimos los valores por las formaulas definidas en el enunciado, dependiendo de si la i es par (0) o impar (1)\n",
    "for i in range(2):\n",
    "    for j in range(6):\n",
    "        if i == 0:\n",
    "            d[i,j] = (i+1)**2+(j+1)\n",
    "        else:\n",
    "            d[i,j] = (i+1)/((j+1)**2)\n",
    "\n",
    "# Imprimimos por pantalla en valor resultante de la matriz\n",
    "print(d)\n"
   ]
  },
  {
   "cell_type": "markdown",
   "metadata": {},
   "source": [
    "### Ejercicio 8\n",
    "Cread dos matrices de tamaño 5x5 con números reales aleatorios. Obtened el resultado de multiplicar ambas matrices usando los dos métodos de multiplicación de matrices vistos en el Notebook de teoría. ¿Cuál es la diferencia entre ambos resultados? Cread ahora dos matrices de tamaño 4x5 y 5x5 respectivamente, repetid la operación. Describid cuál de los métodos de multiplicación podéis aplicar y porqué"
   ]
  },
  {
   "cell_type": "code",
   "execution_count": 79,
   "metadata": {},
   "outputs": [
    {
     "name": "stdout",
     "output_type": "stream",
     "text": [
      "[[0.27422595 0.16996484 0.03536164 0.04245432 0.17599313]\n",
      " [0.01109138 0.27138079 0.04780355 0.30560435 0.48821499]\n",
      " [0.24755448 0.26990346 0.24031011 0.42665582 0.00670654]\n",
      " [0.06247974 0.05813091 0.34013729 0.14648474 0.17360118]\n",
      " [0.25665975 0.30977941 0.42776434 0.05033676 0.17650564]]\n",
      "[[0.82658024 0.84095098 0.61977081 0.59630165 0.52039231]\n",
      " [0.60147924 0.80639397 0.93308458 0.61222057 0.70896116]\n",
      " [0.93935021 1.01713154 1.03476434 1.13201562 0.75646019]\n",
      " [2.17965187 2.3749684  1.76559971 1.60866978 1.58689639]\n",
      " [1.39945861 1.41316061 1.22183124 1.29251653 0.9115786 ]]\n",
      "[[0.91780754 0.52400388 0.09657099 0.73240481 0.29624951]\n",
      " [1.5281508  0.73056351 0.43742237 1.02384626 0.43487271]\n",
      " [2.14943215 1.48740208 0.56030481 1.90505601 0.8198586 ]\n",
      " [2.55580968 1.3733773  0.68731022 2.00792158 0.86574521]]\n"
     ]
    },
    {
     "data": {
      "text/plain": [
       "' ValueError: operands could not be broadcast together with shapes (4,5) (5,5) '"
      ]
     },
     "execution_count": 79,
     "metadata": {},
     "output_type": "execute_result"
    }
   ],
   "source": [
    "# Respuesta\n",
    "# Generamos dos matrices de tamaño 5x5 con números reales aleatorios\n",
    "e = np.random.rand(5,5)\n",
    "f = np.random.rand(5,5)\n",
    "\n",
    "# Multiplicamos las dos matrices usando los dos métodos de multiplicación de matrices vistos en clase\n",
    "print (e*f)\n",
    "print(e.dot(f))\n",
    "\n",
    "# Generamos dos nuevas matrices de tamaño 4x5 y 5x5, respectivamente\n",
    "\n",
    "g = np.random.rand(4,5)\n",
    "h = np.random.rand(5,5)\n",
    "\n",
    "# Repetimos las operaciones anteriores\n",
    "# print (g*h)\n",
    "print(g.dot(h))\n",
    "\n",
    "# En este caso, hemos tenido que comentar el primero de los métoodos de multiplicación puesto que daba un error al tratarse de dos matrices de distinto tamaño. \n",
    "\"\"\" ValueError: operands could not be broadcast together with shapes (4,5) (5,5) \"\"\"\n",
    "# Por tanto, solamente sería posible aplicar el método de multimplicación '.dot()' en el caso de matrices de tamaños distintos\n"
   ]
  }
 ],
 "metadata": {
  "kernelspec": {
   "display_name": "Python 3",
   "language": "python",
   "name": "python3"
  },
  "language_info": {
   "codemirror_mode": {
    "name": "ipython",
    "version": 3
   },
   "file_extension": ".py",
   "mimetype": "text/x-python",
   "name": "python",
   "nbconvert_exporter": "python",
   "pygments_lexer": "ipython3",
   "version": "3.8.3"
  }
 },
 "nbformat": 4,
 "nbformat_minor": 4
}
